{
 "cells": [
  {
   "cell_type": "code",
   "execution_count": 1,
   "id": "2f304420",
   "metadata": {},
   "outputs": [],
   "source": [
    "import warnings\n",
    "warnings.filterwarnings(\"ignore\")\n",
    "\n",
    "import pandas as pd\n",
    "import numpy as np\n",
    "import matplotlib.pyplot as plt\n",
    "import seaborn as sns\n",
    "from scipy import stats\n",
    "# preparing\n",
    "from sklearn.model_selection import train_test_split\n",
    "from sklearn.preprocessing import LabelEncoder\n",
    "from sklearn.preprocessing import MinMaxScaler\n",
    "from sklearn.impute import SimpleImputer\n",
    "from sklearn.preprocessing import OneHotEncoder\n",
    "\n",
    "# modeling and evaluating\n",
    "from sklearn.linear_model import LogisticRegression\n",
    "from sklearn.metrics import classification_report, confusion_matrix, precision_score, recall_score, accuracy_score\n",
    "from sklearn.ensemble import RandomForestClassifier\n",
    "from sklearn.neighbors import KNeighborsClassifier\n",
    "from sklearn.metrics import confusion_matrix\n",
    "from sklearn.tree import DecisionTreeClassifier\n",
    "from sklearn.metrics import f1_score\n",
    "\n",
    "np.random.seed(123)\n",
    "\n",
    "#calling in our dataset\n",
    "import acquire\n",
    "import prepare"
   ]
  },
  {
   "cell_type": "markdown",
   "id": "41614524",
   "metadata": {},
   "source": [
    "# Question: Is there a specific demographic group that is associated with more churn than expected??"
   ]
  },
  {
   "cell_type": "markdown",
   "id": "bb3f051c",
   "metadata": {},
   "source": [
    "## Goal: Find the main demographic drivers and their subgroups for Telco churn.\n",
    "\n",
    "** I'd like to look into demographics first, as this wasn't subgroups I was able to explore last presentation project."
   ]
  },
  {
   "cell_type": "markdown",
   "id": "58274a6b",
   "metadata": {},
   "source": [
    "<u> Demographics I'll be looking at:</u>\n",
    "\n",
    "- Senior citizens\n",
    "- Single customers\n",
    "- Customers with Partners\n",
    "- Customers with Dependants\n",
    "- Customers with Partner & Dependants\n",
    "\n",
    "<u> Subgroups to compare once main demographic driver(s) are found, if I want to get more specific: </u>\n",
    "- Gender\n",
    "- monthly charges\n",
    "- tenure\n",
    "- account (internet) types\n",
    "- automated vs non-automatic payment accounts"
   ]
  },
  {
   "cell_type": "markdown",
   "id": "6cc93b33",
   "metadata": {},
   "source": [
    "### Notes: By looking at the above demographics I want to find:\n",
    "1) Highest churned demographic group (of the above)\n",
    "- Note: I will first need to look at the group as whole (all churned and which group had most churns)\n",
    "- Note: Then I should consider churn rate based with each group (example: senior citizens that have and have not churned rate)"
   ]
  },
  {
   "cell_type": "markdown",
   "id": "6ab34d29",
   "metadata": {},
   "source": [
    "# Getting to know my data:"
   ]
  },
  {
   "cell_type": "code",
   "execution_count": 2,
   "id": "c85a4b33",
   "metadata": {},
   "outputs": [
    {
     "data": {
      "text/html": [
       "<div>\n",
       "<style scoped>\n",
       "    .dataframe tbody tr th:only-of-type {\n",
       "        vertical-align: middle;\n",
       "    }\n",
       "\n",
       "    .dataframe tbody tr th {\n",
       "        vertical-align: top;\n",
       "    }\n",
       "\n",
       "    .dataframe thead th {\n",
       "        text-align: right;\n",
       "    }\n",
       "</style>\n",
       "<table border=\"1\" class=\"dataframe\">\n",
       "  <thead>\n",
       "    <tr style=\"text-align: right;\">\n",
       "      <th></th>\n",
       "      <th>customer_id</th>\n",
       "      <th>gender</th>\n",
       "      <th>senior_citizen</th>\n",
       "      <th>partner</th>\n",
       "      <th>dependents</th>\n",
       "      <th>tenure</th>\n",
       "      <th>phone_service</th>\n",
       "      <th>multiple_lines</th>\n",
       "      <th>internet_service_type_id</th>\n",
       "      <th>online_security</th>\n",
       "      <th>...</th>\n",
       "      <th>payment_type_id</th>\n",
       "      <th>monthly_charges</th>\n",
       "      <th>total_charges</th>\n",
       "      <th>churn</th>\n",
       "      <th>contract_type_id.1</th>\n",
       "      <th>contract_type</th>\n",
       "      <th>payment_type_id.1</th>\n",
       "      <th>payment_type</th>\n",
       "      <th>internet_service_type_id.1</th>\n",
       "      <th>internet_service_type</th>\n",
       "    </tr>\n",
       "  </thead>\n",
       "  <tbody>\n",
       "    <tr>\n",
       "      <th>0</th>\n",
       "      <td>0002-ORFBO</td>\n",
       "      <td>Female</td>\n",
       "      <td>0</td>\n",
       "      <td>Yes</td>\n",
       "      <td>Yes</td>\n",
       "      <td>9</td>\n",
       "      <td>Yes</td>\n",
       "      <td>No</td>\n",
       "      <td>1</td>\n",
       "      <td>No</td>\n",
       "      <td>...</td>\n",
       "      <td>2</td>\n",
       "      <td>65.6</td>\n",
       "      <td>593.3</td>\n",
       "      <td>No</td>\n",
       "      <td>2</td>\n",
       "      <td>One year</td>\n",
       "      <td>2</td>\n",
       "      <td>Mailed check</td>\n",
       "      <td>1</td>\n",
       "      <td>DSL</td>\n",
       "    </tr>\n",
       "  </tbody>\n",
       "</table>\n",
       "<p>1 rows × 27 columns</p>\n",
       "</div>"
      ],
      "text/plain": [
       "  customer_id  gender  senior_citizen partner dependents  tenure  \\\n",
       "0  0002-ORFBO  Female               0     Yes        Yes       9   \n",
       "\n",
       "  phone_service multiple_lines  internet_service_type_id online_security  ...  \\\n",
       "0           Yes             No                         1              No  ...   \n",
       "\n",
       "  payment_type_id monthly_charges total_charges churn contract_type_id.1  \\\n",
       "0               2            65.6         593.3    No                  2   \n",
       "\n",
       "   contract_type payment_type_id.1  payment_type  internet_service_type_id.1  \\\n",
       "0       One year                 2  Mailed check                           1   \n",
       "\n",
       "  internet_service_type  \n",
       "0                   DSL  \n",
       "\n",
       "[1 rows x 27 columns]"
      ]
     },
     "execution_count": 2,
     "metadata": {},
     "output_type": "execute_result"
    }
   ],
   "source": [
    "#I am using the excel version as it was easier to acquire from my computer\n",
    "df = acquire.get_telco_data()\n",
    "#looking at columns as there seems to be alot\n",
    "df.head(1)"
   ]
  },
  {
   "cell_type": "code",
   "execution_count": 3,
   "id": "f82dadcc",
   "metadata": {},
   "outputs": [
    {
     "data": {
      "text/plain": [
       "customer_id                    object\n",
       "gender                         object\n",
       "senior_citizen                  int64\n",
       "partner                        object\n",
       "dependents                     object\n",
       "tenure                          int64\n",
       "phone_service                  object\n",
       "multiple_lines                 object\n",
       "internet_service_type_id        int64\n",
       "online_security                object\n",
       "online_backup                  object\n",
       "device_protection              object\n",
       "tech_support                   object\n",
       "streaming_tv                   object\n",
       "streaming_movies               object\n",
       "contract_type_id                int64\n",
       "paperless_billing              object\n",
       "payment_type_id                 int64\n",
       "monthly_charges               float64\n",
       "total_charges                  object\n",
       "churn                          object\n",
       "contract_type_id.1              int64\n",
       "contract_type                  object\n",
       "payment_type_id.1               int64\n",
       "payment_type                   object\n",
       "internet_service_type_id.1      int64\n",
       "internet_service_type          object\n",
       "dtype: object"
      ]
     },
     "execution_count": 3,
     "metadata": {},
     "output_type": "execute_result"
    }
   ],
   "source": [
    "#checking out dytpes\n",
    "df.dtypes"
   ]
  },
  {
   "cell_type": "code",
   "execution_count": 4,
   "id": "1de7a51c",
   "metadata": {},
   "outputs": [
    {
     "data": {
      "text/plain": [
       "0       Yes\n",
       "1        No\n",
       "2        No\n",
       "3       Yes\n",
       "4       Yes\n",
       "       ... \n",
       "7038     No\n",
       "7039    Yes\n",
       "7040     No\n",
       "7041    Yes\n",
       "7042    Yes\n",
       "Name: partner, Length: 7043, dtype: object"
      ]
     },
     "execution_count": 4,
     "metadata": {},
     "output_type": "execute_result"
    }
   ],
   "source": [
    "df.partner"
   ]
  },
  {
   "cell_type": "code",
   "execution_count": 5,
   "id": "8bff43e3",
   "metadata": {},
   "outputs": [
    {
     "data": {
      "text/plain": [
       "0        No\n",
       "1        No\n",
       "2       Yes\n",
       "3       Yes\n",
       "4       Yes\n",
       "       ... \n",
       "7038     No\n",
       "7039    Yes\n",
       "7040     No\n",
       "7041     No\n",
       "7042     No\n",
       "Name: churn, Length: 7043, dtype: object"
      ]
     },
     "execution_count": 5,
     "metadata": {},
     "output_type": "execute_result"
    }
   ],
   "source": [
    "#I want to change the dtype to numeric for later use\n",
    "df.churn"
   ]
  },
  {
   "cell_type": "code",
   "execution_count": 6,
   "id": "f84f6e37",
   "metadata": {},
   "outputs": [
    {
     "data": {
      "text/html": [
       "<div>\n",
       "<style scoped>\n",
       "    .dataframe tbody tr th:only-of-type {\n",
       "        vertical-align: middle;\n",
       "    }\n",
       "\n",
       "    .dataframe tbody tr th {\n",
       "        vertical-align: top;\n",
       "    }\n",
       "\n",
       "    .dataframe thead th {\n",
       "        text-align: right;\n",
       "    }\n",
       "</style>\n",
       "<table border=\"1\" class=\"dataframe\">\n",
       "  <thead>\n",
       "    <tr style=\"text-align: right;\">\n",
       "      <th></th>\n",
       "      <th>count</th>\n",
       "      <th>mean</th>\n",
       "      <th>std</th>\n",
       "      <th>min</th>\n",
       "      <th>25%</th>\n",
       "      <th>50%</th>\n",
       "      <th>75%</th>\n",
       "      <th>max</th>\n",
       "    </tr>\n",
       "  </thead>\n",
       "  <tbody>\n",
       "    <tr>\n",
       "      <th>senior_citizen</th>\n",
       "      <td>7043.0</td>\n",
       "      <td>0.162147</td>\n",
       "      <td>0.368612</td>\n",
       "      <td>0.00</td>\n",
       "      <td>0.0</td>\n",
       "      <td>0.00</td>\n",
       "      <td>0.00</td>\n",
       "      <td>1.00</td>\n",
       "    </tr>\n",
       "    <tr>\n",
       "      <th>tenure</th>\n",
       "      <td>7043.0</td>\n",
       "      <td>32.371149</td>\n",
       "      <td>24.559481</td>\n",
       "      <td>0.00</td>\n",
       "      <td>9.0</td>\n",
       "      <td>29.00</td>\n",
       "      <td>55.00</td>\n",
       "      <td>72.00</td>\n",
       "    </tr>\n",
       "    <tr>\n",
       "      <th>internet_service_type_id</th>\n",
       "      <td>7043.0</td>\n",
       "      <td>1.872923</td>\n",
       "      <td>0.737796</td>\n",
       "      <td>1.00</td>\n",
       "      <td>1.0</td>\n",
       "      <td>2.00</td>\n",
       "      <td>2.00</td>\n",
       "      <td>3.00</td>\n",
       "    </tr>\n",
       "    <tr>\n",
       "      <th>contract_type_id</th>\n",
       "      <td>7043.0</td>\n",
       "      <td>1.690473</td>\n",
       "      <td>0.833755</td>\n",
       "      <td>1.00</td>\n",
       "      <td>1.0</td>\n",
       "      <td>1.00</td>\n",
       "      <td>2.00</td>\n",
       "      <td>3.00</td>\n",
       "    </tr>\n",
       "    <tr>\n",
       "      <th>payment_type_id</th>\n",
       "      <td>7043.0</td>\n",
       "      <td>2.315633</td>\n",
       "      <td>1.148907</td>\n",
       "      <td>1.00</td>\n",
       "      <td>1.0</td>\n",
       "      <td>2.00</td>\n",
       "      <td>3.00</td>\n",
       "      <td>4.00</td>\n",
       "    </tr>\n",
       "    <tr>\n",
       "      <th>monthly_charges</th>\n",
       "      <td>7043.0</td>\n",
       "      <td>64.761692</td>\n",
       "      <td>30.090047</td>\n",
       "      <td>18.25</td>\n",
       "      <td>35.5</td>\n",
       "      <td>70.35</td>\n",
       "      <td>89.85</td>\n",
       "      <td>118.75</td>\n",
       "    </tr>\n",
       "    <tr>\n",
       "      <th>contract_type_id.1</th>\n",
       "      <td>7043.0</td>\n",
       "      <td>1.690473</td>\n",
       "      <td>0.833755</td>\n",
       "      <td>1.00</td>\n",
       "      <td>1.0</td>\n",
       "      <td>1.00</td>\n",
       "      <td>2.00</td>\n",
       "      <td>3.00</td>\n",
       "    </tr>\n",
       "    <tr>\n",
       "      <th>payment_type_id.1</th>\n",
       "      <td>7043.0</td>\n",
       "      <td>2.315633</td>\n",
       "      <td>1.148907</td>\n",
       "      <td>1.00</td>\n",
       "      <td>1.0</td>\n",
       "      <td>2.00</td>\n",
       "      <td>3.00</td>\n",
       "      <td>4.00</td>\n",
       "    </tr>\n",
       "    <tr>\n",
       "      <th>internet_service_type_id.1</th>\n",
       "      <td>7043.0</td>\n",
       "      <td>1.872923</td>\n",
       "      <td>0.737796</td>\n",
       "      <td>1.00</td>\n",
       "      <td>1.0</td>\n",
       "      <td>2.00</td>\n",
       "      <td>2.00</td>\n",
       "      <td>3.00</td>\n",
       "    </tr>\n",
       "  </tbody>\n",
       "</table>\n",
       "</div>"
      ],
      "text/plain": [
       "                             count       mean        std    min   25%    50%  \\\n",
       "senior_citizen              7043.0   0.162147   0.368612   0.00   0.0   0.00   \n",
       "tenure                      7043.0  32.371149  24.559481   0.00   9.0  29.00   \n",
       "internet_service_type_id    7043.0   1.872923   0.737796   1.00   1.0   2.00   \n",
       "contract_type_id            7043.0   1.690473   0.833755   1.00   1.0   1.00   \n",
       "payment_type_id             7043.0   2.315633   1.148907   1.00   1.0   2.00   \n",
       "monthly_charges             7043.0  64.761692  30.090047  18.25  35.5  70.35   \n",
       "contract_type_id.1          7043.0   1.690473   0.833755   1.00   1.0   1.00   \n",
       "payment_type_id.1           7043.0   2.315633   1.148907   1.00   1.0   2.00   \n",
       "internet_service_type_id.1  7043.0   1.872923   0.737796   1.00   1.0   2.00   \n",
       "\n",
       "                              75%     max  \n",
       "senior_citizen               0.00    1.00  \n",
       "tenure                      55.00   72.00  \n",
       "internet_service_type_id     2.00    3.00  \n",
       "contract_type_id             2.00    3.00  \n",
       "payment_type_id              3.00    4.00  \n",
       "monthly_charges             89.85  118.75  \n",
       "contract_type_id.1           2.00    3.00  \n",
       "payment_type_id.1            3.00    4.00  \n",
       "internet_service_type_id.1   2.00    3.00  "
      ]
     },
     "execution_count": 6,
     "metadata": {},
     "output_type": "execute_result"
    }
   ],
   "source": [
    "#looking at numeric columns and statistical attributes\n",
    "df.describe().T"
   ]
  },
  {
   "cell_type": "markdown",
   "id": "765f5a7e",
   "metadata": {},
   "source": [
    "<b><u>Takeaways:</b></u>\n",
    "- I can already see that later down the road, I am going to want to sort out my categorical columns vs numerical (for model testing)\n",
    "- I know my target (y) will be churn...again, after exploring, I want to change that to a bool/numeric"
   ]
  },
  {
   "cell_type": "code",
   "execution_count": 7,
   "id": "387b3c11",
   "metadata": {},
   "outputs": [
    {
     "data": {
      "text/plain": [
       "(7043, 27)"
      ]
     },
     "execution_count": 7,
     "metadata": {},
     "output_type": "execute_result"
    }
   ],
   "source": [
    "## CLEANING DATA:\n",
    "# Drop duplicates...run just in case; reassign and check the shape of my data.\n",
    "\n",
    "df = df.drop_duplicates()\n",
    "df.shape"
   ]
  },
  {
   "cell_type": "code",
   "execution_count": 8,
   "id": "01886f8c",
   "metadata": {},
   "outputs": [
    {
     "data": {
      "text/plain": [
       "(7043, 26)"
      ]
     },
     "execution_count": 8,
     "metadata": {},
     "output_type": "execute_result"
    }
   ],
   "source": [
    "# Dropping not needed columns\n",
    "\n",
    "cols_to_drop = ['customer_id']\n",
    "df = df.drop(columns=cols_to_drop)\n",
    "df.shape"
   ]
  },
  {
   "cell_type": "code",
   "execution_count": 9,
   "id": "4abb4b1e",
   "metadata": {},
   "outputs": [
    {
     "data": {
      "text/plain": [
       "0    5901\n",
       "1    1142\n",
       "Name: senior_citizen, dtype: int64"
      ]
     },
     "execution_count": 9,
     "metadata": {},
     "output_type": "execute_result"
    }
   ],
   "source": [
    "#for senior citizen demographics: \n",
    "df.senior_citizen.value_counts()\n",
    "\n",
    "#TAKE AWAYS: Senior-citizens customers make up 19% of Telco customers\n",
    "           # 59 or younger customers make up 81% of Telco customers"
   ]
  },
  {
   "cell_type": "code",
   "execution_count": 10,
   "id": "b5aa7b83",
   "metadata": {},
   "outputs": [
    {
     "data": {
      "text/plain": [
       "No     3641\n",
       "Yes    3402\n",
       "Name: partner, dtype: int64"
      ]
     },
     "execution_count": 10,
     "metadata": {},
     "output_type": "execute_result"
    }
   ],
   "source": [
    "#for clients with partners\n",
    "df.partner.value_counts()"
   ]
  },
  {
   "cell_type": "code",
   "execution_count": 11,
   "id": "d799d85e",
   "metadata": {},
   "outputs": [
    {
     "data": {
      "text/plain": [
       "No     4933\n",
       "Yes    2110\n",
       "Name: dependents, dtype: int64"
      ]
     },
     "execution_count": 11,
     "metadata": {},
     "output_type": "execute_result"
    }
   ],
   "source": [
    "#for clients with dependents\n",
    "df.dependents.value_counts()"
   ]
  },
  {
   "cell_type": "code",
   "execution_count": 12,
   "id": "8880a5d2",
   "metadata": {},
   "outputs": [
    {
     "data": {
      "text/plain": [
       "Male      3555\n",
       "Female    3488\n",
       "Name: gender, dtype: int64"
      ]
     },
     "execution_count": 12,
     "metadata": {},
     "output_type": "execute_result"
    }
   ],
   "source": [
    "#for gender demographics:\n",
    "df.gender.value_counts()"
   ]
  },
  {
   "cell_type": "code",
   "execution_count": 13,
   "id": "305a1331",
   "metadata": {},
   "outputs": [],
   "source": [
    "#Let's look at the charts for these demographic customers:"
   ]
  },
  {
   "cell_type": "markdown",
   "id": "5dffb606",
   "metadata": {},
   "source": [
    "## Questions I'm thinking:\n",
    "-  Who do I think my drivers are? \n",
    "-  Why?\n",
    "-  How can I look in/prove that?\n",
    "-  Are there needed subgroups that I can use later on?\n",
    "-  What can I get rid of?"
   ]
  },
  {
   "cell_type": "markdown",
   "id": "9bf7471e",
   "metadata": {},
   "source": [
    "Q: What/WHO do I think my drivers are?\n",
    "- I know from the past that <b>non-automated accounts </b>were a major part of the churn, but I never found out WHO these people were.\n",
    "\n",
    "#### <u>I want to know:</u>\n",
    "- Their age, gender, and relationship status [get to know our churns and the probability of a certain demographic leaving]"
   ]
  },
  {
   "cell_type": "markdown",
   "id": "e28ba1df",
   "metadata": {},
   "source": [
    "Q: <i>Why would they churn?</i>\n",
    "- Is it due only to their non-automated accounts or is there another reason within who they are?"
   ]
  },
  {
   "cell_type": "markdown",
   "id": "13f341f0",
   "metadata": {},
   "source": [
    "Q: <i>How could I look at this?</i>\n",
    "- Categorically: churn vs. demographic cateogries w/ chi2 tests and t-tests\n",
    "- Visually: graphs, charts and accuracy rates in model"
   ]
  },
  {
   "cell_type": "markdown",
   "id": "d00df711",
   "metadata": {},
   "source": [
    "Q: <i>What subgroups do I think I will need to help me test churn and demographics?</i>\n",
    "  - monthly charges (if I find a driver, I'd like to see a possible why within $$ the pay)\n",
    "  - account types\n",
    "  - non-automated accounts (to compare to last presentations findings)"
   ]
  },
  {
   "cell_type": "markdown",
   "id": "bb7d151c",
   "metadata": {},
   "source": [
    "## Next Steps:\n",
    "- ✅ Creating range columns (for upcoming hypothesis testing) \n",
    "- ✅ PreProcessing Data (encoding any needed data)\n",
    "- ✅ Prepping and splitting data to Explore and later Train on\n",
    "- ✅ Explore some charts of the data (histograms comparing demographics)"
   ]
  },
  {
   "cell_type": "code",
   "execution_count": 14,
   "id": "055fdbda",
   "metadata": {},
   "outputs": [],
   "source": [
    "#creating the columns for range in the statistical table of df\n",
    "##used this great function from Faith Kane\n",
    "def col_range(df):\n",
    "    stats_df = df.describe().T\n",
    "    stats_df['range'] = stats_df['max'] - stats_df['min']\n",
    "    return stats_df"
   ]
  },
  {
   "cell_type": "code",
   "execution_count": 15,
   "id": "1cf68f78",
   "metadata": {},
   "outputs": [
    {
     "data": {
      "text/html": [
       "<div>\n",
       "<style scoped>\n",
       "    .dataframe tbody tr th:only-of-type {\n",
       "        vertical-align: middle;\n",
       "    }\n",
       "\n",
       "    .dataframe tbody tr th {\n",
       "        vertical-align: top;\n",
       "    }\n",
       "\n",
       "    .dataframe thead th {\n",
       "        text-align: right;\n",
       "    }\n",
       "</style>\n",
       "<table border=\"1\" class=\"dataframe\">\n",
       "  <thead>\n",
       "    <tr style=\"text-align: right;\">\n",
       "      <th></th>\n",
       "      <th>count</th>\n",
       "      <th>mean</th>\n",
       "      <th>std</th>\n",
       "      <th>min</th>\n",
       "      <th>25%</th>\n",
       "      <th>50%</th>\n",
       "      <th>75%</th>\n",
       "      <th>max</th>\n",
       "      <th>range</th>\n",
       "    </tr>\n",
       "  </thead>\n",
       "  <tbody>\n",
       "    <tr>\n",
       "      <th>senior_citizen</th>\n",
       "      <td>7043.0</td>\n",
       "      <td>0.162147</td>\n",
       "      <td>0.368612</td>\n",
       "      <td>0.00</td>\n",
       "      <td>0.0</td>\n",
       "      <td>0.00</td>\n",
       "      <td>0.00</td>\n",
       "      <td>1.00</td>\n",
       "      <td>1.0</td>\n",
       "    </tr>\n",
       "    <tr>\n",
       "      <th>tenure</th>\n",
       "      <td>7043.0</td>\n",
       "      <td>32.371149</td>\n",
       "      <td>24.559481</td>\n",
       "      <td>0.00</td>\n",
       "      <td>9.0</td>\n",
       "      <td>29.00</td>\n",
       "      <td>55.00</td>\n",
       "      <td>72.00</td>\n",
       "      <td>72.0</td>\n",
       "    </tr>\n",
       "    <tr>\n",
       "      <th>internet_service_type_id</th>\n",
       "      <td>7043.0</td>\n",
       "      <td>1.872923</td>\n",
       "      <td>0.737796</td>\n",
       "      <td>1.00</td>\n",
       "      <td>1.0</td>\n",
       "      <td>2.00</td>\n",
       "      <td>2.00</td>\n",
       "      <td>3.00</td>\n",
       "      <td>2.0</td>\n",
       "    </tr>\n",
       "    <tr>\n",
       "      <th>contract_type_id</th>\n",
       "      <td>7043.0</td>\n",
       "      <td>1.690473</td>\n",
       "      <td>0.833755</td>\n",
       "      <td>1.00</td>\n",
       "      <td>1.0</td>\n",
       "      <td>1.00</td>\n",
       "      <td>2.00</td>\n",
       "      <td>3.00</td>\n",
       "      <td>2.0</td>\n",
       "    </tr>\n",
       "    <tr>\n",
       "      <th>payment_type_id</th>\n",
       "      <td>7043.0</td>\n",
       "      <td>2.315633</td>\n",
       "      <td>1.148907</td>\n",
       "      <td>1.00</td>\n",
       "      <td>1.0</td>\n",
       "      <td>2.00</td>\n",
       "      <td>3.00</td>\n",
       "      <td>4.00</td>\n",
       "      <td>3.0</td>\n",
       "    </tr>\n",
       "    <tr>\n",
       "      <th>monthly_charges</th>\n",
       "      <td>7043.0</td>\n",
       "      <td>64.761692</td>\n",
       "      <td>30.090047</td>\n",
       "      <td>18.25</td>\n",
       "      <td>35.5</td>\n",
       "      <td>70.35</td>\n",
       "      <td>89.85</td>\n",
       "      <td>118.75</td>\n",
       "      <td>100.5</td>\n",
       "    </tr>\n",
       "    <tr>\n",
       "      <th>contract_type_id.1</th>\n",
       "      <td>7043.0</td>\n",
       "      <td>1.690473</td>\n",
       "      <td>0.833755</td>\n",
       "      <td>1.00</td>\n",
       "      <td>1.0</td>\n",
       "      <td>1.00</td>\n",
       "      <td>2.00</td>\n",
       "      <td>3.00</td>\n",
       "      <td>2.0</td>\n",
       "    </tr>\n",
       "    <tr>\n",
       "      <th>payment_type_id.1</th>\n",
       "      <td>7043.0</td>\n",
       "      <td>2.315633</td>\n",
       "      <td>1.148907</td>\n",
       "      <td>1.00</td>\n",
       "      <td>1.0</td>\n",
       "      <td>2.00</td>\n",
       "      <td>3.00</td>\n",
       "      <td>4.00</td>\n",
       "      <td>3.0</td>\n",
       "    </tr>\n",
       "    <tr>\n",
       "      <th>internet_service_type_id.1</th>\n",
       "      <td>7043.0</td>\n",
       "      <td>1.872923</td>\n",
       "      <td>0.737796</td>\n",
       "      <td>1.00</td>\n",
       "      <td>1.0</td>\n",
       "      <td>2.00</td>\n",
       "      <td>2.00</td>\n",
       "      <td>3.00</td>\n",
       "      <td>2.0</td>\n",
       "    </tr>\n",
       "  </tbody>\n",
       "</table>\n",
       "</div>"
      ],
      "text/plain": [
       "                             count       mean        std    min   25%    50%  \\\n",
       "senior_citizen              7043.0   0.162147   0.368612   0.00   0.0   0.00   \n",
       "tenure                      7043.0  32.371149  24.559481   0.00   9.0  29.00   \n",
       "internet_service_type_id    7043.0   1.872923   0.737796   1.00   1.0   2.00   \n",
       "contract_type_id            7043.0   1.690473   0.833755   1.00   1.0   1.00   \n",
       "payment_type_id             7043.0   2.315633   1.148907   1.00   1.0   2.00   \n",
       "monthly_charges             7043.0  64.761692  30.090047  18.25  35.5  70.35   \n",
       "contract_type_id.1          7043.0   1.690473   0.833755   1.00   1.0   1.00   \n",
       "payment_type_id.1           7043.0   2.315633   1.148907   1.00   1.0   2.00   \n",
       "internet_service_type_id.1  7043.0   1.872923   0.737796   1.00   1.0   2.00   \n",
       "\n",
       "                              75%     max  range  \n",
       "senior_citizen               0.00    1.00    1.0  \n",
       "tenure                      55.00   72.00   72.0  \n",
       "internet_service_type_id     2.00    3.00    2.0  \n",
       "contract_type_id             2.00    3.00    2.0  \n",
       "payment_type_id              3.00    4.00    3.0  \n",
       "monthly_charges             89.85  118.75  100.5  \n",
       "contract_type_id.1           2.00    3.00    2.0  \n",
       "payment_type_id.1            3.00    4.00    3.0  \n",
       "internet_service_type_id.1   2.00    3.00    2.0  "
      ]
     },
     "execution_count": 15,
     "metadata": {},
     "output_type": "execute_result"
    }
   ],
   "source": [
    "col_range(df)"
   ]
  },
  {
   "cell_type": "markdown",
   "id": "6baf7597",
   "metadata": {},
   "source": [
    "## Preparing Data:"
   ]
  },
  {
   "cell_type": "code",
   "execution_count": 16,
   "id": "5810088e",
   "metadata": {},
   "outputs": [
    {
     "data": {
      "text/html": [
       "<div>\n",
       "<style scoped>\n",
       "    .dataframe tbody tr th:only-of-type {\n",
       "        vertical-align: middle;\n",
       "    }\n",
       "\n",
       "    .dataframe tbody tr th {\n",
       "        vertical-align: top;\n",
       "    }\n",
       "\n",
       "    .dataframe thead th {\n",
       "        text-align: right;\n",
       "    }\n",
       "</style>\n",
       "<table border=\"1\" class=\"dataframe\">\n",
       "  <thead>\n",
       "    <tr style=\"text-align: right;\">\n",
       "      <th></th>\n",
       "      <th>gender</th>\n",
       "      <th>senior_citizen</th>\n",
       "      <th>partner</th>\n",
       "      <th>dependents</th>\n",
       "      <th>tenure</th>\n",
       "      <th>phone_service</th>\n",
       "      <th>multiple_lines</th>\n",
       "      <th>internet_service_type_id</th>\n",
       "      <th>online_security</th>\n",
       "      <th>online_backup</th>\n",
       "      <th>...</th>\n",
       "      <th>payment_type_id</th>\n",
       "      <th>monthly_charges</th>\n",
       "      <th>total_charges</th>\n",
       "      <th>churn</th>\n",
       "      <th>contract_type_id.1</th>\n",
       "      <th>contract_type</th>\n",
       "      <th>payment_type_id.1</th>\n",
       "      <th>payment_type</th>\n",
       "      <th>internet_service_type_id.1</th>\n",
       "      <th>internet_service_type</th>\n",
       "    </tr>\n",
       "  </thead>\n",
       "  <tbody>\n",
       "    <tr>\n",
       "      <th>0</th>\n",
       "      <td>Female</td>\n",
       "      <td>0</td>\n",
       "      <td>Yes</td>\n",
       "      <td>Yes</td>\n",
       "      <td>9</td>\n",
       "      <td>Yes</td>\n",
       "      <td>No</td>\n",
       "      <td>1</td>\n",
       "      <td>No</td>\n",
       "      <td>Yes</td>\n",
       "      <td>...</td>\n",
       "      <td>2</td>\n",
       "      <td>65.6</td>\n",
       "      <td>593.3</td>\n",
       "      <td>No</td>\n",
       "      <td>2</td>\n",
       "      <td>One year</td>\n",
       "      <td>2</td>\n",
       "      <td>Mailed check</td>\n",
       "      <td>1</td>\n",
       "      <td>DSL</td>\n",
       "    </tr>\n",
       "    <tr>\n",
       "      <th>1</th>\n",
       "      <td>Male</td>\n",
       "      <td>0</td>\n",
       "      <td>No</td>\n",
       "      <td>No</td>\n",
       "      <td>9</td>\n",
       "      <td>Yes</td>\n",
       "      <td>Yes</td>\n",
       "      <td>1</td>\n",
       "      <td>No</td>\n",
       "      <td>No</td>\n",
       "      <td>...</td>\n",
       "      <td>2</td>\n",
       "      <td>59.9</td>\n",
       "      <td>542.4</td>\n",
       "      <td>No</td>\n",
       "      <td>1</td>\n",
       "      <td>Month-to-month</td>\n",
       "      <td>2</td>\n",
       "      <td>Mailed check</td>\n",
       "      <td>1</td>\n",
       "      <td>DSL</td>\n",
       "    </tr>\n",
       "    <tr>\n",
       "      <th>2</th>\n",
       "      <td>Male</td>\n",
       "      <td>0</td>\n",
       "      <td>No</td>\n",
       "      <td>No</td>\n",
       "      <td>4</td>\n",
       "      <td>Yes</td>\n",
       "      <td>No</td>\n",
       "      <td>2</td>\n",
       "      <td>No</td>\n",
       "      <td>No</td>\n",
       "      <td>...</td>\n",
       "      <td>1</td>\n",
       "      <td>73.9</td>\n",
       "      <td>280.85</td>\n",
       "      <td>Yes</td>\n",
       "      <td>1</td>\n",
       "      <td>Month-to-month</td>\n",
       "      <td>1</td>\n",
       "      <td>Electronic check</td>\n",
       "      <td>2</td>\n",
       "      <td>Fiber optic</td>\n",
       "    </tr>\n",
       "    <tr>\n",
       "      <th>3</th>\n",
       "      <td>Male</td>\n",
       "      <td>1</td>\n",
       "      <td>Yes</td>\n",
       "      <td>No</td>\n",
       "      <td>13</td>\n",
       "      <td>Yes</td>\n",
       "      <td>No</td>\n",
       "      <td>2</td>\n",
       "      <td>No</td>\n",
       "      <td>Yes</td>\n",
       "      <td>...</td>\n",
       "      <td>1</td>\n",
       "      <td>98.0</td>\n",
       "      <td>1237.85</td>\n",
       "      <td>Yes</td>\n",
       "      <td>1</td>\n",
       "      <td>Month-to-month</td>\n",
       "      <td>1</td>\n",
       "      <td>Electronic check</td>\n",
       "      <td>2</td>\n",
       "      <td>Fiber optic</td>\n",
       "    </tr>\n",
       "    <tr>\n",
       "      <th>4</th>\n",
       "      <td>Female</td>\n",
       "      <td>1</td>\n",
       "      <td>Yes</td>\n",
       "      <td>No</td>\n",
       "      <td>3</td>\n",
       "      <td>Yes</td>\n",
       "      <td>No</td>\n",
       "      <td>2</td>\n",
       "      <td>No</td>\n",
       "      <td>No</td>\n",
       "      <td>...</td>\n",
       "      <td>2</td>\n",
       "      <td>83.9</td>\n",
       "      <td>267.4</td>\n",
       "      <td>Yes</td>\n",
       "      <td>1</td>\n",
       "      <td>Month-to-month</td>\n",
       "      <td>2</td>\n",
       "      <td>Mailed check</td>\n",
       "      <td>2</td>\n",
       "      <td>Fiber optic</td>\n",
       "    </tr>\n",
       "  </tbody>\n",
       "</table>\n",
       "<p>5 rows × 26 columns</p>\n",
       "</div>"
      ],
      "text/plain": [
       "   gender  senior_citizen partner dependents  tenure phone_service  \\\n",
       "0  Female               0     Yes        Yes       9           Yes   \n",
       "1    Male               0      No         No       9           Yes   \n",
       "2    Male               0      No         No       4           Yes   \n",
       "3    Male               1     Yes         No      13           Yes   \n",
       "4  Female               1     Yes         No       3           Yes   \n",
       "\n",
       "  multiple_lines  internet_service_type_id online_security online_backup  ...  \\\n",
       "0             No                         1              No           Yes  ...   \n",
       "1            Yes                         1              No            No  ...   \n",
       "2             No                         2              No            No  ...   \n",
       "3             No                         2              No           Yes  ...   \n",
       "4             No                         2              No            No  ...   \n",
       "\n",
       "  payment_type_id monthly_charges total_charges churn  contract_type_id.1  \\\n",
       "0               2            65.6         593.3    No                   2   \n",
       "1               2            59.9         542.4    No                   1   \n",
       "2               1            73.9        280.85   Yes                   1   \n",
       "3               1            98.0       1237.85   Yes                   1   \n",
       "4               2            83.9         267.4   Yes                   1   \n",
       "\n",
       "    contract_type  payment_type_id.1      payment_type  \\\n",
       "0        One year                  2      Mailed check   \n",
       "1  Month-to-month                  2      Mailed check   \n",
       "2  Month-to-month                  1  Electronic check   \n",
       "3  Month-to-month                  1  Electronic check   \n",
       "4  Month-to-month                  2      Mailed check   \n",
       "\n",
       "  internet_service_type_id.1 internet_service_type  \n",
       "0                          1                   DSL  \n",
       "1                          1                   DSL  \n",
       "2                          2           Fiber optic  \n",
       "3                          2           Fiber optic  \n",
       "4                          2           Fiber optic  \n",
       "\n",
       "[5 rows x 26 columns]"
      ]
     },
     "execution_count": 16,
     "metadata": {},
     "output_type": "execute_result"
    }
   ],
   "source": [
    "#plugging in our function called prep_telco_data from prepare.py file to cleanup data \n",
    "#and then telco_split to prepare for training\n",
    "df.head()"
   ]
  },
  {
   "cell_type": "markdown",
   "id": "874264a6",
   "metadata": {},
   "source": [
    "A handful of the categorical columns need to be encoded (so that options can be numerical)"
   ]
  },
  {
   "cell_type": "markdown",
   "id": "bc83c5c7",
   "metadata": {},
   "source": [
    "List of columns to encode:\n",
    "- Partner\n",
    "- dependents\n",
    "- phone_service\n",
    "- multiple lines\n",
    "- tech_support\n",
    "- churn\n",
    "- contract_type\n",
    "- internet_service_type"
   ]
  },
  {
   "cell_type": "code",
   "execution_count": 17,
   "id": "8b8a17fb",
   "metadata": {},
   "outputs": [],
   "source": [
    "from prepare import prep_telco_data\n",
    "\n",
    "train, validate, test = prep_telco_data(df)"
   ]
  },
  {
   "cell_type": "code",
   "execution_count": 18,
   "id": "3126258d",
   "metadata": {},
   "outputs": [
    {
     "data": {
      "text/html": [
       "<div>\n",
       "<style scoped>\n",
       "    .dataframe tbody tr th:only-of-type {\n",
       "        vertical-align: middle;\n",
       "    }\n",
       "\n",
       "    .dataframe tbody tr th {\n",
       "        vertical-align: top;\n",
       "    }\n",
       "\n",
       "    .dataframe thead th {\n",
       "        text-align: right;\n",
       "    }\n",
       "</style>\n",
       "<table border=\"1\" class=\"dataframe\">\n",
       "  <thead>\n",
       "    <tr style=\"text-align: right;\">\n",
       "      <th></th>\n",
       "      <th>gender</th>\n",
       "      <th>senior_citizen</th>\n",
       "      <th>partner</th>\n",
       "      <th>dependents</th>\n",
       "      <th>tenure</th>\n",
       "      <th>phone_service</th>\n",
       "      <th>multiple_lines</th>\n",
       "      <th>online_security</th>\n",
       "      <th>online_backup</th>\n",
       "      <th>device_protection</th>\n",
       "      <th>...</th>\n",
       "      <th>streaming_movies_No internet service</th>\n",
       "      <th>streaming_movies_Yes</th>\n",
       "      <th>paperless_billing_Yes</th>\n",
       "      <th>contract_type_One year</th>\n",
       "      <th>contract_type_Two year</th>\n",
       "      <th>payment_type_Credit card (automatic)</th>\n",
       "      <th>payment_type_Electronic check</th>\n",
       "      <th>payment_type_Mailed check</th>\n",
       "      <th>internet_service_type_Fiber optic</th>\n",
       "      <th>internet_service_type_None</th>\n",
       "    </tr>\n",
       "  </thead>\n",
       "  <tbody>\n",
       "    <tr>\n",
       "      <th>3270</th>\n",
       "      <td>Female</td>\n",
       "      <td>No</td>\n",
       "      <td>No</td>\n",
       "      <td>No</td>\n",
       "      <td>31</td>\n",
       "      <td>Yes</td>\n",
       "      <td>No</td>\n",
       "      <td>Yes</td>\n",
       "      <td>No</td>\n",
       "      <td>Yes</td>\n",
       "      <td>...</td>\n",
       "      <td>0</td>\n",
       "      <td>0</td>\n",
       "      <td>0</td>\n",
       "      <td>0</td>\n",
       "      <td>0</td>\n",
       "      <td>0</td>\n",
       "      <td>1</td>\n",
       "      <td>0</td>\n",
       "      <td>1</td>\n",
       "      <td>0</td>\n",
       "    </tr>\n",
       "    <tr>\n",
       "      <th>6084</th>\n",
       "      <td>Female</td>\n",
       "      <td>Yes</td>\n",
       "      <td>No</td>\n",
       "      <td>No</td>\n",
       "      <td>26</td>\n",
       "      <td>Yes</td>\n",
       "      <td>Yes</td>\n",
       "      <td>No</td>\n",
       "      <td>No</td>\n",
       "      <td>No</td>\n",
       "      <td>...</td>\n",
       "      <td>0</td>\n",
       "      <td>1</td>\n",
       "      <td>1</td>\n",
       "      <td>0</td>\n",
       "      <td>0</td>\n",
       "      <td>0</td>\n",
       "      <td>1</td>\n",
       "      <td>0</td>\n",
       "      <td>0</td>\n",
       "      <td>0</td>\n",
       "    </tr>\n",
       "    <tr>\n",
       "      <th>4470</th>\n",
       "      <td>Female</td>\n",
       "      <td>No</td>\n",
       "      <td>No</td>\n",
       "      <td>No</td>\n",
       "      <td>29</td>\n",
       "      <td>Yes</td>\n",
       "      <td>Yes</td>\n",
       "      <td>No</td>\n",
       "      <td>Yes</td>\n",
       "      <td>No</td>\n",
       "      <td>...</td>\n",
       "      <td>0</td>\n",
       "      <td>0</td>\n",
       "      <td>1</td>\n",
       "      <td>1</td>\n",
       "      <td>0</td>\n",
       "      <td>0</td>\n",
       "      <td>1</td>\n",
       "      <td>0</td>\n",
       "      <td>0</td>\n",
       "      <td>0</td>\n",
       "    </tr>\n",
       "    <tr>\n",
       "      <th>428</th>\n",
       "      <td>Female</td>\n",
       "      <td>Yes</td>\n",
       "      <td>No</td>\n",
       "      <td>No</td>\n",
       "      <td>21</td>\n",
       "      <td>No</td>\n",
       "      <td>No phone service</td>\n",
       "      <td>Yes</td>\n",
       "      <td>No</td>\n",
       "      <td>No</td>\n",
       "      <td>...</td>\n",
       "      <td>0</td>\n",
       "      <td>0</td>\n",
       "      <td>1</td>\n",
       "      <td>0</td>\n",
       "      <td>0</td>\n",
       "      <td>0</td>\n",
       "      <td>1</td>\n",
       "      <td>0</td>\n",
       "      <td>0</td>\n",
       "      <td>0</td>\n",
       "    </tr>\n",
       "    <tr>\n",
       "      <th>3329</th>\n",
       "      <td>Male</td>\n",
       "      <td>No</td>\n",
       "      <td>Yes</td>\n",
       "      <td>Yes</td>\n",
       "      <td>60</td>\n",
       "      <td>Yes</td>\n",
       "      <td>Yes</td>\n",
       "      <td>Yes</td>\n",
       "      <td>No</td>\n",
       "      <td>Yes</td>\n",
       "      <td>...</td>\n",
       "      <td>0</td>\n",
       "      <td>0</td>\n",
       "      <td>1</td>\n",
       "      <td>1</td>\n",
       "      <td>0</td>\n",
       "      <td>0</td>\n",
       "      <td>0</td>\n",
       "      <td>0</td>\n",
       "      <td>1</td>\n",
       "      <td>0</td>\n",
       "    </tr>\n",
       "  </tbody>\n",
       "</table>\n",
       "<p>5 rows × 50 columns</p>\n",
       "</div>"
      ],
      "text/plain": [
       "      gender senior_citizen partner dependents  tenure phone_service  \\\n",
       "3270  Female             No      No         No      31           Yes   \n",
       "6084  Female            Yes      No         No      26           Yes   \n",
       "4470  Female             No      No         No      29           Yes   \n",
       "428   Female            Yes      No         No      21            No   \n",
       "3329    Male             No     Yes        Yes      60           Yes   \n",
       "\n",
       "        multiple_lines online_security online_backup device_protection  ...  \\\n",
       "3270                No             Yes            No               Yes  ...   \n",
       "6084               Yes              No            No                No  ...   \n",
       "4470               Yes              No           Yes                No  ...   \n",
       "428   No phone service             Yes            No                No  ...   \n",
       "3329               Yes             Yes            No               Yes  ...   \n",
       "\n",
       "     streaming_movies_No internet service streaming_movies_Yes  \\\n",
       "3270                                    0                    0   \n",
       "6084                                    0                    1   \n",
       "4470                                    0                    0   \n",
       "428                                     0                    0   \n",
       "3329                                    0                    0   \n",
       "\n",
       "     paperless_billing_Yes contract_type_One year  contract_type_Two year  \\\n",
       "3270                     0                      0                       0   \n",
       "6084                     1                      0                       0   \n",
       "4470                     1                      1                       0   \n",
       "428                      1                      0                       0   \n",
       "3329                     1                      1                       0   \n",
       "\n",
       "      payment_type_Credit card (automatic) payment_type_Electronic check  \\\n",
       "3270                                     0                             1   \n",
       "6084                                     0                             1   \n",
       "4470                                     0                             1   \n",
       "428                                      0                             1   \n",
       "3329                                     0                             0   \n",
       "\n",
       "      payment_type_Mailed check internet_service_type_Fiber optic  \\\n",
       "3270                          0                                 1   \n",
       "6084                          0                                 0   \n",
       "4470                          0                                 0   \n",
       "428                           0                                 0   \n",
       "3329                          0                                 1   \n",
       "\n",
       "      internet_service_type_None  \n",
       "3270                           0  \n",
       "6084                           0  \n",
       "4470                           0  \n",
       "428                            0  \n",
       "3329                           0  \n",
       "\n",
       "[5 rows x 50 columns]"
      ]
     },
     "execution_count": 18,
     "metadata": {},
     "output_type": "execute_result"
    }
   ],
   "source": [
    "train.head()"
   ]
  },
  {
   "cell_type": "markdown",
   "id": "d2606cc4",
   "metadata": {},
   "source": [
    "# Hypothesis & Charts Exploration:"
   ]
  },
  {
   "cell_type": "markdown",
   "id": "205b00c8",
   "metadata": {},
   "source": [
    "## Churn vs. Partnerships (number of people per household on accounts)\n",
    "\n",
    "\n",
    "### Partners and Churn\n",
    "\n",
    "- I want to take some time to explore the relationships between churn and the Telco demographics. \n",
    "I'll be using ChiSquare, as this Hypothesis test works well with two categorical values. \n",
    "I also will be using barplots to visually show these relations...if any. :)\n",
    "\n",
    "alpha: 0.05\n",
    "\n",
    "* H0: There is NO relationship between churn and customers with partners\n",
    "* Ha: There IS a relationship between churn and customers with partners"
   ]
  },
  {
   "cell_type": "code",
   "execution_count": 19,
   "id": "9dfd9725",
   "metadata": {},
   "outputs": [
    {
     "name": "stdout",
     "output_type": "stream",
     "text": [
      "The p-value is 2.0115703972096128e-23\n",
      "Sufficient evidence is present to reject the null hypothesis\n"
     ]
    }
   ],
   "source": [
    "# Chi squared with un-encoded categorical columns\n",
    "# Null hypothesis: churn rate has no relation to partnerships of customers\n",
    "# Alternative hypothesis: there is a relationship between churn rate and partnerships of customers\n",
    "alpha = 0.05\n",
    "observed = pd.crosstab(train.churn, train.partner)\n",
    "chi2, p, degf, expected = stats.chi2_contingency(observed)\n",
    "print(f\"The p-value is {p}\")\n",
    "if p < alpha:\n",
    "    print(\"Sufficient evidence is present to reject the null hypothesis\")\n",
    "else:\n",
    "    print(\"Insufficient evidence to reject the null\")\n",
    "    print(\"Evidence seems to support the claim that partnership and churn are independent\")"
   ]
  },
  {
   "cell_type": "code",
   "execution_count": 20,
   "id": "4d2501a9",
   "metadata": {},
   "outputs": [
    {
     "data": {
      "image/png": "[encoded data removed]",
      "text/plain": [
       "<Figure size 432x288 with 1 Axes>"
      ]
     },
     "metadata": {
      "needs_background": "light"
     },
     "output_type": "display_data"
    }
   ],
   "source": [
    "#let's look at the numbers visually\n",
    "barplot = observed.plot.bar(rot=0)"
   ]
  },
  {
   "cell_type": "markdown",
   "id": "e1fd1051",
   "metadata": {},
   "source": [
    "### Dependents and Churn\n",
    "\n",
    "- Is there a relationship of customers with dependents and churn rate?\n",
    "\n",
    "alpha: 0.05\n",
    "\n",
    "* H0: There is NO relationship between churn and customers with dependents\n",
    "* Ha: There IS a relationship between churn and customers with dependents"
   ]
  },
  {
   "cell_type": "code",
   "execution_count": 21,
   "id": "1ebebf10",
   "metadata": {},
   "outputs": [
    {
     "name": "stdout",
     "output_type": "stream",
     "text": [
      "The p-value is 3.091037491736131e-30\n",
      "Sufficient evidence is present to reject the null hypothesis\n"
     ]
    }
   ],
   "source": [
    "# Chi squared with un-encoded categorical columns\n",
    "# Null hypothesis: churn rate has no relation to dependents of customers\n",
    "# Alternative hypothesis: there is a relationship between churn rate and dependents of customers\n",
    "alpha = 0.05\n",
    "observed = pd.crosstab(train.churn, train.dependents)\n",
    "chi2, p, degf, expected = stats.chi2_contingency(observed)\n",
    "print(f\"The p-value is {p}\")\n",
    "if p < alpha:\n",
    "    print(\"Sufficient evidence is present to reject the null hypothesis\")\n",
    "else:\n",
    "    print(\"Insufficient evidence to reject the null\")\n",
    "    print(\"Evidence seems to support the claim that customers with dependents and churn are independent\")"
   ]
  },
  {
   "cell_type": "code",
   "execution_count": 22,
   "id": "2395ba92",
   "metadata": {},
   "outputs": [
    {
     "data": {
      "image/png": "[encoded data removed]",
      "text/plain": [
       "<Figure size 432x288 with 1 Axes>"
      ]
     },
     "metadata": {
      "needs_background": "light"
     },
     "output_type": "display_data"
    }
   ],
   "source": [
    "#let's look at the numbers visually\n",
    "barplot = observed.plot.bar(rot=0)"
   ]
  },
  {
   "cell_type": "code",
   "execution_count": 23,
   "id": "6f64816b",
   "metadata": {},
   "outputs": [
    {
     "data": {
      "text/plain": [
       "<seaborn.axisgrid.FacetGrid at 0x7fbd4dd38a00>"
      ]
     },
     "execution_count": 23,
     "metadata": {},
     "output_type": "execute_result"
    },
    {
     "data": {
      "image/png": "[encoded data removed]",
      "text/plain": [
       "<Figure size 772x360 with 2 Axes>"
      ]
     },
     "metadata": {
      "needs_background": "light"
     },
     "output_type": "display_data"
    }
   ],
   "source": [
    "##let's try a catplot to visualize these three variables: churn, partner and dependents\n",
    "sns.relplot(x=\"partner\", y='churn', hue=\"churn\", col=\"dependents\", data=train )"
   ]
  },
  {
   "cell_type": "code",
   "execution_count": 24,
   "id": "c0eac33f",
   "metadata": {},
   "outputs": [],
   "source": [
    "# Binary encode the target variable by creating a new version of train_df\n",
    "\n",
    "train.churn = train.churn == \"Yes\""
   ]
  },
  {
   "cell_type": "code",
   "execution_count": 25,
   "id": "73dc8efc",
   "metadata": {},
   "outputs": [
    {
     "data": {
      "text/plain": [
       "<seaborn.axisgrid.FacetGrid at 0x7fbd4dbc1eb0>"
      ]
     },
     "execution_count": 25,
     "metadata": {},
     "output_type": "execute_result"
    },
    {
     "data": {
      "image/png": "[encoded data removed]",
      "text/plain": [
       "<Figure size 427.25x360 with 1 Axes>"
      ]
     },
     "metadata": {
      "needs_background": "light"
     },
     "output_type": "display_data"
    }
   ],
   "source": [
    "sns.catplot(x=\"partner\", y =\"churn\",  hue=\"dependents\",data=train, kind=\"bar\")"
   ]
  },
  {
   "cell_type": "markdown",
   "id": "257e6282",
   "metadata": {},
   "source": [
    "### Take Aways:\n",
    "* There IS a relationship between how many customers have partners to churn rate.\n",
    "* There also does seem to be a relation on customers with dependents and churn rate, however it is clear from the visual above that customers without dependents tend to churn more than those with.\n",
    "\n",
    "##########################################################################"
   ]
  },
  {
   "cell_type": "markdown",
   "id": "7739c9cc",
   "metadata": {},
   "source": [
    "## Churn vs. Gender:\n",
    "\n",
    "* H0: There is NO relationship between churn and gender.\n",
    "* Ha: There IS a relationship between churn and gender."
   ]
  },
  {
   "cell_type": "code",
   "execution_count": 26,
   "id": "23648c85",
   "metadata": {},
   "outputs": [
    {
     "name": "stdout",
     "output_type": "stream",
     "text": [
      "The p-value is 0.23006006175322627\n",
      "Insufficient evidence to reject the null\n",
      "Evidence seems to support the claim that gender and churn are independent\n"
     ]
    }
   ],
   "source": [
    "# Chi squared with un-encoded categorical columns\n",
    "# Null hypothesis: churn rate has no relation to gender\n",
    "# Alternative hypothesis: there is a relationship between churn rate and gender\n",
    "alpha = 0.05\n",
    "observed = pd.crosstab(train.churn, train.gender)\n",
    "chi2, p, degf, expected = stats.chi2_contingency(observed)\n",
    "print(f\"The p-value is {p}\")\n",
    "if p < alpha:\n",
    "    print(\"Sufficient evidence is present to reject the null hypothesis\")\n",
    "else:\n",
    "    print(\"Insufficient evidence to reject the null\")\n",
    "    print(\"Evidence seems to support the claim that gender and churn are independent\")"
   ]
  },
  {
   "cell_type": "code",
   "execution_count": 27,
   "id": "64f5db6e",
   "metadata": {},
   "outputs": [
    {
     "data": {
      "image/png": "[encoded data removed]",
      "text/plain": [
       "<Figure size 432x288 with 1 Axes>"
      ]
     },
     "metadata": {
      "needs_background": "light"
     },
     "output_type": "display_data"
    }
   ],
   "source": [
    "#let's look at the numbers visually\n",
    "barplot = observed.plot.bar(rot=0)"
   ]
  },
  {
   "cell_type": "markdown",
   "id": "bb02c49e",
   "metadata": {},
   "source": [
    "### Take Aways:\n",
    "Both Genders churned at almost the same rate within their own categories:\n",
    "- <b>Female customers: 27% churned</b>\n",
    "- Male customers: 26% churned\n",
    "<br>\n",
    "<br>\n",
    "\n",
    "### The data shows that there really isn't any relationship between gender and customer churn rate.\n",
    "\n",
    "##########################################################################"
   ]
  },
  {
   "cell_type": "markdown",
   "id": "de040a79",
   "metadata": {},
   "source": [
    "## Churn vs. Is Senior Citizen?\n",
    "\n",
    "* H0: There is NO relationship between churn and customer being a senior citizen.\n",
    "* Ha: There IS a relationship between churn and customer being a senior citizen."
   ]
  },
  {
   "cell_type": "code",
   "execution_count": 28,
   "id": "6ec45abd",
   "metadata": {},
   "outputs": [
    {
     "name": "stdout",
     "output_type": "stream",
     "text": [
      "The p-value is 1.1002429756735793e-26\n",
      "Sufficient evidence is present to reject the null hypothesis\n"
     ]
    }
   ],
   "source": [
    "# Chi squared with un-encoded categorical columns\n",
    "# Null hypothesis: churn rate has no relation to senior citizen customers\n",
    "# Alternative hypothesis: there is a relationship between churn rate and senior citizens\n",
    "alpha = 0.05\n",
    "observed = pd.crosstab(train.churn, train.senior_citizen)\n",
    "chi2, p, degf, expected = stats.chi2_contingency(observed)\n",
    "print(f\"The p-value is {p}\")\n",
    "if p < alpha:\n",
    "    print(\"Sufficient evidence is present to reject the null hypothesis\")\n",
    "else:\n",
    "    print(\"Insufficient evidence to reject the null\")\n",
    "    print(\"Evidence seems to support the claim that senior_citizens and churn are independent\")"
   ]
  },
  {
   "cell_type": "code",
   "execution_count": 29,
   "id": "412a8fdb",
   "metadata": {},
   "outputs": [
    {
     "data": {
      "image/png": "[encoded data removed]",
      "text/plain": [
       "<Figure size 432x288 with 1 Axes>"
      ]
     },
     "metadata": {
      "needs_background": "light"
     },
     "output_type": "display_data"
    }
   ],
   "source": [
    "#let's look at the numbers visually\n",
    "barplot = observed.plot.bar(rot=0)"
   ]
  },
  {
   "cell_type": "markdown",
   "id": "c109cb58",
   "metadata": {},
   "source": [
    "### Take Aways:\n",
    "From first glance, because of the low amount of Senior Citizen data count, it looks like customers 59 and younger have more churns. By numbers, YES, 59 and younger DO have more churn, but <b>by churn rate based on its own category, Senior Citizens have the highest churn rate.</b>\n",
    "- <b>Senior Citizens: 41% churned</b>\n",
    "- 59 and younger customers: 24% churned\n",
    "\n",
    "As the p-value shows, in the case that the null Hypothesis is that churn and is_senior_citizen as NO relation,\n",
    "We would reject the nully Hypothesis as they clearly relate. \n",
    "\n",
    "##########################################################################"
   ]
  },
  {
   "cell_type": "markdown",
   "id": "5809c8d8",
   "metadata": {},
   "source": [
    "### NEXT STEPS: \n",
    "- It's clear that our drivers for demographics is single and senior citizen customers.\n",
    "- Using these two key drivers, it's time to compare to subcategories:\n",
    "        * ✅ non-automated accounts\n",
    "        * ✅ account types\n",
    "        * ✅ internet service types"
   ]
  },
  {
   "cell_type": "markdown",
   "id": "77f59bb5",
   "metadata": {},
   "source": [
    "## Non-automated accounts vs. Is Senior Citizen:\n",
    "\n",
    "* H0: There is NO relationship between non-auto accounts and customer being a senior citizen.\n",
    "* Ha: There IS a relationship between non-auto accounts and customer being a senior citizen."
   ]
  },
  {
   "cell_type": "code",
   "execution_count": 30,
   "id": "d82ffc30",
   "metadata": {},
   "outputs": [
    {
     "data": {
      "text/html": [
       "<div>\n",
       "<style scoped>\n",
       "    .dataframe tbody tr th:only-of-type {\n",
       "        vertical-align: middle;\n",
       "    }\n",
       "\n",
       "    .dataframe tbody tr th {\n",
       "        vertical-align: top;\n",
       "    }\n",
       "\n",
       "    .dataframe thead th {\n",
       "        text-align: right;\n",
       "    }\n",
       "</style>\n",
       "<table border=\"1\" class=\"dataframe\">\n",
       "  <thead>\n",
       "    <tr style=\"text-align: right;\">\n",
       "      <th></th>\n",
       "      <th>gender</th>\n",
       "      <th>senior_citizen</th>\n",
       "      <th>partner</th>\n",
       "      <th>dependents</th>\n",
       "      <th>tenure</th>\n",
       "      <th>phone_service</th>\n",
       "      <th>multiple_lines</th>\n",
       "      <th>online_security</th>\n",
       "      <th>online_backup</th>\n",
       "      <th>device_protection</th>\n",
       "      <th>...</th>\n",
       "      <th>streaming_movies_No internet service</th>\n",
       "      <th>streaming_movies_Yes</th>\n",
       "      <th>paperless_billing_Yes</th>\n",
       "      <th>contract_type_One year</th>\n",
       "      <th>contract_type_Two year</th>\n",
       "      <th>payment_type_Credit card (automatic)</th>\n",
       "      <th>payment_type_Electronic check</th>\n",
       "      <th>payment_type_Mailed check</th>\n",
       "      <th>internet_service_type_Fiber optic</th>\n",
       "      <th>internet_service_type_None</th>\n",
       "    </tr>\n",
       "  </thead>\n",
       "  <tbody>\n",
       "    <tr>\n",
       "      <th>3270</th>\n",
       "      <td>Female</td>\n",
       "      <td>No</td>\n",
       "      <td>No</td>\n",
       "      <td>No</td>\n",
       "      <td>31</td>\n",
       "      <td>Yes</td>\n",
       "      <td>No</td>\n",
       "      <td>Yes</td>\n",
       "      <td>No</td>\n",
       "      <td>Yes</td>\n",
       "      <td>...</td>\n",
       "      <td>0</td>\n",
       "      <td>0</td>\n",
       "      <td>0</td>\n",
       "      <td>0</td>\n",
       "      <td>0</td>\n",
       "      <td>0</td>\n",
       "      <td>1</td>\n",
       "      <td>0</td>\n",
       "      <td>1</td>\n",
       "      <td>0</td>\n",
       "    </tr>\n",
       "  </tbody>\n",
       "</table>\n",
       "<p>1 rows × 50 columns</p>\n",
       "</div>"
      ],
      "text/plain": [
       "      gender senior_citizen partner dependents  tenure phone_service  \\\n",
       "3270  Female             No      No         No      31           Yes   \n",
       "\n",
       "     multiple_lines online_security online_backup device_protection  ...  \\\n",
       "3270             No             Yes            No               Yes  ...   \n",
       "\n",
       "     streaming_movies_No internet service streaming_movies_Yes  \\\n",
       "3270                                    0                    0   \n",
       "\n",
       "     paperless_billing_Yes contract_type_One year  contract_type_Two year  \\\n",
       "3270                     0                      0                       0   \n",
       "\n",
       "      payment_type_Credit card (automatic)  payment_type_Electronic check  \\\n",
       "3270                                     0                              1   \n",
       "\n",
       "      payment_type_Mailed check internet_service_type_Fiber optic  \\\n",
       "3270                          0                                 1   \n",
       "\n",
       "      internet_service_type_None  \n",
       "3270                           0  \n",
       "\n",
       "[1 rows x 50 columns]"
      ]
     },
     "execution_count": 30,
     "metadata": {},
     "output_type": "execute_result"
    }
   ],
   "source": [
    "train.head(1)"
   ]
  },
  {
   "cell_type": "code",
   "execution_count": 31,
   "id": "be56aff5",
   "metadata": {},
   "outputs": [
    {
     "name": "stdout",
     "output_type": "stream",
     "text": [
      "The p-value is 7.76306018553908e-41\n",
      "Sufficient evidence is present to reject the null hypothesis\n"
     ]
    }
   ],
   "source": [
    "# Chi squared with un-encoded categorical columns\n",
    "alpha = 0.05\n",
    "observed = pd.crosstab(train.payment_type, train.senior_citizen)\n",
    "chi2, p, degf, expected = stats.chi2_contingency(observed)\n",
    "print(f\"The p-value is {p}\")\n",
    "if p < alpha:\n",
    "    print(\"Sufficient evidence is present to reject the null hypothesis\")\n",
    "else:\n",
    "    print(\"Insufficient evidence to reject the null\")\n",
    "    print(\"Evidence seems to support the claim that senior citizens and auto accounts are independent\")"
   ]
  },
  {
   "cell_type": "code",
   "execution_count": 32,
   "id": "65740285",
   "metadata": {},
   "outputs": [
    {
     "data": {
      "image/png": "[encoded data removed]",
      "text/plain": [
       "<Figure size 432x288 with 1 Axes>"
      ]
     },
     "metadata": {
      "needs_background": "light"
     },
     "output_type": "display_data"
    }
   ],
   "source": [
    "#let's look at the numbers visually\n",
    "barplot = observed.plot.bar(rot=0)"
   ]
  },
  {
   "cell_type": "markdown",
   "id": "420812b0",
   "metadata": {},
   "source": [
    "### Take Aways:\n",
    "* There IS a relationship between senior citizens and having non-automated accounts.\n",
    "* The above barplot shows that a large majority of senior citizens actually do have non-automated accounts.\n",
    "* (This bar plot looks also reminiscent of the is_senior citizen and churn plots).\n",
    "\n",
    "##########################################################################"
   ]
  },
  {
   "cell_type": "markdown",
   "id": "4b5b7460",
   "metadata": {},
   "source": [
    "## Non-automated accounts vs. Singles (using Partner/Dependant variable):\n",
    "\n",
    "* H0: There is NO relationship between non-auto accounts and customer being single.\n",
    "* Ha: There IS a relationship between non-auto accounts and customer being single."
   ]
  },
  {
   "cell_type": "code",
   "execution_count": 33,
   "id": "16f38030",
   "metadata": {},
   "outputs": [
    {
     "name": "stdout",
     "output_type": "stream",
     "text": [
      "The p-value is 4.132426205917052e-32\n",
      "Sufficient evidence is present to reject the null hypothesis\n"
     ]
    }
   ],
   "source": [
    "# Chi squared with un-encoded categorical columns\n",
    "alpha = 0.05\n",
    "observed = pd.crosstab(train.payment_type, train.partner)\n",
    "chi2, p, degf, expected = stats.chi2_contingency(observed)\n",
    "print(f\"The p-value is {p}\")\n",
    "if p < alpha:\n",
    "    print(\"Sufficient evidence is present to reject the null hypothesis\")\n",
    "else:\n",
    "    print(\"Insufficient evidence to reject the null\")\n",
    "    print(\"Evidence seems to support the claim that single customers and non-auto accounts are independent\")"
   ]
  },
  {
   "cell_type": "code",
   "execution_count": 34,
   "id": "396bf17e",
   "metadata": {},
   "outputs": [
    {
     "data": {
      "image/png": "[encoded data removed]",
      "text/plain": [
       "<Figure size 432x288 with 1 Axes>"
      ]
     },
     "metadata": {
      "needs_background": "light"
     },
     "output_type": "display_data"
    }
   ],
   "source": [
    "#let's look at the numbers visually\n",
    "barplot = observed.plot.bar(rot=0)"
   ]
  },
  {
   "cell_type": "code",
   "execution_count": 35,
   "id": "960b1532",
   "metadata": {},
   "outputs": [
    {
     "data": {
      "text/plain": [
       "<seaborn.axisgrid.FacetGrid at 0x7fbd4e747d90>"
      ]
     },
     "execution_count": 35,
     "metadata": {},
     "output_type": "execute_result"
    },
    {
     "data": {
      "image/png": "[encoded data removed]",
      "text/plain": [
       "<Figure size 796.5x360 with 1 Axes>"
      ]
     },
     "metadata": {
      "needs_background": "light"
     },
     "output_type": "display_data"
    }
   ],
   "source": [
    "#Relationship between Senior customers and their internet service type against their churn rate\n",
    "sns.catplot(x=\"payment_type\", y =\"churn\",  hue=\"senior_citizen\",data=train, kind=\"bar\", height=5, aspect=2)"
   ]
  },
  {
   "cell_type": "code",
   "execution_count": 36,
   "id": "2a1c2f96",
   "metadata": {},
   "outputs": [
    {
     "data": {
      "text/plain": [
       "<seaborn.axisgrid.FacetGrid at 0x7fbd4ea4af70>"
      ]
     },
     "execution_count": 36,
     "metadata": {},
     "output_type": "execute_result"
    },
    {
     "data": {
      "image/png": "[encoded data removed]",
      "text/plain": [
       "<Figure size 772x360 with 1 Axes>"
      ]
     },
     "metadata": {
      "needs_background": "light"
     },
     "output_type": "display_data"
    }
   ],
   "source": [
    "#Relationship between Senior customers and their internet service type against their churn rate\n",
    "sns.catplot(x=\"payment_type\", y =\"churn\",  hue=\"partner\",data=train, kind=\"bar\", height=5, aspect=2)"
   ]
  },
  {
   "cell_type": "markdown",
   "id": "83cdaa0e",
   "metadata": {},
   "source": [
    "### Take Aways:\n",
    "* There IS a relationship between singles having non-automated accounts.\n",
    "* The above barplot shows that a large majority of singles actually do have non-automated accounts.\n",
    "\n",
    "##########################################################################"
   ]
  },
  {
   "cell_type": "markdown",
   "id": "b344ab21",
   "metadata": {},
   "source": [
    "## Internet type accounts vs. Senior Citizen:\n",
    "\n",
    "Seeing what kind of internet accounts most senior citizens have.\n",
    "\n",
    "* H0: There is NO relationship between internet type of accounts and customer being a senior citizen.\n",
    "* Ha: There IS a relationship between internet type of and customer being a senior citizen."
   ]
  },
  {
   "cell_type": "markdown",
   "id": "08d86299",
   "metadata": {},
   "source": [
    "A reminder of what this column is showing:\n",
    "* 2 = Fiber optic\n",
    "* 1 = DSL\n",
    "* 0 = No internet service"
   ]
  },
  {
   "cell_type": "code",
   "execution_count": 37,
   "id": "4ada5d7d",
   "metadata": {},
   "outputs": [
    {
     "name": "stdout",
     "output_type": "stream",
     "text": [
      "The p-value is 5.7148487746334794e-64\n",
      "Sufficient evidence is present to reject the null hypothesis\n"
     ]
    }
   ],
   "source": [
    "# Chi squared with un-encoded categorical columns\n",
    "alpha = 0.05\n",
    "observed = pd.crosstab(train.internet_service_type, train.senior_citizen)\n",
    "chi2, p, degf, expected = stats.chi2_contingency(observed)\n",
    "print(f\"The p-value is {p}\")\n",
    "if p < alpha:\n",
    "    print(\"Sufficient evidence is present to reject the null hypothesis\")\n",
    "else:\n",
    "    print(\"Insufficient evidence to reject the null\")\n",
    "    print(\"Evidence seems to support the claim that senior customers and internet account types are independent\")"
   ]
  },
  {
   "cell_type": "code",
   "execution_count": 38,
   "id": "f5aff5f2",
   "metadata": {},
   "outputs": [
    {
     "data": {
      "image/png": "[encoded data removed]",
      "text/plain": [
       "<Figure size 432x288 with 1 Axes>"
      ]
     },
     "metadata": {
      "needs_background": "light"
     },
     "output_type": "display_data"
    }
   ],
   "source": [
    "#let's look at the numbers visually\n",
    "barplot = observed.plot.bar(rot=0)"
   ]
  },
  {
   "cell_type": "markdown",
   "id": "be081617",
   "metadata": {},
   "source": [
    "## LOOKING AT HOW CHURN, SENIOR CUSTOMERS and INTERNET SERVICES RELATE"
   ]
  },
  {
   "cell_type": "code",
   "execution_count": 39,
   "id": "111843a6",
   "metadata": {},
   "outputs": [
    {
     "data": {
      "text/plain": [
       "<seaborn.axisgrid.FacetGrid at 0x7fbd4de4fb80>"
      ]
     },
     "execution_count": 39,
     "metadata": {},
     "output_type": "execute_result"
    },
    {
     "data": {
      "image/png": "[encoded data removed]",
      "text/plain": [
       "<Figure size 436.5x360 with 1 Axes>"
      ]
     },
     "metadata": {
      "needs_background": "light"
     },
     "output_type": "display_data"
    }
   ],
   "source": [
    "#Relationship between Senior customers and their internet service type against their churn rate\n",
    "sns.catplot(x=\"internet_service_type\", y =\"churn\",  hue=\"senior_citizen\",data=train, kind=\"bar\")"
   ]
  },
  {
   "cell_type": "markdown",
   "id": "e268b56c",
   "metadata": {},
   "source": [
    "### Take Aways:\n",
    "* There IS a relationship between seniors and their internet service type accounts.\n",
    "* The above barplot shows that a large majority of seniors that churned had Fiber Optics for their internet service.\n",
    "\n",
    "##########################################################################"
   ]
  },
  {
   "cell_type": "markdown",
   "id": "185c3437",
   "metadata": {},
   "source": [
    "# Internet type accounts vs. Singles:\n",
    "Seeing what kind of internet accounts most single customers have.\n",
    "\n",
    "* H0: There is NO relationship between internet type accounts and single Telco customers.\n",
    "* Ha: There IS a relationship between internet type and single customer Telco customers."
   ]
  },
  {
   "cell_type": "code",
   "execution_count": 40,
   "id": "2df1b105",
   "metadata": {},
   "outputs": [
    {
     "name": "stdout",
     "output_type": "stream",
     "text": [
      "The p-value is 0.5479078849861201\n",
      "Insufficient evidence to reject the null\n",
      "Evidence seems to support the claim that single customers and internet account types are independent\n"
     ]
    }
   ],
   "source": [
    "# Chi squared with un-encoded categorical columns\n",
    "alpha = 0.05\n",
    "observed = pd.crosstab(train.internet_service_type, train.partner)\n",
    "chi2, p, degf, expected = stats.chi2_contingency(observed)\n",
    "print(f\"The p-value is {p}\")\n",
    "if p < alpha:\n",
    "    print(\"Sufficient evidence is present to reject the null hypothesis\")\n",
    "else:\n",
    "    print(\"Insufficient evidence to reject the null\")\n",
    "    print(\"Evidence seems to support the claim that single customers and internet account types are independent\")"
   ]
  },
  {
   "cell_type": "code",
   "execution_count": 41,
   "id": "34fc2f65",
   "metadata": {},
   "outputs": [
    {
     "data": {
      "image/png": "[encoded data removed]",
      "text/plain": [
       "<Figure size 432x288 with 1 Axes>"
      ]
     },
     "metadata": {
      "needs_background": "light"
     },
     "output_type": "display_data"
    }
   ],
   "source": [
    "#let's look at the numbers visually\n",
    "barplot = observed.plot.bar(rot=0)"
   ]
  },
  {
   "cell_type": "markdown",
   "id": "3ef74c5f",
   "metadata": {},
   "source": [
    "### Take Aways:\n",
    "* There is not a relationship between singles and their internet service type accounts, as I had previously thought.\n",
    "\n",
    "##########################################################################"
   ]
  },
  {
   "cell_type": "markdown",
   "id": "01e650f8",
   "metadata": {},
   "source": [
    "# Has Phone accounts vs. Seniors:\n",
    "Seeing if Seniors have a phone account as well.\n",
    "\n",
    "* H0: There is NO relationship between phone accounts and Senior citizen Telco customers.\n",
    "* Ha: There IS a relationship between phone accounts and Senior citizen Telco customers."
   ]
  },
  {
   "cell_type": "markdown",
   "id": "f36c4d2b",
   "metadata": {},
   "source": [
    "NOTE: \n",
    "   * 0= No phone service\n",
    "   * 1= One line\n",
    "   * 2= Two or More lines"
   ]
  },
  {
   "cell_type": "code",
   "execution_count": 42,
   "id": "4c140fd0",
   "metadata": {},
   "outputs": [
    {
     "name": "stdout",
     "output_type": "stream",
     "text": [
      "The p-value is 0.9732127844741527\n",
      "Insufficient evidence to reject the null\n",
      "Evidence seems to support the claim that senior citizen customers and phone account types are independent\n"
     ]
    }
   ],
   "source": [
    "# Chi squared with un-encoded categorical columns\n",
    "alpha = 0.05\n",
    "observed = pd.crosstab(train.phone_service, train.senior_citizen)\n",
    "chi2, p, degf, expected = stats.chi2_contingency(observed)\n",
    "print(f\"The p-value is {p}\")\n",
    "if p < alpha:\n",
    "    print(\"Sufficient evidence is present to reject the null hypothesis\")\n",
    "else:\n",
    "    print(\"Insufficient evidence to reject the null\")\n",
    "    print(\"Evidence seems to support the claim that senior citizen customers and phone account types are independent\")"
   ]
  },
  {
   "cell_type": "code",
   "execution_count": 43,
   "id": "0943085c",
   "metadata": {},
   "outputs": [
    {
     "data": {
      "image/png": "[encoded data removed]",
      "text/plain": [
       "<Figure size 432x288 with 1 Axes>"
      ]
     },
     "metadata": {
      "needs_background": "light"
     },
     "output_type": "display_data"
    }
   ],
   "source": [
    "#let's look at the numbers visually\n",
    "barplot = observed.plot.bar(rot=0)"
   ]
  },
  {
   "cell_type": "markdown",
   "id": "efdd618e",
   "metadata": {},
   "source": [
    "### TAKE AWAYS:\n",
    "- Number of phone lines vs Senior citizens does not relate."
   ]
  },
  {
   "cell_type": "markdown",
   "id": "88f35ccc",
   "metadata": {},
   "source": [
    "# BUT DOES INTERNET SERVICE RELATE TO CHURN???"
   ]
  },
  {
   "cell_type": "markdown",
   "id": "d0cf8d32",
   "metadata": {},
   "source": [
    "- Now that we know our main driving churn demographic and are seeing a relation to Telco's seniors to internet service types, let's just check that churn relates to the internet services with churn as a whole."
   ]
  },
  {
   "cell_type": "markdown",
   "id": "092ce2b8",
   "metadata": {},
   "source": [
    "## Churn vs Internet Service Type:\n",
    "\n",
    "* H0: There is not relationship between Churn and Internet Service type.\n",
    "* Ha: There is a relationship between Churn and Internet Service type."
   ]
  },
  {
   "cell_type": "code",
   "execution_count": 44,
   "id": "cc873634",
   "metadata": {},
   "outputs": [
    {
     "name": "stdout",
     "output_type": "stream",
     "text": [
      "The p-value is 2.4617612720873587e-96\n",
      "Sufficient evidence is present to reject the null hypothesis\n"
     ]
    }
   ],
   "source": [
    "# Chi squared with un-encoded categorical columns\n",
    "alpha = 0.05\n",
    "observed = pd.crosstab(train.internet_service_type, train.churn)\n",
    "chi2, p, degf, expected = stats.chi2_contingency(observed)\n",
    "print(f\"The p-value is {p}\")\n",
    "if p < alpha:\n",
    "    print(\"Sufficient evidence is present to reject the null hypothesis\")\n",
    "else:\n",
    "    print(\"Insufficient evidence to reject the null\")\n",
    "    print(\"Evidence seems to support the claim that churn and internet account types are independent\")"
   ]
  },
  {
   "cell_type": "code",
   "execution_count": 45,
   "id": "eb5546b6",
   "metadata": {},
   "outputs": [
    {
     "data": {
      "image/png": "[encoded data removed]",
      "text/plain": [
       "<Figure size 432x288 with 1 Axes>"
      ]
     },
     "metadata": {
      "needs_background": "light"
     },
     "output_type": "display_data"
    }
   ],
   "source": [
    "#let's look at the numbers visually\n",
    "barplot = observed.plot.bar(rot=0)"
   ]
  },
  {
   "cell_type": "markdown",
   "id": "60d13406",
   "metadata": {},
   "source": [
    "### Take Aways:\n",
    "* There IS a relationship between churn and their internet service type accounts.\n",
    "* More accounts that had Fiber Optic for internet churned than any other internet service type.\n",
    "\n",
    "##########################################################################"
   ]
  },
  {
   "cell_type": "markdown",
   "id": "a7bdea24",
   "metadata": {},
   "source": [
    "# Seniors and their Subgroups:\n",
    "\n",
    "In finding that Senior Citizens are some of Telco's highest rated churn customers, "
   ]
  },
  {
   "cell_type": "markdown",
   "id": "ed20ca4b",
   "metadata": {},
   "source": [
    "# My Drivers:\n",
    "* DEMOGRAPHIC GROUP-\n",
    "    * Senior Citizen customers \n",
    "    * Single customers\n",
    "* ACCOUNT TYPE GROUPS-\n",
    "    * Fiber Optic accounts"
   ]
  },
  {
   "cell_type": "markdown",
   "id": "14f54e52",
   "metadata": {},
   "source": [
    "- More visualizations to show these relationships:"
   ]
  },
  {
   "cell_type": "markdown",
   "id": "94c901df",
   "metadata": {},
   "source": [
    "# Onto ML Models:"
   ]
  },
  {
   "cell_type": "markdown",
   "id": "ff7d427b",
   "metadata": {},
   "source": [
    "### Creating Logistical Regression models:\n",
    "To quickly assess and models with target (Churn) against chosen variables (Senior citizen, Single, Fiber Optics, non-automated accounts) into a Logistical Regression model. If the accuracy of this model is higher than my baseline, then I'll move onto other models. "
   ]
  },
  {
   "cell_type": "markdown",
   "id": "6ca443d0",
   "metadata": {},
   "source": [
    "1) Developing my baseline to compare my models to:    "
   ]
  },
  {
   "cell_type": "markdown",
   "id": "7105d2ca",
   "metadata": {},
   "source": [
    "- Baseline (for the 'most common case to everything')"
   ]
  },
  {
   "cell_type": "markdown",
   "id": "ee5b228f",
   "metadata": {},
   "source": [
    "### My BASELINE IS 26% for accuracy (based on 'yes churn' data)"
   ]
  },
  {
   "cell_type": "code",
   "execution_count": 46,
   "id": "ae0fd6a1",
   "metadata": {},
   "outputs": [
    {
     "data": {
      "text/plain": [
       "False    0.734222\n",
       "True     0.265778\n",
       "Name: churn, dtype: float64"
      ]
     },
     "execution_count": 46,
     "metadata": {},
     "output_type": "execute_result"
    }
   ],
   "source": [
    "train.churn.value_counts(normalize=True)"
   ]
  },
  {
   "cell_type": "markdown",
   "id": "881c7c16",
   "metadata": {},
   "source": [
    "- Defining my x and y:"
   ]
  },
  {
   "cell_type": "code",
   "execution_count": 47,
   "id": "fc408ab5",
   "metadata": {},
   "outputs": [],
   "source": [
    "# Dropping categorical and not-needed columns that are leftover.\n",
    "\n",
    "X_train = train.drop(columns=['churn','gender', 'dependents','partner', \n",
    "                              'senior_citizen', 'phone_service','multiple_lines','online_security','online_backup',\n",
    "                              'payment_type','total_charges','device_protection','tech_support','streaming_tv','streaming_movies',\n",
    "                             'paperless_billing','contract_type','internet_service_type','total_charges'])\n",
    "y_train = train[['churn']]\n",
    "\n",
    "X_validate = validate.drop(columns=['churn','gender', 'dependents','partner', \n",
    "                              'senior_citizen', 'phone_service','multiple_lines','online_security','online_backup',\n",
    "                              'payment_type','total_charges','device_protection','tech_support','streaming_tv','streaming_movies',\n",
    "                             'paperless_billing','contract_type','online_security','online_backup',\n",
    "                              'payment_type','total_charges','device_protection','internet_service_type','total_charges'])\n",
    "y_validate = validate[['churn']]\n",
    "\n",
    "X_test = test.drop(columns=['churn','gender', 'dependents','partner', \n",
    "                              'senior_citizen', 'phone_service','multiple_lines','online_security','online_backup',\n",
    "                              'payment_type','total_charges','device_protection','tech_support','streaming_tv','streaming_movies',\n",
    "                             'paperless_billing','contract_type','internet_service_type','total_charges'])\n",
    "y_test = test[['churn']]"
   ]
  },
  {
   "cell_type": "code",
   "execution_count": 48,
   "id": "6dfa252e",
   "metadata": {},
   "outputs": [
    {
     "data": {
      "text/html": [
       "<div>\n",
       "<style scoped>\n",
       "    .dataframe tbody tr th:only-of-type {\n",
       "        vertical-align: middle;\n",
       "    }\n",
       "\n",
       "    .dataframe tbody tr th {\n",
       "        vertical-align: top;\n",
       "    }\n",
       "\n",
       "    .dataframe thead th {\n",
       "        text-align: right;\n",
       "    }\n",
       "</style>\n",
       "<table border=\"1\" class=\"dataframe\">\n",
       "  <thead>\n",
       "    <tr style=\"text-align: right;\">\n",
       "      <th></th>\n",
       "      <th>tenure</th>\n",
       "      <th>monthly_charges</th>\n",
       "      <th>contract_type_id.1</th>\n",
       "      <th>payment_type_id.1</th>\n",
       "      <th>internet_service_type_id.1</th>\n",
       "      <th>gender_Male</th>\n",
       "      <th>senior_citizen_Yes</th>\n",
       "      <th>partner_Yes</th>\n",
       "      <th>dependents_Yes</th>\n",
       "      <th>phone_service_Yes</th>\n",
       "      <th>...</th>\n",
       "      <th>streaming_movies_No internet service</th>\n",
       "      <th>streaming_movies_Yes</th>\n",
       "      <th>paperless_billing_Yes</th>\n",
       "      <th>contract_type_One year</th>\n",
       "      <th>contract_type_Two year</th>\n",
       "      <th>payment_type_Credit card (automatic)</th>\n",
       "      <th>payment_type_Electronic check</th>\n",
       "      <th>payment_type_Mailed check</th>\n",
       "      <th>internet_service_type_Fiber optic</th>\n",
       "      <th>internet_service_type_None</th>\n",
       "    </tr>\n",
       "  </thead>\n",
       "  <tbody>\n",
       "    <tr>\n",
       "      <th>3270</th>\n",
       "      <td>31</td>\n",
       "      <td>87.6</td>\n",
       "      <td>1</td>\n",
       "      <td>1</td>\n",
       "      <td>2</td>\n",
       "      <td>0</td>\n",
       "      <td>0</td>\n",
       "      <td>0</td>\n",
       "      <td>0</td>\n",
       "      <td>1</td>\n",
       "      <td>...</td>\n",
       "      <td>0</td>\n",
       "      <td>0</td>\n",
       "      <td>0</td>\n",
       "      <td>0</td>\n",
       "      <td>0</td>\n",
       "      <td>0</td>\n",
       "      <td>1</td>\n",
       "      <td>0</td>\n",
       "      <td>1</td>\n",
       "      <td>0</td>\n",
       "    </tr>\n",
       "  </tbody>\n",
       "</table>\n",
       "<p>1 rows × 32 columns</p>\n",
       "</div>"
      ],
      "text/plain": [
       "      tenure  monthly_charges  contract_type_id.1  payment_type_id.1  \\\n",
       "3270      31             87.6                   1                  1   \n",
       "\n",
       "      internet_service_type_id.1  gender_Male  senior_citizen_Yes  \\\n",
       "3270                           2            0                   0   \n",
       "\n",
       "      partner_Yes  dependents_Yes  phone_service_Yes  ...  \\\n",
       "3270            0               0                  1  ...   \n",
       "\n",
       "      streaming_movies_No internet service  streaming_movies_Yes  \\\n",
       "3270                                     0                     0   \n",
       "\n",
       "      paperless_billing_Yes  contract_type_One year  contract_type_Two year  \\\n",
       "3270                      0                       0                       0   \n",
       "\n",
       "      payment_type_Credit card (automatic)  payment_type_Electronic check  \\\n",
       "3270                                     0                              1   \n",
       "\n",
       "      payment_type_Mailed check  internet_service_type_Fiber optic  \\\n",
       "3270                          0                                  1   \n",
       "\n",
       "      internet_service_type_None  \n",
       "3270                           0  \n",
       "\n",
       "[1 rows x 32 columns]"
      ]
     },
     "execution_count": 48,
     "metadata": {},
     "output_type": "execute_result"
    }
   ],
   "source": [
    "#checking the x variables\n",
    "X_train.head(1)"
   ]
  },
  {
   "cell_type": "code",
   "execution_count": 49,
   "id": "0c032979",
   "metadata": {},
   "outputs": [
    {
     "data": {
      "text/html": [
       "<div>\n",
       "<style scoped>\n",
       "    .dataframe tbody tr th:only-of-type {\n",
       "        vertical-align: middle;\n",
       "    }\n",
       "\n",
       "    .dataframe tbody tr th {\n",
       "        vertical-align: top;\n",
       "    }\n",
       "\n",
       "    .dataframe thead th {\n",
       "        text-align: right;\n",
       "    }\n",
       "</style>\n",
       "<table border=\"1\" class=\"dataframe\">\n",
       "  <thead>\n",
       "    <tr style=\"text-align: right;\">\n",
       "      <th></th>\n",
       "      <th>churn</th>\n",
       "    </tr>\n",
       "  </thead>\n",
       "  <tbody>\n",
       "    <tr>\n",
       "      <th>3270</th>\n",
       "      <td>False</td>\n",
       "    </tr>\n",
       "  </tbody>\n",
       "</table>\n",
       "</div>"
      ],
      "text/plain": [
       "      churn\n",
       "3270  False"
      ]
     },
     "execution_count": 49,
     "metadata": {},
     "output_type": "execute_result"
    }
   ],
   "source": [
    "#checking the y (target)variable\n",
    "y_train.head(1)"
   ]
  },
  {
   "cell_type": "markdown",
   "id": "14eaa7a8",
   "metadata": {},
   "source": [
    "### CREATING A LOGISTIC REGRESSION MODEL:::"
   ]
  },
  {
   "cell_type": "code",
   "execution_count": 50,
   "id": "8700c274",
   "metadata": {},
   "outputs": [],
   "source": [
    "# Create a simple Logistic Regression model to start.\n",
    "\n",
    "logit = LogisticRegression(random_state=123)"
   ]
  },
  {
   "cell_type": "markdown",
   "id": "b8efcf0f",
   "metadata": {},
   "source": [
    "#### FITTING THE LOGISTICAL REG. MODEL:"
   ]
  },
  {
   "cell_type": "code",
   "execution_count": 51,
   "id": "3bfcce62",
   "metadata": {},
   "outputs": [
    {
     "data": {
      "text/plain": [
       "LogisticRegression(random_state=123)"
      ]
     },
     "execution_count": 51,
     "metadata": {},
     "output_type": "execute_result"
    }
   ],
   "source": [
    "logit.fit(X_train, y_train)"
   ]
  },
  {
   "cell_type": "markdown",
   "id": "60a22586",
   "metadata": {},
   "source": [
    "- Looking at coefficients to model:"
   ]
  },
  {
   "cell_type": "code",
   "execution_count": 52,
   "id": "55644fc7",
   "metadata": {},
   "outputs": [],
   "source": [
    "# Create a list of our model features.\n",
    "\n",
    "features = X_train.columns.tolist()"
   ]
  },
  {
   "cell_type": "code",
   "execution_count": 53,
   "id": "947a5517",
   "metadata": {},
   "outputs": [],
   "source": [
    "# Create a list of the weights for each feature from our model.\n",
    "\n",
    "weights = logit.coef_.flatten()"
   ]
  },
  {
   "cell_type": "code",
   "execution_count": 54,
   "id": "be3263e7",
   "metadata": {},
   "outputs": [
    {
     "data": {
      "text/html": [
       "<div>\n",
       "<style scoped>\n",
       "    .dataframe tbody tr th:only-of-type {\n",
       "        vertical-align: middle;\n",
       "    }\n",
       "\n",
       "    .dataframe tbody tr th {\n",
       "        vertical-align: top;\n",
       "    }\n",
       "\n",
       "    .dataframe thead th {\n",
       "        text-align: right;\n",
       "    }\n",
       "</style>\n",
       "<table border=\"1\" class=\"dataframe\">\n",
       "  <thead>\n",
       "    <tr style=\"text-align: right;\">\n",
       "      <th></th>\n",
       "      <th>feature</th>\n",
       "      <th>weight</th>\n",
       "    </tr>\n",
       "  </thead>\n",
       "  <tbody>\n",
       "    <tr>\n",
       "      <th>0</th>\n",
       "      <td>tenure</td>\n",
       "      <td>-0.030488</td>\n",
       "    </tr>\n",
       "    <tr>\n",
       "      <th>1</th>\n",
       "      <td>monthly_charges</td>\n",
       "      <td>0.013701</td>\n",
       "    </tr>\n",
       "    <tr>\n",
       "      <th>2</th>\n",
       "      <td>contract_type_id.1</td>\n",
       "      <td>-0.582478</td>\n",
       "    </tr>\n",
       "    <tr>\n",
       "      <th>3</th>\n",
       "      <td>payment_type_id.1</td>\n",
       "      <td>-0.127599</td>\n",
       "    </tr>\n",
       "    <tr>\n",
       "      <th>4</th>\n",
       "      <td>internet_service_type_id.1</td>\n",
       "      <td>0.152625</td>\n",
       "    </tr>\n",
       "    <tr>\n",
       "      <th>5</th>\n",
       "      <td>gender_Male</td>\n",
       "      <td>-0.033843</td>\n",
       "    </tr>\n",
       "    <tr>\n",
       "      <th>6</th>\n",
       "      <td>senior_citizen_Yes</td>\n",
       "      <td>0.301938</td>\n",
       "    </tr>\n",
       "    <tr>\n",
       "      <th>7</th>\n",
       "      <td>partner_Yes</td>\n",
       "      <td>0.023404</td>\n",
       "    </tr>\n",
       "    <tr>\n",
       "      <th>8</th>\n",
       "      <td>dependents_Yes</td>\n",
       "      <td>-0.217353</td>\n",
       "    </tr>\n",
       "    <tr>\n",
       "      <th>9</th>\n",
       "      <td>phone_service_Yes</td>\n",
       "      <td>-0.455654</td>\n",
       "    </tr>\n",
       "    <tr>\n",
       "      <th>10</th>\n",
       "      <td>multiple_lines_No phone service</td>\n",
       "      <td>0.392964</td>\n",
       "    </tr>\n",
       "    <tr>\n",
       "      <th>11</th>\n",
       "      <td>multiple_lines_Yes</td>\n",
       "      <td>0.098819</td>\n",
       "    </tr>\n",
       "    <tr>\n",
       "      <th>12</th>\n",
       "      <td>online_security_No internet service</td>\n",
       "      <td>-0.108108</td>\n",
       "    </tr>\n",
       "    <tr>\n",
       "      <th>13</th>\n",
       "      <td>online_security_Yes</td>\n",
       "      <td>-0.493004</td>\n",
       "    </tr>\n",
       "    <tr>\n",
       "      <th>14</th>\n",
       "      <td>online_backup_No internet service</td>\n",
       "      <td>-0.108108</td>\n",
       "    </tr>\n",
       "    <tr>\n",
       "      <th>15</th>\n",
       "      <td>online_backup_Yes</td>\n",
       "      <td>-0.191807</td>\n",
       "    </tr>\n",
       "    <tr>\n",
       "      <th>16</th>\n",
       "      <td>device_protection_No internet service</td>\n",
       "      <td>-0.108108</td>\n",
       "    </tr>\n",
       "    <tr>\n",
       "      <th>17</th>\n",
       "      <td>device_protection_Yes</td>\n",
       "      <td>-0.119407</td>\n",
       "    </tr>\n",
       "    <tr>\n",
       "      <th>18</th>\n",
       "      <td>tech_support_No internet service</td>\n",
       "      <td>-0.108108</td>\n",
       "    </tr>\n",
       "    <tr>\n",
       "      <th>19</th>\n",
       "      <td>tech_support_Yes</td>\n",
       "      <td>-0.429899</td>\n",
       "    </tr>\n",
       "    <tr>\n",
       "      <th>20</th>\n",
       "      <td>streaming_tv_No internet service</td>\n",
       "      <td>-0.108108</td>\n",
       "    </tr>\n",
       "    <tr>\n",
       "      <th>21</th>\n",
       "      <td>streaming_tv_Yes</td>\n",
       "      <td>0.095755</td>\n",
       "    </tr>\n",
       "    <tr>\n",
       "      <th>22</th>\n",
       "      <td>streaming_movies_No internet service</td>\n",
       "      <td>-0.108108</td>\n",
       "    </tr>\n",
       "    <tr>\n",
       "      <th>23</th>\n",
       "      <td>streaming_movies_Yes</td>\n",
       "      <td>0.248534</td>\n",
       "    </tr>\n",
       "    <tr>\n",
       "      <th>24</th>\n",
       "      <td>paperless_billing_Yes</td>\n",
       "      <td>0.371946</td>\n",
       "    </tr>\n",
       "    <tr>\n",
       "      <th>25</th>\n",
       "      <td>contract_type_One year</td>\n",
       "      <td>-0.027790</td>\n",
       "    </tr>\n",
       "    <tr>\n",
       "      <th>26</th>\n",
       "      <td>contract_type_Two year</td>\n",
       "      <td>-0.245999</td>\n",
       "    </tr>\n",
       "    <tr>\n",
       "      <th>27</th>\n",
       "      <td>payment_type_Credit card (automatic)</td>\n",
       "      <td>-0.019323</td>\n",
       "    </tr>\n",
       "    <tr>\n",
       "      <th>28</th>\n",
       "      <td>payment_type_Electronic check</td>\n",
       "      <td>-0.001555</td>\n",
       "    </tr>\n",
       "    <tr>\n",
       "      <th>29</th>\n",
       "      <td>payment_type_Mailed check</td>\n",
       "      <td>-0.076684</td>\n",
       "    </tr>\n",
       "    <tr>\n",
       "      <th>30</th>\n",
       "      <td>internet_service_type_Fiber optic</td>\n",
       "      <td>0.431531</td>\n",
       "    </tr>\n",
       "    <tr>\n",
       "      <th>31</th>\n",
       "      <td>internet_service_type_None</td>\n",
       "      <td>-0.108108</td>\n",
       "    </tr>\n",
       "  </tbody>\n",
       "</table>\n",
       "</div>"
      ],
      "text/plain": [
       "                                  feature    weight\n",
       "0                                  tenure -0.030488\n",
       "1                         monthly_charges  0.013701\n",
       "2                      contract_type_id.1 -0.582478\n",
       "3                       payment_type_id.1 -0.127599\n",
       "4              internet_service_type_id.1  0.152625\n",
       "5                             gender_Male -0.033843\n",
       "6                      senior_citizen_Yes  0.301938\n",
       "7                             partner_Yes  0.023404\n",
       "8                          dependents_Yes -0.217353\n",
       "9                       phone_service_Yes -0.455654\n",
       "10        multiple_lines_No phone service  0.392964\n",
       "11                     multiple_lines_Yes  0.098819\n",
       "12    online_security_No internet service -0.108108\n",
       "13                    online_security_Yes -0.493004\n",
       "14      online_backup_No internet service -0.108108\n",
       "15                      online_backup_Yes -0.191807\n",
       "16  device_protection_No internet service -0.108108\n",
       "17                  device_protection_Yes -0.119407\n",
       "18       tech_support_No internet service -0.108108\n",
       "19                       tech_support_Yes -0.429899\n",
       "20       streaming_tv_No internet service -0.108108\n",
       "21                       streaming_tv_Yes  0.095755\n",
       "22   streaming_movies_No internet service -0.108108\n",
       "23                   streaming_movies_Yes  0.248534\n",
       "24                  paperless_billing_Yes  0.371946\n",
       "25                 contract_type_One year -0.027790\n",
       "26                 contract_type_Two year -0.245999\n",
       "27   payment_type_Credit card (automatic) -0.019323\n",
       "28          payment_type_Electronic check -0.001555\n",
       "29              payment_type_Mailed check -0.076684\n",
       "30      internet_service_type_Fiber optic  0.431531\n",
       "31             internet_service_type_None -0.108108"
      ]
     },
     "execution_count": 54,
     "metadata": {},
     "output_type": "execute_result"
    }
   ],
   "source": [
    "# Store our lists from above in a DataFrame.\n",
    "\n",
    "pd.DataFrame(weights, features).reset_index().rename(columns={'index': 'feature', 0: 'weight'})"
   ]
  },
  {
   "cell_type": "markdown",
   "id": "ff566b5c",
   "metadata": {},
   "source": [
    "### Evaluating Model:"
   ]
  },
  {
   "cell_type": "code",
   "execution_count": 55,
   "id": "81ca43a7",
   "metadata": {},
   "outputs": [
    {
     "name": "stdout",
     "output_type": "stream",
     "text": [
      "Accuracy of Logistic Regression classifier on training set: 0.80\n"
     ]
    }
   ],
   "source": [
    "#Accuracy of the models logistic classifier\n",
    "print('Accuracy of Logistic Regression classifier on training set: {:.2f}'\n",
    "     .format(logit.score(X_train, y_train)))"
   ]
  },
  {
   "cell_type": "markdown",
   "id": "fadd319d",
   "metadata": {},
   "source": [
    "- Evaluating with classification report:"
   ]
  },
  {
   "cell_type": "code",
   "execution_count": 56,
   "id": "2cc3cc9b",
   "metadata": {},
   "outputs": [],
   "source": [
    "#making predictions on whether customer churns or not\n",
    "y_pred = logit.predict(X_train)"
   ]
  },
  {
   "cell_type": "code",
   "execution_count": 57,
   "id": "47056d16",
   "metadata": {},
   "outputs": [],
   "source": [
    "#estimating probability of churn based on observations\n",
    "y_pred_proba = logit.predict_proba(X_train)"
   ]
  },
  {
   "cell_type": "code",
   "execution_count": 58,
   "id": "778f5b07",
   "metadata": {},
   "outputs": [
    {
     "name": "stdout",
     "output_type": "stream",
     "text": [
      "              precision    recall  f1-score   support\n",
      "\n",
      "       False       0.84      0.90      0.87      3304\n",
      "        True       0.66      0.54      0.59      1196\n",
      "\n",
      "    accuracy                           0.80      4500\n",
      "   macro avg       0.75      0.72      0.73      4500\n",
      "weighted avg       0.79      0.80      0.80      4500\n",
      "\n"
     ]
    }
   ],
   "source": [
    "print(classification_report(y_train, y_pred))"
   ]
  },
  {
   "cell_type": "markdown",
   "id": "9bd741d4",
   "metadata": {},
   "source": [
    "### TAKE AWAYS:\n",
    "- The first model is already classifying higher than our baseline, so I am on a good track. \n",
    "- My recall number is fairly high, so this model was good at predicting TP (aka good at predicting churning)"
   ]
  },
  {
   "cell_type": "markdown",
   "id": "121d3f32",
   "metadata": {},
   "source": [
    "### THINGS TO NOTE:\n",
    "* Logistical Regression really helped point out which variables are worth adding/focusing into these models.\n",
    "(ie internet services, senior citizens)"
   ]
  },
  {
   "cell_type": "markdown",
   "id": "d6ffc355",
   "metadata": {},
   "source": [
    "# Decision Tree Model:"
   ]
  },
  {
   "cell_type": "markdown",
   "id": "a4b06a3f",
   "metadata": {},
   "source": [
    "Fitting the decision tree classifier to the Telco training sample and transform (i.e. make predictions on the training sample)"
   ]
  },
  {
   "cell_type": "code",
   "execution_count": 59,
   "id": "70312665",
   "metadata": {},
   "outputs": [],
   "source": [
    "from sklearn.tree import DecisionTreeClassifier, plot_tree\n",
    "#creating that decision tree!\n",
    "\n",
    "clf= DecisionTreeClassifier(max_depth=2, random_state=123)"
   ]
  },
  {
   "cell_type": "code",
   "execution_count": 60,
   "id": "e4637414",
   "metadata": {},
   "outputs": [],
   "source": [
    "# model.fit(X, y)\n",
    "clf = clf.fit(X_train, y_train)"
   ]
  },
  {
   "cell_type": "code",
   "execution_count": 61,
   "id": "f43e03ba",
   "metadata": {},
   "outputs": [
    {
     "data": {
      "text/plain": [
       "[Text(390.6, 317.09999999999997, 'contract_type_id.1 <= 1.5\\ngini = 0.39\\nsamples = 4500\\nvalue = [3304, 1196]\\nclass = False'),\n",
       " Text(195.3, 190.26, 'internet_service_type_Fiber optic <= 0.5\\ngini = 0.488\\nsamples = 2460\\nvalue = [1418, 1042]\\nclass = False'),\n",
       " Text(97.65, 63.420000000000016, 'gini = 0.407\\nsamples = 1138\\nvalue = [814, 324]\\nclass = False'),\n",
       " Text(292.95000000000005, 63.420000000000016, 'gini = 0.496\\nsamples = 1322\\nvalue = [604, 718]\\nclass = True'),\n",
       " Text(585.9000000000001, 190.26, 'monthly_charges <= 93.675\\ngini = 0.14\\nsamples = 2040\\nvalue = [1886, 154]\\nclass = False'),\n",
       " Text(488.25, 63.420000000000016, 'gini = 0.084\\nsamples = 1520\\nvalue = [1453, 67]\\nclass = False'),\n",
       " Text(683.5500000000001, 63.420000000000016, 'gini = 0.279\\nsamples = 520\\nvalue = [433, 87]\\nclass = False')]"
      ]
     },
     "execution_count": 61,
     "metadata": {},
     "output_type": "execute_result"
    },
    {
     "data": {
      "image/png": "[encoded data removed]",
      "text/plain": [
       "<Figure size 1008x504 with 1 Axes>"
      ]
     },
     "metadata": {
      "needs_background": "light"
     },
     "output_type": "display_data"
    }
   ],
   "source": [
    "#plot the tree\n",
    "plt.figure(figsize=(14, 7))\n",
    "plot_tree(clf, feature_names=X_train.columns, class_names=clf.classes_.astype(str), rounded=True)"
   ]
  },
  {
   "cell_type": "code",
   "execution_count": 62,
   "id": "53fbf86f",
   "metadata": {},
   "outputs": [
    {
     "data": {
      "text/plain": [
       "array([ True, False, False, False, False])"
      ]
     },
     "execution_count": 62,
     "metadata": {},
     "output_type": "execute_result"
    }
   ],
   "source": [
    "### Make Predictions\n",
    "y_pred=clf.predict(X_train)\n",
    "y_pred[0:5]"
   ]
  },
  {
   "cell_type": "code",
   "execution_count": 63,
   "id": "5d58691d",
   "metadata": {},
   "outputs": [
    {
     "data": {
      "text/plain": [
       "array([[0.45688351, 0.54311649],\n",
       "       [0.71528998, 0.28471002],\n",
       "       [0.95592105, 0.04407895],\n",
       "       [0.71528998, 0.28471002],\n",
       "       [0.83269231, 0.16730769]])"
      ]
     },
     "execution_count": 63,
     "metadata": {},
     "output_type": "execute_result"
    }
   ],
   "source": [
    "### Estimate Probability\n",
    "y_pred_proba=clf.predict_proba(X_train)\n",
    "y_pred_proba[0:5]"
   ]
  },
  {
   "cell_type": "markdown",
   "id": "763c1d8d",
   "metadata": {},
   "source": [
    "#### EVALUATING DECISION TREE MODEL:"
   ]
  },
  {
   "cell_type": "code",
   "execution_count": 64,
   "id": "12143682",
   "metadata": {},
   "outputs": [
    {
     "name": "stdout",
     "output_type": "stream",
     "text": [
      "Accuracy of Decision Tree classifier on Telco training set: 0.76\n"
     ]
    }
   ],
   "source": [
    "print('Accuracy of Decision Tree classifier on Telco training set: {:.2f}'\n",
    "      .format(clf.score(X_train, y_train)))"
   ]
  },
  {
   "cell_type": "code",
   "execution_count": 65,
   "id": "2fc9d412",
   "metadata": {},
   "outputs": [
    {
     "data": {
      "text/plain": [
       "array([[2700,  604],\n",
       "       [ 478,  718]])"
      ]
     },
     "execution_count": 65,
     "metadata": {},
     "output_type": "execute_result"
    }
   ],
   "source": [
    "# let's evaluate using a confusion matrix\n",
    "confusion_matrix(y_train, y_pred)"
   ]
  },
  {
   "cell_type": "code",
   "execution_count": 66,
   "id": "b955c63d",
   "metadata": {},
   "outputs": [
    {
     "data": {
      "text/plain": [
       "churn\n",
       "False    3304\n",
       "True     1196\n",
       "dtype: int64"
      ]
     },
     "execution_count": 66,
     "metadata": {},
     "output_type": "execute_result"
    }
   ],
   "source": [
    "#to see a visual of how many 'No churns' vs 'Yes churns' in this model:\n",
    "y_train.value_counts()"
   ]
  },
  {
   "cell_type": "code",
   "execution_count": 67,
   "id": "1ea3d897",
   "metadata": {},
   "outputs": [
    {
     "data": {
      "text/html": [
       "<div>\n",
       "<style scoped>\n",
       "    .dataframe tbody tr th:only-of-type {\n",
       "        vertical-align: middle;\n",
       "    }\n",
       "\n",
       "    .dataframe tbody tr th {\n",
       "        vertical-align: top;\n",
       "    }\n",
       "\n",
       "    .dataframe thead th {\n",
       "        text-align: right;\n",
       "    }\n",
       "</style>\n",
       "<table border=\"1\" class=\"dataframe\">\n",
       "  <thead>\n",
       "    <tr style=\"text-align: right;\">\n",
       "      <th></th>\n",
       "      <th>Not Churn 0</th>\n",
       "      <th>Churn 1</th>\n",
       "    </tr>\n",
       "  </thead>\n",
       "  <tbody>\n",
       "    <tr>\n",
       "      <th>Not Churn 0</th>\n",
       "      <td>2700</td>\n",
       "      <td>604</td>\n",
       "    </tr>\n",
       "    <tr>\n",
       "      <th>Churn 1</th>\n",
       "      <td>478</td>\n",
       "      <td>718</td>\n",
       "    </tr>\n",
       "  </tbody>\n",
       "</table>\n",
       "</div>"
      ],
      "text/plain": [
       "             Not Churn 0  Churn 1\n",
       "Not Churn 0         2700      604\n",
       "Churn 1              478      718"
      ]
     },
     "execution_count": 67,
     "metadata": {},
     "output_type": "execute_result"
    }
   ],
   "source": [
    "#creating a dataframe to see the matrix/needed to rename as variables were still 0 and 1\n",
    "labels = ('Not Churn 0', 'Churn 1')\n",
    "\n",
    "pd.DataFrame(confusion_matrix(y_train, y_pred), index=labels, columns=labels)"
   ]
  },
  {
   "cell_type": "code",
   "execution_count": 68,
   "id": "ba846186",
   "metadata": {},
   "outputs": [
    {
     "name": "stdout",
     "output_type": "stream",
     "text": [
      "              precision    recall  f1-score   support\n",
      "\n",
      "       False       0.85      0.82      0.83      3304\n",
      "        True       0.54      0.60      0.57      1196\n",
      "\n",
      "    accuracy                           0.76      4500\n",
      "   macro avg       0.70      0.71      0.70      4500\n",
      "weighted avg       0.77      0.76      0.76      4500\n",
      "\n"
     ]
    }
   ],
   "source": [
    "#I'll use a classification to evaluate this model:\n",
    "print(classification_report(y_train, y_pred))"
   ]
  },
  {
   "cell_type": "code",
   "execution_count": 69,
   "id": "24e67da9",
   "metadata": {},
   "outputs": [],
   "source": [
    "#To find the accuracy, TP, FP, TN, and FN on this model:\n",
    "TP = 2700\n",
    "FP = 478\n",
    "FN = 604\n",
    "TN = 718\n",
    "ALL = TP + FP + FN + TN"
   ]
  },
  {
   "cell_type": "code",
   "execution_count": 70,
   "id": "58f59b11",
   "metadata": {},
   "outputs": [
    {
     "name": "stdout",
     "output_type": "stream",
     "text": [
      "Accuracy: 0.7595555555555555\n",
      "True Positive Rate: 0.8171912832929782\n",
      "False Positive Rate: 0.3996655518394649\n",
      "True Negative Rate: 0.6003344481605352\n",
      "False Negative Rate: 0.18280871670702178\n",
      "Precision: 0.8495909376966646\n",
      "Recall: 0.8171912832929782\n",
      "F1 Score: 0.8330762110459735\n",
      "Support (0): 3304\n",
      "Support (1): 1196\n"
     ]
    }
   ],
   "source": [
    "accuracy = (TP + TN)/ALL\n",
    "print(f\"Accuracy: {accuracy}\")\n",
    "\n",
    "true_positive_rate = TP/(TP+FN)\n",
    "print(f\"True Positive Rate: {true_positive_rate}\")\n",
    "\n",
    "false_positive_rate = FP/(FP+TN)\n",
    "print(f\"False Positive Rate: {false_positive_rate}\")\n",
    "\n",
    "true_negative_rate = TN/(TN+FP)\n",
    "print(f\"True Negative Rate: {true_negative_rate}\")\n",
    "\n",
    "false_negative_rate = FN/(FN+TP)\n",
    "print(f\"False Negative Rate: {false_negative_rate}\")\n",
    "\n",
    "precision = TP/(TP+FP)\n",
    "print(f\"Precision: {precision}\")\n",
    "\n",
    "recall = TP/(TP+FN)\n",
    "print(f\"Recall: {recall}\")\n",
    "\n",
    "f1_score = 2*(precision*recall)/(precision+recall)\n",
    "print(f\"F1 Score: {f1_score}\")\n",
    "\n",
    "support_pos = TP + FN\n",
    "print(f\"Support (0): {support_pos}\")\n",
    "\n",
    "support_neg = FP + TN\n",
    "print(f\"Support (1): {support_neg}\")"
   ]
  },
  {
   "cell_type": "code",
   "execution_count": 71,
   "id": "045bc1c6",
   "metadata": {},
   "outputs": [
    {
     "name": "stdout",
     "output_type": "stream",
     "text": [
      "Tree with max depth of 2\n",
      "                 False         True  accuracy    macro avg  weighted avg\n",
      "precision     0.849591     0.543116  0.759556     0.696354      0.768137\n",
      "recall        0.817191     0.600334  0.759556     0.708763      0.759556\n",
      "f1-score      0.833076     0.570294  0.759556     0.701685      0.763235\n",
      "support    3304.000000  1196.000000  0.759556  4500.000000   4500.000000\n",
      "\n",
      "Tree with max depth of 3\n",
      "                 False         True  accuracy    macro avg  weighted avg\n",
      "precision     0.796783     0.686106  0.782444     0.741445      0.767368\n",
      "recall        0.944613     0.334448  0.782444     0.639530      0.782444\n",
      "f1-score      0.864423     0.449691  0.782444     0.657057      0.754197\n",
      "support    3304.000000  1196.000000  0.782444  4500.000000   4500.000000\n",
      "\n",
      "Tree with max depth of 4\n",
      "                 False         True  accuracy    macro avg  weighted avg\n",
      "precision     0.822259     0.623874  0.783111     0.723067      0.769533\n",
      "recall        0.898910     0.463211  0.783111     0.681061      0.783111\n",
      "f1-score      0.858878     0.531670  0.783111     0.695274      0.771913\n",
      "support    3304.000000  1196.000000  0.783111  4500.000000   4500.000000\n",
      "\n",
      "Tree with max depth of 5\n",
      "                 False         True  accuracy    macro avg  weighted avg\n",
      "precision     0.830011     0.655405  0.795556     0.742708      0.783605\n",
      "recall        0.907385     0.486622  0.795556     0.697004      0.795556\n",
      "f1-score      0.866975     0.558541  0.795556     0.712758      0.785000\n",
      "support    3304.000000  1196.000000  0.795556  4500.000000   4500.000000\n",
      "\n",
      "Tree with max depth of 6\n",
      "                 False         True  accuracy    macro avg  weighted avg\n",
      "precision     0.846286     0.651530  0.802444     0.748908      0.794524\n",
      "recall        0.893160     0.551839  0.802444     0.722500      0.802444\n",
      "f1-score      0.869091     0.597555  0.802444     0.733323      0.796923\n",
      "support    3304.000000  1196.000000  0.802444  4500.000000   4500.000000\n",
      "\n",
      "Tree with max depth of 7\n",
      "                 False         True  accuracy    macro avg  weighted avg\n",
      "precision     0.861877     0.665138  0.814222     0.763507      0.809588\n",
      "recall        0.889528     0.606187  0.814222     0.747858      0.814222\n",
      "f1-score      0.875484     0.634296  0.814222     0.754890      0.811382\n",
      "support    3304.000000  1196.000000  0.814222  4500.000000   4500.000000\n",
      "\n",
      "Tree with max depth of 8\n",
      "                 False         True  accuracy    macro avg  weighted avg\n",
      "precision     0.847987     0.755006  0.830444     0.801496      0.823275\n",
      "recall        0.937046     0.535953  0.830444     0.736500      0.830444\n",
      "f1-score      0.890295     0.626895  0.830444     0.758595      0.820289\n",
      "support    3304.000000  1196.000000  0.830444  4500.000000   4500.000000\n",
      "\n",
      "Tree with max depth of 9\n",
      "                 False         True  accuracy    macro avg  weighted avg\n",
      "precision     0.902617     0.721582  0.853778     0.812099      0.854502\n",
      "recall        0.897700     0.732441  0.853778     0.815071      0.853778\n",
      "f1-score      0.900152     0.726971  0.853778     0.813561      0.854124\n",
      "support    3304.000000  1196.000000  0.853778  4500.000000   4500.000000\n",
      "\n",
      "Tree with max depth of 10\n",
      "                 False         True  accuracy    macro avg  weighted avg\n",
      "precision     0.910341     0.776430     0.876     0.843385      0.874750\n",
      "recall        0.921913     0.749164     0.876     0.835538      0.876000\n",
      "f1-score      0.916090     0.762553     0.876     0.839322      0.875283\n",
      "support    3304.000000  1196.000000     0.876  4500.000000   4500.000000\n",
      "\n",
      "Tree with max depth of 11\n",
      "                 False         True  accuracy    macro avg  weighted avg\n",
      "precision     0.921418     0.834081  0.899778     0.877749      0.898206\n",
      "recall        0.944007     0.777592  0.899778     0.860800      0.899778\n",
      "f1-score      0.932576     0.804846  0.899778     0.868711      0.898628\n",
      "support    3304.000000  1196.000000  0.899778  4500.000000   4500.000000\n",
      "\n",
      "Tree with max depth of 12\n",
      "                 False         True  accuracy    macro avg  weighted avg\n",
      "precision     0.939627     0.884924     0.926     0.912276      0.925088\n",
      "recall        0.960956     0.829431     0.926     0.895194      0.926000\n",
      "f1-score      0.950172     0.856280     0.926     0.903226      0.925218\n",
      "support    3304.000000  1196.000000     0.926  4500.000000   4500.000000\n",
      "\n",
      "Tree with max depth of 13\n",
      "                 False         True  accuracy    macro avg  weighted avg\n",
      "precision     0.960012     0.905451  0.945778     0.932732      0.945511\n",
      "recall        0.966404     0.888796  0.945778     0.927600      0.945778\n",
      "f1-score      0.963198     0.897046  0.945778     0.930122      0.945616\n",
      "support    3304.000000  1196.000000  0.945778  4500.000000   4500.000000\n",
      "\n",
      "Tree with max depth of 14\n",
      "                 False         True  accuracy    macro avg  weighted avg\n",
      "precision     0.972022     0.937925  0.963111     0.954973      0.962960\n",
      "recall        0.977906     0.922241  0.963111     0.950073      0.963111\n",
      "f1-score      0.974955     0.930017  0.963111     0.952486      0.963011\n",
      "support    3304.000000  1196.000000  0.963111  4500.000000   4500.000000\n",
      "\n",
      "Tree with max depth of 15\n",
      "                 False         True  accuracy    macro avg  weighted avg\n",
      "precision     0.974627     0.966087  0.972444     0.970357      0.972357\n",
      "recall        0.988196     0.928930  0.972444     0.958563      0.972444\n",
      "f1-score      0.981365     0.947144  0.972444     0.964254      0.972270\n",
      "support    3304.000000  1196.000000  0.972444  4500.000000   4500.000000\n",
      "\n",
      "Tree with max depth of 16\n",
      "                 False         True  accuracy    macro avg  weighted avg\n",
      "precision     0.985245     0.972858     0.982     0.979052      0.981953\n",
      "recall        0.990315     0.959030     0.982     0.974672      0.982000\n",
      "f1-score      0.987774     0.965895     0.982     0.976834      0.981959\n",
      "support    3304.000000  1196.000000     0.982  4500.000000   4500.000000\n",
      "\n",
      "Tree with max depth of 17\n",
      "                 False         True  accuracy    macro avg  weighted avg\n",
      "precision     0.989179     0.988917  0.989111     0.989048      0.989110\n",
      "recall        0.996065     0.969900  0.989111     0.982983      0.989111\n",
      "f1-score      0.992610     0.979316  0.989111     0.985963      0.989077\n",
      "support    3304.000000  1196.000000  0.989111  4500.000000   4500.000000\n",
      "\n",
      "Tree with max depth of 18\n",
      "                 False         True  accuracy    macro avg  weighted avg\n",
      "precision     0.993074     0.994911  0.993556     0.993993      0.993562\n",
      "recall        0.998184     0.980769  0.993556     0.989477      0.993556\n",
      "f1-score      0.995623     0.987789  0.993556     0.991706      0.993541\n",
      "support    3304.000000  1196.000000  0.993556  4500.000000   4500.000000\n",
      "\n",
      "Tree with max depth of 19\n",
      "                 False         True  accuracy    macro avg  weighted avg\n",
      "precision     0.993079     0.996602     0.994     0.994840      0.994015\n",
      "recall        0.998789     0.980769     0.994     0.989779      0.994000\n",
      "f1-score      0.995926     0.988622     0.994     0.992274      0.993985\n",
      "support    3304.000000  1196.000000     0.994  4500.000000   4500.000000\n",
      "\n",
      "Tree with max depth of 20\n",
      "                 False         True  accuracy    macro avg  weighted avg\n",
      "precision     0.995474     0.995784  0.995556     0.995629      0.995556\n",
      "recall        0.998487     0.987458  0.995556     0.992972      0.995556\n",
      "f1-score      0.996978     0.991604  0.995556     0.994291      0.995550\n",
      "support    3304.000000  1196.000000  0.995556  4500.000000   4500.000000\n",
      "\n"
     ]
    }
   ],
   "source": [
    "# I'll create a \"for\" loop so that multiple models can be tested out:\n",
    "for i in range(2, 21):\n",
    "    # Make the model\n",
    "    clf = DecisionTreeClassifier(max_depth=i, random_state=123)\n",
    "    # Fit the model (on train and only train)\n",
    "    clf = clf.fit(X_train, y_train)\n",
    "\n",
    "    # Use the model\n",
    "    # We'll evaluate the model's performance on train, first\n",
    "    y_predictions = clf.predict(X_train)\n",
    "\n",
    "    # Produce the classification report on the actual y values and this model's predicted y values\n",
    "    report = classification_report(y_train, y_predictions, output_dict=True)\n",
    "    print(f\"Tree with max depth of {i}\")\n",
    "    print(pd.DataFrame(report))\n",
    "    print()"
   ]
  },
  {
   "cell_type": "markdown",
   "id": "725b24e3",
   "metadata": {},
   "source": [
    "### Validate the model:\n",
    "- comparing in-sample to out-of-sample"
   ]
  },
  {
   "cell_type": "code",
   "execution_count": 72,
   "id": "49543629",
   "metadata": {},
   "outputs": [
    {
     "ename": "TypeError",
     "evalue": "Labels in y_true and y_pred should be of the same type. Got y_true=['No' 'Yes'] and y_pred=[False  True]. Make sure that the predictions provided by the classifier coincides with the true labels.",
     "output_type": "error",
     "traceback": [
      "\u001b[0;31m---------------------------------------------------------------------------\u001b[0m",
      "\u001b[0;31mTypeError\u001b[0m                                 Traceback (most recent call last)",
      "\u001b[0;32m/usr/local/anaconda3/lib/python3.9/site-packages/sklearn/metrics/_classification.py\u001b[0m in \u001b[0;36m_check_targets\u001b[0;34m(y_true, y_pred)\u001b[0m\n\u001b[1;32m    106\u001b[0m             \u001b[0;32mtry\u001b[0m\u001b[0;34m:\u001b[0m\u001b[0;34m\u001b[0m\u001b[0;34m\u001b[0m\u001b[0m\n\u001b[0;32m--> 107\u001b[0;31m                 \u001b[0munique_values\u001b[0m \u001b[0;34m=\u001b[0m \u001b[0mnp\u001b[0m\u001b[0;34m.\u001b[0m\u001b[0munion1d\u001b[0m\u001b[0;34m(\u001b[0m\u001b[0my_true\u001b[0m\u001b[0;34m,\u001b[0m \u001b[0my_pred\u001b[0m\u001b[0;34m)\u001b[0m\u001b[0;34m\u001b[0m\u001b[0;34m\u001b[0m\u001b[0m\n\u001b[0m\u001b[1;32m    108\u001b[0m             \u001b[0;32mexcept\u001b[0m \u001b[0mTypeError\u001b[0m \u001b[0;32mas\u001b[0m \u001b[0me\u001b[0m\u001b[0;34m:\u001b[0m\u001b[0;34m\u001b[0m\u001b[0;34m\u001b[0m\u001b[0m\n",
      "\u001b[0;32m<__array_function__ internals>\u001b[0m in \u001b[0;36munion1d\u001b[0;34m(*args, **kwargs)\u001b[0m\n",
      "\u001b[0;32m/usr/local/anaconda3/lib/python3.9/site-packages/numpy/lib/arraysetops.py\u001b[0m in \u001b[0;36munion1d\u001b[0;34m(ar1, ar2)\u001b[0m\n\u001b[1;32m    751\u001b[0m     \"\"\"\n\u001b[0;32m--> 752\u001b[0;31m     \u001b[0;32mreturn\u001b[0m \u001b[0munique\u001b[0m\u001b[0;34m(\u001b[0m\u001b[0mnp\u001b[0m\u001b[0;34m.\u001b[0m\u001b[0mconcatenate\u001b[0m\u001b[0;34m(\u001b[0m\u001b[0;34m(\u001b[0m\u001b[0mar1\u001b[0m\u001b[0;34m,\u001b[0m \u001b[0mar2\u001b[0m\u001b[0;34m)\u001b[0m\u001b[0;34m,\u001b[0m \u001b[0maxis\u001b[0m\u001b[0;34m=\u001b[0m\u001b[0;32mNone\u001b[0m\u001b[0;34m)\u001b[0m\u001b[0;34m)\u001b[0m\u001b[0;34m\u001b[0m\u001b[0;34m\u001b[0m\u001b[0m\n\u001b[0m\u001b[1;32m    753\u001b[0m \u001b[0;34m\u001b[0m\u001b[0m\n",
      "\u001b[0;32m<__array_function__ internals>\u001b[0m in \u001b[0;36munique\u001b[0;34m(*args, **kwargs)\u001b[0m\n",
      "\u001b[0;32m/usr/local/anaconda3/lib/python3.9/site-packages/numpy/lib/arraysetops.py\u001b[0m in \u001b[0;36munique\u001b[0;34m(ar, return_index, return_inverse, return_counts, axis)\u001b[0m\n\u001b[1;32m    261\u001b[0m     \u001b[0;32mif\u001b[0m \u001b[0maxis\u001b[0m \u001b[0;32mis\u001b[0m \u001b[0;32mNone\u001b[0m\u001b[0;34m:\u001b[0m\u001b[0;34m\u001b[0m\u001b[0;34m\u001b[0m\u001b[0m\n\u001b[0;32m--> 262\u001b[0;31m         \u001b[0mret\u001b[0m \u001b[0;34m=\u001b[0m \u001b[0m_unique1d\u001b[0m\u001b[0;34m(\u001b[0m\u001b[0mar\u001b[0m\u001b[0;34m,\u001b[0m \u001b[0mreturn_index\u001b[0m\u001b[0;34m,\u001b[0m \u001b[0mreturn_inverse\u001b[0m\u001b[0;34m,\u001b[0m \u001b[0mreturn_counts\u001b[0m\u001b[0;34m)\u001b[0m\u001b[0;34m\u001b[0m\u001b[0;34m\u001b[0m\u001b[0m\n\u001b[0m\u001b[1;32m    263\u001b[0m         \u001b[0;32mreturn\u001b[0m \u001b[0m_unpack_tuple\u001b[0m\u001b[0;34m(\u001b[0m\u001b[0mret\u001b[0m\u001b[0;34m)\u001b[0m\u001b[0;34m\u001b[0m\u001b[0;34m\u001b[0m\u001b[0m\n",
      "\u001b[0;32m/usr/local/anaconda3/lib/python3.9/site-packages/numpy/lib/arraysetops.py\u001b[0m in \u001b[0;36m_unique1d\u001b[0;34m(ar, return_index, return_inverse, return_counts)\u001b[0m\n\u001b[1;32m    322\u001b[0m     \u001b[0;32melse\u001b[0m\u001b[0;34m:\u001b[0m\u001b[0;34m\u001b[0m\u001b[0;34m\u001b[0m\u001b[0m\n\u001b[0;32m--> 323\u001b[0;31m         \u001b[0mar\u001b[0m\u001b[0;34m.\u001b[0m\u001b[0msort\u001b[0m\u001b[0;34m(\u001b[0m\u001b[0;34m)\u001b[0m\u001b[0;34m\u001b[0m\u001b[0;34m\u001b[0m\u001b[0m\n\u001b[0m\u001b[1;32m    324\u001b[0m         \u001b[0maux\u001b[0m \u001b[0;34m=\u001b[0m \u001b[0mar\u001b[0m\u001b[0;34m\u001b[0m\u001b[0;34m\u001b[0m\u001b[0m\n",
      "\u001b[0;31mTypeError\u001b[0m: '<' not supported between instances of 'bool' and 'str'",
      "\nThe above exception was the direct cause of the following exception:\n",
      "\u001b[0;31mTypeError\u001b[0m                                 Traceback (most recent call last)",
      "\u001b[0;32m/var/folders/d3/11nygz6126ndxvtrp12687680000gn/T/ipykernel_22532/1686519656.py\u001b[0m in \u001b[0;36m<module>\u001b[0;34m\u001b[0m\n\u001b[1;32m     12\u001b[0m     \u001b[0min_sample_accuracy\u001b[0m \u001b[0;34m=\u001b[0m \u001b[0mclf\u001b[0m\u001b[0;34m.\u001b[0m\u001b[0mscore\u001b[0m\u001b[0;34m(\u001b[0m\u001b[0mX_train\u001b[0m\u001b[0;34m,\u001b[0m \u001b[0my_train\u001b[0m\u001b[0;34m)\u001b[0m\u001b[0;34m\u001b[0m\u001b[0;34m\u001b[0m\u001b[0m\n\u001b[1;32m     13\u001b[0m \u001b[0;34m\u001b[0m\u001b[0m\n\u001b[0;32m---> 14\u001b[0;31m     \u001b[0mout_of_sample_accuracy\u001b[0m \u001b[0;34m=\u001b[0m \u001b[0mclf\u001b[0m\u001b[0;34m.\u001b[0m\u001b[0mscore\u001b[0m\u001b[0;34m(\u001b[0m\u001b[0mX_validate\u001b[0m\u001b[0;34m,\u001b[0m \u001b[0my_validate\u001b[0m\u001b[0;34m)\u001b[0m\u001b[0;34m\u001b[0m\u001b[0;34m\u001b[0m\u001b[0m\n\u001b[0m\u001b[1;32m     15\u001b[0m \u001b[0;34m\u001b[0m\u001b[0m\n\u001b[1;32m     16\u001b[0m     output = {\n",
      "\u001b[0;32m/usr/local/anaconda3/lib/python3.9/site-packages/sklearn/base.py\u001b[0m in \u001b[0;36mscore\u001b[0;34m(self, X, y, sample_weight)\u001b[0m\n\u001b[1;32m    498\u001b[0m         \"\"\"\n\u001b[1;32m    499\u001b[0m         \u001b[0;32mfrom\u001b[0m \u001b[0;34m.\u001b[0m\u001b[0mmetrics\u001b[0m \u001b[0;32mimport\u001b[0m \u001b[0maccuracy_score\u001b[0m\u001b[0;34m\u001b[0m\u001b[0;34m\u001b[0m\u001b[0m\n\u001b[0;32m--> 500\u001b[0;31m         \u001b[0;32mreturn\u001b[0m \u001b[0maccuracy_score\u001b[0m\u001b[0;34m(\u001b[0m\u001b[0my\u001b[0m\u001b[0;34m,\u001b[0m \u001b[0mself\u001b[0m\u001b[0;34m.\u001b[0m\u001b[0mpredict\u001b[0m\u001b[0;34m(\u001b[0m\u001b[0mX\u001b[0m\u001b[0;34m)\u001b[0m\u001b[0;34m,\u001b[0m \u001b[0msample_weight\u001b[0m\u001b[0;34m=\u001b[0m\u001b[0msample_weight\u001b[0m\u001b[0;34m)\u001b[0m\u001b[0;34m\u001b[0m\u001b[0;34m\u001b[0m\u001b[0m\n\u001b[0m\u001b[1;32m    501\u001b[0m \u001b[0;34m\u001b[0m\u001b[0m\n\u001b[1;32m    502\u001b[0m     \u001b[0;32mdef\u001b[0m \u001b[0m_more_tags\u001b[0m\u001b[0;34m(\u001b[0m\u001b[0mself\u001b[0m\u001b[0;34m)\u001b[0m\u001b[0;34m:\u001b[0m\u001b[0;34m\u001b[0m\u001b[0;34m\u001b[0m\u001b[0m\n",
      "\u001b[0;32m/usr/local/anaconda3/lib/python3.9/site-packages/sklearn/utils/validation.py\u001b[0m in \u001b[0;36minner_f\u001b[0;34m(*args, **kwargs)\u001b[0m\n\u001b[1;32m     61\u001b[0m             \u001b[0mextra_args\u001b[0m \u001b[0;34m=\u001b[0m \u001b[0mlen\u001b[0m\u001b[0;34m(\u001b[0m\u001b[0margs\u001b[0m\u001b[0;34m)\u001b[0m \u001b[0;34m-\u001b[0m \u001b[0mlen\u001b[0m\u001b[0;34m(\u001b[0m\u001b[0mall_args\u001b[0m\u001b[0;34m)\u001b[0m\u001b[0;34m\u001b[0m\u001b[0;34m\u001b[0m\u001b[0m\n\u001b[1;32m     62\u001b[0m             \u001b[0;32mif\u001b[0m \u001b[0mextra_args\u001b[0m \u001b[0;34m<=\u001b[0m \u001b[0;36m0\u001b[0m\u001b[0;34m:\u001b[0m\u001b[0;34m\u001b[0m\u001b[0;34m\u001b[0m\u001b[0m\n\u001b[0;32m---> 63\u001b[0;31m                 \u001b[0;32mreturn\u001b[0m \u001b[0mf\u001b[0m\u001b[0;34m(\u001b[0m\u001b[0;34m*\u001b[0m\u001b[0margs\u001b[0m\u001b[0;34m,\u001b[0m \u001b[0;34m**\u001b[0m\u001b[0mkwargs\u001b[0m\u001b[0;34m)\u001b[0m\u001b[0;34m\u001b[0m\u001b[0;34m\u001b[0m\u001b[0m\n\u001b[0m\u001b[1;32m     64\u001b[0m \u001b[0;34m\u001b[0m\u001b[0m\n\u001b[1;32m     65\u001b[0m             \u001b[0;31m# extra_args > 0\u001b[0m\u001b[0;34m\u001b[0m\u001b[0;34m\u001b[0m\u001b[0m\n",
      "\u001b[0;32m/usr/local/anaconda3/lib/python3.9/site-packages/sklearn/metrics/_classification.py\u001b[0m in \u001b[0;36maccuracy_score\u001b[0;34m(y_true, y_pred, normalize, sample_weight)\u001b[0m\n\u001b[1;32m    200\u001b[0m \u001b[0;34m\u001b[0m\u001b[0m\n\u001b[1;32m    201\u001b[0m     \u001b[0;31m# Compute accuracy for each possible representation\u001b[0m\u001b[0;34m\u001b[0m\u001b[0;34m\u001b[0m\u001b[0m\n\u001b[0;32m--> 202\u001b[0;31m     \u001b[0my_type\u001b[0m\u001b[0;34m,\u001b[0m \u001b[0my_true\u001b[0m\u001b[0;34m,\u001b[0m \u001b[0my_pred\u001b[0m \u001b[0;34m=\u001b[0m \u001b[0m_check_targets\u001b[0m\u001b[0;34m(\u001b[0m\u001b[0my_true\u001b[0m\u001b[0;34m,\u001b[0m \u001b[0my_pred\u001b[0m\u001b[0;34m)\u001b[0m\u001b[0;34m\u001b[0m\u001b[0;34m\u001b[0m\u001b[0m\n\u001b[0m\u001b[1;32m    203\u001b[0m     \u001b[0mcheck_consistent_length\u001b[0m\u001b[0;34m(\u001b[0m\u001b[0my_true\u001b[0m\u001b[0;34m,\u001b[0m \u001b[0my_pred\u001b[0m\u001b[0;34m,\u001b[0m \u001b[0msample_weight\u001b[0m\u001b[0;34m)\u001b[0m\u001b[0;34m\u001b[0m\u001b[0;34m\u001b[0m\u001b[0m\n\u001b[1;32m    204\u001b[0m     \u001b[0;32mif\u001b[0m \u001b[0my_type\u001b[0m\u001b[0;34m.\u001b[0m\u001b[0mstartswith\u001b[0m\u001b[0;34m(\u001b[0m\u001b[0;34m'multilabel'\u001b[0m\u001b[0;34m)\u001b[0m\u001b[0;34m:\u001b[0m\u001b[0;34m\u001b[0m\u001b[0;34m\u001b[0m\u001b[0m\n",
      "\u001b[0;32m/usr/local/anaconda3/lib/python3.9/site-packages/sklearn/metrics/_classification.py\u001b[0m in \u001b[0;36m_check_targets\u001b[0;34m(y_true, y_pred)\u001b[0m\n\u001b[1;32m    111\u001b[0m                 \u001b[0;31m# `y_pred` given by the classifier will also be encoded with\u001b[0m\u001b[0;34m\u001b[0m\u001b[0;34m\u001b[0m\u001b[0m\n\u001b[1;32m    112\u001b[0m                 \u001b[0;31m# strings. So we raise a meaningful error\u001b[0m\u001b[0;34m\u001b[0m\u001b[0;34m\u001b[0m\u001b[0m\n\u001b[0;32m--> 113\u001b[0;31m                 raise TypeError(\n\u001b[0m\u001b[1;32m    114\u001b[0m                     \u001b[0;34mf\"Labels in y_true and y_pred should be of the same type. \"\u001b[0m\u001b[0;34m\u001b[0m\u001b[0;34m\u001b[0m\u001b[0m\n\u001b[1;32m    115\u001b[0m                     \u001b[0;34mf\"Got y_true={np.unique(y_true)} and \"\u001b[0m\u001b[0;34m\u001b[0m\u001b[0;34m\u001b[0m\u001b[0m\n",
      "\u001b[0;31mTypeError\u001b[0m: Labels in y_true and y_pred should be of the same type. Got y_true=['No' 'Yes'] and y_pred=[False  True]. Make sure that the predictions provided by the classifier coincides with the true labels."
     ]
    }
   ],
   "source": [
    "metrics = []\n",
    "\n",
    "for i in range(2, 25):\n",
    "    # Make the model\n",
    "    clf = DecisionTreeClassifier(max_depth=i, random_state=123)\n",
    "\n",
    "    # Fit the model (on train and only train)\n",
    "    clf = clf.fit(X_train, y_train)\n",
    "\n",
    "    # Use the model\n",
    "    # We'll evaluate the model's performance on train, first\n",
    "    in_sample_accuracy = clf.score(X_train, y_train)\n",
    "    \n",
    "    out_of_sample_accuracy = clf.score(X_validate, y_validate)\n",
    "\n",
    "    output = {\n",
    "        \"max_depth\": i,\n",
    "        \"train_accuracy\": in_sample_accuracy,\n",
    "        \"validate_accuracy\": out_of_sample_accuracy\n",
    "    }\n",
    "    \n",
    "    metrics.append(output)\n"
   ]
  },
  {
   "cell_type": "code",
   "execution_count": null,
   "id": "7a5f0b25",
   "metadata": {},
   "outputs": [],
   "source": [
    "val_df = pd.DataFrame(metrics)\n",
    "val_df[\"difference\"] = val_df.train_accuracy - val_df.validate_accuracy\n",
    "val_df"
   ]
  },
  {
   "cell_type": "markdown",
   "id": "00f8bc13",
   "metadata": {},
   "source": [
    "### TAKE AWAYS:\n",
    "- The model with the highest accuracy is the DT with a max depth of 20...the higher it goes, the more accurate it shows, however this kind of test is more prone to over-fitting the data in the model. \n",
    "- I would choose a model with a mid range accuracy (around 80+ accuracy and >0.07 for difference)\n",
    "- <b>My choice here would be going with model 7 and it fits within the boundaries I listed and there is not a significant increase of difference there.</b>"
   ]
  },
  {
   "cell_type": "markdown",
   "id": "823a185d",
   "metadata": {},
   "source": [
    "## Random Forest Model:"
   ]
  },
  {
   "cell_type": "code",
   "execution_count": null,
   "id": "5c1b3945",
   "metadata": {},
   "outputs": [],
   "source": [
    "from sklearn.ensemble import RandomForestClassifier\n",
    "forest1 = RandomForestClassifier(max_depth=1, random_state=123)\n",
    "\n",
    "# Fit the model\n",
    "forest1.fit(X_train, y_train)\n",
    "\n",
    "#Using the model\n",
    "y_predictions = forest1.predict(X_train)\n",
    "\n",
    "# Adding int the classification report on the actual y values and this model's predicted y values\n",
    "report = classification_report(y_train, y_predictions, output_dict=True)\n",
    "print(\"Forest of 1 depth\")\n",
    "pd.DataFrame(report)"
   ]
  },
  {
   "cell_type": "code",
   "execution_count": null,
   "id": "1d7d22c5",
   "metadata": {},
   "outputs": [],
   "source": [
    "# Evaluating our model using a confusion matrix\n",
    "pd.DataFrame(confusion_matrix(y_predictions, y_train))"
   ]
  },
  {
   "cell_type": "code",
   "execution_count": null,
   "id": "5f12fc7c",
   "metadata": {},
   "outputs": [],
   "source": [
    "#Using the confusion matrix and predictions to show the TN, TP, FP, FN are:\n",
    "#this is showing that a True Positive case would be if none were Not Churn, True Negative = all churned\n",
    "TN, FP, FN, TP = confusion_matrix(y_train,y_predictions).ravel()\n",
    "ALL = TP + TN + FP + FN\n",
    "\n",
    "TP, TN, FP, FN"
   ]
  },
  {
   "cell_type": "code",
   "execution_count": null,
   "id": "5d587709",
   "metadata": {},
   "outputs": [],
   "source": [
    "accuracy = (TP + TN)/ALL\n",
    "print(f\"Accuracy: {accuracy}\")\n",
    "\n",
    "true_positive_rate = TP/(TP+FN)\n",
    "print(f\"True Positive Rate: {true_positive_rate}\")\n",
    "\n",
    "false_positive_rate = FP/(FP+TN)\n",
    "print(f\"False Positive Rate: {false_positive_rate}\")\n",
    "\n",
    "true_negative_rate = TN/(TN+FP)\n",
    "print(f\"True Negative Rate: {true_negative_rate}\")\n",
    "\n",
    "false_negative_rate = FN/(FN+TP)\n",
    "print(f\"False Negative Rate: {false_negative_rate}\")\n",
    "\n",
    "precision = TP/(TP+FP)\n",
    "print(f\"Precision: {precision}\")\n",
    "\n",
    "recall = TP/(TP+FN)\n",
    "print(f\"Recall: {recall}\")\n",
    "\n",
    "f1_score = 2*(precision*recall)/(precision+recall)\n",
    "print(f\"F1 Score: {f1_score}\")\n",
    "\n",
    "support_pos = TP + FN\n",
    "print(f\"Support (0): {support_pos}\")\n",
    "\n",
    "support_neg = FP + TN\n",
    "print(f\"Support (1): {support_neg}\")"
   ]
  },
  {
   "cell_type": "code",
   "execution_count": null,
   "id": "e0334a60",
   "metadata": {},
   "outputs": [],
   "source": [
    "#creating a \"for\"loop to grab more models quickly:\n",
    "for i in range(2, 11):\n",
    "    # Make the model\n",
    "    forest = RandomForestClassifier(max_depth=i, random_state=123)\n",
    "\n",
    "    # Fit the model (on train and only train)\n",
    "    forest = forest.fit(X_train, y_train)\n",
    "\n",
    "    # Use the model\n",
    "    # We'll evaluate the model's performance on train, first\n",
    "    y_predictions = forest.predict(X_train)\n",
    "\n",
    "    # Produce the classification report on the actual y values and this model's predicted y values\n",
    "    report = classification_report(y_train, y_predictions, output_dict=True)\n",
    "    print(f\"Forest with max depth of {i}\")\n",
    "    print(pd.DataFrame(report))\n",
    "    print()"
   ]
  },
  {
   "cell_type": "markdown",
   "id": "36a972b1",
   "metadata": {},
   "source": [
    "### VALIDATING OUR MODEL WITH OUT OF SAMPLE DATA:"
   ]
  },
  {
   "cell_type": "code",
   "execution_count": null,
   "id": "7b4dbbef",
   "metadata": {},
   "outputs": [],
   "source": [
    "# Let's continue getting loopy, so we can compare in-sample to out-of-sample\n",
    "metrics = []\n",
    "\n",
    "for i in range(2, 25):\n",
    "    # Make the model\n",
    "    forest = RandomForestClassifier(max_depth=i, random_state=123)\n",
    "\n",
    "    # Fit the model (on train and only train)\n",
    "    forest = forest.fit(X_train, y_train)\n",
    "\n",
    "    # Use the model\n",
    "    # We'll evaluate the model's performance on train, first\n",
    "    in_sample_accuracy = forest.score(X_train, y_train)\n",
    "    \n",
    "    out_of_sample_accuracy = forest.score(X_validate, y_validate)\n",
    "\n",
    "    output = {\n",
    "        \"max_depth\": i,\n",
    "        \"train_accuracy\": in_sample_accuracy,\n",
    "        \"validate_accuracy\": out_of_sample_accuracy\n",
    "    }\n",
    "    \n",
    "    metrics.append(output)\n",
    "    \n",
    "forest_df = pd.DataFrame(metrics)\n",
    "forest_df[\"difference\"] = forest_df.train_accuracy - forest_df.validate_accuracy\n",
    "forest_df"
   ]
  },
  {
   "cell_type": "code",
   "execution_count": null,
   "id": "8911a71b",
   "metadata": {},
   "outputs": [],
   "source": [
    "forest_df.set_index('max_depth').plot(figsize = (16,9))\n",
    "plt.ylabel('Accuracy')\n",
    "plt.xticks(np.arange(0,21,1))\n",
    "plt.grid()"
   ]
  },
  {
   "cell_type": "markdown",
   "id": "faad1b02",
   "metadata": {},
   "source": [
    "### TAKE AWAY:\n",
    "- I would choose the RFclassifier with a max depth of 4 as after that number, the difference climbs more than before and the accuracy number is still really good.\n",
    "- As the graph shows above, after max depth of 4 the Random Forest models of validate and training begin to really seperate. "
   ]
  },
  {
   "cell_type": "markdown",
   "id": "06f9876d",
   "metadata": {},
   "source": [
    "### Increasing min_samples_per_leaf, decreasing max_depth (why???)"
   ]
  },
  {
   "cell_type": "code",
   "execution_count": null,
   "id": "99e8ee91",
   "metadata": {},
   "outputs": [],
   "source": [
    "# Comparing the in sample data with the out sample data\n",
    "metrics = []\n",
    "max_depth = 20\n",
    "\n",
    "for i in range(2, max_depth):\n",
    "    # Make the model\n",
    "    depth = max_depth - i\n",
    "    n_samples = i\n",
    "    forest = RandomForestClassifier(max_depth=depth, min_samples_leaf=n_samples, random_state=123)\n",
    "\n",
    "    # Fit the model (on train and only train)\n",
    "    forest = forest.fit(X_train, y_train)\n",
    "\n",
    "    # Use the model\n",
    "    # We'll evaluate the model's performance on train, first\n",
    "    in_sample_accuracy = forest.score(X_train, y_train)\n",
    "    \n",
    "    out_of_sample_accuracy = forest.score(X_validate, y_validate)\n",
    "\n",
    "    output = {\n",
    "        \"min_samples_per_leaf\": n_samples,\n",
    "        \"max_depth\": depth,\n",
    "        \"train_accuracy\": in_sample_accuracy,\n",
    "        \"validate_accuracy\": out_of_sample_accuracy\n",
    "    }\n",
    "    \n",
    "    metrics.append(output)\n",
    "    \n",
    "forest1_df = pd.DataFrame(metrics)\n",
    "forest1_df[\"difference\"] = forest1_df.train_accuracy - forest1_df.validate_accuracy\n",
    "forest1_df"
   ]
  },
  {
   "cell_type": "code",
   "execution_count": null,
   "id": "fdb2e29f",
   "metadata": {},
   "outputs": [],
   "source": [
    "forest1_df.set_index('max_depth')[['train_accuracy', 'validate_accuracy','difference']].plot(figsize = (16,9))\n",
    "plt.ylabel('Accuracy')\n",
    "plt.xticks(np.arange(0,21,1))\n",
    "plt.grid()"
   ]
  },
  {
   "cell_type": "code",
   "execution_count": null,
   "id": "0dac0840",
   "metadata": {},
   "outputs": [],
   "source": [
    "#Comparison of the first model used and second model used. \n",
    "first_plot = sns.scatterplot(x=\"difference\", y=\"validate_accuracy\", data=forest_df)\n",
    "second_plot = sns.scatterplot(x=\"difference\", y=\"validate_accuracy\", data=forest1_df)\n",
    "plt.legend('12')"
   ]
  },
  {
   "cell_type": "markdown",
   "id": "67d12c90",
   "metadata": {},
   "source": [
    "### TAKEAWAY: \n",
    "- By changing the min samples per leaf w/ max depth, <b>using a max depth of 5 where the separation of validation and training are still close and prior to pulling apart</b> there is still less % of accuracy than the first RF model with a max depth of 4."
   ]
  },
  {
   "cell_type": "markdown",
   "id": "37918415",
   "metadata": {},
   "source": [
    "# Building some charts:\n",
    "\n",
    "- Can we take a look at churn with chosen demographics side-by-side? "
   ]
  },
  {
   "cell_type": "code",
   "execution_count": null,
   "id": "5970c503",
   "metadata": {},
   "outputs": [],
   "source": [
    "train.head()"
   ]
  },
  {
   "cell_type": "code",
   "execution_count": null,
   "id": "1d76f78e",
   "metadata": {},
   "outputs": [],
   "source": [
    "sns.relplot(x=\"partner\", y='churn', hue=\"churn\", col=\"senior_citizen\", data=train )"
   ]
  },
  {
   "cell_type": "code",
   "execution_count": null,
   "id": "ae0d8188",
   "metadata": {},
   "outputs": [],
   "source": [
    "# Binary encode the target variable\n",
    "train.churn = train.churn == \"Yes\""
   ]
  },
  {
   "cell_type": "code",
   "execution_count": null,
   "id": "0905a43b",
   "metadata": {},
   "outputs": [],
   "source": [
    "# Set the binary target variable to the y\n",
    "# Set our first categorical variable to x\n",
    "# Set a second categorical variable to col\n",
    "# Set a third categorical variable to hue\n",
    "sns.catplot(x=\"partner_dependants\", y=\"churn\",  hue=\"is_senior_citizen\", col=\"partner_dependants\",data=train, kind=\"bar\")"
   ]
  },
  {
   "cell_type": "markdown",
   "id": "cb52b42b",
   "metadata": {},
   "source": [
    "### TAKE AWAYS:\n",
    "- This chart looks great, however because I used the excel file, I would need to go back and reset the columns so that the partner_dependants does not look encoded (and would show the string names)."
   ]
  }
 ],
 "metadata": {
  "kernelspec": {
   "display_name": "Python 3 (ipykernel)",
   "language": "python",
   "name": "python3"
  },
  "language_info": {
   "codemirror_mode": {
    "name": "ipython",
    "version": 3
   },
   "file_extension": ".py",
   "mimetype": "text/x-python",
   "name": "python",
   "nbconvert_exporter": "python",
   "pygments_lexer": "ipython3",
   "version": "3.9.7"
  }
 },
 "nbformat": 4,
 "nbformat_minor": 5
}
