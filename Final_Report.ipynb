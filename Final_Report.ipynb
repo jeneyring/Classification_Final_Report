{
 "cells": [
  {
   "cell_type": "markdown",
   "id": "9c369a18",
   "metadata": {},
   "source": [
    "# The WHO and WHY of Telco Churn \n",
    "### Exploring & Evaluating Telco data to create a classification model that predicts customer churn\n",
    "by Jennifer Eyring\n",
    "Jemison Cohort"
   ]
  },
  {
   "cell_type": "markdown",
   "id": "3acaa60a",
   "metadata": {},
   "source": [
    "## <u> Executive Summary: </u>\n",
    "#### - Key demographic groups that churn: Senior citizens and Single Telco customers\n",
    "#### - Main churn features that relate to these demographics:\n",
    "        - Fiber Optic Internet Service\n",
    "        - Non-automated Payment forms (more exploration will be needed here)"
   ]
  },
  {
   "cell_type": "markdown",
   "id": "cf8b82eb",
   "metadata": {},
   "source": [
    "## <u> Data Dictionary</u>\n",
    "\n",
    "- The Telco dataset was collect from CodeUp's MySQL database. <a href=\"https://www.kaggle.com/datasets/blastchar/telco-customer-churn\">You can read more about the Telco data set here.</a>\n",
    "\n",
    "\n",
    "|Target|Datatype|Definition|\n",
    "|:-------|:--------|:----------|\n",
    "| churn | 7043 non-null: object | Telco's recent customer churn list |\n",
    "\n",
    "|Feature|Datatype|Definition|\n",
    "|:-------|:--------|:----------|\n",
    "| gender           |  7043 non-null: object | gender of Telco customers|\n",
    "| senior_citizen   |  7043 non-null: int64  | 60+ aged Telco customers|\n",
    "| partner          |  7043 non-null: object | Telco customers with/without partner|\n",
    "| dependents       |  7043 non-null: object | Customers with/without dependents|\n",
    "| contract_type    |  7043 non-null: object | Contract types for customers|\n",
    "| internet_service_type |  7043 non-null: object | None; DSL; Fiber Optic types|\n",
    "| payment_types    |  7043 non-null: object | payment forms for Customers|\n"
   ]
  },
  {
   "cell_type": "markdown",
   "id": "fbe72db4",
   "metadata": {},
   "source": [
    "# <u> Project Question: </u>\n",
    "### <i> Is there a specific demographic group that is associated with more churn than expected?"
   ]
  },
  {
   "cell_type": "markdown",
   "id": "70585fbb",
   "metadata": {},
   "source": [
    "## <u> Goal:</u>\n",
    "### Find the main demographic drivers and their subgroups for Telco churn.\n",
    "*I decided to look into demographics first, as I did not get to explore these variables in our last presentation project."
   ]
  },
  {
   "cell_type": "code",
   "execution_count": 3,
   "id": "8eb9c34e",
   "metadata": {},
   "outputs": [],
   "source": [
    "import warnings\n",
    "warnings.filterwarnings(\"ignore\")\n",
    "\n",
    "#adding those necessities\n",
    "import pandas as pd\n",
    "import numpy as np\n",
    "import matplotlib.pyplot as plt\n",
    "import seaborn as sns\n",
    "from scipy import stats\n",
    "import pydataset as data\n",
    "\n",
    "#sklearn tools:: working those models!\n",
    "from sklearn.model_selection import train_test_split\n",
    "from sklearn.tree import DecisionTreeClassifier, plot_tree\n",
    "from sklearn.metrics import classification_report\n",
    "from sklearn.metrics import confusion_matrix\n",
    "from sklearn.metrics import precision_recall_fscore_support\n",
    "from sklearn.metrics import accuracy_score\n",
    "from sklearn.ensemble import RandomForestClassifier\n",
    "from sklearn.neighbors import KNeighborsClassifier\n",
    "from sklearn.linear_model import LogisticRegression\n",
    "\n",
    "#calling those py files\n",
    "from acquire import get_telco_data\n",
    "from prepare import clean_telco_data, prep_telco_data\n",
    "\n",
    "from env import get_db_url\n",
    "\n",
    "α = .05\n",
    "\n",
    "#calling the dataframe\n",
    "telco_df = get_telco_data()\n",
    "#prepped and split\n",
    "train, validate, test = prep_telco_data(telco_df)\n",
    "\n",
    "#visualization file\n",
    "import viz"
   ]
  },
  {
   "cell_type": "markdown",
   "id": "0408319b",
   "metadata": {},
   "source": [
    "# <u> Telco's Churn Rate: </u>  \n",
    "Telco's churn rate was at 27% this past month."
   ]
  },
  {
   "cell_type": "code",
   "execution_count": 20,
   "id": "048e2e6b",
   "metadata": {},
   "outputs": [
    {
     "data": {
      "text/plain": [
       "<AxesSubplot:xlabel='churn', ylabel='Count'>"
      ]
     },
     "execution_count": 20,
     "metadata": {},
     "output_type": "execute_result"
    },
    {
     "data": {
      "image/png": "[encoded data removed]",
      "text/plain": [
       "<Figure size 432x288 with 1 Axes>"
      ]
     },
     "metadata": {
      "needs_background": "light"
     },
     "output_type": "display_data"
    }
   ],
   "source": [
    "sns.histplot(data=telco_df, x=\"churn\", hue='churn')"
   ]
  },
  {
   "cell_type": "markdown",
   "id": "17497189",
   "metadata": {},
   "source": [
    "# <u> Hypothesis Testing </u>"
   ]
  },
  {
   "cell_type": "markdown",
   "id": "fdc7b555",
   "metadata": {},
   "source": [
    "## QUESTION 1: Are more churned customers single and/or without dependents?\n",
    "\n",
    "### Hypothesis 1:\n",
    "- <i>H0: There is NO relationship between churn and customers without partners\n",
    "- <i>Ha: There IS a relationship between churn and customers without partners"
   ]
  },
  {
   "cell_type": "code",
   "execution_count": 2,
   "id": "6cd306ec",
   "metadata": {},
   "outputs": [
    {
     "name": "stdout",
     "output_type": "stream",
     "text": [
      "The p-value is 2.0115703972096128e-23\n",
      "Sufficient evidence is present to reject the null hypothesis\n"
     ]
    }
   ],
   "source": [
    "# Chi squared with un-encoded categorical columns\n",
    "# Null hypothesis: churn rate has no relation to partnerships of customers\n",
    "# Alternative hypothesis: there is a relationship between churn rate and partnerships of customers\n",
    "alpha = 0.05\n",
    "observed = pd.crosstab(train.churn, train.partner)\n",
    "chi2, p, degf, expected = stats.chi2_contingency(observed)\n",
    "print(f\"The p-value is {p}\")\n",
    "if p < alpha:\n",
    "    print(\"Sufficient evidence is present to reject the null hypothesis\")\n",
    "else:\n",
    "    print(\"Insufficient evidence to reject the null\")\n",
    "    print(\"Evidence seems to support the claim that partnership and churn are independent\")"
   ]
  },
  {
   "cell_type": "markdown",
   "id": "accd7553",
   "metadata": {},
   "source": [
    "#### USING VISUALS..."
   ]
  },
  {
   "cell_type": "code",
   "execution_count": 21,
   "id": "091abb74",
   "metadata": {},
   "outputs": [
    {
     "data": {
      "text/plain": [
       "<seaborn.axisgrid.FacetGrid at 0x7f982d239730>"
      ]
     },
     "execution_count": 21,
     "metadata": {},
     "output_type": "execute_result"
    },
    {
     "data": {
      "image/png": "[encoded data removed]",
      "text/plain": [
       "<Figure size 787.25x360 with 1 Axes>"
      ]
     },
     "metadata": {
      "needs_background": "light"
     },
     "output_type": "display_data"
    }
   ],
   "source": [
    "#Relationship between churn, customers having partners and dependents\n",
    "sns.catplot(x=\"partner\", y =\"churn\",  hue=\"dependents\",data=train, kind=\"bar\", height=5, aspect=2)"
   ]
  },
  {
   "cell_type": "markdown",
   "id": "8ebbdaa9",
   "metadata": {},
   "source": [
    "### <i> OUTCOME: \n",
    "#### - I rejected the Null Hypothesis, in that there is a relationship with single customers and churn."
   ]
  },
  {
   "cell_type": "markdown",
   "id": "694a3448",
   "metadata": {},
   "source": [
    "## __________________________________________________________________________________________"
   ]
  },
  {
   "cell_type": "markdown",
   "id": "1be08f32",
   "metadata": {},
   "source": [
    "## QUESTION 2: Are more Senior Citizens churning than other age groups?\n",
    "\n",
    "Hypothesis 2:\n",
    "\n",
    "* <i>H0: There is NO relationship between churn and Senior customers.\n",
    "* <i>Ha: There IS a relationship between churn and Senior customers."
   ]
  },
  {
   "cell_type": "code",
   "execution_count": 4,
   "id": "3ad3658e",
   "metadata": {},
   "outputs": [
    {
     "name": "stdout",
     "output_type": "stream",
     "text": [
      "The p-value is 1.1002429756735793e-26\n",
      "Sufficient evidence is present to reject the null hypothesis\n"
     ]
    }
   ],
   "source": [
    "# Chi squared with un-encoded categorical columns\n",
    "# Null hypothesis: churn rate has no relation to senior citizen customers\n",
    "# Alternative hypothesis: there is a relationship between churn rate and senior citizens\n",
    "alpha = 0.05\n",
    "observed = pd.crosstab(train.churn, train.senior_citizen)\n",
    "chi2, p, degf, expected = stats.chi2_contingency(observed)\n",
    "print(f\"The p-value is {p}\")\n",
    "if p < alpha:\n",
    "    print(\"Sufficient evidence is present to reject the null hypothesis\")\n",
    "else:\n",
    "    print(\"Insufficient evidence to reject the null\")\n",
    "    print(\"Evidence seems to support the claim that senior_citizens and churn are independent\")"
   ]
  },
  {
   "cell_type": "markdown",
   "id": "ef82fc06",
   "metadata": {},
   "source": [
    "#### USING VISUALS..."
   ]
  },
  {
   "cell_type": "code",
   "execution_count": 5,
   "id": "5d8961f5",
   "metadata": {},
   "outputs": [
    {
     "data": {
      "image/png": "[encoded data removed]",
      "text/plain": [
       "<Figure size 432x288 with 1 Axes>"
      ]
     },
     "metadata": {
      "needs_background": "light"
     },
     "output_type": "display_data"
    }
   ],
   "source": [
    "#let's look at the numbers visually\n",
    "barplot = observed.plot.bar(rot=0)"
   ]
  },
  {
   "cell_type": "markdown",
   "id": "6f5eefa8",
   "metadata": {},
   "source": [
    "### <i> OUTCOME: \n",
    "    I rejected the Null Hypothesis, in that there is a relationship with senior customers and churn.\n",
    "   \n",
    "- From first glance, because of the low amount of Senior Citizen data count, it looks like customers 59 and younger have more churns. By numbers, YES, 59 and younger DO have more churn, but <b><mark>by churn rate compared to each customer age category, Senior Citizens have the highest churn rate.</mark></b>\n",
    "\n",
    "### <mark><b>  Senior Citizens: 41% churned\n",
    "59 and younger customers: 24% churned</b></mark>\n",
    "    \n",
    "    \n",
    "    \n",
    "    \n",
    "    \n",
    "    \n"
   ]
  },
  {
   "cell_type": "markdown",
   "id": "bb2b79d9",
   "metadata": {},
   "source": [
    "# Why the Churn??"
   ]
  },
  {
   "cell_type": "markdown",
   "id": "3bc14588",
   "metadata": {},
   "source": [
    "## INTERNET TYPE ACCOUNTS- Are you getting enough FIBER??\n",
    "\n",
    "### Seeing if internet type relates to the churn rate.\n",
    "\n",
    "* H0: There is NO relationship between internet type of accounts and customers churning.\n",
    "* Ha: There IS a relationship between internet type of and customers churning."
   ]
  },
  {
   "cell_type": "code",
   "execution_count": 6,
   "id": "ec2213c4",
   "metadata": {},
   "outputs": [
    {
     "name": "stdout",
     "output_type": "stream",
     "text": [
      "The p-value is 2.4617612720873587e-96\n",
      "Sufficient evidence is present to reject the null hypothesis\n"
     ]
    }
   ],
   "source": [
    "# Chi squared with un-encoded categorical columns\n",
    "alpha = 0.05\n",
    "observed = pd.crosstab(train.internet_service_type, train.churn)\n",
    "chi2, p, degf, expected = stats.chi2_contingency(observed)\n",
    "print(f\"The p-value is {p}\")\n",
    "if p < alpha:\n",
    "    print(\"Sufficient evidence is present to reject the null hypothesis\")\n",
    "else:\n",
    "    print(\"Insufficient evidence to reject the null\")\n",
    "    print(\"Evidence seems to support the claim that senior customers and internet account types are independent\")"
   ]
  },
  {
   "cell_type": "markdown",
   "id": "4264f00d",
   "metadata": {},
   "source": [
    "### <i> Seniors that churned and their internet services:"
   ]
  },
  {
   "cell_type": "code",
   "execution_count": 22,
   "id": "3da05e1a",
   "metadata": {},
   "outputs": [
    {
     "data": {
      "text/plain": [
       "<seaborn.axisgrid.FacetGrid at 0x7f982d239700>"
      ]
     },
     "execution_count": 22,
     "metadata": {},
     "output_type": "execute_result"
    },
    {
     "data": {
      "image/png": "[encoded data removed]",
      "text/plain": [
       "<Figure size 796.5x360 with 1 Axes>"
      ]
     },
     "metadata": {
      "needs_background": "light"
     },
     "output_type": "display_data"
    }
   ],
   "source": [
    "#Relationship between Senior customers and their internet service type against their churn rate\n",
    "sns.catplot(x=\"internet_service_type\", y =\"churn\",  hue=\"senior_citizen\",data=train, kind=\"bar\",height=5, aspect=2)"
   ]
  },
  {
   "cell_type": "markdown",
   "id": "424de596",
   "metadata": {},
   "source": [
    "### <i> Singles that churned and their internet services:"
   ]
  },
  {
   "cell_type": "code",
   "execution_count": 23,
   "id": "e2617ffd",
   "metadata": {},
   "outputs": [
    {
     "data": {
      "text/plain": [
       "<seaborn.axisgrid.FacetGrid at 0x7f982db32c40>"
      ]
     },
     "execution_count": 23,
     "metadata": {},
     "output_type": "execute_result"
    },
    {
     "data": {
      "image/png": "[encoded data removed]",
      "text/plain": [
       "<Figure size 772x360 with 1 Axes>"
      ]
     },
     "metadata": {
      "needs_background": "light"
     },
     "output_type": "display_data"
    }
   ],
   "source": [
    "#Relationship between Single Telco customers and their internet service type against their churn rate\n",
    "sns.catplot(x=\"internet_service_type\", y =\"churn\",  hue=\"partner\",data=train, kind=\"bar\", height=5, aspect=2)"
   ]
  },
  {
   "cell_type": "markdown",
   "id": "220be423",
   "metadata": {},
   "source": [
    "# MODELING: Strike a pose...and get learning"
   ]
  },
  {
   "cell_type": "markdown",
   "id": "7f60eba4",
   "metadata": {},
   "source": [
    "*******<b>TECH-NOTE:</b>\n",
    "When creating my models, I had to drop categorical columns (as shown in syntax below), as well as set my x and y for train, validate and test\n",
    "\n",
    "### <b>For a more in-depth look at what I did for each train/fitting of the models, check out:</b>"
   ]
  },
  {
   "cell_type": "markdown",
   "id": "e2e1aad3",
   "metadata": {},
   "source": [
    "### <a href=\"https://www.kaggle.com/datasets/blastchar/telco-customer-churn\">Telco Churn Scratch Pad here.</a>"
   ]
  },
  {
   "cell_type": "markdown",
   "id": "40e48c50",
   "metadata": {},
   "source": [
    "### <b>Defining the BASELINE: 73%</b>\n",
    "\n",
    "When training & exploring the models, I am looking for models that are showing an accuracy score over 73% and that are also showing a 4% or less difference between the training accuracy and validation accuracy scores. "
   ]
  },
  {
   "cell_type": "code",
   "execution_count": 5,
   "id": "06097d33",
   "metadata": {},
   "outputs": [
    {
     "data": {
      "text/plain": [
       "0.7342222222222222"
      ]
     },
     "execution_count": 5,
     "metadata": {},
     "output_type": "execute_result"
    }
   ],
   "source": [
    "#Defining the baseline prediction:\n",
    "train.churn.mode()\n",
    "#Mode meaning when a customer did not churn, so our baseline guess would be that a customer will not churn. \n",
    "\n",
    "\n",
    "#Calculating the percentage of customers that churned:\n",
    "train[train['churn'] == False].shape[0] / train.shape[0]"
   ]
  },
  {
   "cell_type": "code",
   "execution_count": 25,
   "id": "b50af295",
   "metadata": {},
   "outputs": [],
   "source": [
    "# ADDING IN THE CODE TO SPLIT AND ADD VISUALS.\n",
    "## Dropping categorical and not-needed columns that are leftover.\n",
    "\n",
    "X_train = train.drop(columns=['churn','customer_id','gender', 'dependents','partner', \n",
    "                              'senior_citizen', 'phone_service','multiple_lines','online_security','online_backup',\n",
    "                              'payment_type','total_charges','device_protection','tech_support','streaming_tv','streaming_movies',\n",
    "                             'paperless_billing','contract_type','internet_service_type','total_charges'])\n",
    "y_train = train[['churn']]\n",
    "\n",
    "X_validate = validate.drop(columns=['customer_id','churn','gender', 'dependents','partner', \n",
    "                              'senior_citizen', 'phone_service','multiple_lines','online_security','online_backup',\n",
    "                              'payment_type','total_charges','device_protection','tech_support','streaming_tv','streaming_movies',\n",
    "                             'paperless_billing','contract_type','online_security','online_backup',\n",
    "                              'payment_type','total_charges','device_protection','internet_service_type','total_charges'])\n",
    "y_validate = validate[['churn']]\n",
    "\n",
    "X_test = test.drop(columns=['customer_id','churn','gender', 'dependents','partner', \n",
    "                              'senior_citizen', 'phone_service','multiple_lines','online_security','online_backup',\n",
    "                              'payment_type','total_charges','device_protection','tech_support','streaming_tv','streaming_movies',\n",
    "                             'paperless_billing','contract_type','internet_service_type','total_charges'])\n",
    "y_test = test[['churn']]"
   ]
  },
  {
   "cell_type": "markdown",
   "id": "62318ca1",
   "metadata": {},
   "source": [
    "## MVP Models - Takeaways\n",
    "\n",
    "<i><b>What Models I Used and outcomes:</b>\n",
    "- 1) DecisionTree classifier: 83%train | 79%validate | 4%diff\n",
    "- 2) RandomForest classifier: 84%train | 80%validate | 3%diff\n",
    "- 3) Logistical Regression:   80%train | 74% with key features\n",
    "- 4) KNNeighbors classifier:  81%train | 79%validate | 2%diff\n",
    "<br>\n",
    "<br>\n",
    "- My DecisionTree models show some great training accuracies (83%) but the differences between validation and training concern me and I decided not to choose any of those for my MVP due to concerns of overfitting the data.\n",
    "\n",
    "\n",
    "- My Random Forest models were a close second choice as training accuracy with a max depth of 9 was 84% | validate was 81%...but I still felt like the differences (and drops shown in the validation chart) weren't as predictable in finding a constant rate to test the model on.\n",
    "\n",
    "\n",
    "- <mark><b>I decided on using my KNN model</b> with an 10 count of neighbors to help predict new data as relative to churn or not. <b>My KNN model had a 81% accuracy rate (8% higher than baseline)</b> and because KNN models and take in real-time occurances and can be adjusted over time, this model will do well not only now for predicting the churn, but can also be a model we can move forward with as we make necessary adjustments due to churn and what the next churn predictors might be.</mark>\n"
   ]
  },
  {
   "cell_type": "markdown",
   "id": "255efa08",
   "metadata": {},
   "source": [
    "### <u> CHOSEN KNN MODEL FOR TESTING BREAKDOWN:</u>\n",
    "\n",
    "1) Creating, Fitting, trying different neighbor counts"
   ]
  },
  {
   "cell_type": "code",
   "execution_count": 6,
   "id": "0d97e627",
   "metadata": {},
   "outputs": [],
   "source": [
    "#### KNN MODEL CREATION SYNTAX:\n",
    "\n",
    "#Setting neighbors to 5\n",
    "#fitting the model to data\n",
    "#making predictions and estimation of probabilities\n",
    "#______________________________________________________\n",
    "# weights = ['uniform', 'density']\n",
    "knn = KNeighborsClassifier(n_neighbors=5, weights='uniform')\n",
    "#fit the model\n",
    "knn.fit(X_train, y_train)\n",
    "#making predictions\n",
    "y_pred = knn.predict(X_train)\n",
    "#estimating probabilities\n",
    "y_pred_proba = knn.predict_proba(X_train)"
   ]
  },
  {
   "cell_type": "markdown",
   "id": "d4d03388",
   "metadata": {},
   "source": [
    "2) Evaluating the Model:\n",
    "    * I am showing the model I chose that had a neighbor count of 10 and what the evaluation of that looked like."
   ]
  },
  {
   "cell_type": "code",
   "execution_count": 7,
   "id": "46131f27",
   "metadata": {},
   "outputs": [
    {
     "name": "stdout",
     "output_type": "stream",
     "text": [
      "n_neighbour = 10\n"
     ]
    },
    {
     "data": {
      "text/html": [
       "<div>\n",
       "<style scoped>\n",
       "    .dataframe tbody tr th:only-of-type {\n",
       "        vertical-align: middle;\n",
       "    }\n",
       "\n",
       "    .dataframe tbody tr th {\n",
       "        vertical-align: top;\n",
       "    }\n",
       "\n",
       "    .dataframe thead th {\n",
       "        text-align: right;\n",
       "    }\n",
       "</style>\n",
       "<table border=\"1\" class=\"dataframe\">\n",
       "  <thead>\n",
       "    <tr style=\"text-align: right;\">\n",
       "      <th></th>\n",
       "      <th>False</th>\n",
       "      <th>True</th>\n",
       "      <th>accuracy</th>\n",
       "      <th>macro avg</th>\n",
       "      <th>weighted avg</th>\n",
       "    </tr>\n",
       "  </thead>\n",
       "  <tbody>\n",
       "    <tr>\n",
       "      <th>precision</th>\n",
       "      <td>0.861960</td>\n",
       "      <td>0.696117</td>\n",
       "      <td>0.824</td>\n",
       "      <td>0.779038</td>\n",
       "      <td>0.817882</td>\n",
       "    </tr>\n",
       "    <tr>\n",
       "      <th>recall</th>\n",
       "      <td>0.905266</td>\n",
       "      <td>0.599498</td>\n",
       "      <td>0.824</td>\n",
       "      <td>0.752382</td>\n",
       "      <td>0.824000</td>\n",
       "    </tr>\n",
       "    <tr>\n",
       "      <th>f1-score</th>\n",
       "      <td>0.883082</td>\n",
       "      <td>0.644205</td>\n",
       "      <td>0.824</td>\n",
       "      <td>0.763644</td>\n",
       "      <td>0.819594</td>\n",
       "    </tr>\n",
       "    <tr>\n",
       "      <th>support</th>\n",
       "      <td>3304.000000</td>\n",
       "      <td>1196.000000</td>\n",
       "      <td>0.824</td>\n",
       "      <td>4500.000000</td>\n",
       "      <td>4500.000000</td>\n",
       "    </tr>\n",
       "  </tbody>\n",
       "</table>\n",
       "</div>"
      ],
      "text/plain": [
       "                 False         True  accuracy    macro avg  weighted avg\n",
       "precision     0.861960     0.696117     0.824     0.779038      0.817882\n",
       "recall        0.905266     0.599498     0.824     0.752382      0.824000\n",
       "f1-score      0.883082     0.644205     0.824     0.763644      0.819594\n",
       "support    3304.000000  1196.000000     0.824  4500.000000   4500.000000"
      ]
     },
     "execution_count": 7,
     "metadata": {},
     "output_type": "execute_result"
    }
   ],
   "source": [
    "#### EVALUATING THE MODEL W/ 10 NEIGHBORS:\n",
    "report = classification_report(y_train, y_pred, output_dict=True)\n",
    "print(\"n_neighbour = 10\")\n",
    "pd.DataFrame(report)"
   ]
  },
  {
   "cell_type": "markdown",
   "id": "c12e5c03",
   "metadata": {},
   "source": [
    "3) Using visualizations:\n",
    "    This visualization of train, validate and difference of accuracy side-by-side was useful to help me visually see and think through what other neighbor counts would look like and the gap of difference between the models"
   ]
  },
  {
   "cell_type": "code",
   "execution_count": 9,
   "id": "9b23db87",
   "metadata": {},
   "outputs": [
    {
     "data": {
      "image/png": "[encoded data removed]",
      "text/plain": [
       "<Figure size 1152x648 with 1 Axes>"
      ]
     },
     "metadata": {
      "needs_background": "light"
     },
     "output_type": "display_data"
    }
   ],
   "source": [
    "#Taking a look at what the relationship of train, validate and difference of the KNN (with 10 neighbors)model is:\n",
    "viz.visualize(X_train, y_train, X_validate, y_validate)"
   ]
  },
  {
   "cell_type": "markdown",
   "id": "9705caa9",
   "metadata": {},
   "source": [
    "## Conclusion - Focus on the Seniors, Singles and Fiber!"
   ]
  },
  {
   "cell_type": "markdown",
   "id": "b24f2a8c",
   "metadata": {},
   "source": [
    "### <u> Original Goals Met: </u>\n",
    "- I found two main demographic drivers (with chi2 hypothesis testing): \n",
    "    * <b> Seniors & Singles </b>\n",
    "        along with two main relate \"whys\" of churn rate: <b>Internet Service and Payment forms </b>\n",
    "        \n",
    "        \n",
    "- I found a <b> ML classification model that by train, validate and testing has shown an 81% (8% increase of base predictions)</b> that we can now use to put current and future customers' data into and predict their probability of churning. "
   ]
  },
  {
   "cell_type": "markdown",
   "id": "487ce58e",
   "metadata": {},
   "source": [
    "### <u> Recommendations: </u>\n",
    "- ### <i> Focus on current and future Senior and Single Telco customers: \n",
    "    *  Fiber Optic account discounts w/ bundled services </b>\n",
    "    *  Offer a 'friends plan', as the more people on an account, the churn rate lowers.</b>\n",
    "\n",
    "\n",
    "- ### <i> Get some handle on that Fiber!\n",
    "    * <b> Looking into the 'why' Fiber accounts are churning.</b>\n",
    "            - Service?\n",
    "            - Not user friendly?\n",
    "            - Users need more Tech support???"
   ]
  },
  {
   "cell_type": "markdown",
   "id": "aebd809b",
   "metadata": {},
   "source": [
    "### <u> Next Steps: </u>\n",
    "- ### <i> Reaching out to Product Manager for questions and more data on key churn customers and Fiber.\n",
    "    *  Exploring more within the payment plans data\n",
    "    *  Understanding how products are being sold right now and gather some data there."
   ]
  },
  {
   "cell_type": "code",
   "execution_count": null,
   "id": "e464aa99",
   "metadata": {},
   "outputs": [],
   "source": []
  }
 ],
 "metadata": {
  "kernelspec": {
   "display_name": "Python 3 (ipykernel)",
   "language": "python",
   "name": "python3"
  },
  "language_info": {
   "codemirror_mode": {
    "name": "ipython",
    "version": 3
   },
   "file_extension": ".py",
   "mimetype": "text/x-python",
   "name": "python",
   "nbconvert_exporter": "python",
   "pygments_lexer": "ipython3",
   "version": "3.9.7"
  }
 },
 "nbformat": 4,
 "nbformat_minor": 5
}
