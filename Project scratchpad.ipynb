{
 "cells": [
  {
   "cell_type": "code",
   "execution_count": 1,
   "id": "2f304420",
   "metadata": {},
   "outputs": [],
   "source": [
    "import warnings\n",
    "warnings.filterwarnings(\"ignore\")\n",
    "\n",
    "import pandas as pd\n",
    "import numpy as np\n",
    "import matplotlib.pyplot as plt\n",
    "import seaborn as sns\n",
    "sns.set_palette('Set1')\n",
    "from scipy import stats\n",
    "from sklearn.model_selection import train_test_split\n",
    "from sklearn.tree import DecisionTreeClassifier, plot_tree\n",
    "from sklearn.metrics import classification_report\n",
    "from sklearn.metrics import confusion_matrix\n",
    "from sklearn.metrics import precision_recall_fscore_support\n",
    "from sklearn.metrics import accuracy_score\n",
    "from sklearn.ensemble import RandomForestClassifier\n",
    "from sklearn.neighbors import KNeighborsClassifier\n",
    "from sklearn.linear_model import LogisticRegression\n",
    "import pydataset as data\n",
    "\n",
    "from acquire import get_telco_data\n",
    "from prepare import clean_telco_data, prep_telco_data\n",
    "\n",
    "from env import get_db_url\n",
    "\n",
    "α = .05"
   ]
  },
  {
   "cell_type": "markdown",
   "id": "41614524",
   "metadata": {},
   "source": [
    "# Question: Is there a specific demographic group that is associated with more churn than expected??"
   ]
  },
  {
   "cell_type": "markdown",
   "id": "bb3f051c",
   "metadata": {},
   "source": [
    "## Goal: Find the main demographic drivers and their subgroups for Telco churn.\n",
    "\n",
    "** I'd like to look into demographics first, as this wasn't subgroups I was able to explore last presentation project."
   ]
  },
  {
   "cell_type": "markdown",
   "id": "58274a6b",
   "metadata": {},
   "source": [
    "<u> Demographics I'll be looking at:</u>\n",
    "\n",
    "- Senior citizens\n",
    "- Single customers\n",
    "- Customers with Partners\n",
    "- Customers with Dependants\n",
    "- Customers with Partner & Dependants\n",
    "\n",
    "<u> Subgroups to compare once main demographic driver(s) are found, if I want to get more specific: </u>\n",
    "- Gender\n",
    "- monthly charges\n",
    "- tenure\n",
    "- account (internet) types\n",
    "- automated vs non-automatic payment accounts"
   ]
  },
  {
   "cell_type": "markdown",
   "id": "6cc93b33",
   "metadata": {},
   "source": [
    "### Notes: By looking at the above demographics I want to find:\n",
    "1) Highest churned demographic group (of the above)\n",
    "- Note: I will first need to look at the group as whole (all churned and which group had most churns)\n",
    "- Note: Then I should consider churn rate based with each group (example: senior citizens that have and have not churned rate)"
   ]
  },
  {
   "cell_type": "markdown",
   "id": "6ab34d29",
   "metadata": {},
   "source": [
    "# Getting to know my data:"
   ]
  },
  {
   "cell_type": "code",
   "execution_count": 2,
   "id": "c85a4b33",
   "metadata": {},
   "outputs": [],
   "source": [
    "#calling the dataframe\n",
    "telco_df = get_telco_data()"
   ]
  },
  {
   "cell_type": "code",
   "execution_count": 3,
   "id": "f82dadcc",
   "metadata": {},
   "outputs": [
    {
     "data": {
      "text/plain": [
       "customer_id                    object\n",
       "gender                         object\n",
       "senior_citizen                  int64\n",
       "partner                        object\n",
       "dependents                     object\n",
       "tenure                          int64\n",
       "phone_service                  object\n",
       "multiple_lines                 object\n",
       "internet_service_type_id        int64\n",
       "online_security                object\n",
       "online_backup                  object\n",
       "device_protection              object\n",
       "tech_support                   object\n",
       "streaming_tv                   object\n",
       "streaming_movies               object\n",
       "contract_type_id                int64\n",
       "paperless_billing              object\n",
       "payment_type_id                 int64\n",
       "monthly_charges               float64\n",
       "total_charges                  object\n",
       "churn                          object\n",
       "contract_type_id.1              int64\n",
       "contract_type                  object\n",
       "payment_type_id.1               int64\n",
       "payment_type                   object\n",
       "internet_service_type_id.1      int64\n",
       "internet_service_type          object\n",
       "dtype: object"
      ]
     },
     "execution_count": 3,
     "metadata": {},
     "output_type": "execute_result"
    }
   ],
   "source": [
    "#checking out dytpes\n",
    "telco_df.dtypes"
   ]
  },
  {
   "cell_type": "code",
   "execution_count": 4,
   "id": "8bff43e3",
   "metadata": {},
   "outputs": [
    {
     "data": {
      "text/plain": [
       "['customer_id',\n",
       " 'gender',\n",
       " 'senior_citizen',\n",
       " 'partner',\n",
       " 'dependents',\n",
       " 'tenure',\n",
       " 'phone_service',\n",
       " 'multiple_lines',\n",
       " 'internet_service_type_id',\n",
       " 'online_security',\n",
       " 'online_backup',\n",
       " 'device_protection',\n",
       " 'tech_support',\n",
       " 'streaming_tv',\n",
       " 'streaming_movies',\n",
       " 'contract_type_id',\n",
       " 'paperless_billing',\n",
       " 'payment_type_id',\n",
       " 'monthly_charges',\n",
       " 'total_charges',\n",
       " 'churn',\n",
       " 'contract_type_id.1',\n",
       " 'contract_type',\n",
       " 'payment_type_id.1',\n",
       " 'payment_type',\n",
       " 'internet_service_type_id.1',\n",
       " 'internet_service_type']"
      ]
     },
     "execution_count": 4,
     "metadata": {},
     "output_type": "execute_result"
    }
   ],
   "source": [
    "telco_df.columns.tolist()"
   ]
  },
  {
   "cell_type": "code",
   "execution_count": 5,
   "id": "f84f6e37",
   "metadata": {},
   "outputs": [
    {
     "data": {
      "text/html": [
       "<div>\n",
       "<style scoped>\n",
       "    .dataframe tbody tr th:only-of-type {\n",
       "        vertical-align: middle;\n",
       "    }\n",
       "\n",
       "    .dataframe tbody tr th {\n",
       "        vertical-align: top;\n",
       "    }\n",
       "\n",
       "    .dataframe thead th {\n",
       "        text-align: right;\n",
       "    }\n",
       "</style>\n",
       "<table border=\"1\" class=\"dataframe\">\n",
       "  <thead>\n",
       "    <tr style=\"text-align: right;\">\n",
       "      <th></th>\n",
       "      <th>count</th>\n",
       "      <th>mean</th>\n",
       "      <th>std</th>\n",
       "      <th>min</th>\n",
       "      <th>25%</th>\n",
       "      <th>50%</th>\n",
       "      <th>75%</th>\n",
       "      <th>max</th>\n",
       "    </tr>\n",
       "  </thead>\n",
       "  <tbody>\n",
       "    <tr>\n",
       "      <th>senior_citizen</th>\n",
       "      <td>7043.0</td>\n",
       "      <td>0.162147</td>\n",
       "      <td>0.368612</td>\n",
       "      <td>0.00</td>\n",
       "      <td>0.0</td>\n",
       "      <td>0.00</td>\n",
       "      <td>0.00</td>\n",
       "      <td>1.00</td>\n",
       "    </tr>\n",
       "    <tr>\n",
       "      <th>tenure</th>\n",
       "      <td>7043.0</td>\n",
       "      <td>32.371149</td>\n",
       "      <td>24.559481</td>\n",
       "      <td>0.00</td>\n",
       "      <td>9.0</td>\n",
       "      <td>29.00</td>\n",
       "      <td>55.00</td>\n",
       "      <td>72.00</td>\n",
       "    </tr>\n",
       "    <tr>\n",
       "      <th>internet_service_type_id</th>\n",
       "      <td>7043.0</td>\n",
       "      <td>1.872923</td>\n",
       "      <td>0.737796</td>\n",
       "      <td>1.00</td>\n",
       "      <td>1.0</td>\n",
       "      <td>2.00</td>\n",
       "      <td>2.00</td>\n",
       "      <td>3.00</td>\n",
       "    </tr>\n",
       "    <tr>\n",
       "      <th>contract_type_id</th>\n",
       "      <td>7043.0</td>\n",
       "      <td>1.690473</td>\n",
       "      <td>0.833755</td>\n",
       "      <td>1.00</td>\n",
       "      <td>1.0</td>\n",
       "      <td>1.00</td>\n",
       "      <td>2.00</td>\n",
       "      <td>3.00</td>\n",
       "    </tr>\n",
       "    <tr>\n",
       "      <th>payment_type_id</th>\n",
       "      <td>7043.0</td>\n",
       "      <td>2.315633</td>\n",
       "      <td>1.148907</td>\n",
       "      <td>1.00</td>\n",
       "      <td>1.0</td>\n",
       "      <td>2.00</td>\n",
       "      <td>3.00</td>\n",
       "      <td>4.00</td>\n",
       "    </tr>\n",
       "    <tr>\n",
       "      <th>monthly_charges</th>\n",
       "      <td>7043.0</td>\n",
       "      <td>64.761692</td>\n",
       "      <td>30.090047</td>\n",
       "      <td>18.25</td>\n",
       "      <td>35.5</td>\n",
       "      <td>70.35</td>\n",
       "      <td>89.85</td>\n",
       "      <td>118.75</td>\n",
       "    </tr>\n",
       "    <tr>\n",
       "      <th>contract_type_id.1</th>\n",
       "      <td>7043.0</td>\n",
       "      <td>1.690473</td>\n",
       "      <td>0.833755</td>\n",
       "      <td>1.00</td>\n",
       "      <td>1.0</td>\n",
       "      <td>1.00</td>\n",
       "      <td>2.00</td>\n",
       "      <td>3.00</td>\n",
       "    </tr>\n",
       "    <tr>\n",
       "      <th>payment_type_id.1</th>\n",
       "      <td>7043.0</td>\n",
       "      <td>2.315633</td>\n",
       "      <td>1.148907</td>\n",
       "      <td>1.00</td>\n",
       "      <td>1.0</td>\n",
       "      <td>2.00</td>\n",
       "      <td>3.00</td>\n",
       "      <td>4.00</td>\n",
       "    </tr>\n",
       "    <tr>\n",
       "      <th>internet_service_type_id.1</th>\n",
       "      <td>7043.0</td>\n",
       "      <td>1.872923</td>\n",
       "      <td>0.737796</td>\n",
       "      <td>1.00</td>\n",
       "      <td>1.0</td>\n",
       "      <td>2.00</td>\n",
       "      <td>2.00</td>\n",
       "      <td>3.00</td>\n",
       "    </tr>\n",
       "  </tbody>\n",
       "</table>\n",
       "</div>"
      ],
      "text/plain": [
       "                             count       mean        std    min   25%    50%  \\\n",
       "senior_citizen              7043.0   0.162147   0.368612   0.00   0.0   0.00   \n",
       "tenure                      7043.0  32.371149  24.559481   0.00   9.0  29.00   \n",
       "internet_service_type_id    7043.0   1.872923   0.737796   1.00   1.0   2.00   \n",
       "contract_type_id            7043.0   1.690473   0.833755   1.00   1.0   1.00   \n",
       "payment_type_id             7043.0   2.315633   1.148907   1.00   1.0   2.00   \n",
       "monthly_charges             7043.0  64.761692  30.090047  18.25  35.5  70.35   \n",
       "contract_type_id.1          7043.0   1.690473   0.833755   1.00   1.0   1.00   \n",
       "payment_type_id.1           7043.0   2.315633   1.148907   1.00   1.0   2.00   \n",
       "internet_service_type_id.1  7043.0   1.872923   0.737796   1.00   1.0   2.00   \n",
       "\n",
       "                              75%     max  \n",
       "senior_citizen               0.00    1.00  \n",
       "tenure                      55.00   72.00  \n",
       "internet_service_type_id     2.00    3.00  \n",
       "contract_type_id             2.00    3.00  \n",
       "payment_type_id              3.00    4.00  \n",
       "monthly_charges             89.85  118.75  \n",
       "contract_type_id.1           2.00    3.00  \n",
       "payment_type_id.1            3.00    4.00  \n",
       "internet_service_type_id.1   2.00    3.00  "
      ]
     },
     "execution_count": 5,
     "metadata": {},
     "output_type": "execute_result"
    }
   ],
   "source": [
    "#looking at numeric columns and statistical attributes\n",
    "telco_df.describe().T"
   ]
  },
  {
   "cell_type": "markdown",
   "id": "765f5a7e",
   "metadata": {},
   "source": [
    "<b><u>Takeaways:</b></u>\n",
    "- I can already see that later down the road, I am going to want to sort out my categorical columns vs numerical (for model testing)\n",
    "- I know my target (y) will be churn...again, after exploring, I want to change that to a bool/numeric"
   ]
  },
  {
   "cell_type": "code",
   "execution_count": 6,
   "id": "6228bb32",
   "metadata": {},
   "outputs": [
    {
     "data": {
      "text/html": [
       "<div>\n",
       "<style scoped>\n",
       "    .dataframe tbody tr th:only-of-type {\n",
       "        vertical-align: middle;\n",
       "    }\n",
       "\n",
       "    .dataframe tbody tr th {\n",
       "        vertical-align: top;\n",
       "    }\n",
       "\n",
       "    .dataframe thead th {\n",
       "        text-align: right;\n",
       "    }\n",
       "</style>\n",
       "<table border=\"1\" class=\"dataframe\">\n",
       "  <thead>\n",
       "    <tr style=\"text-align: right;\">\n",
       "      <th></th>\n",
       "      <th>customer_id</th>\n",
       "      <th>gender</th>\n",
       "      <th>senior_citizen</th>\n",
       "      <th>partner</th>\n",
       "      <th>dependents</th>\n",
       "      <th>tenure</th>\n",
       "      <th>phone_service</th>\n",
       "      <th>multiple_lines</th>\n",
       "      <th>online_security</th>\n",
       "      <th>online_backup</th>\n",
       "      <th>...</th>\n",
       "      <th>streaming_movies_No internet service</th>\n",
       "      <th>streaming_movies_Yes</th>\n",
       "      <th>paperless_billing_Yes</th>\n",
       "      <th>contract_type_One year</th>\n",
       "      <th>contract_type_Two year</th>\n",
       "      <th>payment_type_Credit card (automatic)</th>\n",
       "      <th>payment_type_Electronic check</th>\n",
       "      <th>payment_type_Mailed check</th>\n",
       "      <th>internet_service_type_Fiber optic</th>\n",
       "      <th>internet_service_type_None</th>\n",
       "    </tr>\n",
       "  </thead>\n",
       "  <tbody>\n",
       "    <tr>\n",
       "      <th>3270</th>\n",
       "      <td>4673-KKSLS</td>\n",
       "      <td>Female</td>\n",
       "      <td>No</td>\n",
       "      <td>No</td>\n",
       "      <td>No</td>\n",
       "      <td>31</td>\n",
       "      <td>Yes</td>\n",
       "      <td>No</td>\n",
       "      <td>Yes</td>\n",
       "      <td>No</td>\n",
       "      <td>...</td>\n",
       "      <td>0</td>\n",
       "      <td>0</td>\n",
       "      <td>0</td>\n",
       "      <td>0</td>\n",
       "      <td>0</td>\n",
       "      <td>0</td>\n",
       "      <td>1</td>\n",
       "      <td>0</td>\n",
       "      <td>1</td>\n",
       "      <td>0</td>\n",
       "    </tr>\n",
       "    <tr>\n",
       "      <th>6084</th>\n",
       "      <td>8623-ULFNQ</td>\n",
       "      <td>Female</td>\n",
       "      <td>Yes</td>\n",
       "      <td>No</td>\n",
       "      <td>No</td>\n",
       "      <td>26</td>\n",
       "      <td>Yes</td>\n",
       "      <td>Yes</td>\n",
       "      <td>No</td>\n",
       "      <td>No</td>\n",
       "      <td>...</td>\n",
       "      <td>0</td>\n",
       "      <td>1</td>\n",
       "      <td>1</td>\n",
       "      <td>0</td>\n",
       "      <td>0</td>\n",
       "      <td>0</td>\n",
       "      <td>1</td>\n",
       "      <td>0</td>\n",
       "      <td>0</td>\n",
       "      <td>0</td>\n",
       "    </tr>\n",
       "    <tr>\n",
       "      <th>4470</th>\n",
       "      <td>6303-KFWSL</td>\n",
       "      <td>Female</td>\n",
       "      <td>No</td>\n",
       "      <td>No</td>\n",
       "      <td>No</td>\n",
       "      <td>29</td>\n",
       "      <td>Yes</td>\n",
       "      <td>Yes</td>\n",
       "      <td>No</td>\n",
       "      <td>Yes</td>\n",
       "      <td>...</td>\n",
       "      <td>0</td>\n",
       "      <td>0</td>\n",
       "      <td>1</td>\n",
       "      <td>1</td>\n",
       "      <td>0</td>\n",
       "      <td>0</td>\n",
       "      <td>1</td>\n",
       "      <td>0</td>\n",
       "      <td>0</td>\n",
       "      <td>0</td>\n",
       "    </tr>\n",
       "    <tr>\n",
       "      <th>428</th>\n",
       "      <td>0623-IIHUG</td>\n",
       "      <td>Female</td>\n",
       "      <td>Yes</td>\n",
       "      <td>No</td>\n",
       "      <td>No</td>\n",
       "      <td>21</td>\n",
       "      <td>No</td>\n",
       "      <td>No phone service</td>\n",
       "      <td>Yes</td>\n",
       "      <td>No</td>\n",
       "      <td>...</td>\n",
       "      <td>0</td>\n",
       "      <td>0</td>\n",
       "      <td>1</td>\n",
       "      <td>0</td>\n",
       "      <td>0</td>\n",
       "      <td>0</td>\n",
       "      <td>1</td>\n",
       "      <td>0</td>\n",
       "      <td>0</td>\n",
       "      <td>0</td>\n",
       "    </tr>\n",
       "    <tr>\n",
       "      <th>3329</th>\n",
       "      <td>4742-DRORA</td>\n",
       "      <td>Male</td>\n",
       "      <td>No</td>\n",
       "      <td>Yes</td>\n",
       "      <td>Yes</td>\n",
       "      <td>60</td>\n",
       "      <td>Yes</td>\n",
       "      <td>Yes</td>\n",
       "      <td>Yes</td>\n",
       "      <td>No</td>\n",
       "      <td>...</td>\n",
       "      <td>0</td>\n",
       "      <td>0</td>\n",
       "      <td>1</td>\n",
       "      <td>1</td>\n",
       "      <td>0</td>\n",
       "      <td>0</td>\n",
       "      <td>0</td>\n",
       "      <td>0</td>\n",
       "      <td>1</td>\n",
       "      <td>0</td>\n",
       "    </tr>\n",
       "  </tbody>\n",
       "</table>\n",
       "<p>5 rows × 51 columns</p>\n",
       "</div>"
      ],
      "text/plain": [
       "     customer_id  gender senior_citizen partner dependents  tenure  \\\n",
       "3270  4673-KKSLS  Female             No      No         No      31   \n",
       "6084  8623-ULFNQ  Female            Yes      No         No      26   \n",
       "4470  6303-KFWSL  Female             No      No         No      29   \n",
       "428   0623-IIHUG  Female            Yes      No         No      21   \n",
       "3329  4742-DRORA    Male             No     Yes        Yes      60   \n",
       "\n",
       "     phone_service    multiple_lines online_security online_backup  ...  \\\n",
       "3270           Yes                No             Yes            No  ...   \n",
       "6084           Yes               Yes              No            No  ...   \n",
       "4470           Yes               Yes              No           Yes  ...   \n",
       "428             No  No phone service             Yes            No  ...   \n",
       "3329           Yes               Yes             Yes            No  ...   \n",
       "\n",
       "     streaming_movies_No internet service streaming_movies_Yes  \\\n",
       "3270                                    0                    0   \n",
       "6084                                    0                    1   \n",
       "4470                                    0                    0   \n",
       "428                                     0                    0   \n",
       "3329                                    0                    0   \n",
       "\n",
       "     paperless_billing_Yes contract_type_One year contract_type_Two year  \\\n",
       "3270                     0                      0                      0   \n",
       "6084                     1                      0                      0   \n",
       "4470                     1                      1                      0   \n",
       "428                      1                      0                      0   \n",
       "3329                     1                      1                      0   \n",
       "\n",
       "      payment_type_Credit card (automatic)  payment_type_Electronic check  \\\n",
       "3270                                     0                              1   \n",
       "6084                                     0                              1   \n",
       "4470                                     0                              1   \n",
       "428                                      0                              1   \n",
       "3329                                     0                              0   \n",
       "\n",
       "     payment_type_Mailed check  internet_service_type_Fiber optic  \\\n",
       "3270                         0                                  1   \n",
       "6084                         0                                  0   \n",
       "4470                         0                                  0   \n",
       "428                          0                                  0   \n",
       "3329                         0                                  1   \n",
       "\n",
       "     internet_service_type_None  \n",
       "3270                          0  \n",
       "6084                          0  \n",
       "4470                          0  \n",
       "428                           0  \n",
       "3329                          0  \n",
       "\n",
       "[5 rows x 51 columns]"
      ]
     },
     "execution_count": 6,
     "metadata": {},
     "output_type": "execute_result"
    }
   ],
   "source": [
    "train, validate, test = prep_telco_data(telco_df)\n",
    "train.head()"
   ]
  },
  {
   "cell_type": "code",
   "execution_count": 7,
   "id": "4abb4b1e",
   "metadata": {},
   "outputs": [
    {
     "data": {
      "text/plain": [
       "No     3771\n",
       "Yes     729\n",
       "Name: senior_citizen, dtype: int64"
      ]
     },
     "execution_count": 7,
     "metadata": {},
     "output_type": "execute_result"
    }
   ],
   "source": [
    "#for senior citizen demographics: \n",
    "train.senior_citizen.value_counts()\n",
    "\n",
    "#TAKE AWAYS: Senior-citizens customers make up 19% of Telco customers\n",
    "           # 59 or younger customers make up 81% of Telco customers"
   ]
  },
  {
   "cell_type": "code",
   "execution_count": 8,
   "id": "b5aa7b83",
   "metadata": {},
   "outputs": [
    {
     "data": {
      "text/plain": [
       "No     2317\n",
       "Yes    2183\n",
       "Name: partner, dtype: int64"
      ]
     },
     "execution_count": 8,
     "metadata": {},
     "output_type": "execute_result"
    }
   ],
   "source": [
    "#for clients with partners\n",
    "train.partner.value_counts()"
   ]
  },
  {
   "cell_type": "code",
   "execution_count": 9,
   "id": "d799d85e",
   "metadata": {},
   "outputs": [
    {
     "data": {
      "text/plain": [
       "No     3142\n",
       "Yes    1358\n",
       "Name: dependents, dtype: int64"
      ]
     },
     "execution_count": 9,
     "metadata": {},
     "output_type": "execute_result"
    }
   ],
   "source": [
    "#for clients with dependents\n",
    "train.dependents.value_counts()"
   ]
  },
  {
   "cell_type": "code",
   "execution_count": 10,
   "id": "8880a5d2",
   "metadata": {},
   "outputs": [
    {
     "data": {
      "text/plain": [
       "Male      2315\n",
       "Female    2185\n",
       "Name: gender, dtype: int64"
      ]
     },
     "execution_count": 10,
     "metadata": {},
     "output_type": "execute_result"
    }
   ],
   "source": [
    "#for gender demographics:\n",
    "train.gender.value_counts()"
   ]
  },
  {
   "cell_type": "code",
   "execution_count": 11,
   "id": "305a1331",
   "metadata": {},
   "outputs": [],
   "source": [
    "#Let's look at the charts for these demographic customers:"
   ]
  },
  {
   "cell_type": "markdown",
   "id": "5dffb606",
   "metadata": {},
   "source": [
    "## Questions I'm thinking:\n",
    "-  Who do I think my drivers are? \n",
    "-  Why?\n",
    "-  How can I look in/prove that?\n",
    "-  Are there needed subgroups that I can use later on?\n",
    "-  What can I get rid of?"
   ]
  },
  {
   "cell_type": "markdown",
   "id": "9bf7471e",
   "metadata": {},
   "source": [
    "Q: What/WHO do I think my drivers are?\n",
    "- I know from the past that <b>non-automated accounts </b>were a major part of the churn, but I never found out WHO these people were.\n",
    "\n",
    "#### <u>I want to know:</u>\n",
    "- Their age, gender, and relationship status [get to know our churns and the probability of a certain demographic leaving]"
   ]
  },
  {
   "cell_type": "markdown",
   "id": "e28ba1df",
   "metadata": {},
   "source": [
    "Q: <i>Why would they churn?</i>\n",
    "- Is it due only to their non-automated accounts or is there another reason within who they are?"
   ]
  },
  {
   "cell_type": "markdown",
   "id": "13f341f0",
   "metadata": {},
   "source": [
    "Q: <i>How could I look at this?</i>\n",
    "- Categorically: churn vs. demographic cateogries w/ chi2 tests and t-tests\n",
    "- Visually: graphs, charts and accuracy rates in model"
   ]
  },
  {
   "cell_type": "markdown",
   "id": "d00df711",
   "metadata": {},
   "source": [
    "Q: <i>What subgroups do I think I will need to help me test churn and demographics?</i>\n",
    "  - monthly charges (if I find a driver, I'd like to see a possible why within $$ the pay)\n",
    "  - account types\n",
    "  - non-automated accounts (to compare to last presentations findings)"
   ]
  },
  {
   "cell_type": "markdown",
   "id": "bb7d151c",
   "metadata": {},
   "source": [
    "## Next Steps:\n",
    "- ✅ Creating range columns (for upcoming hypothesis testing) \n",
    "- ✅ PreProcessing Data (encoding any needed data)\n",
    "- ✅ Prepping and splitting data to Explore and later Train on\n",
    "- ✅ Explore some charts of the data (histograms comparing demographics)"
   ]
  },
  {
   "cell_type": "code",
   "execution_count": 12,
   "id": "a22eae9f",
   "metadata": {},
   "outputs": [
    {
     "data": {
      "text/plain": [
       "26.57777777777778"
      ]
     },
     "execution_count": 12,
     "metadata": {},
     "output_type": "execute_result"
    }
   ],
   "source": [
    "# Percentage that Churned:\n",
    "\n",
    "(train[train.churn == 'Yes'].count().churn / train.churn.shape[0]) * 100\n",
    "\n",
    "#26.58% of customer churned this month."
   ]
  },
  {
   "cell_type": "code",
   "execution_count": 13,
   "id": "055fdbda",
   "metadata": {},
   "outputs": [],
   "source": [
    "#creating the columns for range in the statistical table of df\n",
    "##used this great function from Faith Kane\n",
    "def col_range(df):\n",
    "    stats_df = telco_df.describe().T\n",
    "    stats_df['range'] = stats_df['max'] - stats_df['min']\n",
    "    return stats_df"
   ]
  },
  {
   "cell_type": "code",
   "execution_count": 14,
   "id": "1cf68f78",
   "metadata": {},
   "outputs": [
    {
     "data": {
      "text/html": [
       "<div>\n",
       "<style scoped>\n",
       "    .dataframe tbody tr th:only-of-type {\n",
       "        vertical-align: middle;\n",
       "    }\n",
       "\n",
       "    .dataframe tbody tr th {\n",
       "        vertical-align: top;\n",
       "    }\n",
       "\n",
       "    .dataframe thead th {\n",
       "        text-align: right;\n",
       "    }\n",
       "</style>\n",
       "<table border=\"1\" class=\"dataframe\">\n",
       "  <thead>\n",
       "    <tr style=\"text-align: right;\">\n",
       "      <th></th>\n",
       "      <th>count</th>\n",
       "      <th>mean</th>\n",
       "      <th>std</th>\n",
       "      <th>min</th>\n",
       "      <th>25%</th>\n",
       "      <th>50%</th>\n",
       "      <th>75%</th>\n",
       "      <th>max</th>\n",
       "      <th>range</th>\n",
       "    </tr>\n",
       "  </thead>\n",
       "  <tbody>\n",
       "    <tr>\n",
       "      <th>senior_citizen</th>\n",
       "      <td>7043.0</td>\n",
       "      <td>0.162147</td>\n",
       "      <td>0.368612</td>\n",
       "      <td>0.00</td>\n",
       "      <td>0.0</td>\n",
       "      <td>0.00</td>\n",
       "      <td>0.00</td>\n",
       "      <td>1.00</td>\n",
       "      <td>1.0</td>\n",
       "    </tr>\n",
       "    <tr>\n",
       "      <th>tenure</th>\n",
       "      <td>7043.0</td>\n",
       "      <td>32.371149</td>\n",
       "      <td>24.559481</td>\n",
       "      <td>0.00</td>\n",
       "      <td>9.0</td>\n",
       "      <td>29.00</td>\n",
       "      <td>55.00</td>\n",
       "      <td>72.00</td>\n",
       "      <td>72.0</td>\n",
       "    </tr>\n",
       "    <tr>\n",
       "      <th>internet_service_type_id</th>\n",
       "      <td>7043.0</td>\n",
       "      <td>1.872923</td>\n",
       "      <td>0.737796</td>\n",
       "      <td>1.00</td>\n",
       "      <td>1.0</td>\n",
       "      <td>2.00</td>\n",
       "      <td>2.00</td>\n",
       "      <td>3.00</td>\n",
       "      <td>2.0</td>\n",
       "    </tr>\n",
       "    <tr>\n",
       "      <th>contract_type_id</th>\n",
       "      <td>7043.0</td>\n",
       "      <td>1.690473</td>\n",
       "      <td>0.833755</td>\n",
       "      <td>1.00</td>\n",
       "      <td>1.0</td>\n",
       "      <td>1.00</td>\n",
       "      <td>2.00</td>\n",
       "      <td>3.00</td>\n",
       "      <td>2.0</td>\n",
       "    </tr>\n",
       "    <tr>\n",
       "      <th>payment_type_id</th>\n",
       "      <td>7043.0</td>\n",
       "      <td>2.315633</td>\n",
       "      <td>1.148907</td>\n",
       "      <td>1.00</td>\n",
       "      <td>1.0</td>\n",
       "      <td>2.00</td>\n",
       "      <td>3.00</td>\n",
       "      <td>4.00</td>\n",
       "      <td>3.0</td>\n",
       "    </tr>\n",
       "    <tr>\n",
       "      <th>monthly_charges</th>\n",
       "      <td>7043.0</td>\n",
       "      <td>64.761692</td>\n",
       "      <td>30.090047</td>\n",
       "      <td>18.25</td>\n",
       "      <td>35.5</td>\n",
       "      <td>70.35</td>\n",
       "      <td>89.85</td>\n",
       "      <td>118.75</td>\n",
       "      <td>100.5</td>\n",
       "    </tr>\n",
       "    <tr>\n",
       "      <th>contract_type_id.1</th>\n",
       "      <td>7043.0</td>\n",
       "      <td>1.690473</td>\n",
       "      <td>0.833755</td>\n",
       "      <td>1.00</td>\n",
       "      <td>1.0</td>\n",
       "      <td>1.00</td>\n",
       "      <td>2.00</td>\n",
       "      <td>3.00</td>\n",
       "      <td>2.0</td>\n",
       "    </tr>\n",
       "    <tr>\n",
       "      <th>payment_type_id.1</th>\n",
       "      <td>7043.0</td>\n",
       "      <td>2.315633</td>\n",
       "      <td>1.148907</td>\n",
       "      <td>1.00</td>\n",
       "      <td>1.0</td>\n",
       "      <td>2.00</td>\n",
       "      <td>3.00</td>\n",
       "      <td>4.00</td>\n",
       "      <td>3.0</td>\n",
       "    </tr>\n",
       "    <tr>\n",
       "      <th>internet_service_type_id.1</th>\n",
       "      <td>7043.0</td>\n",
       "      <td>1.872923</td>\n",
       "      <td>0.737796</td>\n",
       "      <td>1.00</td>\n",
       "      <td>1.0</td>\n",
       "      <td>2.00</td>\n",
       "      <td>2.00</td>\n",
       "      <td>3.00</td>\n",
       "      <td>2.0</td>\n",
       "    </tr>\n",
       "  </tbody>\n",
       "</table>\n",
       "</div>"
      ],
      "text/plain": [
       "                             count       mean        std    min   25%    50%  \\\n",
       "senior_citizen              7043.0   0.162147   0.368612   0.00   0.0   0.00   \n",
       "tenure                      7043.0  32.371149  24.559481   0.00   9.0  29.00   \n",
       "internet_service_type_id    7043.0   1.872923   0.737796   1.00   1.0   2.00   \n",
       "contract_type_id            7043.0   1.690473   0.833755   1.00   1.0   1.00   \n",
       "payment_type_id             7043.0   2.315633   1.148907   1.00   1.0   2.00   \n",
       "monthly_charges             7043.0  64.761692  30.090047  18.25  35.5  70.35   \n",
       "contract_type_id.1          7043.0   1.690473   0.833755   1.00   1.0   1.00   \n",
       "payment_type_id.1           7043.0   2.315633   1.148907   1.00   1.0   2.00   \n",
       "internet_service_type_id.1  7043.0   1.872923   0.737796   1.00   1.0   2.00   \n",
       "\n",
       "                              75%     max  range  \n",
       "senior_citizen               0.00    1.00    1.0  \n",
       "tenure                      55.00   72.00   72.0  \n",
       "internet_service_type_id     2.00    3.00    2.0  \n",
       "contract_type_id             2.00    3.00    2.0  \n",
       "payment_type_id              3.00    4.00    3.0  \n",
       "monthly_charges             89.85  118.75  100.5  \n",
       "contract_type_id.1           2.00    3.00    2.0  \n",
       "payment_type_id.1            3.00    4.00    3.0  \n",
       "internet_service_type_id.1   2.00    3.00    2.0  "
      ]
     },
     "execution_count": 14,
     "metadata": {},
     "output_type": "execute_result"
    }
   ],
   "source": [
    "col_range(telco_df)"
   ]
  },
  {
   "cell_type": "markdown",
   "id": "6baf7597",
   "metadata": {},
   "source": [
    "## Preparing Data:"
   ]
  },
  {
   "cell_type": "code",
   "execution_count": 15,
   "id": "5810088e",
   "metadata": {},
   "outputs": [
    {
     "data": {
      "text/html": [
       "<div>\n",
       "<style scoped>\n",
       "    .dataframe tbody tr th:only-of-type {\n",
       "        vertical-align: middle;\n",
       "    }\n",
       "\n",
       "    .dataframe tbody tr th {\n",
       "        vertical-align: top;\n",
       "    }\n",
       "\n",
       "    .dataframe thead th {\n",
       "        text-align: right;\n",
       "    }\n",
       "</style>\n",
       "<table border=\"1\" class=\"dataframe\">\n",
       "  <thead>\n",
       "    <tr style=\"text-align: right;\">\n",
       "      <th></th>\n",
       "      <th>customer_id</th>\n",
       "      <th>gender</th>\n",
       "      <th>senior_citizen</th>\n",
       "      <th>partner</th>\n",
       "      <th>dependents</th>\n",
       "      <th>tenure</th>\n",
       "      <th>phone_service</th>\n",
       "      <th>multiple_lines</th>\n",
       "      <th>internet_service_type_id</th>\n",
       "      <th>online_security</th>\n",
       "      <th>...</th>\n",
       "      <th>payment_type_id</th>\n",
       "      <th>monthly_charges</th>\n",
       "      <th>total_charges</th>\n",
       "      <th>churn</th>\n",
       "      <th>contract_type_id.1</th>\n",
       "      <th>contract_type</th>\n",
       "      <th>payment_type_id.1</th>\n",
       "      <th>payment_type</th>\n",
       "      <th>internet_service_type_id.1</th>\n",
       "      <th>internet_service_type</th>\n",
       "    </tr>\n",
       "  </thead>\n",
       "  <tbody>\n",
       "    <tr>\n",
       "      <th>0</th>\n",
       "      <td>0002-ORFBO</td>\n",
       "      <td>Female</td>\n",
       "      <td>0</td>\n",
       "      <td>Yes</td>\n",
       "      <td>Yes</td>\n",
       "      <td>9</td>\n",
       "      <td>Yes</td>\n",
       "      <td>No</td>\n",
       "      <td>1</td>\n",
       "      <td>No</td>\n",
       "      <td>...</td>\n",
       "      <td>2</td>\n",
       "      <td>65.6</td>\n",
       "      <td>593.3</td>\n",
       "      <td>No</td>\n",
       "      <td>2</td>\n",
       "      <td>One year</td>\n",
       "      <td>2</td>\n",
       "      <td>Mailed check</td>\n",
       "      <td>1</td>\n",
       "      <td>DSL</td>\n",
       "    </tr>\n",
       "    <tr>\n",
       "      <th>1</th>\n",
       "      <td>0003-MKNFE</td>\n",
       "      <td>Male</td>\n",
       "      <td>0</td>\n",
       "      <td>No</td>\n",
       "      <td>No</td>\n",
       "      <td>9</td>\n",
       "      <td>Yes</td>\n",
       "      <td>Yes</td>\n",
       "      <td>1</td>\n",
       "      <td>No</td>\n",
       "      <td>...</td>\n",
       "      <td>2</td>\n",
       "      <td>59.9</td>\n",
       "      <td>542.4</td>\n",
       "      <td>No</td>\n",
       "      <td>1</td>\n",
       "      <td>Month-to-month</td>\n",
       "      <td>2</td>\n",
       "      <td>Mailed check</td>\n",
       "      <td>1</td>\n",
       "      <td>DSL</td>\n",
       "    </tr>\n",
       "    <tr>\n",
       "      <th>2</th>\n",
       "      <td>0004-TLHLJ</td>\n",
       "      <td>Male</td>\n",
       "      <td>0</td>\n",
       "      <td>No</td>\n",
       "      <td>No</td>\n",
       "      <td>4</td>\n",
       "      <td>Yes</td>\n",
       "      <td>No</td>\n",
       "      <td>2</td>\n",
       "      <td>No</td>\n",
       "      <td>...</td>\n",
       "      <td>1</td>\n",
       "      <td>73.9</td>\n",
       "      <td>280.85</td>\n",
       "      <td>Yes</td>\n",
       "      <td>1</td>\n",
       "      <td>Month-to-month</td>\n",
       "      <td>1</td>\n",
       "      <td>Electronic check</td>\n",
       "      <td>2</td>\n",
       "      <td>Fiber optic</td>\n",
       "    </tr>\n",
       "    <tr>\n",
       "      <th>3</th>\n",
       "      <td>0011-IGKFF</td>\n",
       "      <td>Male</td>\n",
       "      <td>1</td>\n",
       "      <td>Yes</td>\n",
       "      <td>No</td>\n",
       "      <td>13</td>\n",
       "      <td>Yes</td>\n",
       "      <td>No</td>\n",
       "      <td>2</td>\n",
       "      <td>No</td>\n",
       "      <td>...</td>\n",
       "      <td>1</td>\n",
       "      <td>98.0</td>\n",
       "      <td>1237.85</td>\n",
       "      <td>Yes</td>\n",
       "      <td>1</td>\n",
       "      <td>Month-to-month</td>\n",
       "      <td>1</td>\n",
       "      <td>Electronic check</td>\n",
       "      <td>2</td>\n",
       "      <td>Fiber optic</td>\n",
       "    </tr>\n",
       "    <tr>\n",
       "      <th>4</th>\n",
       "      <td>0013-EXCHZ</td>\n",
       "      <td>Female</td>\n",
       "      <td>1</td>\n",
       "      <td>Yes</td>\n",
       "      <td>No</td>\n",
       "      <td>3</td>\n",
       "      <td>Yes</td>\n",
       "      <td>No</td>\n",
       "      <td>2</td>\n",
       "      <td>No</td>\n",
       "      <td>...</td>\n",
       "      <td>2</td>\n",
       "      <td>83.9</td>\n",
       "      <td>267.4</td>\n",
       "      <td>Yes</td>\n",
       "      <td>1</td>\n",
       "      <td>Month-to-month</td>\n",
       "      <td>2</td>\n",
       "      <td>Mailed check</td>\n",
       "      <td>2</td>\n",
       "      <td>Fiber optic</td>\n",
       "    </tr>\n",
       "  </tbody>\n",
       "</table>\n",
       "<p>5 rows × 27 columns</p>\n",
       "</div>"
      ],
      "text/plain": [
       "  customer_id  gender  senior_citizen partner dependents  tenure  \\\n",
       "0  0002-ORFBO  Female               0     Yes        Yes       9   \n",
       "1  0003-MKNFE    Male               0      No         No       9   \n",
       "2  0004-TLHLJ    Male               0      No         No       4   \n",
       "3  0011-IGKFF    Male               1     Yes         No      13   \n",
       "4  0013-EXCHZ  Female               1     Yes         No       3   \n",
       "\n",
       "  phone_service multiple_lines  internet_service_type_id online_security  ...  \\\n",
       "0           Yes             No                         1              No  ...   \n",
       "1           Yes            Yes                         1              No  ...   \n",
       "2           Yes             No                         2              No  ...   \n",
       "3           Yes             No                         2              No  ...   \n",
       "4           Yes             No                         2              No  ...   \n",
       "\n",
       "  payment_type_id monthly_charges total_charges churn contract_type_id.1  \\\n",
       "0               2            65.6         593.3    No                  2   \n",
       "1               2            59.9         542.4    No                  1   \n",
       "2               1            73.9        280.85   Yes                  1   \n",
       "3               1            98.0       1237.85   Yes                  1   \n",
       "4               2            83.9         267.4   Yes                  1   \n",
       "\n",
       "    contract_type payment_type_id.1      payment_type  \\\n",
       "0        One year                 2      Mailed check   \n",
       "1  Month-to-month                 2      Mailed check   \n",
       "2  Month-to-month                 1  Electronic check   \n",
       "3  Month-to-month                 1  Electronic check   \n",
       "4  Month-to-month                 2      Mailed check   \n",
       "\n",
       "   internet_service_type_id.1 internet_service_type  \n",
       "0                           1                   DSL  \n",
       "1                           1                   DSL  \n",
       "2                           2           Fiber optic  \n",
       "3                           2           Fiber optic  \n",
       "4                           2           Fiber optic  \n",
       "\n",
       "[5 rows x 27 columns]"
      ]
     },
     "execution_count": 15,
     "metadata": {},
     "output_type": "execute_result"
    }
   ],
   "source": [
    "#plugging in our function called prep_telco_data from prepare.py file to cleanup data \n",
    "#and then telco_split to prepare for training\n",
    "telco_df.head()"
   ]
  },
  {
   "cell_type": "code",
   "execution_count": 16,
   "id": "ae99758d",
   "metadata": {},
   "outputs": [
    {
     "data": {
      "text/html": [
       "<div>\n",
       "<style scoped>\n",
       "    .dataframe tbody tr th:only-of-type {\n",
       "        vertical-align: middle;\n",
       "    }\n",
       "\n",
       "    .dataframe tbody tr th {\n",
       "        vertical-align: top;\n",
       "    }\n",
       "\n",
       "    .dataframe thead th {\n",
       "        text-align: right;\n",
       "    }\n",
       "</style>\n",
       "<table border=\"1\" class=\"dataframe\">\n",
       "  <thead>\n",
       "    <tr style=\"text-align: right;\">\n",
       "      <th></th>\n",
       "      <th>gender</th>\n",
       "      <th>senior_citizen</th>\n",
       "      <th>partner</th>\n",
       "      <th>dependents</th>\n",
       "      <th>phone_service</th>\n",
       "      <th>multiple_lines</th>\n",
       "      <th>online_security</th>\n",
       "      <th>online_backup</th>\n",
       "      <th>device_protection</th>\n",
       "      <th>tech_support</th>\n",
       "      <th>streaming_tv</th>\n",
       "      <th>streaming_movies</th>\n",
       "      <th>paperless_billing</th>\n",
       "      <th>churn</th>\n",
       "      <th>contract_type</th>\n",
       "      <th>payment_type</th>\n",
       "      <th>internet_service_type</th>\n",
       "    </tr>\n",
       "  </thead>\n",
       "  <tbody>\n",
       "    <tr>\n",
       "      <th>3270</th>\n",
       "      <td>Female</td>\n",
       "      <td>No</td>\n",
       "      <td>No</td>\n",
       "      <td>No</td>\n",
       "      <td>Yes</td>\n",
       "      <td>No</td>\n",
       "      <td>Yes</td>\n",
       "      <td>No</td>\n",
       "      <td>Yes</td>\n",
       "      <td>Yes</td>\n",
       "      <td>No</td>\n",
       "      <td>No</td>\n",
       "      <td>No</td>\n",
       "      <td>No</td>\n",
       "      <td>Month-to-month</td>\n",
       "      <td>Electronic check</td>\n",
       "      <td>Fiber optic</td>\n",
       "    </tr>\n",
       "    <tr>\n",
       "      <th>6084</th>\n",
       "      <td>Female</td>\n",
       "      <td>Yes</td>\n",
       "      <td>No</td>\n",
       "      <td>No</td>\n",
       "      <td>Yes</td>\n",
       "      <td>Yes</td>\n",
       "      <td>No</td>\n",
       "      <td>No</td>\n",
       "      <td>No</td>\n",
       "      <td>Yes</td>\n",
       "      <td>No</td>\n",
       "      <td>Yes</td>\n",
       "      <td>Yes</td>\n",
       "      <td>No</td>\n",
       "      <td>Month-to-month</td>\n",
       "      <td>Electronic check</td>\n",
       "      <td>DSL</td>\n",
       "    </tr>\n",
       "    <tr>\n",
       "      <th>4470</th>\n",
       "      <td>Female</td>\n",
       "      <td>No</td>\n",
       "      <td>No</td>\n",
       "      <td>No</td>\n",
       "      <td>Yes</td>\n",
       "      <td>Yes</td>\n",
       "      <td>No</td>\n",
       "      <td>Yes</td>\n",
       "      <td>No</td>\n",
       "      <td>No</td>\n",
       "      <td>No</td>\n",
       "      <td>No</td>\n",
       "      <td>Yes</td>\n",
       "      <td>No</td>\n",
       "      <td>One year</td>\n",
       "      <td>Electronic check</td>\n",
       "      <td>DSL</td>\n",
       "    </tr>\n",
       "    <tr>\n",
       "      <th>428</th>\n",
       "      <td>Female</td>\n",
       "      <td>Yes</td>\n",
       "      <td>No</td>\n",
       "      <td>No</td>\n",
       "      <td>No</td>\n",
       "      <td>No phone service</td>\n",
       "      <td>Yes</td>\n",
       "      <td>No</td>\n",
       "      <td>No</td>\n",
       "      <td>No</td>\n",
       "      <td>Yes</td>\n",
       "      <td>No</td>\n",
       "      <td>Yes</td>\n",
       "      <td>Yes</td>\n",
       "      <td>Month-to-month</td>\n",
       "      <td>Electronic check</td>\n",
       "      <td>DSL</td>\n",
       "    </tr>\n",
       "    <tr>\n",
       "      <th>3329</th>\n",
       "      <td>Male</td>\n",
       "      <td>No</td>\n",
       "      <td>Yes</td>\n",
       "      <td>Yes</td>\n",
       "      <td>Yes</td>\n",
       "      <td>Yes</td>\n",
       "      <td>Yes</td>\n",
       "      <td>No</td>\n",
       "      <td>Yes</td>\n",
       "      <td>No</td>\n",
       "      <td>Yes</td>\n",
       "      <td>No</td>\n",
       "      <td>Yes</td>\n",
       "      <td>No</td>\n",
       "      <td>One year</td>\n",
       "      <td>Bank transfer (automatic)</td>\n",
       "      <td>Fiber optic</td>\n",
       "    </tr>\n",
       "    <tr>\n",
       "      <th>...</th>\n",
       "      <td>...</td>\n",
       "      <td>...</td>\n",
       "      <td>...</td>\n",
       "      <td>...</td>\n",
       "      <td>...</td>\n",
       "      <td>...</td>\n",
       "      <td>...</td>\n",
       "      <td>...</td>\n",
       "      <td>...</td>\n",
       "      <td>...</td>\n",
       "      <td>...</td>\n",
       "      <td>...</td>\n",
       "      <td>...</td>\n",
       "      <td>...</td>\n",
       "      <td>...</td>\n",
       "      <td>...</td>\n",
       "      <td>...</td>\n",
       "    </tr>\n",
       "    <tr>\n",
       "      <th>5951</th>\n",
       "      <td>Female</td>\n",
       "      <td>No</td>\n",
       "      <td>No</td>\n",
       "      <td>No</td>\n",
       "      <td>Yes</td>\n",
       "      <td>Yes</td>\n",
       "      <td>No</td>\n",
       "      <td>Yes</td>\n",
       "      <td>Yes</td>\n",
       "      <td>Yes</td>\n",
       "      <td>Yes</td>\n",
       "      <td>Yes</td>\n",
       "      <td>No</td>\n",
       "      <td>No</td>\n",
       "      <td>Two year</td>\n",
       "      <td>Bank transfer (automatic)</td>\n",
       "      <td>DSL</td>\n",
       "    </tr>\n",
       "    <tr>\n",
       "      <th>2421</th>\n",
       "      <td>Male</td>\n",
       "      <td>No</td>\n",
       "      <td>No</td>\n",
       "      <td>No</td>\n",
       "      <td>Yes</td>\n",
       "      <td>Yes</td>\n",
       "      <td>Yes</td>\n",
       "      <td>Yes</td>\n",
       "      <td>No</td>\n",
       "      <td>No</td>\n",
       "      <td>Yes</td>\n",
       "      <td>No</td>\n",
       "      <td>Yes</td>\n",
       "      <td>No</td>\n",
       "      <td>Month-to-month</td>\n",
       "      <td>Credit card (automatic)</td>\n",
       "      <td>Fiber optic</td>\n",
       "    </tr>\n",
       "    <tr>\n",
       "      <th>3858</th>\n",
       "      <td>Female</td>\n",
       "      <td>No</td>\n",
       "      <td>No</td>\n",
       "      <td>No</td>\n",
       "      <td>Yes</td>\n",
       "      <td>Yes</td>\n",
       "      <td>No</td>\n",
       "      <td>Yes</td>\n",
       "      <td>No</td>\n",
       "      <td>No</td>\n",
       "      <td>No</td>\n",
       "      <td>Yes</td>\n",
       "      <td>Yes</td>\n",
       "      <td>No</td>\n",
       "      <td>Month-to-month</td>\n",
       "      <td>Electronic check</td>\n",
       "      <td>Fiber optic</td>\n",
       "    </tr>\n",
       "    <tr>\n",
       "      <th>3988</th>\n",
       "      <td>Female</td>\n",
       "      <td>No</td>\n",
       "      <td>No</td>\n",
       "      <td>No</td>\n",
       "      <td>Yes</td>\n",
       "      <td>No</td>\n",
       "      <td>No internet service</td>\n",
       "      <td>No internet service</td>\n",
       "      <td>No internet service</td>\n",
       "      <td>No internet service</td>\n",
       "      <td>No internet service</td>\n",
       "      <td>No internet service</td>\n",
       "      <td>No</td>\n",
       "      <td>Yes</td>\n",
       "      <td>Month-to-month</td>\n",
       "      <td>Mailed check</td>\n",
       "      <td>None</td>\n",
       "    </tr>\n",
       "    <tr>\n",
       "      <th>1963</th>\n",
       "      <td>Male</td>\n",
       "      <td>No</td>\n",
       "      <td>No</td>\n",
       "      <td>No</td>\n",
       "      <td>Yes</td>\n",
       "      <td>No</td>\n",
       "      <td>No</td>\n",
       "      <td>No</td>\n",
       "      <td>No</td>\n",
       "      <td>No</td>\n",
       "      <td>No</td>\n",
       "      <td>No</td>\n",
       "      <td>No</td>\n",
       "      <td>Yes</td>\n",
       "      <td>Month-to-month</td>\n",
       "      <td>Bank transfer (automatic)</td>\n",
       "      <td>DSL</td>\n",
       "    </tr>\n",
       "  </tbody>\n",
       "</table>\n",
       "<p>4500 rows × 17 columns</p>\n",
       "</div>"
      ],
      "text/plain": [
       "      gender senior_citizen partner dependents phone_service  \\\n",
       "3270  Female             No      No         No           Yes   \n",
       "6084  Female            Yes      No         No           Yes   \n",
       "4470  Female             No      No         No           Yes   \n",
       "428   Female            Yes      No         No            No   \n",
       "3329    Male             No     Yes        Yes           Yes   \n",
       "...      ...            ...     ...        ...           ...   \n",
       "5951  Female             No      No         No           Yes   \n",
       "2421    Male             No      No         No           Yes   \n",
       "3858  Female             No      No         No           Yes   \n",
       "3988  Female             No      No         No           Yes   \n",
       "1963    Male             No      No         No           Yes   \n",
       "\n",
       "        multiple_lines      online_security        online_backup  \\\n",
       "3270                No                  Yes                   No   \n",
       "6084               Yes                   No                   No   \n",
       "4470               Yes                   No                  Yes   \n",
       "428   No phone service                  Yes                   No   \n",
       "3329               Yes                  Yes                   No   \n",
       "...                ...                  ...                  ...   \n",
       "5951               Yes                   No                  Yes   \n",
       "2421               Yes                  Yes                  Yes   \n",
       "3858               Yes                   No                  Yes   \n",
       "3988                No  No internet service  No internet service   \n",
       "1963                No                   No                   No   \n",
       "\n",
       "        device_protection         tech_support         streaming_tv  \\\n",
       "3270                  Yes                  Yes                   No   \n",
       "6084                   No                  Yes                   No   \n",
       "4470                   No                   No                   No   \n",
       "428                    No                   No                  Yes   \n",
       "3329                  Yes                   No                  Yes   \n",
       "...                   ...                  ...                  ...   \n",
       "5951                  Yes                  Yes                  Yes   \n",
       "2421                   No                   No                  Yes   \n",
       "3858                   No                   No                   No   \n",
       "3988  No internet service  No internet service  No internet service   \n",
       "1963                   No                   No                   No   \n",
       "\n",
       "         streaming_movies paperless_billing churn   contract_type  \\\n",
       "3270                   No                No    No  Month-to-month   \n",
       "6084                  Yes               Yes    No  Month-to-month   \n",
       "4470                   No               Yes    No        One year   \n",
       "428                    No               Yes   Yes  Month-to-month   \n",
       "3329                   No               Yes    No        One year   \n",
       "...                   ...               ...   ...             ...   \n",
       "5951                  Yes                No    No        Two year   \n",
       "2421                   No               Yes    No  Month-to-month   \n",
       "3858                  Yes               Yes    No  Month-to-month   \n",
       "3988  No internet service                No   Yes  Month-to-month   \n",
       "1963                   No                No   Yes  Month-to-month   \n",
       "\n",
       "                   payment_type internet_service_type  \n",
       "3270           Electronic check           Fiber optic  \n",
       "6084           Electronic check                   DSL  \n",
       "4470           Electronic check                   DSL  \n",
       "428            Electronic check                   DSL  \n",
       "3329  Bank transfer (automatic)           Fiber optic  \n",
       "...                         ...                   ...  \n",
       "5951  Bank transfer (automatic)                   DSL  \n",
       "2421    Credit card (automatic)           Fiber optic  \n",
       "3858           Electronic check           Fiber optic  \n",
       "3988               Mailed check                  None  \n",
       "1963  Bank transfer (automatic)                   DSL  \n",
       "\n",
       "[4500 rows x 17 columns]"
      ]
     },
     "execution_count": 16,
     "metadata": {},
     "output_type": "execute_result"
    }
   ],
   "source": [
    "#dropping customer_id\n",
    "train.select_dtypes('object').drop(columns = 'customer_id')"
   ]
  },
  {
   "cell_type": "markdown",
   "id": "874264a6",
   "metadata": {},
   "source": [
    "A handful of the categorical columns need to be encoded (so that options can be numerical)"
   ]
  },
  {
   "cell_type": "markdown",
   "id": "bc83c5c7",
   "metadata": {},
   "source": [
    "List of columns to encode:\n",
    "- Partner\n",
    "- dependents\n",
    "- phone_service\n",
    "- multiple lines\n",
    "- tech_support\n",
    "- churn\n",
    "- contract_type\n",
    "- internet_service_type"
   ]
  },
  {
   "cell_type": "markdown",
   "id": "d2606cc4",
   "metadata": {},
   "source": [
    "# Hypothesis & Charts Exploration:"
   ]
  },
  {
   "cell_type": "markdown",
   "id": "205b00c8",
   "metadata": {},
   "source": [
    "## Churn vs. Partnerships (number of people per household on accounts)\n",
    "\n",
    "\n",
    "### Partners and Churn\n",
    "\n",
    "- I want to take some time to explore the relationships between churn and the Telco demographics. \n",
    "I'll be using ChiSquare, as this Hypothesis test works well with two categorical values. \n",
    "I also will be using barplots to visually show these relations...if any. :)\n",
    "\n",
    "alpha: 0.05\n",
    "\n",
    "* H0: There is NO relationship between churn and customers with partners\n",
    "* Ha: There IS a relationship between churn and customers with partners"
   ]
  },
  {
   "cell_type": "code",
   "execution_count": 17,
   "id": "9dfd9725",
   "metadata": {},
   "outputs": [
    {
     "name": "stdout",
     "output_type": "stream",
     "text": [
      "The p-value is 2.0115703972096128e-23\n",
      "Sufficient evidence is present to reject the null hypothesis\n"
     ]
    }
   ],
   "source": [
    "# Chi squared with un-encoded categorical columns\n",
    "# Null hypothesis: churn rate has no relation to partnerships of customers\n",
    "# Alternative hypothesis: there is a relationship between churn rate and partnerships of customers\n",
    "alpha = 0.05\n",
    "observed = pd.crosstab(train.churn, train.partner)\n",
    "chi2, p, degf, expected = stats.chi2_contingency(observed)\n",
    "print(f\"The p-value is {p}\")\n",
    "if p < alpha:\n",
    "    print(\"Sufficient evidence is present to reject the null hypothesis\")\n",
    "else:\n",
    "    print(\"Insufficient evidence to reject the null\")\n",
    "    print(\"Evidence seems to support the claim that partnership and churn are independent\")"
   ]
  },
  {
   "cell_type": "code",
   "execution_count": 18,
   "id": "4d2501a9",
   "metadata": {},
   "outputs": [
    {
     "data": {
      "image/png": "[encoded data removed]",
      "text/plain": [
       "<Figure size 432x288 with 1 Axes>"
      ]
     },
     "metadata": {
      "needs_background": "light"
     },
     "output_type": "display_data"
    }
   ],
   "source": [
    "#let's look at the numbers visually\n",
    "barplot = observed.plot.bar(rot=0)"
   ]
  },
  {
   "cell_type": "markdown",
   "id": "e1fd1051",
   "metadata": {},
   "source": [
    "### Dependents and Churn\n",
    "\n",
    "- Is there a relationship of customers with dependents and churn rate?\n",
    "\n",
    "alpha: 0.05\n",
    "\n",
    "* H0: There is NO relationship between churn and customers with dependents\n",
    "* Ha: There IS a relationship between churn and customers with dependents"
   ]
  },
  {
   "cell_type": "code",
   "execution_count": 19,
   "id": "1ebebf10",
   "metadata": {},
   "outputs": [
    {
     "name": "stdout",
     "output_type": "stream",
     "text": [
      "The p-value is 3.091037491736131e-30\n",
      "Sufficient evidence is present to reject the null hypothesis\n"
     ]
    }
   ],
   "source": [
    "# Chi squared with un-encoded categorical columns\n",
    "# Null hypothesis: churn rate has no relation to dependents of customers\n",
    "# Alternative hypothesis: there is a relationship between churn rate and dependents of customers\n",
    "alpha = 0.05\n",
    "observed = pd.crosstab(train.churn, train.dependents)\n",
    "chi2, p, degf, expected = stats.chi2_contingency(observed)\n",
    "print(f\"The p-value is {p}\")\n",
    "if p < alpha:\n",
    "    print(\"Sufficient evidence is present to reject the null hypothesis\")\n",
    "else:\n",
    "    print(\"Insufficient evidence to reject the null\")\n",
    "    print(\"Evidence seems to support the claim that customers with dependents and churn are independent\")"
   ]
  },
  {
   "cell_type": "code",
   "execution_count": 20,
   "id": "2395ba92",
   "metadata": {},
   "outputs": [
    {
     "data": {
      "image/png": "[encoded data removed]",
      "text/plain": [
       "<Figure size 432x288 with 1 Axes>"
      ]
     },
     "metadata": {
      "needs_background": "light"
     },
     "output_type": "display_data"
    }
   ],
   "source": [
    "#let's look at the numbers visually\n",
    "barplot = observed.plot.bar(rot=0)"
   ]
  },
  {
   "cell_type": "markdown",
   "id": "257e6282",
   "metadata": {},
   "source": [
    "### Take Aways:\n",
    "* There IS a relationship between how many customers have partners to churn rate.\n",
    "* There also does seem to be a relation on customers with dependents and churn rate, however it is clear from the visual above that customers without dependents tend to churn more than those with.\n",
    "\n",
    "##########################################################################"
   ]
  },
  {
   "cell_type": "markdown",
   "id": "7739c9cc",
   "metadata": {},
   "source": [
    "## Churn vs. Gender:\n",
    "\n",
    "* H0: There is NO relationship between churn and gender.\n",
    "* Ha: There IS a relationship between churn and gender."
   ]
  },
  {
   "cell_type": "code",
   "execution_count": 21,
   "id": "23648c85",
   "metadata": {},
   "outputs": [
    {
     "name": "stdout",
     "output_type": "stream",
     "text": [
      "The p-value is 0.23006006175322627\n",
      "Insufficient evidence to reject the null\n",
      "Evidence seems to support the claim that gender and churn are independent\n"
     ]
    }
   ],
   "source": [
    "# Chi squared with un-encoded categorical columns\n",
    "# Null hypothesis: churn rate has no relation to gender\n",
    "# Alternative hypothesis: there is a relationship between churn rate and gender\n",
    "alpha = 0.05\n",
    "observed = pd.crosstab(train.churn, train.gender)\n",
    "chi2, p, degf, expected = stats.chi2_contingency(observed)\n",
    "print(f\"The p-value is {p}\")\n",
    "if p < alpha:\n",
    "    print(\"Sufficient evidence is present to reject the null hypothesis\")\n",
    "else:\n",
    "    print(\"Insufficient evidence to reject the null\")\n",
    "    print(\"Evidence seems to support the claim that gender and churn are independent\")"
   ]
  },
  {
   "cell_type": "code",
   "execution_count": 22,
   "id": "64f5db6e",
   "metadata": {},
   "outputs": [
    {
     "data": {
      "image/png": "[encoded data removed]",
      "text/plain": [
       "<Figure size 432x288 with 1 Axes>"
      ]
     },
     "metadata": {
      "needs_background": "light"
     },
     "output_type": "display_data"
    }
   ],
   "source": [
    "#let's look at the numbers visually\n",
    "barplot = observed.plot.bar(rot=0)"
   ]
  },
  {
   "cell_type": "markdown",
   "id": "bb02c49e",
   "metadata": {},
   "source": [
    "### Take Aways:\n",
    "Both Genders churned at almost the same rate within their own categories:\n",
    "- <b>Female customers: 27% churned</b>\n",
    "- Male customers: 26% churned\n",
    "<br>\n",
    "<br>\n",
    "\n",
    "### The data shows that there really isn't any relationship between gender and customer churn rate.\n",
    "\n",
    "##########################################################################"
   ]
  },
  {
   "cell_type": "markdown",
   "id": "de040a79",
   "metadata": {},
   "source": [
    "## Churn vs. Is Senior Citizen?\n",
    "\n",
    "* H0: There is NO relationship between churn and customer being a senior citizen.\n",
    "* Ha: There IS a relationship between churn and customer being a senior citizen."
   ]
  },
  {
   "cell_type": "code",
   "execution_count": 23,
   "id": "6ec45abd",
   "metadata": {},
   "outputs": [
    {
     "name": "stdout",
     "output_type": "stream",
     "text": [
      "The p-value is 1.1002429756735793e-26\n",
      "Sufficient evidence is present to reject the null hypothesis\n"
     ]
    }
   ],
   "source": [
    "# Chi squared with un-encoded categorical columns\n",
    "# Null hypothesis: churn rate has no relation to senior citizen customers\n",
    "# Alternative hypothesis: there is a relationship between churn rate and senior citizens\n",
    "alpha = 0.05\n",
    "observed = pd.crosstab(train.churn, train.senior_citizen)\n",
    "chi2, p, degf, expected = stats.chi2_contingency(observed)\n",
    "print(f\"The p-value is {p}\")\n",
    "if p < alpha:\n",
    "    print(\"Sufficient evidence is present to reject the null hypothesis\")\n",
    "else:\n",
    "    print(\"Insufficient evidence to reject the null\")\n",
    "    print(\"Evidence seems to support the claim that senior_citizens and churn are independent\")"
   ]
  },
  {
   "cell_type": "code",
   "execution_count": 24,
   "id": "412a8fdb",
   "metadata": {},
   "outputs": [
    {
     "data": {
      "image/png": "[encoded data removed]",
      "text/plain": [
       "<Figure size 432x288 with 1 Axes>"
      ]
     },
     "metadata": {
      "needs_background": "light"
     },
     "output_type": "display_data"
    }
   ],
   "source": [
    "#let's look at the numbers visually\n",
    "barplot = observed.plot.bar(rot=0)"
   ]
  },
  {
   "cell_type": "markdown",
   "id": "c109cb58",
   "metadata": {},
   "source": [
    "### Take Aways:\n",
    "From first glance, because of the low amount of Senior Citizen data count, it looks like customers 59 and younger have more churns. By numbers, YES, 59 and younger DO have more churn, but <b>by churn rate based on its own category, Senior Citizens have the highest churn rate.</b>\n",
    "- <b>Senior Citizens: 41% churned</b>\n",
    "- 59 and younger customers: 24% churned\n",
    "\n",
    "As the p-value shows, in the case that the null Hypothesis is that churn and is_senior_citizen as NO relation,\n",
    "We would reject the nully Hypothesis as they clearly relate. \n",
    "\n",
    "##########################################################################"
   ]
  },
  {
   "cell_type": "markdown",
   "id": "5809c8d8",
   "metadata": {},
   "source": [
    "### NEXT STEPS: \n",
    "- It's clear that our drivers for demographics is single and senior citizen customers.\n",
    "- Using these two key drivers, it's time to compare to subcategories:\n",
    "        * ✅ non-automated accounts\n",
    "        * ✅ account types\n",
    "        * ✅ internet service types"
   ]
  },
  {
   "cell_type": "markdown",
   "id": "77f59bb5",
   "metadata": {},
   "source": [
    "## Non-automated accounts vs. Is Senior Citizen:\n",
    "\n",
    "* H0: There is NO relationship between non-auto accounts and customer being a senior citizen.\n",
    "* Ha: There IS a relationship between non-auto accounts and customer being a senior citizen."
   ]
  },
  {
   "cell_type": "code",
   "execution_count": 25,
   "id": "d82ffc30",
   "metadata": {},
   "outputs": [
    {
     "data": {
      "text/html": [
       "<div>\n",
       "<style scoped>\n",
       "    .dataframe tbody tr th:only-of-type {\n",
       "        vertical-align: middle;\n",
       "    }\n",
       "\n",
       "    .dataframe tbody tr th {\n",
       "        vertical-align: top;\n",
       "    }\n",
       "\n",
       "    .dataframe thead th {\n",
       "        text-align: right;\n",
       "    }\n",
       "</style>\n",
       "<table border=\"1\" class=\"dataframe\">\n",
       "  <thead>\n",
       "    <tr style=\"text-align: right;\">\n",
       "      <th></th>\n",
       "      <th>customer_id</th>\n",
       "      <th>gender</th>\n",
       "      <th>senior_citizen</th>\n",
       "      <th>partner</th>\n",
       "      <th>dependents</th>\n",
       "      <th>tenure</th>\n",
       "      <th>phone_service</th>\n",
       "      <th>multiple_lines</th>\n",
       "      <th>online_security</th>\n",
       "      <th>online_backup</th>\n",
       "      <th>...</th>\n",
       "      <th>streaming_movies_No internet service</th>\n",
       "      <th>streaming_movies_Yes</th>\n",
       "      <th>paperless_billing_Yes</th>\n",
       "      <th>contract_type_One year</th>\n",
       "      <th>contract_type_Two year</th>\n",
       "      <th>payment_type_Credit card (automatic)</th>\n",
       "      <th>payment_type_Electronic check</th>\n",
       "      <th>payment_type_Mailed check</th>\n",
       "      <th>internet_service_type_Fiber optic</th>\n",
       "      <th>internet_service_type_None</th>\n",
       "    </tr>\n",
       "  </thead>\n",
       "  <tbody>\n",
       "    <tr>\n",
       "      <th>3270</th>\n",
       "      <td>4673-KKSLS</td>\n",
       "      <td>Female</td>\n",
       "      <td>No</td>\n",
       "      <td>No</td>\n",
       "      <td>No</td>\n",
       "      <td>31</td>\n",
       "      <td>Yes</td>\n",
       "      <td>No</td>\n",
       "      <td>Yes</td>\n",
       "      <td>No</td>\n",
       "      <td>...</td>\n",
       "      <td>0</td>\n",
       "      <td>0</td>\n",
       "      <td>0</td>\n",
       "      <td>0</td>\n",
       "      <td>0</td>\n",
       "      <td>0</td>\n",
       "      <td>1</td>\n",
       "      <td>0</td>\n",
       "      <td>1</td>\n",
       "      <td>0</td>\n",
       "    </tr>\n",
       "  </tbody>\n",
       "</table>\n",
       "<p>1 rows × 51 columns</p>\n",
       "</div>"
      ],
      "text/plain": [
       "     customer_id  gender senior_citizen partner dependents  tenure  \\\n",
       "3270  4673-KKSLS  Female             No      No         No      31   \n",
       "\n",
       "     phone_service multiple_lines online_security online_backup  ...  \\\n",
       "3270           Yes             No             Yes            No  ...   \n",
       "\n",
       "     streaming_movies_No internet service streaming_movies_Yes  \\\n",
       "3270                                    0                    0   \n",
       "\n",
       "     paperless_billing_Yes contract_type_One year contract_type_Two year  \\\n",
       "3270                     0                      0                      0   \n",
       "\n",
       "      payment_type_Credit card (automatic)  payment_type_Electronic check  \\\n",
       "3270                                     0                              1   \n",
       "\n",
       "     payment_type_Mailed check  internet_service_type_Fiber optic  \\\n",
       "3270                         0                                  1   \n",
       "\n",
       "     internet_service_type_None  \n",
       "3270                          0  \n",
       "\n",
       "[1 rows x 51 columns]"
      ]
     },
     "execution_count": 25,
     "metadata": {},
     "output_type": "execute_result"
    }
   ],
   "source": [
    "train.head(1)"
   ]
  },
  {
   "cell_type": "code",
   "execution_count": 26,
   "id": "be56aff5",
   "metadata": {},
   "outputs": [
    {
     "name": "stdout",
     "output_type": "stream",
     "text": [
      "The p-value is 7.76306018553908e-41\n",
      "Sufficient evidence is present to reject the null hypothesis\n"
     ]
    }
   ],
   "source": [
    "# Chi squared with un-encoded categorical columns\n",
    "alpha = 0.05\n",
    "observed = pd.crosstab(train.payment_type, train.senior_citizen)\n",
    "chi2, p, degf, expected = stats.chi2_contingency(observed)\n",
    "print(f\"The p-value is {p}\")\n",
    "if p < alpha:\n",
    "    print(\"Sufficient evidence is present to reject the null hypothesis\")\n",
    "else:\n",
    "    print(\"Insufficient evidence to reject the null\")\n",
    "    print(\"Evidence seems to support the claim that senior citizens and auto accounts are independent\")"
   ]
  },
  {
   "cell_type": "code",
   "execution_count": 27,
   "id": "65740285",
   "metadata": {},
   "outputs": [
    {
     "data": {
      "image/png": "[encoded data removed]",
      "text/plain": [
       "<Figure size 432x288 with 1 Axes>"
      ]
     },
     "metadata": {
      "needs_background": "light"
     },
     "output_type": "display_data"
    }
   ],
   "source": [
    "#let's look at the numbers visually\n",
    "barplot = observed.plot.bar(rot=0)"
   ]
  },
  {
   "cell_type": "markdown",
   "id": "420812b0",
   "metadata": {},
   "source": [
    "### Take Aways:\n",
    "* There IS a relationship between senior citizens and having non-automated accounts.\n",
    "* The above barplot shows that a large majority of senior citizens actually do have non-automated accounts.\n",
    "* (This bar plot looks also reminiscent of the is_senior citizen and churn plots).\n",
    "\n",
    "##########################################################################"
   ]
  },
  {
   "cell_type": "markdown",
   "id": "4b5b7460",
   "metadata": {},
   "source": [
    "## Non-automated accounts vs. Singles (using Partner/Dependant variable):\n",
    "\n",
    "* H0: There is NO relationship between non-auto accounts and customer being single.\n",
    "* Ha: There IS a relationship between non-auto accounts and customer being single."
   ]
  },
  {
   "cell_type": "code",
   "execution_count": 28,
   "id": "16f38030",
   "metadata": {},
   "outputs": [
    {
     "name": "stdout",
     "output_type": "stream",
     "text": [
      "The p-value is 4.132426205917052e-32\n",
      "Sufficient evidence is present to reject the null hypothesis\n"
     ]
    }
   ],
   "source": [
    "# Chi squared with un-encoded categorical columns\n",
    "alpha = 0.05\n",
    "observed = pd.crosstab(train.payment_type, train.partner)\n",
    "chi2, p, degf, expected = stats.chi2_contingency(observed)\n",
    "print(f\"The p-value is {p}\")\n",
    "if p < alpha:\n",
    "    print(\"Sufficient evidence is present to reject the null hypothesis\")\n",
    "else:\n",
    "    print(\"Insufficient evidence to reject the null\")\n",
    "    print(\"Evidence seems to support the claim that single customers and non-auto accounts are independent\")"
   ]
  },
  {
   "cell_type": "code",
   "execution_count": 29,
   "id": "396bf17e",
   "metadata": {},
   "outputs": [
    {
     "data": {
      "image/png": "[encoded data removed]",
      "text/plain": [
       "<Figure size 432x288 with 1 Axes>"
      ]
     },
     "metadata": {
      "needs_background": "light"
     },
     "output_type": "display_data"
    }
   ],
   "source": [
    "#let's look at the numbers visually\n",
    "barplot = observed.plot.bar(rot=0)"
   ]
  },
  {
   "cell_type": "code",
   "execution_count": null,
   "id": "960b1532",
   "metadata": {},
   "outputs": [],
   "source": []
  },
  {
   "cell_type": "code",
   "execution_count": null,
   "id": "2a1c2f96",
   "metadata": {},
   "outputs": [],
   "source": []
  },
  {
   "cell_type": "markdown",
   "id": "83cdaa0e",
   "metadata": {},
   "source": [
    "### Take Aways:\n",
    "* There IS a relationship between singles having non-automated accounts.\n",
    "* The above barplot shows that a large majority of singles actually do have non-automated accounts.\n",
    "\n",
    "##########################################################################"
   ]
  },
  {
   "cell_type": "markdown",
   "id": "b344ab21",
   "metadata": {},
   "source": [
    "## Internet type accounts vs. Senior Citizen:\n",
    "\n",
    "Seeing what kind of internet accounts most senior citizens have.\n",
    "\n",
    "* H0: There is NO relationship between internet type of accounts and customer being a senior citizen.\n",
    "* Ha: There IS a relationship between internet type of and customer being a senior citizen."
   ]
  },
  {
   "cell_type": "markdown",
   "id": "08d86299",
   "metadata": {},
   "source": [
    "A reminder of what this column is showing:\n",
    "* 2 = Fiber optic\n",
    "* 1 = DSL\n",
    "* 0 = No internet service"
   ]
  },
  {
   "cell_type": "code",
   "execution_count": 30,
   "id": "4ada5d7d",
   "metadata": {},
   "outputs": [
    {
     "name": "stdout",
     "output_type": "stream",
     "text": [
      "The p-value is 5.7148487746334794e-64\n",
      "Sufficient evidence is present to reject the null hypothesis\n"
     ]
    }
   ],
   "source": [
    "# Chi squared with un-encoded categorical columns\n",
    "alpha = 0.05\n",
    "observed = pd.crosstab(train.internet_service_type, train.senior_citizen)\n",
    "chi2, p, degf, expected = stats.chi2_contingency(observed)\n",
    "print(f\"The p-value is {p}\")\n",
    "if p < alpha:\n",
    "    print(\"Sufficient evidence is present to reject the null hypothesis\")\n",
    "else:\n",
    "    print(\"Insufficient evidence to reject the null\")\n",
    "    print(\"Evidence seems to support the claim that senior customers and internet account types are independent\")"
   ]
  },
  {
   "cell_type": "code",
   "execution_count": 31,
   "id": "f5aff5f2",
   "metadata": {},
   "outputs": [
    {
     "data": {
      "image/png": "[encoded data removed]",
      "text/plain": [
       "<Figure size 432x288 with 1 Axes>"
      ]
     },
     "metadata": {
      "needs_background": "light"
     },
     "output_type": "display_data"
    }
   ],
   "source": [
    "#let's look at the numbers visually\n",
    "barplot = observed.plot.bar(rot=0)"
   ]
  },
  {
   "cell_type": "markdown",
   "id": "be081617",
   "metadata": {},
   "source": [
    "## LOOKING DOES CHURN &  INTERNET SERVICES RELATE?"
   ]
  },
  {
   "cell_type": "markdown",
   "id": "1025318d",
   "metadata": {},
   "source": [
    "Seeing if internet type relates to the churn rate.\n",
    "\n",
    "* H0: There is NO relationship between internet type of accounts and customers churning.\n",
    "* Ha: There IS a relationship between internet type of and customers churning."
   ]
  },
  {
   "cell_type": "code",
   "execution_count": 32,
   "id": "042627e6",
   "metadata": {},
   "outputs": [
    {
     "name": "stdout",
     "output_type": "stream",
     "text": [
      "The p-value is 2.4617612720873587e-96\n",
      "Sufficient evidence is present to reject the null hypothesis\n"
     ]
    }
   ],
   "source": [
    "# Chi squared with un-encoded categorical columns\n",
    "alpha = 0.05\n",
    "observed = pd.crosstab(train.internet_service_type, train.churn)\n",
    "chi2, p, degf, expected = stats.chi2_contingency(observed)\n",
    "print(f\"The p-value is {p}\")\n",
    "if p < alpha:\n",
    "    print(\"Sufficient evidence is present to reject the null hypothesis\")\n",
    "else:\n",
    "    print(\"Insufficient evidence to reject the null\")\n",
    "    print(\"Evidence seems to support the claim that senior customers and internet account types are independent\")"
   ]
  },
  {
   "cell_type": "markdown",
   "id": "e268b56c",
   "metadata": {},
   "source": [
    "### Take Aways:\n",
    "* There IS a relationship between churn and customers' internet service type accounts.\n",
    "* The catplot (at bottom of page) shows that a large majority of seniors that churned had Fiber Optics for their internet service.\n",
    "\n",
    "##########################################################################"
   ]
  },
  {
   "cell_type": "markdown",
   "id": "185c3437",
   "metadata": {},
   "source": [
    "# Internet type accounts vs. Singles:\n",
    "Seeing what kind of internet accounts most single customers have.\n",
    "\n",
    "* H0: There is NO relationship between internet type accounts and single Telco customers.\n",
    "* Ha: There IS a relationship between internet type and single customer Telco customers."
   ]
  },
  {
   "cell_type": "code",
   "execution_count": 33,
   "id": "2df1b105",
   "metadata": {},
   "outputs": [
    {
     "name": "stdout",
     "output_type": "stream",
     "text": [
      "The p-value is 0.5479078849861201\n",
      "Insufficient evidence to reject the null\n",
      "Evidence seems to support the claim that single customers and internet account types are independent\n"
     ]
    }
   ],
   "source": [
    "# Chi squared with un-encoded categorical columns\n",
    "alpha = 0.05\n",
    "observed = pd.crosstab(train.internet_service_type, train.partner)\n",
    "chi2, p, degf, expected = stats.chi2_contingency(observed)\n",
    "print(f\"The p-value is {p}\")\n",
    "if p < alpha:\n",
    "    print(\"Sufficient evidence is present to reject the null hypothesis\")\n",
    "else:\n",
    "    print(\"Insufficient evidence to reject the null\")\n",
    "    print(\"Evidence seems to support the claim that single customers and internet account types are independent\")"
   ]
  },
  {
   "cell_type": "code",
   "execution_count": 34,
   "id": "34fc2f65",
   "metadata": {},
   "outputs": [
    {
     "data": {
      "image/png": "[encoded data removed]",
      "text/plain": [
       "<Figure size 432x288 with 1 Axes>"
      ]
     },
     "metadata": {
      "needs_background": "light"
     },
     "output_type": "display_data"
    }
   ],
   "source": [
    "#let's look at the numbers visually\n",
    "barplot = observed.plot.bar(rot=0)"
   ]
  },
  {
   "cell_type": "markdown",
   "id": "3ef74c5f",
   "metadata": {},
   "source": [
    "### Take Aways:\n",
    "* There is not a relationship between singles and their internet service type accounts, as I had previously thought.\n",
    "\n",
    "##########################################################################"
   ]
  },
  {
   "cell_type": "markdown",
   "id": "01e650f8",
   "metadata": {},
   "source": [
    "# Has Phone accounts vs. Seniors:\n",
    "Seeing if Seniors have a phone account as well.\n",
    "\n",
    "* H0: There is NO relationship between phone accounts and Senior citizen Telco customers.\n",
    "* Ha: There IS a relationship between phone accounts and Senior citizen Telco customers."
   ]
  },
  {
   "cell_type": "markdown",
   "id": "f36c4d2b",
   "metadata": {},
   "source": [
    "NOTE: \n",
    "   * 0= No phone service\n",
    "   * 1= One line\n",
    "   * 2= Two or More lines"
   ]
  },
  {
   "cell_type": "code",
   "execution_count": 35,
   "id": "4c140fd0",
   "metadata": {},
   "outputs": [
    {
     "name": "stdout",
     "output_type": "stream",
     "text": [
      "The p-value is 0.9732127844741527\n",
      "Insufficient evidence to reject the null\n",
      "Evidence seems to support the claim that senior citizen customers and phone account types are independent\n"
     ]
    }
   ],
   "source": [
    "# Chi squared with un-encoded categorical columns\n",
    "alpha = 0.05\n",
    "observed = pd.crosstab(train.phone_service, train.senior_citizen)\n",
    "chi2, p, degf, expected = stats.chi2_contingency(observed)\n",
    "print(f\"The p-value is {p}\")\n",
    "if p < alpha:\n",
    "    print(\"Sufficient evidence is present to reject the null hypothesis\")\n",
    "else:\n",
    "    print(\"Insufficient evidence to reject the null\")\n",
    "    print(\"Evidence seems to support the claim that senior citizen customers and phone account types are independent\")"
   ]
  },
  {
   "cell_type": "code",
   "execution_count": 36,
   "id": "0943085c",
   "metadata": {},
   "outputs": [
    {
     "data": {
      "image/png": "[encoded data removed]",
      "text/plain": [
       "<Figure size 432x288 with 1 Axes>"
      ]
     },
     "metadata": {
      "needs_background": "light"
     },
     "output_type": "display_data"
    }
   ],
   "source": [
    "#let's look at the numbers visually\n",
    "barplot = observed.plot.bar(rot=0)"
   ]
  },
  {
   "cell_type": "markdown",
   "id": "efdd618e",
   "metadata": {},
   "source": [
    "### TAKE AWAYS:\n",
    "- Number of phone lines vs Senior citizens does not relate."
   ]
  },
  {
   "cell_type": "markdown",
   "id": "88f35ccc",
   "metadata": {},
   "source": [
    "# BUT DOES INTERNET SERVICE RELATE TO CHURN???"
   ]
  },
  {
   "cell_type": "markdown",
   "id": "d0cf8d32",
   "metadata": {},
   "source": [
    "- Now that we know our main driving churn demographic and are seeing a relation to Telco's seniors to internet service types, let's just check that churn relates to the internet services with churn as a whole."
   ]
  },
  {
   "cell_type": "markdown",
   "id": "092ce2b8",
   "metadata": {},
   "source": [
    "## Churn vs Internet Service Type:\n",
    "\n",
    "* H0: There is not relationship between Churn and Internet Service type.\n",
    "* Ha: There is a relationship between Churn and Internet Service type."
   ]
  },
  {
   "cell_type": "code",
   "execution_count": 37,
   "id": "cc873634",
   "metadata": {},
   "outputs": [
    {
     "name": "stdout",
     "output_type": "stream",
     "text": [
      "The p-value is 2.4617612720873587e-96\n",
      "Sufficient evidence is present to reject the null hypothesis\n"
     ]
    }
   ],
   "source": [
    "# Chi squared with un-encoded categorical columns\n",
    "alpha = 0.05\n",
    "observed = pd.crosstab(train.internet_service_type, train.churn)\n",
    "chi2, p, degf, expected = stats.chi2_contingency(observed)\n",
    "print(f\"The p-value is {p}\")\n",
    "if p < alpha:\n",
    "    print(\"Sufficient evidence is present to reject the null hypothesis\")\n",
    "else:\n",
    "    print(\"Insufficient evidence to reject the null\")\n",
    "    print(\"Evidence seems to support the claim that churn and internet account types are independent\")"
   ]
  },
  {
   "cell_type": "code",
   "execution_count": 38,
   "id": "eb5546b6",
   "metadata": {},
   "outputs": [
    {
     "data": {
      "image/png": "[encoded data removed]",
      "text/plain": [
       "<Figure size 432x288 with 1 Axes>"
      ]
     },
     "metadata": {
      "needs_background": "light"
     },
     "output_type": "display_data"
    }
   ],
   "source": [
    "#let's look at the numbers visually\n",
    "barplot = observed.plot.bar(rot=0)"
   ]
  },
  {
   "cell_type": "markdown",
   "id": "60d13406",
   "metadata": {},
   "source": [
    "### Take Aways:\n",
    "* There IS a relationship between churn and their internet service type accounts.\n",
    "* More accounts that had Fiber Optic for internet churned than any other internet service type.\n",
    "\n",
    "##########################################################################"
   ]
  },
  {
   "cell_type": "markdown",
   "id": "a7bdea24",
   "metadata": {},
   "source": [
    "# Seniors and their Subgroups:\n",
    "\n",
    "In finding that Senior Citizens are some of Telco's highest rated churn customers, "
   ]
  },
  {
   "cell_type": "markdown",
   "id": "ed20ca4b",
   "metadata": {},
   "source": [
    "# My Drivers:\n",
    "* DEMOGRAPHIC GROUP-\n",
    "    * Senior Citizen customers \n",
    "    * Single customers\n",
    "* ACCOUNT TYPE GROUPS-\n",
    "    * Fiber Optic accounts"
   ]
  },
  {
   "cell_type": "markdown",
   "id": "14f54e52",
   "metadata": {},
   "source": [
    "- More visualizations to show these relationships:"
   ]
  },
  {
   "cell_type": "code",
   "execution_count": 39,
   "id": "cf3fc5cc",
   "metadata": {},
   "outputs": [
    {
     "data": {
      "text/plain": [
       "['customer_id',\n",
       " 'gender',\n",
       " 'senior_citizen',\n",
       " 'partner',\n",
       " 'dependents',\n",
       " 'tenure',\n",
       " 'phone_service',\n",
       " 'multiple_lines',\n",
       " 'online_security',\n",
       " 'online_backup',\n",
       " 'device_protection',\n",
       " 'tech_support',\n",
       " 'streaming_tv',\n",
       " 'streaming_movies',\n",
       " 'paperless_billing',\n",
       " 'monthly_charges',\n",
       " 'total_charges',\n",
       " 'churn',\n",
       " 'contract_type_id.1',\n",
       " 'contract_type',\n",
       " 'payment_type_id.1',\n",
       " 'payment_type',\n",
       " 'internet_service_type_id.1',\n",
       " 'internet_service_type',\n",
       " 'gender_Male',\n",
       " 'senior_citizen_Yes',\n",
       " 'partner_Yes',\n",
       " 'dependents_Yes',\n",
       " 'phone_service_Yes',\n",
       " 'multiple_lines_No phone service',\n",
       " 'multiple_lines_Yes',\n",
       " 'online_security_No internet service',\n",
       " 'online_security_Yes',\n",
       " 'online_backup_No internet service',\n",
       " 'online_backup_Yes',\n",
       " 'device_protection_No internet service',\n",
       " 'device_protection_Yes',\n",
       " 'tech_support_No internet service',\n",
       " 'tech_support_Yes',\n",
       " 'streaming_tv_No internet service',\n",
       " 'streaming_tv_Yes',\n",
       " 'streaming_movies_No internet service',\n",
       " 'streaming_movies_Yes',\n",
       " 'paperless_billing_Yes',\n",
       " 'contract_type_One year',\n",
       " 'contract_type_Two year',\n",
       " 'payment_type_Credit card (automatic)',\n",
       " 'payment_type_Electronic check',\n",
       " 'payment_type_Mailed check',\n",
       " 'internet_service_type_Fiber optic',\n",
       " 'internet_service_type_None']"
      ]
     },
     "execution_count": 39,
     "metadata": {},
     "output_type": "execute_result"
    }
   ],
   "source": [
    "train.columns.tolist()"
   ]
  },
  {
   "cell_type": "markdown",
   "id": "94c901df",
   "metadata": {},
   "source": [
    "# Onto ML Models:"
   ]
  },
  {
   "cell_type": "markdown",
   "id": "ff7d427b",
   "metadata": {},
   "source": [
    "### Creating Logistical Regression models:\n",
    "To quickly assess and models with target (Churn) against chosen variables (Senior citizen, Single, Fiber Optics, non-automated accounts) into a Logistical Regression model. If the accuracy of this model is higher than my baseline, then I'll move onto other models. "
   ]
  },
  {
   "cell_type": "code",
   "execution_count": 40,
   "id": "fc408ab5",
   "metadata": {},
   "outputs": [],
   "source": [
    "# Dropping categorical and not-needed columns that are leftover.\n",
    "\n",
    "X_train = train.drop(columns=['churn','customer_id','gender', 'dependents','partner', \n",
    "                              'senior_citizen', 'phone_service','multiple_lines','online_security','online_backup',\n",
    "                              'payment_type','total_charges','device_protection','tech_support','streaming_tv','streaming_movies',\n",
    "                             'paperless_billing','contract_type','internet_service_type','total_charges'])\n",
    "y_train = train[['churn']]\n",
    "\n",
    "X_validate = validate.drop(columns=['customer_id','churn','gender', 'dependents','partner', \n",
    "                              'senior_citizen', 'phone_service','multiple_lines','online_security','online_backup',\n",
    "                              'payment_type','total_charges','device_protection','tech_support','streaming_tv','streaming_movies',\n",
    "                             'paperless_billing','contract_type','online_security','online_backup',\n",
    "                              'payment_type','total_charges','device_protection','internet_service_type','total_charges'])\n",
    "y_validate = validate[['churn']]\n",
    "\n",
    "X_test = test.drop(columns=['customer_id','churn','gender', 'dependents','partner', \n",
    "                              'senior_citizen', 'phone_service','multiple_lines','online_security','online_backup',\n",
    "                              'payment_type','total_charges','device_protection','tech_support','streaming_tv','streaming_movies',\n",
    "                             'paperless_billing','contract_type','internet_service_type','total_charges'])\n",
    "y_test = test[['churn']]"
   ]
  },
  {
   "cell_type": "markdown",
   "id": "6ca443d0",
   "metadata": {},
   "source": [
    "### 1) Developing my baseline to compare my models to:    "
   ]
  },
  {
   "cell_type": "markdown",
   "id": "7105d2ca",
   "metadata": {},
   "source": [
    "- Baseline (for the 'most common case to everything')"
   ]
  },
  {
   "cell_type": "code",
   "execution_count": 41,
   "id": "59354516",
   "metadata": {},
   "outputs": [
    {
     "data": {
      "text/plain": [
       "0.0"
      ]
     },
     "execution_count": 41,
     "metadata": {},
     "output_type": "execute_result"
    }
   ],
   "source": [
    "#Defining the baseline prediction:\n",
    "train.churn.mode()\n",
    "#Mode meaning when a customer did not churn, so our baseline guess would be that a customer will not churn. \n",
    "\n",
    "\n",
    "#Calculating the percentage of customers that churned:\n",
    "train[train['churn'] == False].shape[0] / train.shape[0]"
   ]
  },
  {
   "cell_type": "markdown",
   "id": "ee5b228f",
   "metadata": {},
   "source": [
    "### My BASELINE IS 73% for accuracy (based on customers that did churn)"
   ]
  },
  {
   "cell_type": "code",
   "execution_count": 42,
   "id": "ae0fd6a1",
   "metadata": {},
   "outputs": [
    {
     "data": {
      "text/plain": [
       "No     0.734222\n",
       "Yes    0.265778\n",
       "Name: churn, dtype: float64"
      ]
     },
     "execution_count": 42,
     "metadata": {},
     "output_type": "execute_result"
    }
   ],
   "source": [
    "train.churn.value_counts(normalize=True)"
   ]
  },
  {
   "cell_type": "markdown",
   "id": "881c7c16",
   "metadata": {},
   "source": [
    "- Defining my x and y:"
   ]
  },
  {
   "cell_type": "code",
   "execution_count": 43,
   "id": "6dfa252e",
   "metadata": {},
   "outputs": [
    {
     "data": {
      "text/html": [
       "<div>\n",
       "<style scoped>\n",
       "    .dataframe tbody tr th:only-of-type {\n",
       "        vertical-align: middle;\n",
       "    }\n",
       "\n",
       "    .dataframe tbody tr th {\n",
       "        vertical-align: top;\n",
       "    }\n",
       "\n",
       "    .dataframe thead th {\n",
       "        text-align: right;\n",
       "    }\n",
       "</style>\n",
       "<table border=\"1\" class=\"dataframe\">\n",
       "  <thead>\n",
       "    <tr style=\"text-align: right;\">\n",
       "      <th></th>\n",
       "      <th>tenure</th>\n",
       "      <th>monthly_charges</th>\n",
       "      <th>contract_type_id.1</th>\n",
       "      <th>payment_type_id.1</th>\n",
       "      <th>internet_service_type_id.1</th>\n",
       "      <th>gender_Male</th>\n",
       "      <th>senior_citizen_Yes</th>\n",
       "      <th>partner_Yes</th>\n",
       "      <th>dependents_Yes</th>\n",
       "      <th>phone_service_Yes</th>\n",
       "      <th>...</th>\n",
       "      <th>streaming_movies_No internet service</th>\n",
       "      <th>streaming_movies_Yes</th>\n",
       "      <th>paperless_billing_Yes</th>\n",
       "      <th>contract_type_One year</th>\n",
       "      <th>contract_type_Two year</th>\n",
       "      <th>payment_type_Credit card (automatic)</th>\n",
       "      <th>payment_type_Electronic check</th>\n",
       "      <th>payment_type_Mailed check</th>\n",
       "      <th>internet_service_type_Fiber optic</th>\n",
       "      <th>internet_service_type_None</th>\n",
       "    </tr>\n",
       "  </thead>\n",
       "  <tbody>\n",
       "    <tr>\n",
       "      <th>3270</th>\n",
       "      <td>31</td>\n",
       "      <td>87.6</td>\n",
       "      <td>1</td>\n",
       "      <td>1</td>\n",
       "      <td>2</td>\n",
       "      <td>0</td>\n",
       "      <td>0</td>\n",
       "      <td>0</td>\n",
       "      <td>0</td>\n",
       "      <td>1</td>\n",
       "      <td>...</td>\n",
       "      <td>0</td>\n",
       "      <td>0</td>\n",
       "      <td>0</td>\n",
       "      <td>0</td>\n",
       "      <td>0</td>\n",
       "      <td>0</td>\n",
       "      <td>1</td>\n",
       "      <td>0</td>\n",
       "      <td>1</td>\n",
       "      <td>0</td>\n",
       "    </tr>\n",
       "  </tbody>\n",
       "</table>\n",
       "<p>1 rows × 32 columns</p>\n",
       "</div>"
      ],
      "text/plain": [
       "      tenure  monthly_charges  contract_type_id.1  payment_type_id.1  \\\n",
       "3270      31             87.6                   1                  1   \n",
       "\n",
       "      internet_service_type_id.1  gender_Male  senior_citizen_Yes  \\\n",
       "3270                           2            0                   0   \n",
       "\n",
       "      partner_Yes  dependents_Yes  phone_service_Yes  ...  \\\n",
       "3270            0               0                  1  ...   \n",
       "\n",
       "      streaming_movies_No internet service  streaming_movies_Yes  \\\n",
       "3270                                     0                     0   \n",
       "\n",
       "      paperless_billing_Yes  contract_type_One year  contract_type_Two year  \\\n",
       "3270                      0                       0                       0   \n",
       "\n",
       "      payment_type_Credit card (automatic)  payment_type_Electronic check  \\\n",
       "3270                                     0                              1   \n",
       "\n",
       "      payment_type_Mailed check  internet_service_type_Fiber optic  \\\n",
       "3270                          0                                  1   \n",
       "\n",
       "      internet_service_type_None  \n",
       "3270                           0  \n",
       "\n",
       "[1 rows x 32 columns]"
      ]
     },
     "execution_count": 43,
     "metadata": {},
     "output_type": "execute_result"
    }
   ],
   "source": [
    "#checking the x variables\n",
    "X_train.head(1)"
   ]
  },
  {
   "cell_type": "code",
   "execution_count": 44,
   "id": "0c032979",
   "metadata": {},
   "outputs": [
    {
     "data": {
      "text/html": [
       "<div>\n",
       "<style scoped>\n",
       "    .dataframe tbody tr th:only-of-type {\n",
       "        vertical-align: middle;\n",
       "    }\n",
       "\n",
       "    .dataframe tbody tr th {\n",
       "        vertical-align: top;\n",
       "    }\n",
       "\n",
       "    .dataframe thead th {\n",
       "        text-align: right;\n",
       "    }\n",
       "</style>\n",
       "<table border=\"1\" class=\"dataframe\">\n",
       "  <thead>\n",
       "    <tr style=\"text-align: right;\">\n",
       "      <th></th>\n",
       "      <th>churn</th>\n",
       "    </tr>\n",
       "  </thead>\n",
       "  <tbody>\n",
       "    <tr>\n",
       "      <th>3270</th>\n",
       "      <td>No</td>\n",
       "    </tr>\n",
       "  </tbody>\n",
       "</table>\n",
       "</div>"
      ],
      "text/plain": [
       "     churn\n",
       "3270    No"
      ]
     },
     "execution_count": 44,
     "metadata": {},
     "output_type": "execute_result"
    }
   ],
   "source": [
    "#checking the y (target)variable\n",
    "y_train.head(1)"
   ]
  },
  {
   "cell_type": "markdown",
   "id": "14eaa7a8",
   "metadata": {},
   "source": [
    "### CREATING A LOGISTIC REGRESSION MODEL:::"
   ]
  },
  {
   "cell_type": "code",
   "execution_count": 103,
   "id": "8700c274",
   "metadata": {},
   "outputs": [],
   "source": [
    "# Create a simple Logistic Regression model to start.\n",
    "\n",
    "logit = LogisticRegression(random_state=123)"
   ]
  },
  {
   "cell_type": "markdown",
   "id": "b8efcf0f",
   "metadata": {},
   "source": [
    "#### FITTING THE LOGISTICAL REG. MODEL:"
   ]
  },
  {
   "cell_type": "code",
   "execution_count": 104,
   "id": "3bfcce62",
   "metadata": {},
   "outputs": [
    {
     "data": {
      "text/plain": [
       "LogisticRegression(random_state=123)"
      ]
     },
     "execution_count": 104,
     "metadata": {},
     "output_type": "execute_result"
    }
   ],
   "source": [
    "logit.fit(X_train, y_train)"
   ]
  },
  {
   "cell_type": "markdown",
   "id": "60a22586",
   "metadata": {},
   "source": [
    "- Looking at coefficients to model:"
   ]
  },
  {
   "cell_type": "code",
   "execution_count": 105,
   "id": "55644fc7",
   "metadata": {},
   "outputs": [],
   "source": [
    "# Create a list of our model features.\n",
    "\n",
    "features = X_train.columns.tolist()"
   ]
  },
  {
   "cell_type": "code",
   "execution_count": 106,
   "id": "947a5517",
   "metadata": {},
   "outputs": [],
   "source": [
    "# Create a list of the weights for each feature from our model.\n",
    "\n",
    "weights = logit.coef_.flatten()"
   ]
  },
  {
   "cell_type": "code",
   "execution_count": 107,
   "id": "be3263e7",
   "metadata": {},
   "outputs": [
    {
     "data": {
      "text/html": [
       "<div>\n",
       "<style scoped>\n",
       "    .dataframe tbody tr th:only-of-type {\n",
       "        vertical-align: middle;\n",
       "    }\n",
       "\n",
       "    .dataframe tbody tr th {\n",
       "        vertical-align: top;\n",
       "    }\n",
       "\n",
       "    .dataframe thead th {\n",
       "        text-align: right;\n",
       "    }\n",
       "</style>\n",
       "<table border=\"1\" class=\"dataframe\">\n",
       "  <thead>\n",
       "    <tr style=\"text-align: right;\">\n",
       "      <th></th>\n",
       "      <th>feature</th>\n",
       "      <th>weight</th>\n",
       "    </tr>\n",
       "  </thead>\n",
       "  <tbody>\n",
       "    <tr>\n",
       "      <th>0</th>\n",
       "      <td>tenure</td>\n",
       "      <td>-0.030488</td>\n",
       "    </tr>\n",
       "    <tr>\n",
       "      <th>1</th>\n",
       "      <td>monthly_charges</td>\n",
       "      <td>0.013701</td>\n",
       "    </tr>\n",
       "    <tr>\n",
       "      <th>2</th>\n",
       "      <td>contract_type_id.1</td>\n",
       "      <td>-0.582478</td>\n",
       "    </tr>\n",
       "    <tr>\n",
       "      <th>3</th>\n",
       "      <td>payment_type_id.1</td>\n",
       "      <td>-0.127599</td>\n",
       "    </tr>\n",
       "    <tr>\n",
       "      <th>4</th>\n",
       "      <td>internet_service_type_id.1</td>\n",
       "      <td>0.152625</td>\n",
       "    </tr>\n",
       "    <tr>\n",
       "      <th>5</th>\n",
       "      <td>gender_Male</td>\n",
       "      <td>-0.033843</td>\n",
       "    </tr>\n",
       "    <tr>\n",
       "      <th>6</th>\n",
       "      <td>senior_citizen_Yes</td>\n",
       "      <td>0.301938</td>\n",
       "    </tr>\n",
       "    <tr>\n",
       "      <th>7</th>\n",
       "      <td>partner_Yes</td>\n",
       "      <td>0.023404</td>\n",
       "    </tr>\n",
       "    <tr>\n",
       "      <th>8</th>\n",
       "      <td>dependents_Yes</td>\n",
       "      <td>-0.217353</td>\n",
       "    </tr>\n",
       "    <tr>\n",
       "      <th>9</th>\n",
       "      <td>phone_service_Yes</td>\n",
       "      <td>-0.455654</td>\n",
       "    </tr>\n",
       "    <tr>\n",
       "      <th>10</th>\n",
       "      <td>multiple_lines_No phone service</td>\n",
       "      <td>0.392964</td>\n",
       "    </tr>\n",
       "    <tr>\n",
       "      <th>11</th>\n",
       "      <td>multiple_lines_Yes</td>\n",
       "      <td>0.098819</td>\n",
       "    </tr>\n",
       "    <tr>\n",
       "      <th>12</th>\n",
       "      <td>online_security_No internet service</td>\n",
       "      <td>-0.108108</td>\n",
       "    </tr>\n",
       "    <tr>\n",
       "      <th>13</th>\n",
       "      <td>online_security_Yes</td>\n",
       "      <td>-0.493004</td>\n",
       "    </tr>\n",
       "    <tr>\n",
       "      <th>14</th>\n",
       "      <td>online_backup_No internet service</td>\n",
       "      <td>-0.108108</td>\n",
       "    </tr>\n",
       "    <tr>\n",
       "      <th>15</th>\n",
       "      <td>online_backup_Yes</td>\n",
       "      <td>-0.191807</td>\n",
       "    </tr>\n",
       "    <tr>\n",
       "      <th>16</th>\n",
       "      <td>device_protection_No internet service</td>\n",
       "      <td>-0.108108</td>\n",
       "    </tr>\n",
       "    <tr>\n",
       "      <th>17</th>\n",
       "      <td>device_protection_Yes</td>\n",
       "      <td>-0.119407</td>\n",
       "    </tr>\n",
       "    <tr>\n",
       "      <th>18</th>\n",
       "      <td>tech_support_No internet service</td>\n",
       "      <td>-0.108108</td>\n",
       "    </tr>\n",
       "    <tr>\n",
       "      <th>19</th>\n",
       "      <td>tech_support_Yes</td>\n",
       "      <td>-0.429899</td>\n",
       "    </tr>\n",
       "    <tr>\n",
       "      <th>20</th>\n",
       "      <td>streaming_tv_No internet service</td>\n",
       "      <td>-0.108108</td>\n",
       "    </tr>\n",
       "    <tr>\n",
       "      <th>21</th>\n",
       "      <td>streaming_tv_Yes</td>\n",
       "      <td>0.095755</td>\n",
       "    </tr>\n",
       "    <tr>\n",
       "      <th>22</th>\n",
       "      <td>streaming_movies_No internet service</td>\n",
       "      <td>-0.108108</td>\n",
       "    </tr>\n",
       "    <tr>\n",
       "      <th>23</th>\n",
       "      <td>streaming_movies_Yes</td>\n",
       "      <td>0.248534</td>\n",
       "    </tr>\n",
       "    <tr>\n",
       "      <th>24</th>\n",
       "      <td>paperless_billing_Yes</td>\n",
       "      <td>0.371946</td>\n",
       "    </tr>\n",
       "    <tr>\n",
       "      <th>25</th>\n",
       "      <td>contract_type_One year</td>\n",
       "      <td>-0.027790</td>\n",
       "    </tr>\n",
       "    <tr>\n",
       "      <th>26</th>\n",
       "      <td>contract_type_Two year</td>\n",
       "      <td>-0.245999</td>\n",
       "    </tr>\n",
       "    <tr>\n",
       "      <th>27</th>\n",
       "      <td>payment_type_Credit card (automatic)</td>\n",
       "      <td>-0.019323</td>\n",
       "    </tr>\n",
       "    <tr>\n",
       "      <th>28</th>\n",
       "      <td>payment_type_Electronic check</td>\n",
       "      <td>-0.001555</td>\n",
       "    </tr>\n",
       "    <tr>\n",
       "      <th>29</th>\n",
       "      <td>payment_type_Mailed check</td>\n",
       "      <td>-0.076684</td>\n",
       "    </tr>\n",
       "    <tr>\n",
       "      <th>30</th>\n",
       "      <td>internet_service_type_Fiber optic</td>\n",
       "      <td>0.431531</td>\n",
       "    </tr>\n",
       "    <tr>\n",
       "      <th>31</th>\n",
       "      <td>internet_service_type_None</td>\n",
       "      <td>-0.108108</td>\n",
       "    </tr>\n",
       "  </tbody>\n",
       "</table>\n",
       "</div>"
      ],
      "text/plain": [
       "                                  feature    weight\n",
       "0                                  tenure -0.030488\n",
       "1                         monthly_charges  0.013701\n",
       "2                      contract_type_id.1 -0.582478\n",
       "3                       payment_type_id.1 -0.127599\n",
       "4              internet_service_type_id.1  0.152625\n",
       "5                             gender_Male -0.033843\n",
       "6                      senior_citizen_Yes  0.301938\n",
       "7                             partner_Yes  0.023404\n",
       "8                          dependents_Yes -0.217353\n",
       "9                       phone_service_Yes -0.455654\n",
       "10        multiple_lines_No phone service  0.392964\n",
       "11                     multiple_lines_Yes  0.098819\n",
       "12    online_security_No internet service -0.108108\n",
       "13                    online_security_Yes -0.493004\n",
       "14      online_backup_No internet service -0.108108\n",
       "15                      online_backup_Yes -0.191807\n",
       "16  device_protection_No internet service -0.108108\n",
       "17                  device_protection_Yes -0.119407\n",
       "18       tech_support_No internet service -0.108108\n",
       "19                       tech_support_Yes -0.429899\n",
       "20       streaming_tv_No internet service -0.108108\n",
       "21                       streaming_tv_Yes  0.095755\n",
       "22   streaming_movies_No internet service -0.108108\n",
       "23                   streaming_movies_Yes  0.248534\n",
       "24                  paperless_billing_Yes  0.371946\n",
       "25                 contract_type_One year -0.027790\n",
       "26                 contract_type_Two year -0.245999\n",
       "27   payment_type_Credit card (automatic) -0.019323\n",
       "28          payment_type_Electronic check -0.001555\n",
       "29              payment_type_Mailed check -0.076684\n",
       "30      internet_service_type_Fiber optic  0.431531\n",
       "31             internet_service_type_None -0.108108"
      ]
     },
     "execution_count": 107,
     "metadata": {},
     "output_type": "execute_result"
    }
   ],
   "source": [
    "# Store our lists from above in a DataFrame.\n",
    "\n",
    "pd.DataFrame(weights, features).reset_index().rename(columns={'index': 'feature', 0: 'weight'})"
   ]
  },
  {
   "cell_type": "markdown",
   "id": "ff566b5c",
   "metadata": {},
   "source": [
    "### Evaluating Model:"
   ]
  },
  {
   "cell_type": "code",
   "execution_count": 108,
   "id": "81ca43a7",
   "metadata": {},
   "outputs": [
    {
     "name": "stdout",
     "output_type": "stream",
     "text": [
      "Accuracy of Logistic Regression classifier on training set: 0.80\n"
     ]
    }
   ],
   "source": [
    "#Accuracy of the models logistic classifier\n",
    "print('Accuracy of Logistic Regression classifier on training set: {:.2f}'\n",
    "     .format(logit.score(X_train, y_train)))"
   ]
  },
  {
   "cell_type": "markdown",
   "id": "fadd319d",
   "metadata": {},
   "source": [
    "- Evaluating with classification report:"
   ]
  },
  {
   "cell_type": "code",
   "execution_count": 109,
   "id": "2cc3cc9b",
   "metadata": {},
   "outputs": [],
   "source": [
    "#making predictions on whether customer churns or not\n",
    "y_pred = logit.predict(X_train)"
   ]
  },
  {
   "cell_type": "code",
   "execution_count": 110,
   "id": "47056d16",
   "metadata": {},
   "outputs": [],
   "source": [
    "#estimating probability of churn based on observations\n",
    "y_pred_proba = logit.predict_proba(X_train)"
   ]
  },
  {
   "cell_type": "code",
   "execution_count": 111,
   "id": "778f5b07",
   "metadata": {},
   "outputs": [
    {
     "name": "stdout",
     "output_type": "stream",
     "text": [
      "              precision    recall  f1-score   support\n",
      "\n",
      "          No       0.84      0.90      0.87      3304\n",
      "         Yes       0.66      0.54      0.59      1196\n",
      "\n",
      "    accuracy                           0.80      4500\n",
      "   macro avg       0.75      0.72      0.73      4500\n",
      "weighted avg       0.79      0.80      0.80      4500\n",
      "\n"
     ]
    }
   ],
   "source": [
    "print(classification_report(y_train, y_pred))"
   ]
  },
  {
   "cell_type": "code",
   "execution_count": 113,
   "id": "60f61a6b",
   "metadata": {},
   "outputs": [
    {
     "data": {
      "text/html": [
       "<div>\n",
       "<style scoped>\n",
       "    .dataframe tbody tr th:only-of-type {\n",
       "        vertical-align: middle;\n",
       "    }\n",
       "\n",
       "    .dataframe tbody tr th {\n",
       "        vertical-align: top;\n",
       "    }\n",
       "\n",
       "    .dataframe thead th {\n",
       "        text-align: right;\n",
       "    }\n",
       "</style>\n",
       "<table border=\"1\" class=\"dataframe\">\n",
       "  <thead>\n",
       "    <tr style=\"text-align: right;\">\n",
       "      <th></th>\n",
       "      <th>tenure</th>\n",
       "      <th>monthly_charges</th>\n",
       "      <th>contract_type_id.1</th>\n",
       "      <th>payment_type_id.1</th>\n",
       "      <th>internet_service_type_id.1</th>\n",
       "      <th>gender_Male</th>\n",
       "      <th>senior_citizen_Yes</th>\n",
       "      <th>partner_Yes</th>\n",
       "      <th>dependents_Yes</th>\n",
       "      <th>phone_service_Yes</th>\n",
       "      <th>...</th>\n",
       "      <th>streaming_movies_No internet service</th>\n",
       "      <th>streaming_movies_Yes</th>\n",
       "      <th>paperless_billing_Yes</th>\n",
       "      <th>contract_type_One year</th>\n",
       "      <th>contract_type_Two year</th>\n",
       "      <th>payment_type_Credit card (automatic)</th>\n",
       "      <th>payment_type_Electronic check</th>\n",
       "      <th>payment_type_Mailed check</th>\n",
       "      <th>internet_service_type_Fiber optic</th>\n",
       "      <th>internet_service_type_None</th>\n",
       "    </tr>\n",
       "  </thead>\n",
       "  <tbody>\n",
       "    <tr>\n",
       "      <th>3270</th>\n",
       "      <td>31</td>\n",
       "      <td>87.60</td>\n",
       "      <td>1</td>\n",
       "      <td>1</td>\n",
       "      <td>2</td>\n",
       "      <td>0</td>\n",
       "      <td>0</td>\n",
       "      <td>0</td>\n",
       "      <td>0</td>\n",
       "      <td>1</td>\n",
       "      <td>...</td>\n",
       "      <td>0</td>\n",
       "      <td>0</td>\n",
       "      <td>0</td>\n",
       "      <td>0</td>\n",
       "      <td>0</td>\n",
       "      <td>0</td>\n",
       "      <td>1</td>\n",
       "      <td>0</td>\n",
       "      <td>1</td>\n",
       "      <td>0</td>\n",
       "    </tr>\n",
       "    <tr>\n",
       "      <th>6084</th>\n",
       "      <td>26</td>\n",
       "      <td>66.05</td>\n",
       "      <td>1</td>\n",
       "      <td>1</td>\n",
       "      <td>1</td>\n",
       "      <td>0</td>\n",
       "      <td>1</td>\n",
       "      <td>0</td>\n",
       "      <td>0</td>\n",
       "      <td>1</td>\n",
       "      <td>...</td>\n",
       "      <td>0</td>\n",
       "      <td>1</td>\n",
       "      <td>1</td>\n",
       "      <td>0</td>\n",
       "      <td>0</td>\n",
       "      <td>0</td>\n",
       "      <td>1</td>\n",
       "      <td>0</td>\n",
       "      <td>0</td>\n",
       "      <td>0</td>\n",
       "    </tr>\n",
       "    <tr>\n",
       "      <th>4470</th>\n",
       "      <td>29</td>\n",
       "      <td>55.25</td>\n",
       "      <td>2</td>\n",
       "      <td>1</td>\n",
       "      <td>1</td>\n",
       "      <td>0</td>\n",
       "      <td>0</td>\n",
       "      <td>0</td>\n",
       "      <td>0</td>\n",
       "      <td>1</td>\n",
       "      <td>...</td>\n",
       "      <td>0</td>\n",
       "      <td>0</td>\n",
       "      <td>1</td>\n",
       "      <td>1</td>\n",
       "      <td>0</td>\n",
       "      <td>0</td>\n",
       "      <td>1</td>\n",
       "      <td>0</td>\n",
       "      <td>0</td>\n",
       "      <td>0</td>\n",
       "    </tr>\n",
       "    <tr>\n",
       "      <th>428</th>\n",
       "      <td>21</td>\n",
       "      <td>41.90</td>\n",
       "      <td>1</td>\n",
       "      <td>1</td>\n",
       "      <td>1</td>\n",
       "      <td>0</td>\n",
       "      <td>1</td>\n",
       "      <td>0</td>\n",
       "      <td>0</td>\n",
       "      <td>0</td>\n",
       "      <td>...</td>\n",
       "      <td>0</td>\n",
       "      <td>0</td>\n",
       "      <td>1</td>\n",
       "      <td>0</td>\n",
       "      <td>0</td>\n",
       "      <td>0</td>\n",
       "      <td>1</td>\n",
       "      <td>0</td>\n",
       "      <td>0</td>\n",
       "      <td>0</td>\n",
       "    </tr>\n",
       "    <tr>\n",
       "      <th>3329</th>\n",
       "      <td>60</td>\n",
       "      <td>95.40</td>\n",
       "      <td>2</td>\n",
       "      <td>3</td>\n",
       "      <td>2</td>\n",
       "      <td>1</td>\n",
       "      <td>0</td>\n",
       "      <td>1</td>\n",
       "      <td>1</td>\n",
       "      <td>1</td>\n",
       "      <td>...</td>\n",
       "      <td>0</td>\n",
       "      <td>0</td>\n",
       "      <td>1</td>\n",
       "      <td>1</td>\n",
       "      <td>0</td>\n",
       "      <td>0</td>\n",
       "      <td>0</td>\n",
       "      <td>0</td>\n",
       "      <td>1</td>\n",
       "      <td>0</td>\n",
       "    </tr>\n",
       "  </tbody>\n",
       "</table>\n",
       "<p>5 rows × 32 columns</p>\n",
       "</div>"
      ],
      "text/plain": [
       "      tenure  monthly_charges  contract_type_id.1  payment_type_id.1  \\\n",
       "3270      31            87.60                   1                  1   \n",
       "6084      26            66.05                   1                  1   \n",
       "4470      29            55.25                   2                  1   \n",
       "428       21            41.90                   1                  1   \n",
       "3329      60            95.40                   2                  3   \n",
       "\n",
       "      internet_service_type_id.1  gender_Male  senior_citizen_Yes  \\\n",
       "3270                           2            0                   0   \n",
       "6084                           1            0                   1   \n",
       "4470                           1            0                   0   \n",
       "428                            1            0                   1   \n",
       "3329                           2            1                   0   \n",
       "\n",
       "      partner_Yes  dependents_Yes  phone_service_Yes  ...  \\\n",
       "3270            0               0                  1  ...   \n",
       "6084            0               0                  1  ...   \n",
       "4470            0               0                  1  ...   \n",
       "428             0               0                  0  ...   \n",
       "3329            1               1                  1  ...   \n",
       "\n",
       "      streaming_movies_No internet service  streaming_movies_Yes  \\\n",
       "3270                                     0                     0   \n",
       "6084                                     0                     1   \n",
       "4470                                     0                     0   \n",
       "428                                      0                     0   \n",
       "3329                                     0                     0   \n",
       "\n",
       "      paperless_billing_Yes  contract_type_One year  contract_type_Two year  \\\n",
       "3270                      0                       0                       0   \n",
       "6084                      1                       0                       0   \n",
       "4470                      1                       1                       0   \n",
       "428                       1                       0                       0   \n",
       "3329                      1                       1                       0   \n",
       "\n",
       "      payment_type_Credit card (automatic)  payment_type_Electronic check  \\\n",
       "3270                                     0                              1   \n",
       "6084                                     0                              1   \n",
       "4470                                     0                              1   \n",
       "428                                      0                              1   \n",
       "3329                                     0                              0   \n",
       "\n",
       "      payment_type_Mailed check  internet_service_type_Fiber optic  \\\n",
       "3270                          0                                  1   \n",
       "6084                          0                                  0   \n",
       "4470                          0                                  0   \n",
       "428                           0                                  0   \n",
       "3329                          0                                  1   \n",
       "\n",
       "      internet_service_type_None  \n",
       "3270                           0  \n",
       "6084                           0  \n",
       "4470                           0  \n",
       "428                            0  \n",
       "3329                           0  \n",
       "\n",
       "[5 rows x 32 columns]"
      ]
     },
     "execution_count": 113,
     "metadata": {},
     "output_type": "execute_result"
    }
   ],
   "source": [
    "X_train.head()"
   ]
  },
  {
   "cell_type": "code",
   "execution_count": 116,
   "id": "07f71b1a",
   "metadata": {},
   "outputs": [
    {
     "name": "stdout",
     "output_type": "stream",
     "text": [
      "Logistic Regression using senior, parnters, internet service types, and monthly charges features\n",
      "Accuracy of Logistic Regression classifier on training set: 0.74\n"
     ]
    }
   ],
   "source": [
    "# Create the logistic regression using the specific drivers I found (senior, partner, internet service types, monthly charges, payment types)\n",
    "logit1 = LogisticRegression(random_state=123)\n",
    "\n",
    "# specify the features we're using\n",
    "features = [\"senior_citizen_Yes\", \"partner_Yes\", \"internet_service_type_id.1\", \"monthly_charges\",\"payment_type_id.1\"]\n",
    "\n",
    "# Fit a model using only these specified features\n",
    "logit1.fit(X_train[features], y_train)\n",
    "\n",
    "y_pred = logit1.predict(X_train[features])\n",
    "\n",
    "print(\"Logistic Regression using senior, parnters, internet service types, and monthly charges features\")\n",
    "print('Accuracy of Logistic Regression classifier on training set: {:.2f}'\n",
    "     .format(logit1.score(X_train[features], y_train)))"
   ]
  },
  {
   "cell_type": "code",
   "execution_count": 117,
   "id": "bd746033",
   "metadata": {},
   "outputs": [
    {
     "name": "stdout",
     "output_type": "stream",
     "text": [
      "Model trained on all features\n",
      "Accuracy of Logistic Regression classifier on training set: 0.80\n"
     ]
    }
   ],
   "source": [
    "# All features, all default hyperparameters\n",
    "logit2 = LogisticRegression(random_state=123)\n",
    "\n",
    "logit2.fit(X_train, y_train)\n",
    "\n",
    "y_pred = logit2.predict(X_train)\n",
    "\n",
    "print(\"Model trained on all features\")\n",
    "print('Accuracy of Logistic Regression classifier on training set: {:.2f}'\n",
    "     .format(logit2.score(X_train, y_train)))"
   ]
  },
  {
   "cell_type": "code",
   "execution_count": 118,
   "id": "3ead5d92",
   "metadata": {},
   "outputs": [
    {
     "name": "stdout",
     "output_type": "stream",
     "text": [
      "All Features and we're setting the class_weight hyperparameter\n",
      "Accuracy of Logistic Regression classifier on training set: 0.74\n"
     ]
    }
   ],
   "source": [
    "# All features, but we'll use the class_weights to hold the actual ratios`\n",
    "logit3 = LogisticRegression(random_state=123, class_weight='balanced')\n",
    "\n",
    "logit3.fit(X_train, y_train)\n",
    "\n",
    "y_pred = logit3.predict(X_train)\n",
    "\n",
    "accuracy = logit3.score(X_train, y_train)\n",
    "\n",
    "print(\"All Features and we're setting the class_weight hyperparameter\")\n",
    "print(f'Accuracy of Logistic Regression classifier on training set: {accuracy:.2}')"
   ]
  },
  {
   "cell_type": "code",
   "execution_count": 119,
   "id": "d104c077",
   "metadata": {},
   "outputs": [
    {
     "name": "stdout",
     "output_type": "stream",
     "text": [
      "All Features and we're setting the class_weight hyperparameter\n",
      "Accuracy of Logistic Regression classifier on training set: 0.73\n"
     ]
    }
   ],
   "source": [
    "# Only Age \n",
    "features = [\"senior_citizen_Yes\"]\n",
    "\n",
    "# All features, but we'll use the class_weights to hold the actual ratios\n",
    "logit4 = LogisticRegression(random_state=123)\n",
    "\n",
    "logit4.fit(X_train[features], y_train)\n",
    "\n",
    "y_pred = logit4.predict(X_train[features])\n",
    "\n",
    "accuracy = logit4.score(X_train[features], y_train)\n",
    "\n",
    "print(\"All Features and we're setting the class_weight hyperparameter\")\n",
    "print(f'Accuracy of Logistic Regression classifier on training set: {accuracy:.2}')"
   ]
  },
  {
   "cell_type": "code",
   "execution_count": 122,
   "id": "b4ce9fa9",
   "metadata": {},
   "outputs": [
    {
     "name": "stdout",
     "output_type": "stream",
     "text": [
      "All Features, C hyperparameter approaching 0\n",
      "Accuracy of this Logistic Regression on training set: 0.78\n"
     ]
    }
   ],
   "source": [
    "# All Features, C ~ 0\n",
    "# All features, but we'll use the class_weights to hold the actual ratios\n",
    "logit6 = LogisticRegression(random_state=123, C=0.0001)\n",
    "\n",
    "logit6.fit(X_train, y_train)\n",
    "\n",
    "y_pred = logit6.predict(X_train)\n",
    "accuracy = logit6.score(X_train, y_train)\n",
    "\n",
    "print(\"All Features, C hyperparameter approaching 0\")\n",
    "print(f'Accuracy of this Logistic Regression on training set: {accuracy:.2}')"
   ]
  },
  {
   "cell_type": "markdown",
   "id": "9bd741d4",
   "metadata": {},
   "source": [
    "### TAKE AWAYS:\n",
    "- The second model with ALL the features is the best of LR modeling. \n",
    "- My recall number is fairly high, so this model was good at predicting TP (aka good at predicting churning)"
   ]
  },
  {
   "cell_type": "markdown",
   "id": "121d3f32",
   "metadata": {},
   "source": [
    "### THINGS TO NOTE:\n",
    "* Logistical Regression really helped point out which variables are worth adding/focusing into these models.\n",
    "(ie internet services, senior citizens)"
   ]
  },
  {
   "cell_type": "markdown",
   "id": "d6ffc355",
   "metadata": {},
   "source": [
    "# Decision Tree Model:"
   ]
  },
  {
   "cell_type": "markdown",
   "id": "a4b06a3f",
   "metadata": {},
   "source": [
    "Fitting the decision tree classifier to the Telco training sample and transform (i.e. make predictions on the training sample)"
   ]
  },
  {
   "cell_type": "code",
   "execution_count": 54,
   "id": "70312665",
   "metadata": {},
   "outputs": [],
   "source": [
    "#Creating the model object and fitting it to the training set:\n",
    "clf = DecisionTreeClassifier(max_depth = 3, random_state = 123)\n",
    "clf = clf.fit(X_train, y_train)"
   ]
  },
  {
   "cell_type": "code",
   "execution_count": 55,
   "id": "e4637414",
   "metadata": {},
   "outputs": [
    {
     "data": {
      "text/plain": [
       "[Text(362.7, 332.955, 'contract_type_id.1 <= 1.5\\ngini = 0.39\\nsamples = 4500\\nvalue = [3304, 1196]\\nclass = did not churn'),\n",
       " Text(181.35, 237.825, 'internet_service_type_Fiber optic <= 0.5\\ngini = 0.488\\nsamples = 2460\\nvalue = [1418, 1042]\\nclass = did not churn'),\n",
       " Text(90.675, 142.695, 'tenure <= 5.5\\ngini = 0.407\\nsamples = 1138\\nvalue = [814, 324]\\nclass = did not churn'),\n",
       " Text(45.3375, 47.565, 'gini = 0.486\\nsamples = 480\\nvalue = [280, 200]\\nclass = did not churn'),\n",
       " Text(136.0125, 47.565, 'gini = 0.306\\nsamples = 658\\nvalue = [534, 124]\\nclass = did not churn'),\n",
       " Text(272.025, 142.695, 'tenure <= 13.5\\ngini = 0.496\\nsamples = 1322\\nvalue = [604, 718]\\nclass = churned'),\n",
       " Text(226.6875, 47.565, 'gini = 0.431\\nsamples = 583\\nvalue = [183, 400]\\nclass = churned'),\n",
       " Text(317.3625, 47.565, 'gini = 0.49\\nsamples = 739\\nvalue = [421, 318]\\nclass = did not churn'),\n",
       " Text(544.05, 237.825, 'monthly_charges <= 93.675\\ngini = 0.14\\nsamples = 2040\\nvalue = [1886, 154]\\nclass = did not churn'),\n",
       " Text(453.375, 142.695, 'contract_type_Two year <= 0.5\\ngini = 0.084\\nsamples = 1520\\nvalue = [1453, 67]\\nclass = did not churn'),\n",
       " Text(408.03749999999997, 47.565, 'gini = 0.146\\nsamples = 694\\nvalue = [639, 55]\\nclass = did not churn'),\n",
       " Text(498.7125, 47.565, 'gini = 0.029\\nsamples = 826\\nvalue = [814, 12]\\nclass = did not churn'),\n",
       " Text(634.725, 142.695, 'contract_type_One year <= 0.5\\ngini = 0.279\\nsamples = 520\\nvalue = [433, 87]\\nclass = did not churn'),\n",
       " Text(589.3874999999999, 47.565, 'gini = 0.142\\nsamples = 247\\nvalue = [228, 19]\\nclass = did not churn'),\n",
       " Text(680.0625, 47.565, 'gini = 0.374\\nsamples = 273\\nvalue = [205, 68]\\nclass = did not churn')]"
      ]
     },
     "execution_count": 55,
     "metadata": {},
     "output_type": "execute_result"
    },
    {
     "data": {
      "image/png": "[encoded data removed]",
      "text/plain": [
       "<Figure size 936x504 with 1 Axes>"
      ]
     },
     "metadata": {
      "needs_background": "light"
     },
     "output_type": "display_data"
    }
   ],
   "source": [
    "#creating the visual of a Decision Tree model\n",
    "churned = np.array(['did not churn', 'churned'])\n",
    "\n",
    "plt.figure(figsize = (13,7))\n",
    "plot_tree(clf, feature_names = X_train.columns, class_names = churned, rounded = True)"
   ]
  },
  {
   "cell_type": "markdown",
   "id": "763c1d8d",
   "metadata": {},
   "source": [
    "#### EVALUATING DECISION TREE MODEL:"
   ]
  },
  {
   "cell_type": "code",
   "execution_count": 56,
   "id": "53fbf86f",
   "metadata": {},
   "outputs": [
    {
     "data": {
      "text/plain": [
       "array(['No', 'No', 'No', 'No', 'No'], dtype=object)"
      ]
     },
     "execution_count": 56,
     "metadata": {},
     "output_type": "execute_result"
    }
   ],
   "source": [
    "### Make Predictions\n",
    "y_pred=clf.predict(X_train)\n",
    "y_pred[0:5]"
   ]
  },
  {
   "cell_type": "code",
   "execution_count": 57,
   "id": "7634b986",
   "metadata": {},
   "outputs": [
    {
     "data": {
      "text/plain": [
       "array([[0.56968877, 0.43031123],\n",
       "       [0.81155015, 0.18844985],\n",
       "       [0.92074928, 0.07925072],\n",
       "       [0.81155015, 0.18844985],\n",
       "       [0.75091575, 0.24908425]])"
      ]
     },
     "execution_count": 57,
     "metadata": {},
     "output_type": "execute_result"
    }
   ],
   "source": [
    "## Estimate Probability\n",
    "y_pred_proba = clf.predict_proba(X_train)\n",
    "y_pred_proba[0:5]"
   ]
  },
  {
   "cell_type": "code",
   "execution_count": 58,
   "id": "805aef2c",
   "metadata": {},
   "outputs": [
    {
     "name": "stdout",
     "output_type": "stream",
     "text": [
      "Accuracy of Decision Tree classifier on training set: 0.78\n"
     ]
    }
   ],
   "source": [
    "#Evaluate by computing accuracy\n",
    "print('Accuracy of Decision Tree classifier on training set: {:.2f}'\n",
    "      .format(clf.score(X_train, y_train)))"
   ]
  },
  {
   "cell_type": "code",
   "execution_count": 59,
   "id": "64a49c3a",
   "metadata": {},
   "outputs": [
    {
     "data": {
      "text/plain": [
       "array([[3121,  183],\n",
       "       [ 796,  400]])"
      ]
     },
     "execution_count": 59,
     "metadata": {},
     "output_type": "execute_result"
    }
   ],
   "source": [
    "# confusion matrix\n",
    "\n",
    "confusion_matrix(y_train, y_pred)"
   ]
  },
  {
   "cell_type": "code",
   "execution_count": 60,
   "id": "58b61984",
   "metadata": {},
   "outputs": [
    {
     "data": {
      "text/plain": [
       "(3121, 183, 796, 400)"
      ]
     },
     "execution_count": 60,
     "metadata": {},
     "output_type": "execute_result"
    }
   ],
   "source": [
    "#Defining true/false positive and true/false negative:\n",
    "\n",
    "tn, fp, fn, tp = confusion_matrix(y_train, y_pred).ravel()\n",
    "\n",
    "tn, fp, fn, tp"
   ]
  },
  {
   "cell_type": "code",
   "execution_count": 61,
   "id": "045bc1c6",
   "metadata": {},
   "outputs": [
    {
     "name": "stdout",
     "output_type": "stream",
     "text": [
      "Tree with max depth of 2\n",
      "                    No          Yes  accuracy    macro avg  weighted avg\n",
      "precision     0.849591     0.543116  0.759556     0.696354      0.768137\n",
      "recall        0.817191     0.600334  0.759556     0.708763      0.759556\n",
      "f1-score      0.833076     0.570294  0.759556     0.701685      0.763235\n",
      "support    3304.000000  1196.000000  0.759556  4500.000000   4500.000000\n",
      "\n",
      "Tree with max depth of 3\n",
      "                    No          Yes  accuracy    macro avg  weighted avg\n",
      "precision     0.796783     0.686106  0.782444     0.741445      0.767368\n",
      "recall        0.944613     0.334448  0.782444     0.639530      0.782444\n",
      "f1-score      0.864423     0.449691  0.782444     0.657057      0.754197\n",
      "support    3304.000000  1196.000000  0.782444  4500.000000   4500.000000\n",
      "\n",
      "Tree with max depth of 4\n",
      "                    No          Yes  accuracy    macro avg  weighted avg\n",
      "precision     0.822259     0.623874  0.783111     0.723067      0.769533\n",
      "recall        0.898910     0.463211  0.783111     0.681061      0.783111\n",
      "f1-score      0.858878     0.531670  0.783111     0.695274      0.771913\n",
      "support    3304.000000  1196.000000  0.783111  4500.000000   4500.000000\n",
      "\n",
      "Tree with max depth of 5\n",
      "                    No          Yes  accuracy    macro avg  weighted avg\n",
      "precision     0.830011     0.655405  0.795556     0.742708      0.783605\n",
      "recall        0.907385     0.486622  0.795556     0.697004      0.795556\n",
      "f1-score      0.866975     0.558541  0.795556     0.712758      0.785000\n",
      "support    3304.000000  1196.000000  0.795556  4500.000000   4500.000000\n",
      "\n",
      "Tree with max depth of 6\n",
      "                    No          Yes  accuracy    macro avg  weighted avg\n",
      "precision     0.846286     0.651530  0.802444     0.748908      0.794524\n",
      "recall        0.893160     0.551839  0.802444     0.722500      0.802444\n",
      "f1-score      0.869091     0.597555  0.802444     0.733323      0.796923\n",
      "support    3304.000000  1196.000000  0.802444  4500.000000   4500.000000\n",
      "\n",
      "Tree with max depth of 7\n",
      "                    No          Yes  accuracy    macro avg  weighted avg\n",
      "precision     0.861877     0.665138  0.814222     0.763507      0.809588\n",
      "recall        0.889528     0.606187  0.814222     0.747858      0.814222\n",
      "f1-score      0.875484     0.634296  0.814222     0.754890      0.811382\n",
      "support    3304.000000  1196.000000  0.814222  4500.000000   4500.000000\n",
      "\n",
      "Tree with max depth of 8\n",
      "                    No          Yes  accuracy    macro avg  weighted avg\n",
      "precision     0.847987     0.755006  0.830444     0.801496      0.823275\n",
      "recall        0.937046     0.535953  0.830444     0.736500      0.830444\n",
      "f1-score      0.890295     0.626895  0.830444     0.758595      0.820289\n",
      "support    3304.000000  1196.000000  0.830444  4500.000000   4500.000000\n",
      "\n",
      "Tree with max depth of 9\n",
      "                    No          Yes  accuracy    macro avg  weighted avg\n",
      "precision     0.902617     0.721582  0.853778     0.812099      0.854502\n",
      "recall        0.897700     0.732441  0.853778     0.815071      0.853778\n",
      "f1-score      0.900152     0.726971  0.853778     0.813561      0.854124\n",
      "support    3304.000000  1196.000000  0.853778  4500.000000   4500.000000\n",
      "\n",
      "Tree with max depth of 10\n",
      "                    No          Yes  accuracy    macro avg  weighted avg\n",
      "precision     0.910341     0.776430     0.876     0.843385      0.874750\n",
      "recall        0.921913     0.749164     0.876     0.835538      0.876000\n",
      "f1-score      0.916090     0.762553     0.876     0.839322      0.875283\n",
      "support    3304.000000  1196.000000     0.876  4500.000000   4500.000000\n",
      "\n",
      "Tree with max depth of 11\n",
      "                    No          Yes  accuracy    macro avg  weighted avg\n",
      "precision     0.921418     0.834081  0.899778     0.877749      0.898206\n",
      "recall        0.944007     0.777592  0.899778     0.860800      0.899778\n",
      "f1-score      0.932576     0.804846  0.899778     0.868711      0.898628\n",
      "support    3304.000000  1196.000000  0.899778  4500.000000   4500.000000\n",
      "\n",
      "Tree with max depth of 12\n",
      "                    No          Yes  accuracy    macro avg  weighted avg\n",
      "precision     0.939627     0.884924     0.926     0.912276      0.925088\n",
      "recall        0.960956     0.829431     0.926     0.895194      0.926000\n",
      "f1-score      0.950172     0.856280     0.926     0.903226      0.925218\n",
      "support    3304.000000  1196.000000     0.926  4500.000000   4500.000000\n",
      "\n",
      "Tree with max depth of 13\n",
      "                    No          Yes  accuracy    macro avg  weighted avg\n",
      "precision     0.960012     0.905451  0.945778     0.932732      0.945511\n",
      "recall        0.966404     0.888796  0.945778     0.927600      0.945778\n",
      "f1-score      0.963198     0.897046  0.945778     0.930122      0.945616\n",
      "support    3304.000000  1196.000000  0.945778  4500.000000   4500.000000\n",
      "\n",
      "Tree with max depth of 14\n",
      "                    No          Yes  accuracy    macro avg  weighted avg\n",
      "precision     0.972022     0.937925  0.963111     0.954973      0.962960\n",
      "recall        0.977906     0.922241  0.963111     0.950073      0.963111\n",
      "f1-score      0.974955     0.930017  0.963111     0.952486      0.963011\n",
      "support    3304.000000  1196.000000  0.963111  4500.000000   4500.000000\n",
      "\n",
      "Tree with max depth of 15\n",
      "                    No          Yes  accuracy    macro avg  weighted avg\n",
      "precision     0.974627     0.966087  0.972444     0.970357      0.972357\n",
      "recall        0.988196     0.928930  0.972444     0.958563      0.972444\n",
      "f1-score      0.981365     0.947144  0.972444     0.964254      0.972270\n",
      "support    3304.000000  1196.000000  0.972444  4500.000000   4500.000000\n",
      "\n",
      "Tree with max depth of 16\n",
      "                    No          Yes  accuracy    macro avg  weighted avg\n",
      "precision     0.985245     0.972858     0.982     0.979052      0.981953\n",
      "recall        0.990315     0.959030     0.982     0.974672      0.982000\n",
      "f1-score      0.987774     0.965895     0.982     0.976834      0.981959\n",
      "support    3304.000000  1196.000000     0.982  4500.000000   4500.000000\n",
      "\n",
      "Tree with max depth of 17\n",
      "                    No          Yes  accuracy    macro avg  weighted avg\n",
      "precision     0.989179     0.988917  0.989111     0.989048      0.989110\n",
      "recall        0.996065     0.969900  0.989111     0.982983      0.989111\n",
      "f1-score      0.992610     0.979316  0.989111     0.985963      0.989077\n",
      "support    3304.000000  1196.000000  0.989111  4500.000000   4500.000000\n",
      "\n",
      "Tree with max depth of 18\n",
      "                    No          Yes  accuracy    macro avg  weighted avg\n",
      "precision     0.993074     0.994911  0.993556     0.993993      0.993562\n",
      "recall        0.998184     0.980769  0.993556     0.989477      0.993556\n",
      "f1-score      0.995623     0.987789  0.993556     0.991706      0.993541\n",
      "support    3304.000000  1196.000000  0.993556  4500.000000   4500.000000\n",
      "\n",
      "Tree with max depth of 19\n",
      "                    No          Yes  accuracy    macro avg  weighted avg\n",
      "precision     0.993079     0.996602     0.994     0.994840      0.994015\n",
      "recall        0.998789     0.980769     0.994     0.989779      0.994000\n",
      "f1-score      0.995926     0.988622     0.994     0.992274      0.993985\n",
      "support    3304.000000  1196.000000     0.994  4500.000000   4500.000000\n",
      "\n",
      "Tree with max depth of 20\n",
      "                    No          Yes  accuracy    macro avg  weighted avg\n",
      "precision     0.995474     0.995784  0.995556     0.995629      0.995556\n",
      "recall        0.998487     0.987458  0.995556     0.992972      0.995556\n",
      "f1-score      0.996978     0.991604  0.995556     0.994291      0.995550\n",
      "support    3304.000000  1196.000000  0.995556  4500.000000   4500.000000\n",
      "\n"
     ]
    }
   ],
   "source": [
    "# I'll create a \"for\" loop so that multiple models can be tested out:\n",
    "for i in range(2, 21):\n",
    "    # Make the model\n",
    "    clf = DecisionTreeClassifier(max_depth=i, random_state=123)\n",
    "    # Fit the model (on train and only train)\n",
    "    clf = clf.fit(X_train, y_train)\n",
    "\n",
    "    # Use the model\n",
    "    # We'll evaluate the model's performance on train, first\n",
    "    y_predictions = clf.predict(X_train)\n",
    "\n",
    "    # Produce the classification report on the actual y values and this model's predicted y values\n",
    "    report = classification_report(y_train, y_predictions, output_dict=True)\n",
    "    print(f\"Tree with max depth of {i}\")\n",
    "    print(pd.DataFrame(report))\n",
    "    print()"
   ]
  },
  {
   "cell_type": "code",
   "execution_count": 62,
   "id": "c7d16614",
   "metadata": {},
   "outputs": [
    {
     "name": "stdout",
     "output_type": "stream",
     "text": [
      "              precision    recall  f1-score   support\n",
      "\n",
      "          No       0.80      0.94      0.86      3304\n",
      "         Yes       0.69      0.33      0.45      1196\n",
      "\n",
      "    accuracy                           0.78      4500\n",
      "   macro avg       0.74      0.64      0.66      4500\n",
      "weighted avg       0.77      0.78      0.75      4500\n",
      "\n"
     ]
    }
   ],
   "source": [
    "print(classification_report(y_train, y_pred))"
   ]
  },
  {
   "cell_type": "markdown",
   "id": "725b24e3",
   "metadata": {},
   "source": [
    "### Validate the model:\n",
    "- comparing in-sample to out-of-sample"
   ]
  },
  {
   "cell_type": "code",
   "execution_count": 63,
   "id": "ae142d23",
   "metadata": {},
   "outputs": [
    {
     "name": "stdout",
     "output_type": "stream",
     "text": [
      "              precision    recall  f1-score   support\n",
      "\n",
      "          No       0.83      0.83      0.83       826\n",
      "         Yes       0.54      0.54      0.54       299\n",
      "\n",
      "    accuracy                           0.75      1125\n",
      "   macro avg       0.68      0.69      0.68      1125\n",
      "weighted avg       0.75      0.75      0.75      1125\n",
      "\n"
     ]
    }
   ],
   "source": [
    "# And since accuracy isn't everything\n",
    "\n",
    "# Produce y_predictions that come from the X_validate\n",
    "y_pred = clf.predict(X_validate)\n",
    "\n",
    "# Compare actual y values (from validate) to predicted y_values from the model run on X_validate\n",
    "print(classification_report(y_validate, y_pred))"
   ]
  },
  {
   "cell_type": "code",
   "execution_count": 64,
   "id": "8cbf65eb",
   "metadata": {},
   "outputs": [
    {
     "data": {
      "text/html": [
       "<div>\n",
       "<style scoped>\n",
       "    .dataframe tbody tr th:only-of-type {\n",
       "        vertical-align: middle;\n",
       "    }\n",
       "\n",
       "    .dataframe tbody tr th {\n",
       "        vertical-align: top;\n",
       "    }\n",
       "\n",
       "    .dataframe thead th {\n",
       "        text-align: right;\n",
       "    }\n",
       "</style>\n",
       "<table border=\"1\" class=\"dataframe\">\n",
       "  <thead>\n",
       "    <tr style=\"text-align: right;\">\n",
       "      <th></th>\n",
       "      <th>max_depth</th>\n",
       "      <th>train_accuracy</th>\n",
       "      <th>validate_accuracy</th>\n",
       "      <th>difference</th>\n",
       "    </tr>\n",
       "  </thead>\n",
       "  <tbody>\n",
       "    <tr>\n",
       "      <th>2</th>\n",
       "      <td>4</td>\n",
       "      <td>0.783111</td>\n",
       "      <td>0.804444</td>\n",
       "      <td>-0.021333</td>\n",
       "    </tr>\n",
       "    <tr>\n",
       "      <th>5</th>\n",
       "      <td>7</td>\n",
       "      <td>0.814222</td>\n",
       "      <td>0.797333</td>\n",
       "      <td>0.016889</td>\n",
       "    </tr>\n",
       "    <tr>\n",
       "      <th>1</th>\n",
       "      <td>3</td>\n",
       "      <td>0.782444</td>\n",
       "      <td>0.795556</td>\n",
       "      <td>-0.013111</td>\n",
       "    </tr>\n",
       "    <tr>\n",
       "      <th>4</th>\n",
       "      <td>6</td>\n",
       "      <td>0.802444</td>\n",
       "      <td>0.795556</td>\n",
       "      <td>0.006889</td>\n",
       "    </tr>\n",
       "    <tr>\n",
       "      <th>6</th>\n",
       "      <td>8</td>\n",
       "      <td>0.830444</td>\n",
       "      <td>0.792889</td>\n",
       "      <td>0.037556</td>\n",
       "    </tr>\n",
       "    <tr>\n",
       "      <th>8</th>\n",
       "      <td>10</td>\n",
       "      <td>0.876000</td>\n",
       "      <td>0.787556</td>\n",
       "      <td>0.088444</td>\n",
       "    </tr>\n",
       "    <tr>\n",
       "      <th>3</th>\n",
       "      <td>5</td>\n",
       "      <td>0.795556</td>\n",
       "      <td>0.786667</td>\n",
       "      <td>0.008889</td>\n",
       "    </tr>\n",
       "    <tr>\n",
       "      <th>7</th>\n",
       "      <td>9</td>\n",
       "      <td>0.853778</td>\n",
       "      <td>0.779556</td>\n",
       "      <td>0.074222</td>\n",
       "    </tr>\n",
       "    <tr>\n",
       "      <th>0</th>\n",
       "      <td>2</td>\n",
       "      <td>0.759556</td>\n",
       "      <td>0.766222</td>\n",
       "      <td>-0.006667</td>\n",
       "    </tr>\n",
       "  </tbody>\n",
       "</table>\n",
       "</div>"
      ],
      "text/plain": [
       "   max_depth  train_accuracy  validate_accuracy  difference\n",
       "2          4        0.783111           0.804444   -0.021333\n",
       "5          7        0.814222           0.797333    0.016889\n",
       "1          3        0.782444           0.795556   -0.013111\n",
       "4          6        0.802444           0.795556    0.006889\n",
       "6          8        0.830444           0.792889    0.037556\n",
       "8         10        0.876000           0.787556    0.088444\n",
       "3          5        0.795556           0.786667    0.008889\n",
       "7          9        0.853778           0.779556    0.074222\n",
       "0          2        0.759556           0.766222   -0.006667"
      ]
     },
     "execution_count": 64,
     "metadata": {},
     "output_type": "execute_result"
    }
   ],
   "source": [
    "# Comparing in-sample to out-of-sample values:\n",
    "dt_metrics = []\n",
    "\n",
    "for i in range(2, 25):\n",
    "    # Make the model\n",
    "    tree = DecisionTreeClassifier(max_depth=i, random_state=123)\n",
    "\n",
    "    # Fit the model (on train and only train)\n",
    "    tree = tree.fit(X_train, y_train)\n",
    "\n",
    "    # Use the model\n",
    "    # We'll evaluate the model's performance on train, first\n",
    "    in_sample_accuracy = tree.score(X_train, y_train)\n",
    "    \n",
    "    out_of_sample_accuracy = tree.score(X_validate, y_validate)\n",
    "\n",
    "    output = {\n",
    "        \"max_depth\": i,\n",
    "        \"train_accuracy\": in_sample_accuracy,\n",
    "        \"validate_accuracy\": out_of_sample_accuracy\n",
    "    }\n",
    "    \n",
    "    dt_metrics.append(output)\n",
    "    \n",
    "decision_tree_metrics = pd.DataFrame(dt_metrics)\n",
    "decision_tree_metrics[\"difference\"] = decision_tree_metrics.train_accuracy - decision_tree_metrics.validate_accuracy\n",
    "decision_tree_metrics[decision_tree_metrics.difference <= 0.10].sort_values(by=['validate_accuracy', 'difference'], ascending = [False,True])\n",
    "\n",
    "# It appears that the highest-accuracy decison tree model on the training set has a max depth of 4."
   ]
  },
  {
   "cell_type": "code",
   "execution_count": 65,
   "id": "7a5f0b25",
   "metadata": {},
   "outputs": [
    {
     "data": {
      "text/html": [
       "<div>\n",
       "<style scoped>\n",
       "    .dataframe tbody tr th:only-of-type {\n",
       "        vertical-align: middle;\n",
       "    }\n",
       "\n",
       "    .dataframe tbody tr th {\n",
       "        vertical-align: top;\n",
       "    }\n",
       "\n",
       "    .dataframe thead th {\n",
       "        text-align: right;\n",
       "    }\n",
       "</style>\n",
       "<table border=\"1\" class=\"dataframe\">\n",
       "  <thead>\n",
       "    <tr style=\"text-align: right;\">\n",
       "      <th></th>\n",
       "      <th>max_depth</th>\n",
       "      <th>train_accuracy</th>\n",
       "      <th>validate_accuracy</th>\n",
       "      <th>difference</th>\n",
       "    </tr>\n",
       "  </thead>\n",
       "  <tbody>\n",
       "    <tr>\n",
       "      <th>0</th>\n",
       "      <td>2</td>\n",
       "      <td>0.759556</td>\n",
       "      <td>0.766222</td>\n",
       "      <td>-0.006667</td>\n",
       "    </tr>\n",
       "    <tr>\n",
       "      <th>1</th>\n",
       "      <td>3</td>\n",
       "      <td>0.782444</td>\n",
       "      <td>0.795556</td>\n",
       "      <td>-0.013111</td>\n",
       "    </tr>\n",
       "    <tr>\n",
       "      <th>2</th>\n",
       "      <td>4</td>\n",
       "      <td>0.783111</td>\n",
       "      <td>0.804444</td>\n",
       "      <td>-0.021333</td>\n",
       "    </tr>\n",
       "    <tr>\n",
       "      <th>3</th>\n",
       "      <td>5</td>\n",
       "      <td>0.795556</td>\n",
       "      <td>0.786667</td>\n",
       "      <td>0.008889</td>\n",
       "    </tr>\n",
       "    <tr>\n",
       "      <th>4</th>\n",
       "      <td>6</td>\n",
       "      <td>0.802444</td>\n",
       "      <td>0.795556</td>\n",
       "      <td>0.006889</td>\n",
       "    </tr>\n",
       "    <tr>\n",
       "      <th>5</th>\n",
       "      <td>7</td>\n",
       "      <td>0.814222</td>\n",
       "      <td>0.797333</td>\n",
       "      <td>0.016889</td>\n",
       "    </tr>\n",
       "    <tr>\n",
       "      <th>6</th>\n",
       "      <td>8</td>\n",
       "      <td>0.830444</td>\n",
       "      <td>0.792889</td>\n",
       "      <td>0.037556</td>\n",
       "    </tr>\n",
       "    <tr>\n",
       "      <th>7</th>\n",
       "      <td>9</td>\n",
       "      <td>0.853778</td>\n",
       "      <td>0.779556</td>\n",
       "      <td>0.074222</td>\n",
       "    </tr>\n",
       "    <tr>\n",
       "      <th>8</th>\n",
       "      <td>10</td>\n",
       "      <td>0.876000</td>\n",
       "      <td>0.787556</td>\n",
       "      <td>0.088444</td>\n",
       "    </tr>\n",
       "    <tr>\n",
       "      <th>9</th>\n",
       "      <td>11</td>\n",
       "      <td>0.899778</td>\n",
       "      <td>0.763556</td>\n",
       "      <td>0.136222</td>\n",
       "    </tr>\n",
       "    <tr>\n",
       "      <th>10</th>\n",
       "      <td>12</td>\n",
       "      <td>0.926000</td>\n",
       "      <td>0.768000</td>\n",
       "      <td>0.158000</td>\n",
       "    </tr>\n",
       "    <tr>\n",
       "      <th>11</th>\n",
       "      <td>13</td>\n",
       "      <td>0.945778</td>\n",
       "      <td>0.766222</td>\n",
       "      <td>0.179556</td>\n",
       "    </tr>\n",
       "    <tr>\n",
       "      <th>12</th>\n",
       "      <td>14</td>\n",
       "      <td>0.963111</td>\n",
       "      <td>0.760000</td>\n",
       "      <td>0.203111</td>\n",
       "    </tr>\n",
       "    <tr>\n",
       "      <th>13</th>\n",
       "      <td>15</td>\n",
       "      <td>0.972444</td>\n",
       "      <td>0.764444</td>\n",
       "      <td>0.208000</td>\n",
       "    </tr>\n",
       "    <tr>\n",
       "      <th>14</th>\n",
       "      <td>16</td>\n",
       "      <td>0.982000</td>\n",
       "      <td>0.760889</td>\n",
       "      <td>0.221111</td>\n",
       "    </tr>\n",
       "    <tr>\n",
       "      <th>15</th>\n",
       "      <td>17</td>\n",
       "      <td>0.989111</td>\n",
       "      <td>0.772444</td>\n",
       "      <td>0.216667</td>\n",
       "    </tr>\n",
       "    <tr>\n",
       "      <th>16</th>\n",
       "      <td>18</td>\n",
       "      <td>0.993556</td>\n",
       "      <td>0.758222</td>\n",
       "      <td>0.235333</td>\n",
       "    </tr>\n",
       "    <tr>\n",
       "      <th>17</th>\n",
       "      <td>19</td>\n",
       "      <td>0.994000</td>\n",
       "      <td>0.760889</td>\n",
       "      <td>0.233111</td>\n",
       "    </tr>\n",
       "    <tr>\n",
       "      <th>18</th>\n",
       "      <td>20</td>\n",
       "      <td>0.995556</td>\n",
       "      <td>0.753778</td>\n",
       "      <td>0.241778</td>\n",
       "    </tr>\n",
       "    <tr>\n",
       "      <th>19</th>\n",
       "      <td>21</td>\n",
       "      <td>0.996000</td>\n",
       "      <td>0.752000</td>\n",
       "      <td>0.244000</td>\n",
       "    </tr>\n",
       "    <tr>\n",
       "      <th>20</th>\n",
       "      <td>22</td>\n",
       "      <td>0.997111</td>\n",
       "      <td>0.768000</td>\n",
       "      <td>0.229111</td>\n",
       "    </tr>\n",
       "    <tr>\n",
       "      <th>21</th>\n",
       "      <td>23</td>\n",
       "      <td>0.997556</td>\n",
       "      <td>0.750222</td>\n",
       "      <td>0.247333</td>\n",
       "    </tr>\n",
       "    <tr>\n",
       "      <th>22</th>\n",
       "      <td>24</td>\n",
       "      <td>0.997556</td>\n",
       "      <td>0.753778</td>\n",
       "      <td>0.243778</td>\n",
       "    </tr>\n",
       "  </tbody>\n",
       "</table>\n",
       "</div>"
      ],
      "text/plain": [
       "    max_depth  train_accuracy  validate_accuracy  difference\n",
       "0           2        0.759556           0.766222   -0.006667\n",
       "1           3        0.782444           0.795556   -0.013111\n",
       "2           4        0.783111           0.804444   -0.021333\n",
       "3           5        0.795556           0.786667    0.008889\n",
       "4           6        0.802444           0.795556    0.006889\n",
       "5           7        0.814222           0.797333    0.016889\n",
       "6           8        0.830444           0.792889    0.037556\n",
       "7           9        0.853778           0.779556    0.074222\n",
       "8          10        0.876000           0.787556    0.088444\n",
       "9          11        0.899778           0.763556    0.136222\n",
       "10         12        0.926000           0.768000    0.158000\n",
       "11         13        0.945778           0.766222    0.179556\n",
       "12         14        0.963111           0.760000    0.203111\n",
       "13         15        0.972444           0.764444    0.208000\n",
       "14         16        0.982000           0.760889    0.221111\n",
       "15         17        0.989111           0.772444    0.216667\n",
       "16         18        0.993556           0.758222    0.235333\n",
       "17         19        0.994000           0.760889    0.233111\n",
       "18         20        0.995556           0.753778    0.241778\n",
       "19         21        0.996000           0.752000    0.244000\n",
       "20         22        0.997111           0.768000    0.229111\n",
       "21         23        0.997556           0.750222    0.247333\n",
       "22         24        0.997556           0.753778    0.243778"
      ]
     },
     "execution_count": 65,
     "metadata": {},
     "output_type": "execute_result"
    }
   ],
   "source": [
    "val_df = pd.DataFrame(dt_metrics)\n",
    "val_df[\"difference\"] = val_df.train_accuracy - val_df.validate_accuracy\n",
    "val_df"
   ]
  },
  {
   "cell_type": "code",
   "execution_count": 66,
   "id": "a98068e9",
   "metadata": {},
   "outputs": [
    {
     "data": {
      "image/png": "[encoded data removed]",
      "text/plain": [
       "<Figure size 1152x648 with 1 Axes>"
      ]
     },
     "metadata": {
      "needs_background": "light"
     },
     "output_type": "display_data"
    }
   ],
   "source": [
    "val_df.set_index('max_depth').plot(figsize = (16,9))\n",
    "plt.ylabel('Accuracy')\n",
    "plt.xticks(np.arange(0,21,1))\n",
    "plt.grid()"
   ]
  },
  {
   "cell_type": "markdown",
   "id": "00f8bc13",
   "metadata": {},
   "source": [
    "### TAKE AWAYS:\n",
    "- The model with the highest accuracy is the DT with a max depth of 20...the higher it goes, the more accurate it shows, however this kind of test is more prone to over-fitting the data in the model. \n",
    "- I would choose a model with a mid range accuracy (around 80+ accuracy and >0.07 for difference)\n",
    "- <b>My choice here would be going with model 6 or 7 and it fits within the boundaries I listed and there is not a significant increase of difference there.</b>"
   ]
  },
  {
   "cell_type": "markdown",
   "id": "823a185d",
   "metadata": {},
   "source": [
    "## Random Forest Model:"
   ]
  },
  {
   "cell_type": "code",
   "execution_count": 67,
   "id": "5c1b3945",
   "metadata": {},
   "outputs": [
    {
     "name": "stdout",
     "output_type": "stream",
     "text": [
      "Forest of 1 depth\n"
     ]
    },
    {
     "data": {
      "text/html": [
       "<div>\n",
       "<style scoped>\n",
       "    .dataframe tbody tr th:only-of-type {\n",
       "        vertical-align: middle;\n",
       "    }\n",
       "\n",
       "    .dataframe tbody tr th {\n",
       "        vertical-align: top;\n",
       "    }\n",
       "\n",
       "    .dataframe thead th {\n",
       "        text-align: right;\n",
       "    }\n",
       "</style>\n",
       "<table border=\"1\" class=\"dataframe\">\n",
       "  <thead>\n",
       "    <tr style=\"text-align: right;\">\n",
       "      <th></th>\n",
       "      <th>No</th>\n",
       "      <th>Yes</th>\n",
       "      <th>accuracy</th>\n",
       "      <th>macro avg</th>\n",
       "      <th>weighted avg</th>\n",
       "    </tr>\n",
       "  </thead>\n",
       "  <tbody>\n",
       "    <tr>\n",
       "      <th>precision</th>\n",
       "      <td>0.734222</td>\n",
       "      <td>0.0</td>\n",
       "      <td>0.734222</td>\n",
       "      <td>0.367111</td>\n",
       "      <td>0.539082</td>\n",
       "    </tr>\n",
       "    <tr>\n",
       "      <th>recall</th>\n",
       "      <td>1.000000</td>\n",
       "      <td>0.0</td>\n",
       "      <td>0.734222</td>\n",
       "      <td>0.500000</td>\n",
       "      <td>0.734222</td>\n",
       "    </tr>\n",
       "    <tr>\n",
       "      <th>f1-score</th>\n",
       "      <td>0.846745</td>\n",
       "      <td>0.0</td>\n",
       "      <td>0.734222</td>\n",
       "      <td>0.423373</td>\n",
       "      <td>0.621699</td>\n",
       "    </tr>\n",
       "    <tr>\n",
       "      <th>support</th>\n",
       "      <td>3304.000000</td>\n",
       "      <td>1196.0</td>\n",
       "      <td>0.734222</td>\n",
       "      <td>4500.000000</td>\n",
       "      <td>4500.000000</td>\n",
       "    </tr>\n",
       "  </tbody>\n",
       "</table>\n",
       "</div>"
      ],
      "text/plain": [
       "                    No     Yes  accuracy    macro avg  weighted avg\n",
       "precision     0.734222     0.0  0.734222     0.367111      0.539082\n",
       "recall        1.000000     0.0  0.734222     0.500000      0.734222\n",
       "f1-score      0.846745     0.0  0.734222     0.423373      0.621699\n",
       "support    3304.000000  1196.0  0.734222  4500.000000   4500.000000"
      ]
     },
     "execution_count": 67,
     "metadata": {},
     "output_type": "execute_result"
    }
   ],
   "source": [
    "from sklearn.ensemble import RandomForestClassifier\n",
    "forest1 = RandomForestClassifier(max_depth=1, random_state=123)\n",
    "\n",
    "# Fit the model\n",
    "forest1.fit(X_train, y_train)\n",
    "\n",
    "#Using the model\n",
    "y_predictions = forest1.predict(X_train)\n",
    "\n",
    "# Adding int the classification report on the actual y values and this model's predicted y values\n",
    "report = classification_report(y_train, y_predictions, output_dict=True)\n",
    "print(\"Forest of 1 depth\")\n",
    "pd.DataFrame(report)"
   ]
  },
  {
   "cell_type": "code",
   "execution_count": 68,
   "id": "1d7d22c5",
   "metadata": {},
   "outputs": [
    {
     "data": {
      "text/html": [
       "<div>\n",
       "<style scoped>\n",
       "    .dataframe tbody tr th:only-of-type {\n",
       "        vertical-align: middle;\n",
       "    }\n",
       "\n",
       "    .dataframe tbody tr th {\n",
       "        vertical-align: top;\n",
       "    }\n",
       "\n",
       "    .dataframe thead th {\n",
       "        text-align: right;\n",
       "    }\n",
       "</style>\n",
       "<table border=\"1\" class=\"dataframe\">\n",
       "  <thead>\n",
       "    <tr style=\"text-align: right;\">\n",
       "      <th></th>\n",
       "      <th>0</th>\n",
       "      <th>1</th>\n",
       "    </tr>\n",
       "  </thead>\n",
       "  <tbody>\n",
       "    <tr>\n",
       "      <th>0</th>\n",
       "      <td>3304</td>\n",
       "      <td>1196</td>\n",
       "    </tr>\n",
       "    <tr>\n",
       "      <th>1</th>\n",
       "      <td>0</td>\n",
       "      <td>0</td>\n",
       "    </tr>\n",
       "  </tbody>\n",
       "</table>\n",
       "</div>"
      ],
      "text/plain": [
       "      0     1\n",
       "0  3304  1196\n",
       "1     0     0"
      ]
     },
     "execution_count": 68,
     "metadata": {},
     "output_type": "execute_result"
    }
   ],
   "source": [
    "# Evaluating our model using a confusion matrix\n",
    "pd.DataFrame(confusion_matrix(y_predictions, y_train))"
   ]
  },
  {
   "cell_type": "code",
   "execution_count": 69,
   "id": "5f12fc7c",
   "metadata": {},
   "outputs": [
    {
     "data": {
      "text/plain": [
       "(0, 3304, 0, 1196)"
      ]
     },
     "execution_count": 69,
     "metadata": {},
     "output_type": "execute_result"
    }
   ],
   "source": [
    "#Using the confusion matrix and predictions to show the TN, TP, FP, FN are:\n",
    "#this is showing that a True Positive case would be if none were Not Churn, True Negative = all churned\n",
    "TN, FP, FN, TP = confusion_matrix(y_train,y_predictions).ravel()\n",
    "ALL = TP + TN + FP + FN\n",
    "\n",
    "TP, TN, FP, FN"
   ]
  },
  {
   "cell_type": "code",
   "execution_count": 70,
   "id": "5d587709",
   "metadata": {},
   "outputs": [
    {
     "name": "stdout",
     "output_type": "stream",
     "text": [
      "Accuracy: 0.7342222222222222\n",
      "True Positive Rate: 0.0\n",
      "False Positive Rate: 0.0\n",
      "True Negative Rate: 1.0\n",
      "False Negative Rate: 1.0\n",
      "Precision: nan\n",
      "Recall: 0.0\n",
      "F1 Score: nan\n",
      "Support (0): 1196\n",
      "Support (1): 3304\n"
     ]
    }
   ],
   "source": [
    "accuracy = (TP + TN)/ALL\n",
    "print(f\"Accuracy: {accuracy}\")\n",
    "\n",
    "true_positive_rate = TP/(TP+FN)\n",
    "print(f\"True Positive Rate: {true_positive_rate}\")\n",
    "\n",
    "false_positive_rate = FP/(FP+TN)\n",
    "print(f\"False Positive Rate: {false_positive_rate}\")\n",
    "\n",
    "true_negative_rate = TN/(TN+FP)\n",
    "print(f\"True Negative Rate: {true_negative_rate}\")\n",
    "\n",
    "false_negative_rate = FN/(FN+TP)\n",
    "print(f\"False Negative Rate: {false_negative_rate}\")\n",
    "\n",
    "precision = TP/(TP+FP)\n",
    "print(f\"Precision: {precision}\")\n",
    "\n",
    "recall = TP/(TP+FN)\n",
    "print(f\"Recall: {recall}\")\n",
    "\n",
    "f1_score = 2*(precision*recall)/(precision+recall)\n",
    "print(f\"F1 Score: {f1_score}\")\n",
    "\n",
    "support_pos = TP + FN\n",
    "print(f\"Support (0): {support_pos}\")\n",
    "\n",
    "support_neg = FP + TN\n",
    "print(f\"Support (1): {support_neg}\")"
   ]
  },
  {
   "cell_type": "code",
   "execution_count": 71,
   "id": "e0334a60",
   "metadata": {},
   "outputs": [
    {
     "name": "stdout",
     "output_type": "stream",
     "text": [
      "Forest with max depth of 2\n",
      "                    No     Yes  accuracy    macro avg  weighted avg\n",
      "precision     0.734222     0.0  0.734222     0.367111      0.539082\n",
      "recall        1.000000     0.0  0.734222     0.500000      0.734222\n",
      "f1-score      0.846745     0.0  0.734222     0.423373      0.621699\n",
      "support    3304.000000  1196.0  0.734222  4500.000000   4500.000000\n",
      "\n",
      "Forest with max depth of 3\n",
      "                    No          Yes  accuracy    macro avg  weighted avg\n",
      "precision     0.778158     0.707617  0.771778     0.742887      0.759410\n",
      "recall        0.963983     0.240803  0.771778     0.602393      0.771778\n",
      "f1-score      0.861160     0.359326  0.771778     0.610243      0.727784\n",
      "support    3304.000000  1196.000000  0.771778  4500.000000   4500.000000\n",
      "\n",
      "Forest with max depth of 4\n",
      "                    No          Yes  accuracy    macro avg  weighted avg\n",
      "precision     0.799540     0.699491  0.786444     0.749515      0.772949\n",
      "recall        0.946429     0.344482  0.786444     0.645455      0.786444\n",
      "f1-score      0.866805     0.461625  0.786444     0.664215      0.759117\n",
      "support    3304.000000  1196.000000  0.786444  4500.000000   4500.000000\n",
      "\n",
      "Forest with max depth of 5\n",
      "                    No          Yes  accuracy    macro avg  weighted avg\n",
      "precision     0.816733     0.688435  0.795778     0.752584      0.782634\n",
      "recall        0.930690     0.423077  0.795778     0.676883      0.795778\n",
      "f1-score      0.869996     0.524081  0.795778     0.697038      0.778059\n",
      "support    3304.000000  1196.000000  0.795778  4500.000000   4500.000000\n",
      "\n",
      "Forest with max depth of 6\n",
      "                    No          Yes  accuracy    macro avg  weighted avg\n",
      "precision     0.828812     0.694103  0.804444     0.761457      0.793009\n",
      "recall        0.924637     0.472408  0.804444     0.698522      0.804444\n",
      "f1-score      0.874106     0.562189  0.804444     0.718147      0.791205\n",
      "support    3304.000000  1196.000000  0.804444  4500.000000   4500.000000\n",
      "\n",
      "Forest with max depth of 7\n",
      "                    No          Yes  accuracy    macro avg  weighted avg\n",
      "precision     0.838320     0.708285  0.813556     0.773302      0.803760\n",
      "recall        0.924334     0.507525  0.813556     0.715930      0.813556\n",
      "f1-score      0.879228     0.591330  0.813556     0.735279      0.802711\n",
      "support    3304.000000  1196.000000  0.813556  4500.000000   4500.000000\n",
      "\n",
      "Forest with max depth of 8\n",
      "                    No          Yes  accuracy    macro avg  weighted avg\n",
      "precision     0.845941     0.726651  0.822667     0.786296      0.814237\n",
      "recall        0.927361     0.533445  0.822667     0.730403      0.822667\n",
      "f1-score      0.884782     0.615236  0.822667     0.750009      0.813143\n",
      "support    3304.000000  1196.000000  0.822667  4500.000000   4500.000000\n",
      "\n",
      "Forest with max depth of 9\n",
      "                    No          Yes  accuracy    macro avg  weighted avg\n",
      "precision     0.865504     0.758985  0.843111     0.812244      0.837193\n",
      "recall        0.930993     0.600334  0.843111     0.765664      0.843111\n",
      "f1-score      0.897055     0.670401  0.843111     0.783728      0.836815\n",
      "support    3304.000000  1196.000000  0.843111  4500.000000   4500.000000\n",
      "\n",
      "Forest with max depth of 10\n",
      "                    No          Yes  accuracy    macro avg  weighted avg\n",
      "precision     0.888826     0.812500     0.872     0.850663       0.86854\n",
      "recall        0.943705     0.673913     0.872     0.808809       0.87200\n",
      "f1-score      0.915443     0.736746     0.872     0.826095       0.86795\n",
      "support    3304.000000  1196.000000     0.872  4500.000000    4500.00000\n",
      "\n"
     ]
    }
   ],
   "source": [
    "#creating a \"for\"loop to grab more models quickly:\n",
    "for i in range(2, 11):\n",
    "    # Make the model\n",
    "    forest = RandomForestClassifier(max_depth=i, random_state=123)\n",
    "\n",
    "    # Fit the model (on train and only train)\n",
    "    forest = forest.fit(X_train, y_train)\n",
    "\n",
    "    # Use the model\n",
    "    # We'll evaluate the model's performance on train, first\n",
    "    y_predictions = forest.predict(X_train)\n",
    "\n",
    "    # Produce the classification report on the actual y values and this model's predicted y values\n",
    "    report = classification_report(y_train, y_predictions, output_dict=True)\n",
    "    print(f\"Forest with max depth of {i}\")\n",
    "    print(pd.DataFrame(report))\n",
    "    print()"
   ]
  },
  {
   "cell_type": "markdown",
   "id": "36a972b1",
   "metadata": {},
   "source": [
    "### VALIDATING OUR MODEL WITH OUT OF SAMPLE DATA:"
   ]
  },
  {
   "cell_type": "code",
   "execution_count": 72,
   "id": "7b4dbbef",
   "metadata": {},
   "outputs": [
    {
     "data": {
      "text/html": [
       "<div>\n",
       "<style scoped>\n",
       "    .dataframe tbody tr th:only-of-type {\n",
       "        vertical-align: middle;\n",
       "    }\n",
       "\n",
       "    .dataframe tbody tr th {\n",
       "        vertical-align: top;\n",
       "    }\n",
       "\n",
       "    .dataframe thead th {\n",
       "        text-align: right;\n",
       "    }\n",
       "</style>\n",
       "<table border=\"1\" class=\"dataframe\">\n",
       "  <thead>\n",
       "    <tr style=\"text-align: right;\">\n",
       "      <th></th>\n",
       "      <th>max_depth</th>\n",
       "      <th>train_accuracy</th>\n",
       "      <th>validate_accuracy</th>\n",
       "      <th>difference</th>\n",
       "    </tr>\n",
       "  </thead>\n",
       "  <tbody>\n",
       "    <tr>\n",
       "      <th>0</th>\n",
       "      <td>2</td>\n",
       "      <td>0.734222</td>\n",
       "      <td>0.734222</td>\n",
       "      <td>0.000000</td>\n",
       "    </tr>\n",
       "    <tr>\n",
       "      <th>1</th>\n",
       "      <td>3</td>\n",
       "      <td>0.771778</td>\n",
       "      <td>0.774222</td>\n",
       "      <td>-0.002444</td>\n",
       "    </tr>\n",
       "    <tr>\n",
       "      <th>2</th>\n",
       "      <td>4</td>\n",
       "      <td>0.786444</td>\n",
       "      <td>0.792000</td>\n",
       "      <td>-0.005556</td>\n",
       "    </tr>\n",
       "    <tr>\n",
       "      <th>3</th>\n",
       "      <td>5</td>\n",
       "      <td>0.795778</td>\n",
       "      <td>0.800000</td>\n",
       "      <td>-0.004222</td>\n",
       "    </tr>\n",
       "    <tr>\n",
       "      <th>4</th>\n",
       "      <td>6</td>\n",
       "      <td>0.804444</td>\n",
       "      <td>0.806222</td>\n",
       "      <td>-0.001778</td>\n",
       "    </tr>\n",
       "    <tr>\n",
       "      <th>5</th>\n",
       "      <td>7</td>\n",
       "      <td>0.813556</td>\n",
       "      <td>0.808000</td>\n",
       "      <td>0.005556</td>\n",
       "    </tr>\n",
       "    <tr>\n",
       "      <th>6</th>\n",
       "      <td>8</td>\n",
       "      <td>0.822667</td>\n",
       "      <td>0.811556</td>\n",
       "      <td>0.011111</td>\n",
       "    </tr>\n",
       "    <tr>\n",
       "      <th>7</th>\n",
       "      <td>9</td>\n",
       "      <td>0.843111</td>\n",
       "      <td>0.806222</td>\n",
       "      <td>0.036889</td>\n",
       "    </tr>\n",
       "    <tr>\n",
       "      <th>8</th>\n",
       "      <td>10</td>\n",
       "      <td>0.872000</td>\n",
       "      <td>0.809778</td>\n",
       "      <td>0.062222</td>\n",
       "    </tr>\n",
       "    <tr>\n",
       "      <th>9</th>\n",
       "      <td>11</td>\n",
       "      <td>0.905556</td>\n",
       "      <td>0.805333</td>\n",
       "      <td>0.100222</td>\n",
       "    </tr>\n",
       "    <tr>\n",
       "      <th>10</th>\n",
       "      <td>12</td>\n",
       "      <td>0.937778</td>\n",
       "      <td>0.802667</td>\n",
       "      <td>0.135111</td>\n",
       "    </tr>\n",
       "    <tr>\n",
       "      <th>11</th>\n",
       "      <td>13</td>\n",
       "      <td>0.960000</td>\n",
       "      <td>0.800889</td>\n",
       "      <td>0.159111</td>\n",
       "    </tr>\n",
       "    <tr>\n",
       "      <th>12</th>\n",
       "      <td>14</td>\n",
       "      <td>0.976667</td>\n",
       "      <td>0.795556</td>\n",
       "      <td>0.181111</td>\n",
       "    </tr>\n",
       "    <tr>\n",
       "      <th>13</th>\n",
       "      <td>15</td>\n",
       "      <td>0.984222</td>\n",
       "      <td>0.793778</td>\n",
       "      <td>0.190444</td>\n",
       "    </tr>\n",
       "    <tr>\n",
       "      <th>14</th>\n",
       "      <td>16</td>\n",
       "      <td>0.991333</td>\n",
       "      <td>0.794667</td>\n",
       "      <td>0.196667</td>\n",
       "    </tr>\n",
       "    <tr>\n",
       "      <th>15</th>\n",
       "      <td>17</td>\n",
       "      <td>0.995111</td>\n",
       "      <td>0.792000</td>\n",
       "      <td>0.203111</td>\n",
       "    </tr>\n",
       "    <tr>\n",
       "      <th>16</th>\n",
       "      <td>18</td>\n",
       "      <td>0.996222</td>\n",
       "      <td>0.793778</td>\n",
       "      <td>0.202444</td>\n",
       "    </tr>\n",
       "    <tr>\n",
       "      <th>17</th>\n",
       "      <td>19</td>\n",
       "      <td>0.997556</td>\n",
       "      <td>0.796444</td>\n",
       "      <td>0.201111</td>\n",
       "    </tr>\n",
       "    <tr>\n",
       "      <th>18</th>\n",
       "      <td>20</td>\n",
       "      <td>0.997333</td>\n",
       "      <td>0.784889</td>\n",
       "      <td>0.212444</td>\n",
       "    </tr>\n",
       "    <tr>\n",
       "      <th>19</th>\n",
       "      <td>21</td>\n",
       "      <td>0.997556</td>\n",
       "      <td>0.785778</td>\n",
       "      <td>0.211778</td>\n",
       "    </tr>\n",
       "    <tr>\n",
       "      <th>20</th>\n",
       "      <td>22</td>\n",
       "      <td>0.997333</td>\n",
       "      <td>0.793778</td>\n",
       "      <td>0.203556</td>\n",
       "    </tr>\n",
       "    <tr>\n",
       "      <th>21</th>\n",
       "      <td>23</td>\n",
       "      <td>0.997333</td>\n",
       "      <td>0.792000</td>\n",
       "      <td>0.205333</td>\n",
       "    </tr>\n",
       "    <tr>\n",
       "      <th>22</th>\n",
       "      <td>24</td>\n",
       "      <td>0.997556</td>\n",
       "      <td>0.792000</td>\n",
       "      <td>0.205556</td>\n",
       "    </tr>\n",
       "  </tbody>\n",
       "</table>\n",
       "</div>"
      ],
      "text/plain": [
       "    max_depth  train_accuracy  validate_accuracy  difference\n",
       "0           2        0.734222           0.734222    0.000000\n",
       "1           3        0.771778           0.774222   -0.002444\n",
       "2           4        0.786444           0.792000   -0.005556\n",
       "3           5        0.795778           0.800000   -0.004222\n",
       "4           6        0.804444           0.806222   -0.001778\n",
       "5           7        0.813556           0.808000    0.005556\n",
       "6           8        0.822667           0.811556    0.011111\n",
       "7           9        0.843111           0.806222    0.036889\n",
       "8          10        0.872000           0.809778    0.062222\n",
       "9          11        0.905556           0.805333    0.100222\n",
       "10         12        0.937778           0.802667    0.135111\n",
       "11         13        0.960000           0.800889    0.159111\n",
       "12         14        0.976667           0.795556    0.181111\n",
       "13         15        0.984222           0.793778    0.190444\n",
       "14         16        0.991333           0.794667    0.196667\n",
       "15         17        0.995111           0.792000    0.203111\n",
       "16         18        0.996222           0.793778    0.202444\n",
       "17         19        0.997556           0.796444    0.201111\n",
       "18         20        0.997333           0.784889    0.212444\n",
       "19         21        0.997556           0.785778    0.211778\n",
       "20         22        0.997333           0.793778    0.203556\n",
       "21         23        0.997333           0.792000    0.205333\n",
       "22         24        0.997556           0.792000    0.205556"
      ]
     },
     "execution_count": 72,
     "metadata": {},
     "output_type": "execute_result"
    }
   ],
   "source": [
    "# Let's continue getting loopy, so we can compare in-sample to out-of-sample\n",
    "metrics = []\n",
    "\n",
    "for i in range(2, 25):\n",
    "    # Make the model\n",
    "    forest = RandomForestClassifier(max_depth=i, random_state=123)\n",
    "\n",
    "    # Fit the model (on train and only train)\n",
    "    forest = forest.fit(X_train, y_train)\n",
    "\n",
    "    # Use the model\n",
    "    # We'll evaluate the model's performance on train, first\n",
    "    in_sample_accuracy = forest.score(X_train, y_train)\n",
    "    \n",
    "    out_of_sample_accuracy = forest.score(X_validate, y_validate)\n",
    "\n",
    "    output = {\n",
    "        \"max_depth\": i,\n",
    "        \"train_accuracy\": in_sample_accuracy,\n",
    "        \"validate_accuracy\": out_of_sample_accuracy\n",
    "    }\n",
    "    \n",
    "    metrics.append(output)\n",
    "    \n",
    "forest_df = pd.DataFrame(metrics)\n",
    "forest_df[\"difference\"] = forest_df.train_accuracy - forest_df.validate_accuracy\n",
    "forest_df"
   ]
  },
  {
   "cell_type": "code",
   "execution_count": 73,
   "id": "8911a71b",
   "metadata": {},
   "outputs": [
    {
     "data": {
      "image/png": "[encoded data removed]",
      "text/plain": [
       "<Figure size 1152x648 with 1 Axes>"
      ]
     },
     "metadata": {
      "needs_background": "light"
     },
     "output_type": "display_data"
    }
   ],
   "source": [
    "forest_df.set_index('max_depth').plot(figsize = (16,9))\n",
    "plt.ylabel('Accuracy')\n",
    "plt.xticks(np.arange(0,21,1))\n",
    "plt.grid()"
   ]
  },
  {
   "cell_type": "markdown",
   "id": "faad1b02",
   "metadata": {},
   "source": [
    "### TAKE AWAY:\n",
    "- I would choose the RFclassifier with a max depth of 7 as after that number, the difference climbs more than before and the accuracy number is still really good.\n",
    "- As the graph shows above, after max depth of 7 the Random Forest models of validate and training begin to really seperate. "
   ]
  },
  {
   "cell_type": "markdown",
   "id": "06f9876d",
   "metadata": {},
   "source": [
    "### Increasing min_samples_per_leaf, decreasing max_depth (why???)"
   ]
  },
  {
   "cell_type": "code",
   "execution_count": 74,
   "id": "99e8ee91",
   "metadata": {},
   "outputs": [
    {
     "data": {
      "text/html": [
       "<div>\n",
       "<style scoped>\n",
       "    .dataframe tbody tr th:only-of-type {\n",
       "        vertical-align: middle;\n",
       "    }\n",
       "\n",
       "    .dataframe tbody tr th {\n",
       "        vertical-align: top;\n",
       "    }\n",
       "\n",
       "    .dataframe thead th {\n",
       "        text-align: right;\n",
       "    }\n",
       "</style>\n",
       "<table border=\"1\" class=\"dataframe\">\n",
       "  <thead>\n",
       "    <tr style=\"text-align: right;\">\n",
       "      <th></th>\n",
       "      <th>min_samples_per_leaf</th>\n",
       "      <th>max_depth</th>\n",
       "      <th>train_accuracy</th>\n",
       "      <th>validate_accuracy</th>\n",
       "      <th>difference</th>\n",
       "    </tr>\n",
       "  </thead>\n",
       "  <tbody>\n",
       "    <tr>\n",
       "      <th>0</th>\n",
       "      <td>2</td>\n",
       "      <td>18</td>\n",
       "      <td>0.917778</td>\n",
       "      <td>0.804444</td>\n",
       "      <td>0.113333</td>\n",
       "    </tr>\n",
       "    <tr>\n",
       "      <th>1</th>\n",
       "      <td>3</td>\n",
       "      <td>17</td>\n",
       "      <td>0.880889</td>\n",
       "      <td>0.803556</td>\n",
       "      <td>0.077333</td>\n",
       "    </tr>\n",
       "    <tr>\n",
       "      <th>2</th>\n",
       "      <td>4</td>\n",
       "      <td>16</td>\n",
       "      <td>0.860444</td>\n",
       "      <td>0.804444</td>\n",
       "      <td>0.056000</td>\n",
       "    </tr>\n",
       "    <tr>\n",
       "      <th>3</th>\n",
       "      <td>5</td>\n",
       "      <td>15</td>\n",
       "      <td>0.848889</td>\n",
       "      <td>0.807111</td>\n",
       "      <td>0.041778</td>\n",
       "    </tr>\n",
       "    <tr>\n",
       "      <th>4</th>\n",
       "      <td>6</td>\n",
       "      <td>14</td>\n",
       "      <td>0.841333</td>\n",
       "      <td>0.813333</td>\n",
       "      <td>0.028000</td>\n",
       "    </tr>\n",
       "    <tr>\n",
       "      <th>5</th>\n",
       "      <td>7</td>\n",
       "      <td>13</td>\n",
       "      <td>0.836889</td>\n",
       "      <td>0.814222</td>\n",
       "      <td>0.022667</td>\n",
       "    </tr>\n",
       "    <tr>\n",
       "      <th>6</th>\n",
       "      <td>8</td>\n",
       "      <td>12</td>\n",
       "      <td>0.828667</td>\n",
       "      <td>0.808000</td>\n",
       "      <td>0.020667</td>\n",
       "    </tr>\n",
       "    <tr>\n",
       "      <th>7</th>\n",
       "      <td>9</td>\n",
       "      <td>11</td>\n",
       "      <td>0.825333</td>\n",
       "      <td>0.807111</td>\n",
       "      <td>0.018222</td>\n",
       "    </tr>\n",
       "    <tr>\n",
       "      <th>8</th>\n",
       "      <td>10</td>\n",
       "      <td>10</td>\n",
       "      <td>0.819556</td>\n",
       "      <td>0.813333</td>\n",
       "      <td>0.006222</td>\n",
       "    </tr>\n",
       "    <tr>\n",
       "      <th>9</th>\n",
       "      <td>11</td>\n",
       "      <td>9</td>\n",
       "      <td>0.814667</td>\n",
       "      <td>0.809778</td>\n",
       "      <td>0.004889</td>\n",
       "    </tr>\n",
       "    <tr>\n",
       "      <th>10</th>\n",
       "      <td>12</td>\n",
       "      <td>8</td>\n",
       "      <td>0.810667</td>\n",
       "      <td>0.809778</td>\n",
       "      <td>0.000889</td>\n",
       "    </tr>\n",
       "    <tr>\n",
       "      <th>11</th>\n",
       "      <td>13</td>\n",
       "      <td>7</td>\n",
       "      <td>0.805111</td>\n",
       "      <td>0.808000</td>\n",
       "      <td>-0.002889</td>\n",
       "    </tr>\n",
       "    <tr>\n",
       "      <th>12</th>\n",
       "      <td>14</td>\n",
       "      <td>6</td>\n",
       "      <td>0.800000</td>\n",
       "      <td>0.803556</td>\n",
       "      <td>-0.003556</td>\n",
       "    </tr>\n",
       "    <tr>\n",
       "      <th>13</th>\n",
       "      <td>15</td>\n",
       "      <td>5</td>\n",
       "      <td>0.797111</td>\n",
       "      <td>0.801778</td>\n",
       "      <td>-0.004667</td>\n",
       "    </tr>\n",
       "    <tr>\n",
       "      <th>14</th>\n",
       "      <td>16</td>\n",
       "      <td>4</td>\n",
       "      <td>0.784889</td>\n",
       "      <td>0.789333</td>\n",
       "      <td>-0.004444</td>\n",
       "    </tr>\n",
       "    <tr>\n",
       "      <th>15</th>\n",
       "      <td>17</td>\n",
       "      <td>3</td>\n",
       "      <td>0.772000</td>\n",
       "      <td>0.774222</td>\n",
       "      <td>-0.002222</td>\n",
       "    </tr>\n",
       "    <tr>\n",
       "      <th>16</th>\n",
       "      <td>18</td>\n",
       "      <td>2</td>\n",
       "      <td>0.734222</td>\n",
       "      <td>0.734222</td>\n",
       "      <td>0.000000</td>\n",
       "    </tr>\n",
       "    <tr>\n",
       "      <th>17</th>\n",
       "      <td>19</td>\n",
       "      <td>1</td>\n",
       "      <td>0.734222</td>\n",
       "      <td>0.734222</td>\n",
       "      <td>0.000000</td>\n",
       "    </tr>\n",
       "  </tbody>\n",
       "</table>\n",
       "</div>"
      ],
      "text/plain": [
       "    min_samples_per_leaf  max_depth  train_accuracy  validate_accuracy  \\\n",
       "0                      2         18        0.917778           0.804444   \n",
       "1                      3         17        0.880889           0.803556   \n",
       "2                      4         16        0.860444           0.804444   \n",
       "3                      5         15        0.848889           0.807111   \n",
       "4                      6         14        0.841333           0.813333   \n",
       "5                      7         13        0.836889           0.814222   \n",
       "6                      8         12        0.828667           0.808000   \n",
       "7                      9         11        0.825333           0.807111   \n",
       "8                     10         10        0.819556           0.813333   \n",
       "9                     11          9        0.814667           0.809778   \n",
       "10                    12          8        0.810667           0.809778   \n",
       "11                    13          7        0.805111           0.808000   \n",
       "12                    14          6        0.800000           0.803556   \n",
       "13                    15          5        0.797111           0.801778   \n",
       "14                    16          4        0.784889           0.789333   \n",
       "15                    17          3        0.772000           0.774222   \n",
       "16                    18          2        0.734222           0.734222   \n",
       "17                    19          1        0.734222           0.734222   \n",
       "\n",
       "    difference  \n",
       "0     0.113333  \n",
       "1     0.077333  \n",
       "2     0.056000  \n",
       "3     0.041778  \n",
       "4     0.028000  \n",
       "5     0.022667  \n",
       "6     0.020667  \n",
       "7     0.018222  \n",
       "8     0.006222  \n",
       "9     0.004889  \n",
       "10    0.000889  \n",
       "11   -0.002889  \n",
       "12   -0.003556  \n",
       "13   -0.004667  \n",
       "14   -0.004444  \n",
       "15   -0.002222  \n",
       "16    0.000000  \n",
       "17    0.000000  "
      ]
     },
     "execution_count": 74,
     "metadata": {},
     "output_type": "execute_result"
    }
   ],
   "source": [
    "# Comparing the in sample data with the out sample data\n",
    "metrics = []\n",
    "max_depth = 20\n",
    "\n",
    "for i in range(2, max_depth):\n",
    "    # Make the model\n",
    "    depth = max_depth - i\n",
    "    n_samples = i\n",
    "    forest = RandomForestClassifier(max_depth=depth, min_samples_leaf=n_samples, random_state=123)\n",
    "\n",
    "    # Fit the model (on train and only train)\n",
    "    forest = forest.fit(X_train, y_train)\n",
    "\n",
    "    # Use the model\n",
    "    # We'll evaluate the model's performance on train, first\n",
    "    in_sample_accuracy = forest.score(X_train, y_train)\n",
    "    \n",
    "    out_of_sample_accuracy = forest.score(X_validate, y_validate)\n",
    "\n",
    "    output = {\n",
    "        \"min_samples_per_leaf\": n_samples,\n",
    "        \"max_depth\": depth,\n",
    "        \"train_accuracy\": in_sample_accuracy,\n",
    "        \"validate_accuracy\": out_of_sample_accuracy\n",
    "    }\n",
    "    \n",
    "    metrics.append(output)\n",
    "    \n",
    "forest1_df = pd.DataFrame(metrics)\n",
    "forest1_df[\"difference\"] = forest1_df.train_accuracy - forest1_df.validate_accuracy\n",
    "forest1_df"
   ]
  },
  {
   "cell_type": "code",
   "execution_count": 75,
   "id": "fdb2e29f",
   "metadata": {},
   "outputs": [
    {
     "data": {
      "image/png": "[encoded data removed]",
      "text/plain": [
       "<Figure size 1152x648 with 1 Axes>"
      ]
     },
     "metadata": {
      "needs_background": "light"
     },
     "output_type": "display_data"
    }
   ],
   "source": [
    "forest1_df.set_index('max_depth')[['train_accuracy', 'validate_accuracy','difference']].plot(figsize = (16,9))\n",
    "plt.ylabel('Accuracy')\n",
    "plt.xticks(np.arange(0,21,1))\n",
    "plt.grid()"
   ]
  },
  {
   "cell_type": "code",
   "execution_count": 76,
   "id": "0dac0840",
   "metadata": {},
   "outputs": [
    {
     "data": {
      "text/plain": [
       "<matplotlib.legend.Legend at 0x7f8086e00a00>"
      ]
     },
     "execution_count": 76,
     "metadata": {},
     "output_type": "execute_result"
    },
    {
     "data": {
      "image/png": "[encoded data removed]",
      "text/plain": [
       "<Figure size 432x288 with 1 Axes>"
      ]
     },
     "metadata": {
      "needs_background": "light"
     },
     "output_type": "display_data"
    }
   ],
   "source": [
    "#Comparison of the first model used and second model used. \n",
    "first_plot = sns.scatterplot(x=\"difference\", y=\"validate_accuracy\", data=forest_df)\n",
    "second_plot = sns.scatterplot(x=\"difference\", y=\"validate_accuracy\", data=forest1_df)\n",
    "plt.legend('12')"
   ]
  },
  {
   "cell_type": "markdown",
   "id": "67d12c90",
   "metadata": {},
   "source": [
    "### TAKEAWAY: \n",
    "- By changing the min samples per leaf w/ max depth, <b>using a max depth of 8 where the separation of validation and training are still close and prior to pulling apart</b> there is still less % of accuracy than the first RF model with a max depth of 4."
   ]
  },
  {
   "cell_type": "markdown",
   "id": "5c309d40",
   "metadata": {},
   "source": [
    "## KNN MODELING:\n",
    "\n",
    "creating the Knn object to locate the closet k neighbors to the known dataset."
   ]
  },
  {
   "cell_type": "code",
   "execution_count": 77,
   "id": "606e47ea",
   "metadata": {},
   "outputs": [],
   "source": [
    "# weights = ['uniform', 'density']\n",
    "knn = KNeighborsClassifier(n_neighbors=5, weights='uniform')"
   ]
  },
  {
   "cell_type": "code",
   "execution_count": 78,
   "id": "8e2deb2c",
   "metadata": {},
   "outputs": [
    {
     "data": {
      "text/plain": [
       "KNeighborsClassifier()"
      ]
     },
     "execution_count": 78,
     "metadata": {},
     "output_type": "execute_result"
    }
   ],
   "source": [
    "#fit the model\n",
    "knn.fit(X_train, y_train)"
   ]
  },
  {
   "cell_type": "code",
   "execution_count": 79,
   "id": "11341ebb",
   "metadata": {},
   "outputs": [],
   "source": [
    "#making predictions\n",
    "y_pred = knn.predict(X_train)"
   ]
  },
  {
   "cell_type": "code",
   "execution_count": 80,
   "id": "0f087911",
   "metadata": {},
   "outputs": [],
   "source": [
    "#estimating probabilities\n",
    "y_pred_proba = knn.predict_proba(X_train)"
   ]
  },
  {
   "cell_type": "markdown",
   "id": "cd254ffa",
   "metadata": {},
   "source": [
    "### Evaluating the Model"
   ]
  },
  {
   "cell_type": "code",
   "execution_count": 99,
   "id": "0ec1347a",
   "metadata": {},
   "outputs": [
    {
     "name": "stdout",
     "output_type": "stream",
     "text": [
      "n_neighbour = 5\n"
     ]
    },
    {
     "data": {
      "text/html": [
       "<div>\n",
       "<style scoped>\n",
       "    .dataframe tbody tr th:only-of-type {\n",
       "        vertical-align: middle;\n",
       "    }\n",
       "\n",
       "    .dataframe tbody tr th {\n",
       "        vertical-align: top;\n",
       "    }\n",
       "\n",
       "    .dataframe thead th {\n",
       "        text-align: right;\n",
       "    }\n",
       "</style>\n",
       "<table border=\"1\" class=\"dataframe\">\n",
       "  <thead>\n",
       "    <tr style=\"text-align: right;\">\n",
       "      <th></th>\n",
       "      <th>No</th>\n",
       "      <th>Yes</th>\n",
       "      <th>accuracy</th>\n",
       "      <th>macro avg</th>\n",
       "      <th>weighted avg</th>\n",
       "    </tr>\n",
       "  </thead>\n",
       "  <tbody>\n",
       "    <tr>\n",
       "      <th>precision</th>\n",
       "      <td>0.861960</td>\n",
       "      <td>0.696117</td>\n",
       "      <td>0.824</td>\n",
       "      <td>0.779038</td>\n",
       "      <td>0.817882</td>\n",
       "    </tr>\n",
       "    <tr>\n",
       "      <th>recall</th>\n",
       "      <td>0.905266</td>\n",
       "      <td>0.599498</td>\n",
       "      <td>0.824</td>\n",
       "      <td>0.752382</td>\n",
       "      <td>0.824000</td>\n",
       "    </tr>\n",
       "    <tr>\n",
       "      <th>f1-score</th>\n",
       "      <td>0.883082</td>\n",
       "      <td>0.644205</td>\n",
       "      <td>0.824</td>\n",
       "      <td>0.763644</td>\n",
       "      <td>0.819594</td>\n",
       "    </tr>\n",
       "    <tr>\n",
       "      <th>support</th>\n",
       "      <td>3304.000000</td>\n",
       "      <td>1196.000000</td>\n",
       "      <td>0.824</td>\n",
       "      <td>4500.000000</td>\n",
       "      <td>4500.000000</td>\n",
       "    </tr>\n",
       "  </tbody>\n",
       "</table>\n",
       "</div>"
      ],
      "text/plain": [
       "                    No          Yes  accuracy    macro avg  weighted avg\n",
       "precision     0.861960     0.696117     0.824     0.779038      0.817882\n",
       "recall        0.905266     0.599498     0.824     0.752382      0.824000\n",
       "f1-score      0.883082     0.644205     0.824     0.763644      0.819594\n",
       "support    3304.000000  1196.000000     0.824  4500.000000   4500.000000"
      ]
     },
     "execution_count": 99,
     "metadata": {},
     "output_type": "execute_result"
    }
   ],
   "source": [
    "#while using neighbor 5\n",
    "report = classification_report(y_train, y_pred, output_dict=True)\n",
    "print(\"n_neighbour = 5\")\n",
    "pd.DataFrame(report)\n"
   ]
  },
  {
   "cell_type": "code",
   "execution_count": 81,
   "id": "610b95fc",
   "metadata": {},
   "outputs": [
    {
     "name": "stdout",
     "output_type": "stream",
     "text": [
      "Accuracy of KNN classifier on training set: 0.82\n"
     ]
    }
   ],
   "source": [
    "print('Accuracy of KNN classifier on training set: {:.2f}'\n",
    "     .format(knn.score(X_train, y_train)))"
   ]
  },
  {
   "cell_type": "code",
   "execution_count": 82,
   "id": "bafe07f0",
   "metadata": {},
   "outputs": [
    {
     "name": "stdout",
     "output_type": "stream",
     "text": [
      "[[2991  313]\n",
      " [ 479  717]]\n"
     ]
    }
   ],
   "source": [
    "#creating confusion matrix\n",
    "print(confusion_matrix(y_train, y_pred))"
   ]
  },
  {
   "cell_type": "code",
   "execution_count": 83,
   "id": "f4758004",
   "metadata": {},
   "outputs": [
    {
     "name": "stdout",
     "output_type": "stream",
     "text": [
      "              precision    recall  f1-score   support\n",
      "\n",
      "          No       0.86      0.91      0.88      3304\n",
      "         Yes       0.70      0.60      0.64      1196\n",
      "\n",
      "    accuracy                           0.82      4500\n",
      "   macro avg       0.78      0.75      0.76      4500\n",
      "weighted avg       0.82      0.82      0.82      4500\n",
      "\n"
     ]
    }
   ],
   "source": [
    "#Classification report:\n",
    "print(classification_report(y_train, y_pred))"
   ]
  },
  {
   "cell_type": "code",
   "execution_count": 100,
   "id": "66715935",
   "metadata": {},
   "outputs": [
    {
     "name": "stdout",
     "output_type": "stream",
     "text": [
      "n_neighbour = 10\n"
     ]
    },
    {
     "data": {
      "text/html": [
       "<div>\n",
       "<style scoped>\n",
       "    .dataframe tbody tr th:only-of-type {\n",
       "        vertical-align: middle;\n",
       "    }\n",
       "\n",
       "    .dataframe tbody tr th {\n",
       "        vertical-align: top;\n",
       "    }\n",
       "\n",
       "    .dataframe thead th {\n",
       "        text-align: right;\n",
       "    }\n",
       "</style>\n",
       "<table border=\"1\" class=\"dataframe\">\n",
       "  <thead>\n",
       "    <tr style=\"text-align: right;\">\n",
       "      <th></th>\n",
       "      <th>No</th>\n",
       "      <th>Yes</th>\n",
       "      <th>accuracy</th>\n",
       "      <th>macro avg</th>\n",
       "      <th>weighted avg</th>\n",
       "    </tr>\n",
       "  </thead>\n",
       "  <tbody>\n",
       "    <tr>\n",
       "      <th>precision</th>\n",
       "      <td>0.830686</td>\n",
       "      <td>0.722293</td>\n",
       "      <td>0.811778</td>\n",
       "      <td>0.776490</td>\n",
       "      <td>0.801878</td>\n",
       "    </tr>\n",
       "    <tr>\n",
       "      <th>recall</th>\n",
       "      <td>0.934019</td>\n",
       "      <td>0.474080</td>\n",
       "      <td>0.811778</td>\n",
       "      <td>0.704050</td>\n",
       "      <td>0.811778</td>\n",
       "    </tr>\n",
       "    <tr>\n",
       "      <th>f1-score</th>\n",
       "      <td>0.879328</td>\n",
       "      <td>0.572438</td>\n",
       "      <td>0.811778</td>\n",
       "      <td>0.725883</td>\n",
       "      <td>0.797763</td>\n",
       "    </tr>\n",
       "    <tr>\n",
       "      <th>support</th>\n",
       "      <td>3304.000000</td>\n",
       "      <td>1196.000000</td>\n",
       "      <td>0.811778</td>\n",
       "      <td>4500.000000</td>\n",
       "      <td>4500.000000</td>\n",
       "    </tr>\n",
       "  </tbody>\n",
       "</table>\n",
       "</div>"
      ],
      "text/plain": [
       "                    No          Yes  accuracy    macro avg  weighted avg\n",
       "precision     0.830686     0.722293  0.811778     0.776490      0.801878\n",
       "recall        0.934019     0.474080  0.811778     0.704050      0.811778\n",
       "f1-score      0.879328     0.572438  0.811778     0.725883      0.797763\n",
       "support    3304.000000  1196.000000  0.811778  4500.000000   4500.000000"
      ]
     },
     "execution_count": 100,
     "metadata": {},
     "output_type": "execute_result"
    }
   ],
   "source": [
    "# knn classifier with n_neighbour = 10\n",
    "\n",
    "knn2 = KNeighborsClassifier(10)\n",
    "knn2.fit(X_train, y_train)\n",
    "y_pred = knn2.predict(X_train)\n",
    "\n",
    "report = classification_report(y_train, y_pred, output_dict=True)\n",
    "print(\"n_neighbour = 10\")\n",
    "pd.DataFrame(report)"
   ]
  },
  {
   "cell_type": "code",
   "execution_count": 101,
   "id": "0381fc6e",
   "metadata": {},
   "outputs": [
    {
     "name": "stdout",
     "output_type": "stream",
     "text": [
      "n_neighbour = 20\n"
     ]
    },
    {
     "data": {
      "text/html": [
       "<div>\n",
       "<style scoped>\n",
       "    .dataframe tbody tr th:only-of-type {\n",
       "        vertical-align: middle;\n",
       "    }\n",
       "\n",
       "    .dataframe tbody tr th {\n",
       "        vertical-align: top;\n",
       "    }\n",
       "\n",
       "    .dataframe thead th {\n",
       "        text-align: right;\n",
       "    }\n",
       "</style>\n",
       "<table border=\"1\" class=\"dataframe\">\n",
       "  <thead>\n",
       "    <tr style=\"text-align: right;\">\n",
       "      <th></th>\n",
       "      <th>No</th>\n",
       "      <th>Yes</th>\n",
       "      <th>accuracy</th>\n",
       "      <th>macro avg</th>\n",
       "      <th>weighted avg</th>\n",
       "    </tr>\n",
       "  </thead>\n",
       "  <tbody>\n",
       "    <tr>\n",
       "      <th>precision</th>\n",
       "      <td>0.824131</td>\n",
       "      <td>0.689962</td>\n",
       "      <td>0.800667</td>\n",
       "      <td>0.757047</td>\n",
       "      <td>0.788472</td>\n",
       "    </tr>\n",
       "    <tr>\n",
       "      <th>recall</th>\n",
       "      <td>0.926150</td>\n",
       "      <td>0.454013</td>\n",
       "      <td>0.800667</td>\n",
       "      <td>0.690082</td>\n",
       "      <td>0.800667</td>\n",
       "    </tr>\n",
       "    <tr>\n",
       "      <th>f1-score</th>\n",
       "      <td>0.872168</td>\n",
       "      <td>0.547655</td>\n",
       "      <td>0.800667</td>\n",
       "      <td>0.709911</td>\n",
       "      <td>0.785919</td>\n",
       "    </tr>\n",
       "    <tr>\n",
       "      <th>support</th>\n",
       "      <td>3304.000000</td>\n",
       "      <td>1196.000000</td>\n",
       "      <td>0.800667</td>\n",
       "      <td>4500.000000</td>\n",
       "      <td>4500.000000</td>\n",
       "    </tr>\n",
       "  </tbody>\n",
       "</table>\n",
       "</div>"
      ],
      "text/plain": [
       "                    No          Yes  accuracy    macro avg  weighted avg\n",
       "precision     0.824131     0.689962  0.800667     0.757047      0.788472\n",
       "recall        0.926150     0.454013  0.800667     0.690082      0.800667\n",
       "f1-score      0.872168     0.547655  0.800667     0.709911      0.785919\n",
       "support    3304.000000  1196.000000  0.800667  4500.000000   4500.000000"
      ]
     },
     "execution_count": 101,
     "metadata": {},
     "output_type": "execute_result"
    }
   ],
   "source": [
    "# knn classifier with n_neighbour = 20\n",
    "\n",
    "knn3 = KNeighborsClassifier(20)\n",
    "knn3.fit(X_train, y_train)\n",
    "y_pred = knn3.predict(X_train)\n",
    "\n",
    "report = classification_report(y_train, y_pred, output_dict=True)\n",
    "print(\"n_neighbour = 20\")\n",
    "pd.DataFrame(report)"
   ]
  },
  {
   "cell_type": "code",
   "execution_count": 102,
   "id": "ea6e3d2a",
   "metadata": {},
   "outputs": [
    {
     "data": {
      "image/png": "[encoded data removed]",
      "text/plain": [
       "<Figure size 1152x648 with 1 Axes>"
      ]
     },
     "metadata": {
      "needs_background": "light"
     },
     "output_type": "display_data"
    }
   ],
   "source": [
    "metrics = []\n",
    "\n",
    "# loop through different values of k\n",
    "for k in range(1, 21):\n",
    "            \n",
    "    # define the thing\n",
    "    knn = KNeighborsClassifier(n_neighbors=k)\n",
    "    \n",
    "    # fit the thing (remmeber only fit on training data)\n",
    "    knn.fit(X_train, y_train)\n",
    "    \n",
    "    # use the thing (calculate accuracy)\n",
    "    train_accuracy = knn.score(X_train, y_train)\n",
    "    validate_accuracy = knn.score(X_validate, y_validate)\n",
    "    \n",
    "    output = {\n",
    "        \"k\": k,\n",
    "        \"train_accuracy\": train_accuracy,\n",
    "        \"validate_accuracy\": validate_accuracy\n",
    "    }\n",
    "    \n",
    "    metrics.append(output)\n",
    "\n",
    "# make a dataframe\n",
    "results = pd.DataFrame(metrics)\n",
    "\n",
    "# plot the data\n",
    "results.set_index('k').plot(figsize = (16,9))\n",
    "plt.ylabel('Accuracy')\n",
    "plt.xticks(np.arange(0,21,1))\n",
    "plt.grid()"
   ]
  },
  {
   "cell_type": "markdown",
   "id": "ac8f6211",
   "metadata": {},
   "source": [
    "### Validate Model"
   ]
  },
  {
   "cell_type": "code",
   "execution_count": 84,
   "id": "d3532829",
   "metadata": {},
   "outputs": [
    {
     "name": "stdout",
     "output_type": "stream",
     "text": [
      "Accuracy of KNN classifier on test set: 0.79\n"
     ]
    }
   ],
   "source": [
    "print('Accuracy of KNN classifier on test set: {:.2f}'\n",
    "     .format(knn.score(X_validate, y_validate)))"
   ]
  },
  {
   "cell_type": "code",
   "execution_count": 85,
   "id": "9ee59584",
   "metadata": {},
   "outputs": [
    {
     "data": {
      "image/png": "[encoded data removed]",
      "text/plain": [
       "<Figure size 432x288 with 1 Axes>"
      ]
     },
     "metadata": {
      "needs_background": "light"
     },
     "output_type": "display_data"
    }
   ],
   "source": [
    "#visualize model\n",
    "import matplotlib.pyplot as plt\n",
    "k_range = range(1, 20)\n",
    "scores = []\n",
    "for k in k_range:\n",
    "    knn = KNeighborsClassifier(n_neighbors = k)\n",
    "    knn.fit(X_train, y_train)\n",
    "    scores.append(knn.score(X_test, y_test))\n",
    "plt.figure()\n",
    "plt.xlabel('k')\n",
    "plt.ylabel('accuracy')\n",
    "plt.scatter(k_range, scores)\n",
    "plt.xticks([0,5,10,15,20])\n",
    "plt.show()"
   ]
  },
  {
   "cell_type": "markdown",
   "id": "46dd2667",
   "metadata": {},
   "source": [
    "#### MVP Models - Takeaways\n",
    "- My DecisionTree and RandomForest models are predicting species at 100% on my train dataset. This is a red flag in most cases that my model is overfit. However, Iris is a very small and simple dataset, so the dropoff in accuracy for my validate dataset is not too bad; they are still predicting species with 97% accuracy.\n",
    "\n",
    "- Both my LogisticRegression and KNeighbors models are predicting on train with 99% accuracy and dropping down to 97% accuracy on validate. Again, this simple dataset, Iris, is not stumping any of my models. This won't be true most of the time. I have my pick of the models here to test.\n",
    "\n",
    "- These models all predict my target variable, species, much better than my baseline accuracy of 33% on both train and validate datasets.\n",
    "\n",
    "Going forward, I can adjust hyperparameters to improve this model, and I can use other classifier algorithms to create different models to try to improve on this first dt_model1.\n",
    "\n",
    "I'm going to choose my DecisionTree model to test because it's an easy model to explain. That is the criteria that I used to move forward with this model in this case."
   ]
  },
  {
   "cell_type": "markdown",
   "id": "73ab02fd",
   "metadata": {},
   "source": [
    "#### Test My Best Model\n",
    "Remember, I will only evaluate my single best model, that might mean the least dropoff in accuracy from train to validate rather than the highest accuracy."
   ]
  },
  {
   "cell_type": "code",
   "execution_count": null,
   "id": "99c9f453",
   "metadata": {},
   "outputs": [],
   "source": [
    "#actual_test = y_test\n",
    "#predicted_test = dt_model.predict(X_test)\n",
    "#print(classification_report(actual_test, predicted_test))"
   ]
  },
  {
   "cell_type": "markdown",
   "id": "3d6a0643",
   "metadata": {},
   "source": [
    "#### Create the Predictions CSV\n",
    "Create a CSV file with probability of class, prediction of churn (1=churn, 0=not_churn)\n",
    "\n",
    "These predictions should be from your best performing model that you ran on X_test. Note that the order of the y_pred and y_proba are numpy arrays coming from running the model on X_test. The order of those values will match the order of the rows in X_test, so you can obtain the customer_id from X_test and concatenate these values together into a dataframe to write to CSV."
   ]
  },
  {
   "cell_type": "code",
   "execution_count": null,
   "id": "93dc7bf9",
   "metadata": {},
   "outputs": [],
   "source": [
    "#proba_test = dt_model.predict_proba(X_test)"
   ]
  },
  {
   "cell_type": "code",
   "execution_count": null,
   "id": "6c6caf1c",
   "metadata": {},
   "outputs": [],
   "source": [
    "#proba_df = pd.DataFrame(proba_test, columns=dt_model.classes_.tolist())\n",
    "#proba_df.head()"
   ]
  },
  {
   "cell_type": "code",
   "execution_count": null,
   "id": "075ef595",
   "metadata": {},
   "outputs": [],
   "source": [
    "#reset_test = test.reset_index()\n",
    "#reset_test.head()"
   ]
  },
  {
   "cell_type": "code",
   "execution_count": null,
   "id": "0b3484fc",
   "metadata": {},
   "outputs": [],
   "source": [
    "#test_proba_df = pd.concat([reset_test, proba_df], axis=1)\n",
    "#test_proba_df.head()\n"
   ]
  },
  {
   "cell_type": "code",
   "execution_count": null,
   "id": "6e985725",
   "metadata": {},
   "outputs": [],
   "source": [
    "#test_proba_df['predicted'] = predicted_test\n",
    "#test_proba_df.head()"
   ]
  },
  {
   "cell_type": "code",
   "execution_count": null,
   "id": "453b239d",
   "metadata": {},
   "outputs": [],
   "source": [
    "#csv_df = test_proba_df[['measurement_id', 'setosa', 'versicolor', 'virginica', 'predicted']]\n",
    "#csv_df.head()"
   ]
  },
  {
   "cell_type": "code",
   "execution_count": 123,
   "id": "fdef707d",
   "metadata": {},
   "outputs": [],
   "source": [
    "# Write DataFrame to a csv file for deliverable.\n",
    "\n",
    "#csv_df.to_csv('predictions.csv')"
   ]
  },
  {
   "cell_type": "markdown",
   "id": "d60944f4",
   "metadata": {},
   "source": [
    "<b>Conclusions and Next Steps</b><br>\n",
    "Here is where I would report my overall conclusions from the entire project.\n",
    "I would also want to mention any next steps I'd like to take in future iterations of this project; steps I might have done if I'd had more time on this project."
   ]
  },
  {
   "cell_type": "code",
   "execution_count": null,
   "id": "e1a56da9",
   "metadata": {},
   "outputs": [],
   "source": []
  },
  {
   "cell_type": "code",
   "execution_count": null,
   "id": "9191c3c1",
   "metadata": {},
   "outputs": [],
   "source": []
  },
  {
   "cell_type": "markdown",
   "id": "37918415",
   "metadata": {},
   "source": [
    "# Building some charts:\n",
    "\n",
    "- Can we take a look at churn with chosen demographics side-by-side? "
   ]
  },
  {
   "cell_type": "code",
   "execution_count": null,
   "id": "b1139aa6",
   "metadata": {},
   "outputs": [],
   "source": []
  },
  {
   "cell_type": "code",
   "execution_count": null,
   "id": "2d7119c0",
   "metadata": {},
   "outputs": [],
   "source": []
  },
  {
   "cell_type": "code",
   "execution_count": 86,
   "id": "5970c503",
   "metadata": {},
   "outputs": [
    {
     "data": {
      "text/html": [
       "<div>\n",
       "<style scoped>\n",
       "    .dataframe tbody tr th:only-of-type {\n",
       "        vertical-align: middle;\n",
       "    }\n",
       "\n",
       "    .dataframe tbody tr th {\n",
       "        vertical-align: top;\n",
       "    }\n",
       "\n",
       "    .dataframe thead th {\n",
       "        text-align: right;\n",
       "    }\n",
       "</style>\n",
       "<table border=\"1\" class=\"dataframe\">\n",
       "  <thead>\n",
       "    <tr style=\"text-align: right;\">\n",
       "      <th></th>\n",
       "      <th>customer_id</th>\n",
       "      <th>gender</th>\n",
       "      <th>senior_citizen</th>\n",
       "      <th>partner</th>\n",
       "      <th>dependents</th>\n",
       "      <th>tenure</th>\n",
       "      <th>phone_service</th>\n",
       "      <th>multiple_lines</th>\n",
       "      <th>online_security</th>\n",
       "      <th>online_backup</th>\n",
       "      <th>...</th>\n",
       "      <th>streaming_movies_No internet service</th>\n",
       "      <th>streaming_movies_Yes</th>\n",
       "      <th>paperless_billing_Yes</th>\n",
       "      <th>contract_type_One year</th>\n",
       "      <th>contract_type_Two year</th>\n",
       "      <th>payment_type_Credit card (automatic)</th>\n",
       "      <th>payment_type_Electronic check</th>\n",
       "      <th>payment_type_Mailed check</th>\n",
       "      <th>internet_service_type_Fiber optic</th>\n",
       "      <th>internet_service_type_None</th>\n",
       "    </tr>\n",
       "  </thead>\n",
       "  <tbody>\n",
       "    <tr>\n",
       "      <th>3270</th>\n",
       "      <td>4673-KKSLS</td>\n",
       "      <td>Female</td>\n",
       "      <td>No</td>\n",
       "      <td>No</td>\n",
       "      <td>No</td>\n",
       "      <td>31</td>\n",
       "      <td>Yes</td>\n",
       "      <td>No</td>\n",
       "      <td>Yes</td>\n",
       "      <td>No</td>\n",
       "      <td>...</td>\n",
       "      <td>0</td>\n",
       "      <td>0</td>\n",
       "      <td>0</td>\n",
       "      <td>0</td>\n",
       "      <td>0</td>\n",
       "      <td>0</td>\n",
       "      <td>1</td>\n",
       "      <td>0</td>\n",
       "      <td>1</td>\n",
       "      <td>0</td>\n",
       "    </tr>\n",
       "    <tr>\n",
       "      <th>6084</th>\n",
       "      <td>8623-ULFNQ</td>\n",
       "      <td>Female</td>\n",
       "      <td>Yes</td>\n",
       "      <td>No</td>\n",
       "      <td>No</td>\n",
       "      <td>26</td>\n",
       "      <td>Yes</td>\n",
       "      <td>Yes</td>\n",
       "      <td>No</td>\n",
       "      <td>No</td>\n",
       "      <td>...</td>\n",
       "      <td>0</td>\n",
       "      <td>1</td>\n",
       "      <td>1</td>\n",
       "      <td>0</td>\n",
       "      <td>0</td>\n",
       "      <td>0</td>\n",
       "      <td>1</td>\n",
       "      <td>0</td>\n",
       "      <td>0</td>\n",
       "      <td>0</td>\n",
       "    </tr>\n",
       "    <tr>\n",
       "      <th>4470</th>\n",
       "      <td>6303-KFWSL</td>\n",
       "      <td>Female</td>\n",
       "      <td>No</td>\n",
       "      <td>No</td>\n",
       "      <td>No</td>\n",
       "      <td>29</td>\n",
       "      <td>Yes</td>\n",
       "      <td>Yes</td>\n",
       "      <td>No</td>\n",
       "      <td>Yes</td>\n",
       "      <td>...</td>\n",
       "      <td>0</td>\n",
       "      <td>0</td>\n",
       "      <td>1</td>\n",
       "      <td>1</td>\n",
       "      <td>0</td>\n",
       "      <td>0</td>\n",
       "      <td>1</td>\n",
       "      <td>0</td>\n",
       "      <td>0</td>\n",
       "      <td>0</td>\n",
       "    </tr>\n",
       "    <tr>\n",
       "      <th>428</th>\n",
       "      <td>0623-IIHUG</td>\n",
       "      <td>Female</td>\n",
       "      <td>Yes</td>\n",
       "      <td>No</td>\n",
       "      <td>No</td>\n",
       "      <td>21</td>\n",
       "      <td>No</td>\n",
       "      <td>No phone service</td>\n",
       "      <td>Yes</td>\n",
       "      <td>No</td>\n",
       "      <td>...</td>\n",
       "      <td>0</td>\n",
       "      <td>0</td>\n",
       "      <td>1</td>\n",
       "      <td>0</td>\n",
       "      <td>0</td>\n",
       "      <td>0</td>\n",
       "      <td>1</td>\n",
       "      <td>0</td>\n",
       "      <td>0</td>\n",
       "      <td>0</td>\n",
       "    </tr>\n",
       "    <tr>\n",
       "      <th>3329</th>\n",
       "      <td>4742-DRORA</td>\n",
       "      <td>Male</td>\n",
       "      <td>No</td>\n",
       "      <td>Yes</td>\n",
       "      <td>Yes</td>\n",
       "      <td>60</td>\n",
       "      <td>Yes</td>\n",
       "      <td>Yes</td>\n",
       "      <td>Yes</td>\n",
       "      <td>No</td>\n",
       "      <td>...</td>\n",
       "      <td>0</td>\n",
       "      <td>0</td>\n",
       "      <td>1</td>\n",
       "      <td>1</td>\n",
       "      <td>0</td>\n",
       "      <td>0</td>\n",
       "      <td>0</td>\n",
       "      <td>0</td>\n",
       "      <td>1</td>\n",
       "      <td>0</td>\n",
       "    </tr>\n",
       "  </tbody>\n",
       "</table>\n",
       "<p>5 rows × 51 columns</p>\n",
       "</div>"
      ],
      "text/plain": [
       "     customer_id  gender senior_citizen partner dependents  tenure  \\\n",
       "3270  4673-KKSLS  Female             No      No         No      31   \n",
       "6084  8623-ULFNQ  Female            Yes      No         No      26   \n",
       "4470  6303-KFWSL  Female             No      No         No      29   \n",
       "428   0623-IIHUG  Female            Yes      No         No      21   \n",
       "3329  4742-DRORA    Male             No     Yes        Yes      60   \n",
       "\n",
       "     phone_service    multiple_lines online_security online_backup  ...  \\\n",
       "3270           Yes                No             Yes            No  ...   \n",
       "6084           Yes               Yes              No            No  ...   \n",
       "4470           Yes               Yes              No           Yes  ...   \n",
       "428             No  No phone service             Yes            No  ...   \n",
       "3329           Yes               Yes             Yes            No  ...   \n",
       "\n",
       "     streaming_movies_No internet service streaming_movies_Yes  \\\n",
       "3270                                    0                    0   \n",
       "6084                                    0                    1   \n",
       "4470                                    0                    0   \n",
       "428                                     0                    0   \n",
       "3329                                    0                    0   \n",
       "\n",
       "     paperless_billing_Yes contract_type_One year contract_type_Two year  \\\n",
       "3270                     0                      0                      0   \n",
       "6084                     1                      0                      0   \n",
       "4470                     1                      1                      0   \n",
       "428                      1                      0                      0   \n",
       "3329                     1                      1                      0   \n",
       "\n",
       "      payment_type_Credit card (automatic)  payment_type_Electronic check  \\\n",
       "3270                                     0                              1   \n",
       "6084                                     0                              1   \n",
       "4470                                     0                              1   \n",
       "428                                      0                              1   \n",
       "3329                                     0                              0   \n",
       "\n",
       "     payment_type_Mailed check  internet_service_type_Fiber optic  \\\n",
       "3270                         0                                  1   \n",
       "6084                         0                                  0   \n",
       "4470                         0                                  0   \n",
       "428                          0                                  0   \n",
       "3329                         0                                  1   \n",
       "\n",
       "     internet_service_type_None  \n",
       "3270                          0  \n",
       "6084                          0  \n",
       "4470                          0  \n",
       "428                           0  \n",
       "3329                          0  \n",
       "\n",
       "[5 rows x 51 columns]"
      ]
     },
     "execution_count": 86,
     "metadata": {},
     "output_type": "execute_result"
    }
   ],
   "source": [
    "train.head()"
   ]
  },
  {
   "cell_type": "code",
   "execution_count": 87,
   "id": "1d76f78e",
   "metadata": {},
   "outputs": [
    {
     "data": {
      "text/plain": [
       "<seaborn.axisgrid.FacetGrid at 0x7f8086fcbd30>"
      ]
     },
     "execution_count": 87,
     "metadata": {},
     "output_type": "execute_result"
    },
    {
     "data": {
      "image/png": "[encoded data removed]",
      "text/plain": [
       "<Figure size 772x360 with 2 Axes>"
      ]
     },
     "metadata": {
      "needs_background": "light"
     },
     "output_type": "display_data"
    }
   ],
   "source": [
    "sns.relplot(x=\"partner\", y='churn', hue=\"churn\", col=\"senior_citizen\", data=train )"
   ]
  },
  {
   "cell_type": "code",
   "execution_count": 88,
   "id": "ae0d8188",
   "metadata": {},
   "outputs": [],
   "source": [
    "# Binary encode the target variable\n",
    "train.churn = train.churn == \"Yes\""
   ]
  },
  {
   "cell_type": "code",
   "execution_count": 89,
   "id": "0905a43b",
   "metadata": {},
   "outputs": [
    {
     "data": {
      "text/plain": [
       "<seaborn.axisgrid.FacetGrid at 0x7f8086d93af0>"
      ]
     },
     "execution_count": 89,
     "metadata": {},
     "output_type": "execute_result"
    },
    {
     "data": {
      "image/png": "[encoded data removed]",
      "text/plain": [
       "<Figure size 796.5x360 with 2 Axes>"
      ]
     },
     "metadata": {
      "needs_background": "light"
     },
     "output_type": "display_data"
    }
   ],
   "source": [
    "# Set the binary target variable to the y\n",
    "# Set our first categorical variable to x\n",
    "# Set a second categorical variable to col\n",
    "# Set a third categorical variable to hue\n",
    "sns.catplot(x=\"partner\", y=\"churn\",  hue=\"senior_citizen\", col=\"partner\",data=train, kind=\"bar\")"
   ]
  },
  {
   "cell_type": "markdown",
   "id": "cb52b42b",
   "metadata": {},
   "source": [
    "### TAKE AWAYS:\n",
    "- This chart looks great, however because I used the excel file, I would need to go back and reset the columns so that the partner_dependants does not look encoded (and would show the string names)."
   ]
  },
  {
   "cell_type": "code",
   "execution_count": 90,
   "id": "0149a0c3",
   "metadata": {},
   "outputs": [
    {
     "data": {
      "text/plain": [
       "<seaborn.axisgrid.FacetGrid at 0x7f8086d4d220>"
      ]
     },
     "execution_count": 90,
     "metadata": {},
     "output_type": "execute_result"
    },
    {
     "data": {
      "image/png": "[encoded data removed]",
      "text/plain": [
       "<Figure size 427.25x360 with 1 Axes>"
      ]
     },
     "metadata": {
      "needs_background": "light"
     },
     "output_type": "display_data"
    }
   ],
   "source": [
    "#Relationship between churn, customers having partners and dependents\n",
    "sns.catplot(x=\"partner\", y =\"churn\",  hue=\"dependents\",data=train, kind=\"bar\")"
   ]
  },
  {
   "cell_type": "code",
   "execution_count": 91,
   "id": "21ab0c31",
   "metadata": {},
   "outputs": [
    {
     "data": {
      "text/plain": [
       "<seaborn.axisgrid.FacetGrid at 0x7f8087b3ea00>"
      ]
     },
     "execution_count": 91,
     "metadata": {},
     "output_type": "execute_result"
    },
    {
     "data": {
      "image/png": "[encoded data removed]",
      "text/plain": [
       "<Figure size 796.5x360 with 1 Axes>"
      ]
     },
     "metadata": {
      "needs_background": "light"
     },
     "output_type": "display_data"
    }
   ],
   "source": [
    "#Relationship between Senior customers and their internet service type against their churn rate\n",
    "sns.catplot(x=\"payment_type\", y =\"churn\",  hue=\"senior_citizen\",data=train, kind=\"bar\", height=5, aspect=2)"
   ]
  },
  {
   "cell_type": "code",
   "execution_count": 92,
   "id": "3bd87372",
   "metadata": {},
   "outputs": [
    {
     "data": {
      "text/plain": [
       "<seaborn.axisgrid.FacetGrid at 0x7f80872b3490>"
      ]
     },
     "execution_count": 92,
     "metadata": {},
     "output_type": "execute_result"
    },
    {
     "data": {
      "image/png": "[encoded data removed]",
      "text/plain": [
       "<Figure size 796.5x360 with 1 Axes>"
      ]
     },
     "metadata": {
      "needs_background": "light"
     },
     "output_type": "display_data"
    }
   ],
   "source": [
    "#Relationship between Senior customers and their internet service type against their churn rate\n",
    "sns.catplot(x=\"payment_type\", y =\"churn\",  hue=\"senior_citizen\",data=train, kind=\"bar\", height=5, aspect=2)"
   ]
  },
  {
   "cell_type": "code",
   "execution_count": 93,
   "id": "b131232e",
   "metadata": {},
   "outputs": [
    {
     "data": {
      "text/plain": [
       "<seaborn.axisgrid.FacetGrid at 0x7f8087b43730>"
      ]
     },
     "execution_count": 93,
     "metadata": {},
     "output_type": "execute_result"
    },
    {
     "data": {
      "image/png": "[encoded data removed]",
      "text/plain": [
       "<Figure size 772x360 with 1 Axes>"
      ]
     },
     "metadata": {
      "needs_background": "light"
     },
     "output_type": "display_data"
    }
   ],
   "source": [
    "#Relationship between Senior customers and their internet service type against their churn rate\n",
    "sns.catplot(x=\"payment_type\", y =\"churn\",  hue=\"partner\",data=train, kind=\"bar\", height=5, aspect=2)"
   ]
  },
  {
   "cell_type": "code",
   "execution_count": 94,
   "id": "8d30cf1c",
   "metadata": {},
   "outputs": [
    {
     "data": {
      "text/plain": [
       "<seaborn.axisgrid.FacetGrid at 0x7f8086a79040>"
      ]
     },
     "execution_count": 94,
     "metadata": {},
     "output_type": "execute_result"
    },
    {
     "data": {
      "image/png": "[encoded data removed]",
      "text/plain": [
       "<Figure size 436.5x360 with 1 Axes>"
      ]
     },
     "metadata": {
      "needs_background": "light"
     },
     "output_type": "display_data"
    }
   ],
   "source": [
    "#Relationship between Senior customers and their internet service type against their churn rate\n",
    "sns.catplot(x=\"internet_service_type\", y =\"churn\",  hue=\"senior_citizen\",data=train, kind=\"bar\")"
   ]
  },
  {
   "cell_type": "code",
   "execution_count": null,
   "id": "bccd3537",
   "metadata": {},
   "outputs": [],
   "source": []
  }
 ],
 "metadata": {
  "kernelspec": {
   "display_name": "Python 3 (ipykernel)",
   "language": "python",
   "name": "python3"
  },
  "language_info": {
   "codemirror_mode": {
    "name": "ipython",
    "version": 3
   },
   "file_extension": ".py",
   "mimetype": "text/x-python",
   "name": "python",
   "nbconvert_exporter": "python",
   "pygments_lexer": "ipython3",
   "version": "3.9.7"
  }
 },
 "nbformat": 4,
 "nbformat_minor": 5
}
