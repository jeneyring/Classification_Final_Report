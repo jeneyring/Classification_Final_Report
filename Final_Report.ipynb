{
 "cells": [
  {
   "cell_type": "markdown",
   "id": "9c369a18",
   "metadata": {},
   "source": [
    "# THE WHO and WHY of Telco Churn "
   ]
  },
  {
   "attachments": {},
   "cell_type": "markdown",
   "id": "5acf7564",
   "metadata": {},
   "source": [
    "<hr style=\\\"border-top: 13px groove blueviolet; margin-top: 1px; margin-bottom: 1px\\\"></hr>     "
   ]
  },
  {
   "cell_type": "code",
   "execution_count": 3,
   "id": "81b406cc",
   "metadata": {},
   "outputs": [],
   "source": [
    "import warnings\n",
    "warnings.filterwarnings(\"ignore\")\n",
    "\n",
    "#adding those necessities\n",
    "import pandas as pd\n",
    "import numpy as np\n",
    "import matplotlib.pyplot as plt\n",
    "import seaborn as sns\n",
    "from scipy import stats\n",
    "import pydataset as data\n",
    "\n",
    "#sklearn tools:: working those models!\n",
    "from sklearn.model_selection import train_test_split\n",
    "from sklearn.tree import DecisionTreeClassifier, plot_tree\n",
    "from sklearn.metrics import classification_report\n",
    "from sklearn.metrics import confusion_matrix\n",
    "from sklearn.metrics import precision_recall_fscore_support\n",
    "from sklearn.metrics import accuracy_score\n",
    "from sklearn.ensemble import RandomForestClassifier\n",
    "from sklearn.neighbors import KNeighborsClassifier\n",
    "from sklearn.linear_model import LogisticRegression\n",
    "\n",
    "#calling those py files\n",
    "from acquire import get_telco_data\n",
    "from prepare import clean_telco_data, prep_telco_data\n",
    "\n",
    "from env import get_db_url\n",
    "\n",
    "α = .05"
   ]
  },
  {
   "cell_type": "markdown",
   "id": "831a8754",
   "metadata": {},
   "source": [
    "<hr style=\\\"border-top: 13px groove blueviolet; margin-top: 1px; margin-bottom: 1px\\\"></hr>     "
   ]
  },
  {
   "cell_type": "markdown",
   "id": "3a236cee",
   "metadata": {},
   "source": [
    "## Question: Is there a specific demographic group that is associated with more churn than expected?"
   ]
  },
  {
   "cell_type": "markdown",
   "id": "eb2be5c9",
   "metadata": {},
   "source": [
    "### Goal: Find the main demographic drivers and their subgroups for Telco churn.\n",
    "*I decided to look into demographics first, as this wasn't subgroups I was able to explore last presentation project."
   ]
  },
  {
   "cell_type": "code",
   "execution_count": null,
   "id": "f7a5c6da",
   "metadata": {},
   "outputs": [],
   "source": []
  }
 ],
 "metadata": {
  "kernelspec": {
   "display_name": "Python 3 (ipykernel)",
   "language": "python",
   "name": "python3"
  },
  "language_info": {
   "codemirror_mode": {
    "name": "ipython",
    "version": 3
   },
   "file_extension": ".py",
   "mimetype": "text/x-python",
   "name": "python",
   "nbconvert_exporter": "python",
   "pygments_lexer": "ipython3",
   "version": "3.9.7"
  }
 },
 "nbformat": 4,
 "nbformat_minor": 5
}
