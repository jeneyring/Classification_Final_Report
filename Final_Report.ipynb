{
 "cells": [
  {
   "cell_type": "markdown",
   "id": "9c369a18",
   "metadata": {},
   "source": [
    "# The WHO and WHY of Telco Churn \n",
    "### Exploring, Evaluating and Creating classification models to predict customer churn\n",
    "by Jennifer Eyring\n",
    "Jemison Cohort"
   ]
  },
  {
   "cell_type": "code",
   "execution_count": null,
   "id": "ae060913",
   "metadata": {},
   "outputs": [],
   "source": []
  },
  {
   "cell_type": "markdown",
   "id": "3acaa60a",
   "metadata": {},
   "source": [
    "## <u> Executive Summary: </u>\n",
    "#### - Key demographic groups that churn: Senior citizens and Single Telco customers\n",
    "#### - Main churn features that relate to these demographics:\n",
    "        - Fiber Optic Internet Service\n",
    "        - Non-automated Payment forms "
   ]
  },
  {
   "cell_type": "markdown",
   "id": "cf8b82eb",
   "metadata": {},
   "source": [
    "## <u> Data Dictionary</u>\n",
    "\n",
    "- The Telco dataset was collect from CodeUp's MySQL database. <a href=\"https://www.kaggle.com/datasets/blastchar/telco-customer-churn\">You can read more about the Telco data set here.</a>\n",
    "\n",
    "\n",
    "|Target|Datatype|Definition|\n",
    "|:-------|:--------|:----------|\n",
    "| churn | 7043 non-null: object | Telco's recent customer churn list |\n",
    "\n",
    "|Feature|Datatype|Definition|\n",
    "|:-------|:--------|:----------|\n",
    "| gender           |  7043 non-null: object | gender of Telco customers|\n",
    "| senior_citizen   |  7043 non-null: int64  | 60+ aged Telco customers|\n",
    "| partner          |  7043 non-null: object | Telco customers with/without partner|\n",
    "| dependents       |  7043 non-null: object | Customers with/without dependents|\n",
    "| contract_type    |  7043 non-null: object | Contract types for customers|\n",
    "| internet_service_type |  7043 non-null: object | None; DSL; Fiber Optic types|\n",
    "| payment_types    |  7043 non-null: object | payment forms for Customers|\n"
   ]
  },
  {
   "cell_type": "markdown",
   "id": "fbe72db4",
   "metadata": {},
   "source": [
    "## <u> Project Question: </u>\n",
    "### <i> Is there a specific demographic group that is associated with more churn than expected?"
   ]
  },
  {
   "cell_type": "code",
   "execution_count": 1,
   "id": "8eb9c34e",
   "metadata": {},
   "outputs": [],
   "source": [
    "import warnings\n",
    "warnings.filterwarnings(\"ignore\")\n",
    "\n",
    "#adding those necessities\n",
    "import pandas as pd\n",
    "import numpy as np\n",
    "import matplotlib.pyplot as plt\n",
    "import seaborn as sns\n",
    "from scipy import stats\n",
    "import pydataset as data\n",
    "\n",
    "#sklearn tools:: working those models!\n",
    "from sklearn.model_selection import train_test_split\n",
    "from sklearn.tree import DecisionTreeClassifier, plot_tree\n",
    "from sklearn.metrics import classification_report\n",
    "from sklearn.metrics import confusion_matrix\n",
    "from sklearn.metrics import precision_recall_fscore_support\n",
    "from sklearn.metrics import accuracy_score\n",
    "from sklearn.ensemble import RandomForestClassifier\n",
    "from sklearn.neighbors import KNeighborsClassifier\n",
    "from sklearn.linear_model import LogisticRegression\n",
    "\n",
    "#calling those py files\n",
    "from acquire import get_telco_data\n",
    "from prepare import clean_telco_data, prep_telco_data\n",
    "\n",
    "from env import get_db_url\n",
    "\n",
    "α = .05\n",
    "\n",
    "#calling the dataframe\n",
    "telco_df = get_telco_data()\n",
    "#prepped and split\n",
    "train, validate, test = prep_telco_data(telco_df)\n",
    "\n",
    "#visualization file\n",
    "import viz"
   ]
  },
  {
   "cell_type": "markdown",
   "id": "70585fbb",
   "metadata": {},
   "source": [
    "## Goal: Find the main demographic drivers and their subgroups for Telco churn.\n",
    "*I decided to look into demographics first, as this wasn't subgroups I was able to explore last presentation project."
   ]
  },
  {
   "cell_type": "code",
   "execution_count": null,
   "id": "878308f4",
   "metadata": {},
   "outputs": [],
   "source": []
  },
  {
   "cell_type": "markdown",
   "id": "fdc7b555",
   "metadata": {},
   "source": [
    "## QUESTION 1: Are more churned customers single and/or without dependents?\n",
    "\n",
    "### Hypothesis 1:\n",
    "- <i>H0: There is NO relationship between churn and customers without partners\n",
    "- <i>Ha: There IS a relationship between churn and customers without partners"
   ]
  },
  {
   "cell_type": "code",
   "execution_count": 2,
   "id": "6cd306ec",
   "metadata": {},
   "outputs": [
    {
     "name": "stdout",
     "output_type": "stream",
     "text": [
      "The p-value is 2.0115703972096128e-23\n",
      "Sufficient evidence is present to reject the null hypothesis\n"
     ]
    }
   ],
   "source": [
    "# Chi squared with un-encoded categorical columns\n",
    "# Null hypothesis: churn rate has no relation to partnerships of customers\n",
    "# Alternative hypothesis: there is a relationship between churn rate and partnerships of customers\n",
    "alpha = 0.05\n",
    "observed = pd.crosstab(train.churn, train.partner)\n",
    "chi2, p, degf, expected = stats.chi2_contingency(observed)\n",
    "print(f\"The p-value is {p}\")\n",
    "if p < alpha:\n",
    "    print(\"Sufficient evidence is present to reject the null hypothesis\")\n",
    "else:\n",
    "    print(\"Insufficient evidence to reject the null\")\n",
    "    print(\"Evidence seems to support the claim that partnership and churn are independent\")"
   ]
  },
  {
   "cell_type": "markdown",
   "id": "accd7553",
   "metadata": {},
   "source": [
    "#### USING VISUALS..."
   ]
  },
  {
   "cell_type": "code",
   "execution_count": 3,
   "id": "091abb74",
   "metadata": {},
   "outputs": [
    {
     "data": {
      "text/plain": [
       "<seaborn.axisgrid.FacetGrid at 0x7fb294232460>"
      ]
     },
     "execution_count": 3,
     "metadata": {},
     "output_type": "execute_result"
    },
    {
     "data": {
      "image/png": "[encoded data removed]",
      "text/plain": [
       "<Figure size 427.25x360 with 1 Axes>"
      ]
     },
     "metadata": {
      "needs_background": "light"
     },
     "output_type": "display_data"
    }
   ],
   "source": [
    "#Relationship between churn, customers having partners and dependents\n",
    "sns.catplot(x=\"partner\", y =\"churn\",  hue=\"dependents\",data=train, kind=\"bar\")"
   ]
  },
  {
   "cell_type": "markdown",
   "id": "8ebbdaa9",
   "metadata": {},
   "source": [
    "## OUTCOME: \n",
    "### - I rejected the Null Hypothesis, in that there is a relationship with single customers and churn."
   ]
  },
  {
   "cell_type": "code",
   "execution_count": null,
   "id": "1c19d36d",
   "metadata": {},
   "outputs": [],
   "source": []
  },
  {
   "cell_type": "code",
   "execution_count": null,
   "id": "e864964d",
   "metadata": {},
   "outputs": [],
   "source": []
  },
  {
   "cell_type": "markdown",
   "id": "1be08f32",
   "metadata": {},
   "source": [
    "## QUESTION 2: Are more Senior Citizens churning than other age groups?\n",
    "\n",
    "Hypothesis 2:\n",
    "\n",
    "* <i>H0: There is NO relationship between churn and Senior customers.\n",
    "* <i>Ha: There IS a relationship between churn and Senior customers."
   ]
  },
  {
   "cell_type": "code",
   "execution_count": 4,
   "id": "3ad3658e",
   "metadata": {},
   "outputs": [
    {
     "name": "stdout",
     "output_type": "stream",
     "text": [
      "The p-value is 1.1002429756735793e-26\n",
      "Sufficient evidence is present to reject the null hypothesis\n"
     ]
    }
   ],
   "source": [
    "# Chi squared with un-encoded categorical columns\n",
    "# Null hypothesis: churn rate has no relation to senior citizen customers\n",
    "# Alternative hypothesis: there is a relationship between churn rate and senior citizens\n",
    "alpha = 0.05\n",
    "observed = pd.crosstab(train.churn, train.senior_citizen)\n",
    "chi2, p, degf, expected = stats.chi2_contingency(observed)\n",
    "print(f\"The p-value is {p}\")\n",
    "if p < alpha:\n",
    "    print(\"Sufficient evidence is present to reject the null hypothesis\")\n",
    "else:\n",
    "    print(\"Insufficient evidence to reject the null\")\n",
    "    print(\"Evidence seems to support the claim that senior_citizens and churn are independent\")"
   ]
  },
  {
   "cell_type": "markdown",
   "id": "ef82fc06",
   "metadata": {},
   "source": [
    "#### USING VISUALS..."
   ]
  },
  {
   "cell_type": "code",
   "execution_count": 5,
   "id": "5d8961f5",
   "metadata": {},
   "outputs": [
    {
     "data": {
      "image/png": "[encoded data removed]",
      "text/plain": [
       "<Figure size 432x288 with 1 Axes>"
      ]
     },
     "metadata": {
      "needs_background": "light"
     },
     "output_type": "display_data"
    }
   ],
   "source": [
    "#let's look at the numbers visually\n",
    "barplot = observed.plot.bar(rot=0)"
   ]
  },
  {
   "cell_type": "markdown",
   "id": "6f5eefa8",
   "metadata": {},
   "source": [
    "## OUTCOME: I rejected the Null Hypothesis, in that there is a relationship with senior customers and churn.\n",
    "- From first glance, because of the low amount of Senior Citizen data count, it looks like customers 59 and younger have more churns. By numbers, YES, 59 and younger DO have more churn, but <mark>by churn rate compared to each customer age category, Senior Citizens have the highest churn rate.</mark>\n",
    "\n",
    "### <mark><b>  Senior Citizens: 41% churned\n",
    "59 and younger customers: 24% churned</b></mark>\n"
   ]
  },
  {
   "cell_type": "code",
   "execution_count": null,
   "id": "3ff5874f",
   "metadata": {},
   "outputs": [],
   "source": []
  },
  {
   "cell_type": "markdown",
   "id": "bb2b79d9",
   "metadata": {},
   "source": [
    "## Why the Churn??"
   ]
  },
  {
   "cell_type": "markdown",
   "id": "3bc14588",
   "metadata": {},
   "source": [
    "## INTERNET TYPE ACCOUNTS- Are you getting enough FIBER??\n",
    "\n",
    "### Seeing if internet type relates to the churn rate.\n",
    "\n",
    "* H0: There is NO relationship between internet type of accounts and customers churning.\n",
    "* Ha: There IS a relationship between internet type of and customers churning."
   ]
  },
  {
   "cell_type": "code",
   "execution_count": 6,
   "id": "ec2213c4",
   "metadata": {},
   "outputs": [
    {
     "name": "stdout",
     "output_type": "stream",
     "text": [
      "The p-value is 2.4617612720873587e-96\n",
      "Sufficient evidence is present to reject the null hypothesis\n"
     ]
    }
   ],
   "source": [
    "# Chi squared with un-encoded categorical columns\n",
    "alpha = 0.05\n",
    "observed = pd.crosstab(train.internet_service_type, train.churn)\n",
    "chi2, p, degf, expected = stats.chi2_contingency(observed)\n",
    "print(f\"The p-value is {p}\")\n",
    "if p < alpha:\n",
    "    print(\"Sufficient evidence is present to reject the null hypothesis\")\n",
    "else:\n",
    "    print(\"Insufficient evidence to reject the null\")\n",
    "    print(\"Evidence seems to support the claim that senior customers and internet account types are independent\")"
   ]
  },
  {
   "cell_type": "markdown",
   "id": "4264f00d",
   "metadata": {},
   "source": [
    "### <i> Seniors that churned and their internet services:"
   ]
  },
  {
   "cell_type": "code",
   "execution_count": 7,
   "id": "3da05e1a",
   "metadata": {},
   "outputs": [
    {
     "data": {
      "text/plain": [
       "<seaborn.axisgrid.FacetGrid at 0x7fb2980afb80>"
      ]
     },
     "execution_count": 7,
     "metadata": {},
     "output_type": "execute_result"
    },
    {
     "data": {
      "image/png": "[encoded data removed]",
      "text/plain": [
       "<Figure size 436.5x360 with 1 Axes>"
      ]
     },
     "metadata": {
      "needs_background": "light"
     },
     "output_type": "display_data"
    }
   ],
   "source": [
    "#Relationship between Senior customers and their internet service type against their churn rate\n",
    "sns.catplot(x=\"internet_service_type\", y =\"churn\",  hue=\"senior_citizen\",data=train, kind=\"bar\")"
   ]
  },
  {
   "cell_type": "markdown",
   "id": "424de596",
   "metadata": {},
   "source": [
    "### <i> Singles that churned and their internet services:"
   ]
  },
  {
   "cell_type": "code",
   "execution_count": 8,
   "id": "e2617ffd",
   "metadata": {},
   "outputs": [
    {
     "data": {
      "text/plain": [
       "<seaborn.axisgrid.FacetGrid at 0x7fb298777af0>"
      ]
     },
     "execution_count": 8,
     "metadata": {},
     "output_type": "execute_result"
    },
    {
     "data": {
      "image/png": "[encoded data removed]",
      "text/plain": [
       "<Figure size 412x360 with 1 Axes>"
      ]
     },
     "metadata": {
      "needs_background": "light"
     },
     "output_type": "display_data"
    }
   ],
   "source": [
    "#Relationship between Single Telco customers and their internet service type against their churn rate\n",
    "sns.catplot(x=\"internet_service_type\", y =\"churn\",  hue=\"partner\",data=train, kind=\"bar\")"
   ]
  },
  {
   "cell_type": "code",
   "execution_count": null,
   "id": "cb7e4798",
   "metadata": {},
   "outputs": [],
   "source": []
  },
  {
   "cell_type": "code",
   "execution_count": null,
   "id": "c05593d5",
   "metadata": {},
   "outputs": [],
   "source": []
  },
  {
   "cell_type": "markdown",
   "id": "220be423",
   "metadata": {},
   "source": [
    "# MODELING: Strike a pose...and get learning\n",
    "The models I went through in my training exploration were:\n",
    "  * <u><b>Logistical Regression: </u></b>I chose this first to weigh all of the numeric data against target\n",
    "  * <u>Decision Tree:</u>\n",
    "  * <u>Random Forest:</u>\n",
    "  * <u>KNN:</u>"
   ]
  },
  {
   "cell_type": "markdown",
   "id": "62318ca1",
   "metadata": {},
   "source": [
    "## MVP Models - Takeaways\n",
    "\n",
    "<i><b>What Models I Used and outcomes:</b>\n",
    "- 1) DecisionTree classifier: 83%train | 79%validate | 4%diff\n",
    "- 2) RandomForest classifier: 84%train | 80%validate | 3%diff\n",
    "- 3) Logistical Regression:   80%train | 74% with key features\n",
    "- 4) KNNeighbors classifier:  81%train | 79%validate | 2%diff\n",
    "<br>\n",
    "<br>\n",
    "- My DecisionTree models show some great training accuracies (83%) but the differences between validation and training concern me and I decided not to choose any of those for my MVP due to concerns of overfitting the data.\n",
    "\n",
    "\n",
    "- My Random Forest models were a close second choice as training accuracy with a max depth of 9 was 84% | validate was 81%...but I still felt like the differences (and drops shown in the validation chart) weren't as predictable in finding a constant rate to test the model on.\n",
    "\n",
    "\n",
    "- <mark><b>I decided on using my KNN model</b> with an 10 count of neighbors to help predict new data as relative to churn or not. <b>My KNN model had a 81% accuracy rate (5% higher than baseline)</b> and I feel like because KNN models and take in real-time occurances and be adjusted over time, this model will do well not only now predicting churn, but can also be a model we move forward with as we make necessary adjustments due to churn and what the next churn predictors might be.</mark>\n",
    "\n",
    "#### THINGS TO KEEP IN MIND WITH KNN MODELS:\n",
    "* With high dimensions and lots of features against churn, distance of predictions could breakdown. The model would need to be readjusted to input variables that are needed to predict the churn predictions."
   ]
  },
  {
   "cell_type": "markdown",
   "id": "7f60eba4",
   "metadata": {},
   "source": [
    "*******NOTE:When creating my models, I had to drop categorical columns (as shown below), as well as set my x and y for train, validate and test\n",
    "For a more in-depth look at what I did for each train/fit of the models, check out:"
   ]
  },
  {
   "cell_type": "markdown",
   "id": "e2e1aad3",
   "metadata": {},
   "source": [
    "<a href=\"https://www.kaggle.com/datasets/blastchar/telco-customer-churn\">Telco Churn Scratch Pad here.</a>"
   ]
  },
  {
   "cell_type": "code",
   "execution_count": null,
   "id": "b50af295",
   "metadata": {},
   "outputs": [],
   "source": [
    "# Dropping categorical and not-needed columns that are leftover.\n",
    "\n",
    "X_train = train.drop(columns=['churn','customer_id','gender', 'dependents','partner', \n",
    "                              'senior_citizen', 'phone_service','multiple_lines','online_security','online_backup',\n",
    "                              'payment_type','total_charges','device_protection','tech_support','streaming_tv','streaming_movies',\n",
    "                             'paperless_billing','contract_type','internet_service_type','total_charges'])\n",
    "y_train = train[['churn']]\n",
    "\n",
    "X_validate = validate.drop(columns=['customer_id','churn','gender', 'dependents','partner', \n",
    "                              'senior_citizen', 'phone_service','multiple_lines','online_security','online_backup',\n",
    "                              'payment_type','total_charges','device_protection','tech_support','streaming_tv','streaming_movies',\n",
    "                             'paperless_billing','contract_type','online_security','online_backup',\n",
    "                              'payment_type','total_charges','device_protection','internet_service_type','total_charges'])\n",
    "y_validate = validate[['churn']]\n",
    "\n",
    "X_test = test.drop(columns=['customer_id','churn','gender', 'dependents','partner', \n",
    "                              'senior_citizen', 'phone_service','multiple_lines','online_security','online_backup',\n",
    "                              'payment_type','total_charges','device_protection','tech_support','streaming_tv','streaming_movies',\n",
    "                             'paperless_billing','contract_type','internet_service_type','total_charges'])\n",
    "y_test = test[['churn']]"
   ]
  },
  {
   "cell_type": "markdown",
   "id": "40e48c50",
   "metadata": {},
   "source": [
    "<b>BASELINE: 73%</b>"
   ]
  },
  {
   "cell_type": "code",
   "execution_count": 9,
   "id": "06097d33",
   "metadata": {},
   "outputs": [
    {
     "data": {
      "text/plain": [
       "0.7342222222222222"
      ]
     },
     "execution_count": 9,
     "metadata": {},
     "output_type": "execute_result"
    }
   ],
   "source": [
    "#Defining the baseline prediction:\n",
    "train.churn.mode()\n",
    "#Mode meaning when a customer did not churn, so our baseline guess would be that a customer will not churn. \n",
    "\n",
    "\n",
    "#Calculating the percentage of customers that churned:\n",
    "train[train['churn'] == False].shape[0] / train.shape[0]"
   ]
  },
  {
   "cell_type": "code",
   "execution_count": 10,
   "id": "0d97e627",
   "metadata": {},
   "outputs": [
    {
     "ename": "NameError",
     "evalue": "name 'X_train' is not defined",
     "output_type": "error",
     "traceback": [
      "\u001b[0;31m---------------------------------------------------------------------------\u001b[0m",
      "\u001b[0;31mNameError\u001b[0m                                 Traceback (most recent call last)",
      "\u001b[0;32m/var/folders/d3/11nygz6126ndxvtrp12687680000gn/T/ipykernel_31948/1229646510.py\u001b[0m in \u001b[0;36m<module>\u001b[0;34m\u001b[0m\n\u001b[1;32m      8\u001b[0m \u001b[0mknn\u001b[0m \u001b[0;34m=\u001b[0m \u001b[0mKNeighborsClassifier\u001b[0m\u001b[0;34m(\u001b[0m\u001b[0mn_neighbors\u001b[0m\u001b[0;34m=\u001b[0m\u001b[0;36m5\u001b[0m\u001b[0;34m,\u001b[0m \u001b[0mweights\u001b[0m\u001b[0;34m=\u001b[0m\u001b[0;34m'uniform'\u001b[0m\u001b[0;34m)\u001b[0m\u001b[0;34m\u001b[0m\u001b[0;34m\u001b[0m\u001b[0m\n\u001b[1;32m      9\u001b[0m \u001b[0;31m#fit the model\u001b[0m\u001b[0;34m\u001b[0m\u001b[0;34m\u001b[0m\u001b[0m\n\u001b[0;32m---> 10\u001b[0;31m \u001b[0mknn\u001b[0m\u001b[0;34m.\u001b[0m\u001b[0mfit\u001b[0m\u001b[0;34m(\u001b[0m\u001b[0mX_train\u001b[0m\u001b[0;34m,\u001b[0m \u001b[0my_train\u001b[0m\u001b[0;34m)\u001b[0m\u001b[0;34m\u001b[0m\u001b[0;34m\u001b[0m\u001b[0m\n\u001b[0m\u001b[1;32m     11\u001b[0m \u001b[0;31m#making predictions\u001b[0m\u001b[0;34m\u001b[0m\u001b[0;34m\u001b[0m\u001b[0m\n\u001b[1;32m     12\u001b[0m \u001b[0my_pred\u001b[0m \u001b[0;34m=\u001b[0m \u001b[0mknn\u001b[0m\u001b[0;34m.\u001b[0m\u001b[0mpredict\u001b[0m\u001b[0;34m(\u001b[0m\u001b[0mX_train\u001b[0m\u001b[0;34m)\u001b[0m\u001b[0;34m\u001b[0m\u001b[0;34m\u001b[0m\u001b[0m\n",
      "\u001b[0;31mNameError\u001b[0m: name 'X_train' is not defined"
     ]
    }
   ],
   "source": [
    "#### KNN MODEL CREATION SYNTAX:\n",
    "\n",
    "#Setting neighbors to 5\n",
    "#fitting the model to data\n",
    "#making predictions and estimation of probabilities\n",
    "#______________________________________________________\n",
    "# weights = ['uniform', 'density']\n",
    "knn = KNeighborsClassifier(n_neighbors=5, weights='uniform')\n",
    "#fit the model\n",
    "knn.fit(X_train, y_train)\n",
    "#making predictions\n",
    "y_pred = knn.predict(X_train)\n",
    "#estimating probabilities\n",
    "y_pred_proba = knn.predict_proba(X_train)"
   ]
  },
  {
   "cell_type": "code",
   "execution_count": null,
   "id": "46131f27",
   "metadata": {},
   "outputs": [],
   "source": [
    "#### EVALUATING THE MODEL W/ 10 NEIGHBORS:\n",
    "report = classification_report(y_train, y_pred, output_dict=True)\n",
    "print(\"n_neighbour = 10\")\n",
    "pd.DataFrame(report)"
   ]
  },
  {
   "cell_type": "code",
   "execution_count": null,
   "id": "1b4e73f9",
   "metadata": {},
   "outputs": [],
   "source": [
    "#Classification report:\n",
    "print(classification_report(y_train, y_pred))"
   ]
  },
  {
   "cell_type": "code",
   "execution_count": null,
   "id": "9b23db87",
   "metadata": {},
   "outputs": [],
   "source": [
    "#Taking a look at what the relationship of train, validate and difference of the KNN (with 10 neighbors)model is:\n",
    "viz.visualize(X_train, y_train, X_validate, y_validate)"
   ]
  },
  {
   "cell_type": "code",
   "execution_count": null,
   "id": "8645f097",
   "metadata": {},
   "outputs": [],
   "source": []
  }
 ],
 "metadata": {
  "kernelspec": {
   "display_name": "Python 3 (ipykernel)",
   "language": "python",
   "name": "python3"
  },
  "language_info": {
   "codemirror_mode": {
    "name": "ipython",
    "version": 3
   },
   "file_extension": ".py",
   "mimetype": "text/x-python",
   "name": "python",
   "nbconvert_exporter": "python",
   "pygments_lexer": "ipython3",
   "version": "3.9.7"
  }
 },
 "nbformat": 4,
 "nbformat_minor": 5
}
