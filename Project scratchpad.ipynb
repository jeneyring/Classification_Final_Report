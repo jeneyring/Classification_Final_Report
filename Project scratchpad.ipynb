{
 "cells": [
  {
   "cell_type": "code",
   "execution_count": 1,
   "id": "2f304420",
   "metadata": {},
   "outputs": [],
   "source": [
    "import warnings\n",
    "warnings.filterwarnings(\"ignore\")\n",
    "\n",
    "import pandas as pd\n",
    "import numpy as np\n",
    "import matplotlib.pyplot as plt\n",
    "import seaborn as sns\n",
    "from scipy import stats\n",
    "# preparing\n",
    "from sklearn.model_selection import train_test_split\n",
    "from sklearn.preprocessing import LabelEncoder\n",
    "from sklearn.preprocessing import MinMaxScaler\n",
    "from sklearn.impute import SimpleImputer\n",
    "from sklearn.preprocessing import OneHotEncoder\n",
    "\n",
    "# modeling and evaluating\n",
    "from sklearn.linear_model import LogisticRegression\n",
    "from sklearn.metrics import classification_report, confusion_matrix, precision_score, recall_score, accuracy_score\n",
    "\n",
    "\n",
    "np.random.seed(123)\n",
    "\n",
    "#calling in our dataset\n",
    "import acquire\n",
    "import prepare"
   ]
  },
  {
   "cell_type": "markdown",
   "id": "41614524",
   "metadata": {},
   "source": [
    "# Question: Is there a specific demographic group that is associated with more churn than expected??"
   ]
  },
  {
   "cell_type": "markdown",
   "id": "bb3f051c",
   "metadata": {},
   "source": [
    "## Goal: Find the main demographic drivers and their subgroups for Telco churn.\n",
    "\n",
    "** I'd like to look into demographics first, as this wasn't subgroups I was able to explore last presentation project."
   ]
  },
  {
   "cell_type": "markdown",
   "id": "58274a6b",
   "metadata": {},
   "source": [
    "<u> Demographics I'll be looking at:</u>\n",
    "\n",
    "- Senior citizens\n",
    "- Single customers\n",
    "- Customers with Partners\n",
    "- Customers with Dependants\n",
    "- Customers with Partner & Dependants\n",
    "\n",
    "<u> Subgroups to compare once main demographic driver(s) are found, if I want to get more specific: </u>\n",
    "- Gender\n",
    "- monthly charges\n",
    "- tenure\n",
    "- account (internet) types\n",
    "- automated vs non-automatic payment accounts"
   ]
  },
  {
   "cell_type": "markdown",
   "id": "6cc93b33",
   "metadata": {},
   "source": [
    "### Notes: By looking at the above demographics I want to find:\n",
    "1) Highest churned demographic group (of the above)\n",
    "- Note: I will first need to look at the group as whole (all churned and which group had most churns)\n",
    "- Note: Then I should consider churn rate based with each group (example: senior citizens that have and have not churned rate)"
   ]
  },
  {
   "cell_type": "markdown",
   "id": "6ab34d29",
   "metadata": {},
   "source": [
    "# Getting to know my data:"
   ]
  },
  {
   "cell_type": "code",
   "execution_count": 2,
   "id": "c85a4b33",
   "metadata": {},
   "outputs": [
    {
     "data": {
      "text/html": [
       "<div>\n",
       "<style scoped>\n",
       "    .dataframe tbody tr th:only-of-type {\n",
       "        vertical-align: middle;\n",
       "    }\n",
       "\n",
       "    .dataframe tbody tr th {\n",
       "        vertical-align: top;\n",
       "    }\n",
       "\n",
       "    .dataframe thead th {\n",
       "        text-align: right;\n",
       "    }\n",
       "</style>\n",
       "<table border=\"1\" class=\"dataframe\">\n",
       "  <thead>\n",
       "    <tr style=\"text-align: right;\">\n",
       "      <th></th>\n",
       "      <th>customer_id</th>\n",
       "      <th>gender</th>\n",
       "      <th>senior_citizen</th>\n",
       "      <th>partner</th>\n",
       "      <th>dependents</th>\n",
       "      <th>tenure</th>\n",
       "      <th>phone_service</th>\n",
       "      <th>multiple_lines</th>\n",
       "      <th>internet_service_type_id</th>\n",
       "      <th>online_security</th>\n",
       "      <th>...</th>\n",
       "      <th>payment_type_id</th>\n",
       "      <th>monthly_charges</th>\n",
       "      <th>total_charges</th>\n",
       "      <th>churn</th>\n",
       "      <th>contract_type_id.1</th>\n",
       "      <th>contract_type</th>\n",
       "      <th>payment_type_id.1</th>\n",
       "      <th>payment_type</th>\n",
       "      <th>internet_service_type_id.1</th>\n",
       "      <th>internet_service_type</th>\n",
       "    </tr>\n",
       "  </thead>\n",
       "  <tbody>\n",
       "    <tr>\n",
       "      <th>0</th>\n",
       "      <td>0002-ORFBO</td>\n",
       "      <td>Female</td>\n",
       "      <td>0</td>\n",
       "      <td>Yes</td>\n",
       "      <td>Yes</td>\n",
       "      <td>9</td>\n",
       "      <td>Yes</td>\n",
       "      <td>No</td>\n",
       "      <td>1</td>\n",
       "      <td>No</td>\n",
       "      <td>...</td>\n",
       "      <td>2</td>\n",
       "      <td>65.6</td>\n",
       "      <td>593.3</td>\n",
       "      <td>No</td>\n",
       "      <td>2</td>\n",
       "      <td>One year</td>\n",
       "      <td>2</td>\n",
       "      <td>Mailed check</td>\n",
       "      <td>1</td>\n",
       "      <td>DSL</td>\n",
       "    </tr>\n",
       "  </tbody>\n",
       "</table>\n",
       "<p>1 rows × 27 columns</p>\n",
       "</div>"
      ],
      "text/plain": [
       "  customer_id  gender  senior_citizen partner dependents  tenure  \\\n",
       "0  0002-ORFBO  Female               0     Yes        Yes       9   \n",
       "\n",
       "  phone_service multiple_lines  internet_service_type_id online_security  ...  \\\n",
       "0           Yes             No                         1              No  ...   \n",
       "\n",
       "  payment_type_id monthly_charges total_charges churn contract_type_id.1  \\\n",
       "0               2            65.6         593.3    No                  2   \n",
       "\n",
       "   contract_type payment_type_id.1  payment_type  internet_service_type_id.1  \\\n",
       "0       One year                 2  Mailed check                           1   \n",
       "\n",
       "  internet_service_type  \n",
       "0                   DSL  \n",
       "\n",
       "[1 rows x 27 columns]"
      ]
     },
     "execution_count": 2,
     "metadata": {},
     "output_type": "execute_result"
    }
   ],
   "source": [
    "#I am using the excel version as it was easier to acquire from my computer\n",
    "df = acquire.get_telco_data()\n",
    "#looking at columns as there seems to be alot\n",
    "df.head(1)"
   ]
  },
  {
   "cell_type": "code",
   "execution_count": 3,
   "id": "f82dadcc",
   "metadata": {},
   "outputs": [
    {
     "data": {
      "text/plain": [
       "customer_id                    object\n",
       "gender                         object\n",
       "senior_citizen                  int64\n",
       "partner                        object\n",
       "dependents                     object\n",
       "tenure                          int64\n",
       "phone_service                  object\n",
       "multiple_lines                 object\n",
       "internet_service_type_id        int64\n",
       "online_security                object\n",
       "online_backup                  object\n",
       "device_protection              object\n",
       "tech_support                   object\n",
       "streaming_tv                   object\n",
       "streaming_movies               object\n",
       "contract_type_id                int64\n",
       "paperless_billing              object\n",
       "payment_type_id                 int64\n",
       "monthly_charges               float64\n",
       "total_charges                  object\n",
       "churn                          object\n",
       "contract_type_id.1              int64\n",
       "contract_type                  object\n",
       "payment_type_id.1               int64\n",
       "payment_type                   object\n",
       "internet_service_type_id.1      int64\n",
       "internet_service_type          object\n",
       "dtype: object"
      ]
     },
     "execution_count": 3,
     "metadata": {},
     "output_type": "execute_result"
    }
   ],
   "source": [
    "#checking out dytpes\n",
    "df.dtypes"
   ]
  },
  {
   "cell_type": "code",
   "execution_count": 4,
   "id": "3aba62bc",
   "metadata": {},
   "outputs": [
    {
     "data": {
      "text/plain": [
       "0       Yes\n",
       "1        No\n",
       "2        No\n",
       "3       Yes\n",
       "4       Yes\n",
       "       ... \n",
       "7038     No\n",
       "7039    Yes\n",
       "7040     No\n",
       "7041    Yes\n",
       "7042    Yes\n",
       "Name: partner, Length: 7043, dtype: object"
      ]
     },
     "execution_count": 4,
     "metadata": {},
     "output_type": "execute_result"
    }
   ],
   "source": [
    "df.partner"
   ]
  },
  {
   "cell_type": "code",
   "execution_count": 5,
   "id": "97fb4ce0",
   "metadata": {},
   "outputs": [
    {
     "data": {
      "text/html": [
       "<div>\n",
       "<style scoped>\n",
       "    .dataframe tbody tr th:only-of-type {\n",
       "        vertical-align: middle;\n",
       "    }\n",
       "\n",
       "    .dataframe tbody tr th {\n",
       "        vertical-align: top;\n",
       "    }\n",
       "\n",
       "    .dataframe thead th {\n",
       "        text-align: right;\n",
       "    }\n",
       "</style>\n",
       "<table border=\"1\" class=\"dataframe\">\n",
       "  <thead>\n",
       "    <tr style=\"text-align: right;\">\n",
       "      <th></th>\n",
       "      <th>count</th>\n",
       "      <th>mean</th>\n",
       "      <th>std</th>\n",
       "      <th>min</th>\n",
       "      <th>25%</th>\n",
       "      <th>50%</th>\n",
       "      <th>75%</th>\n",
       "      <th>max</th>\n",
       "    </tr>\n",
       "  </thead>\n",
       "  <tbody>\n",
       "    <tr>\n",
       "      <th>senior_citizen</th>\n",
       "      <td>7043.0</td>\n",
       "      <td>0.162147</td>\n",
       "      <td>0.368612</td>\n",
       "      <td>0.00</td>\n",
       "      <td>0.0</td>\n",
       "      <td>0.00</td>\n",
       "      <td>0.00</td>\n",
       "      <td>1.00</td>\n",
       "    </tr>\n",
       "    <tr>\n",
       "      <th>tenure</th>\n",
       "      <td>7043.0</td>\n",
       "      <td>32.371149</td>\n",
       "      <td>24.559481</td>\n",
       "      <td>0.00</td>\n",
       "      <td>9.0</td>\n",
       "      <td>29.00</td>\n",
       "      <td>55.00</td>\n",
       "      <td>72.00</td>\n",
       "    </tr>\n",
       "    <tr>\n",
       "      <th>internet_service_type_id</th>\n",
       "      <td>7043.0</td>\n",
       "      <td>1.872923</td>\n",
       "      <td>0.737796</td>\n",
       "      <td>1.00</td>\n",
       "      <td>1.0</td>\n",
       "      <td>2.00</td>\n",
       "      <td>2.00</td>\n",
       "      <td>3.00</td>\n",
       "    </tr>\n",
       "    <tr>\n",
       "      <th>contract_type_id</th>\n",
       "      <td>7043.0</td>\n",
       "      <td>1.690473</td>\n",
       "      <td>0.833755</td>\n",
       "      <td>1.00</td>\n",
       "      <td>1.0</td>\n",
       "      <td>1.00</td>\n",
       "      <td>2.00</td>\n",
       "      <td>3.00</td>\n",
       "    </tr>\n",
       "    <tr>\n",
       "      <th>payment_type_id</th>\n",
       "      <td>7043.0</td>\n",
       "      <td>2.315633</td>\n",
       "      <td>1.148907</td>\n",
       "      <td>1.00</td>\n",
       "      <td>1.0</td>\n",
       "      <td>2.00</td>\n",
       "      <td>3.00</td>\n",
       "      <td>4.00</td>\n",
       "    </tr>\n",
       "    <tr>\n",
       "      <th>monthly_charges</th>\n",
       "      <td>7043.0</td>\n",
       "      <td>64.761692</td>\n",
       "      <td>30.090047</td>\n",
       "      <td>18.25</td>\n",
       "      <td>35.5</td>\n",
       "      <td>70.35</td>\n",
       "      <td>89.85</td>\n",
       "      <td>118.75</td>\n",
       "    </tr>\n",
       "    <tr>\n",
       "      <th>contract_type_id.1</th>\n",
       "      <td>7043.0</td>\n",
       "      <td>1.690473</td>\n",
       "      <td>0.833755</td>\n",
       "      <td>1.00</td>\n",
       "      <td>1.0</td>\n",
       "      <td>1.00</td>\n",
       "      <td>2.00</td>\n",
       "      <td>3.00</td>\n",
       "    </tr>\n",
       "    <tr>\n",
       "      <th>payment_type_id.1</th>\n",
       "      <td>7043.0</td>\n",
       "      <td>2.315633</td>\n",
       "      <td>1.148907</td>\n",
       "      <td>1.00</td>\n",
       "      <td>1.0</td>\n",
       "      <td>2.00</td>\n",
       "      <td>3.00</td>\n",
       "      <td>4.00</td>\n",
       "    </tr>\n",
       "    <tr>\n",
       "      <th>internet_service_type_id.1</th>\n",
       "      <td>7043.0</td>\n",
       "      <td>1.872923</td>\n",
       "      <td>0.737796</td>\n",
       "      <td>1.00</td>\n",
       "      <td>1.0</td>\n",
       "      <td>2.00</td>\n",
       "      <td>2.00</td>\n",
       "      <td>3.00</td>\n",
       "    </tr>\n",
       "  </tbody>\n",
       "</table>\n",
       "</div>"
      ],
      "text/plain": [
       "                             count       mean        std    min   25%    50%  \\\n",
       "senior_citizen              7043.0   0.162147   0.368612   0.00   0.0   0.00   \n",
       "tenure                      7043.0  32.371149  24.559481   0.00   9.0  29.00   \n",
       "internet_service_type_id    7043.0   1.872923   0.737796   1.00   1.0   2.00   \n",
       "contract_type_id            7043.0   1.690473   0.833755   1.00   1.0   1.00   \n",
       "payment_type_id             7043.0   2.315633   1.148907   1.00   1.0   2.00   \n",
       "monthly_charges             7043.0  64.761692  30.090047  18.25  35.5  70.35   \n",
       "contract_type_id.1          7043.0   1.690473   0.833755   1.00   1.0   1.00   \n",
       "payment_type_id.1           7043.0   2.315633   1.148907   1.00   1.0   2.00   \n",
       "internet_service_type_id.1  7043.0   1.872923   0.737796   1.00   1.0   2.00   \n",
       "\n",
       "                              75%     max  \n",
       "senior_citizen               0.00    1.00  \n",
       "tenure                      55.00   72.00  \n",
       "internet_service_type_id     2.00    3.00  \n",
       "contract_type_id             2.00    3.00  \n",
       "payment_type_id              3.00    4.00  \n",
       "monthly_charges             89.85  118.75  \n",
       "contract_type_id.1           2.00    3.00  \n",
       "payment_type_id.1            3.00    4.00  \n",
       "internet_service_type_id.1   2.00    3.00  "
      ]
     },
     "execution_count": 5,
     "metadata": {},
     "output_type": "execute_result"
    }
   ],
   "source": [
    "#looking at numeric columns and statistical attributes\n",
    "df.describe().T"
   ]
  },
  {
   "cell_type": "markdown",
   "id": "765f5a7e",
   "metadata": {},
   "source": [
    "<b><u>Takeaways:</b></u>\n",
    "- I can already see that later down the road, I am going to want to sort out my categorical columns vs numerical (for model testing)\n",
    "- I know my target (y) will be churn...again, after exploring, I want to change that to a bool/numeric"
   ]
  },
  {
   "cell_type": "code",
   "execution_count": 6,
   "id": "508b1369",
   "metadata": {},
   "outputs": [
    {
     "data": {
      "text/plain": [
       "(7043, 27)"
      ]
     },
     "execution_count": 6,
     "metadata": {},
     "output_type": "execute_result"
    }
   ],
   "source": [
    "## CLEANING DATA:\n",
    "# Drop duplicates...run just in case; reassign and check the shape of my data.\n",
    "\n",
    "df = df.drop_duplicates()\n",
    "df.shape"
   ]
  },
  {
   "cell_type": "code",
   "execution_count": 7,
   "id": "7cff3043",
   "metadata": {},
   "outputs": [
    {
     "data": {
      "text/plain": [
       "(7043, 26)"
      ]
     },
     "execution_count": 7,
     "metadata": {},
     "output_type": "execute_result"
    }
   ],
   "source": [
    "# Dropping not needed columns\n",
    "\n",
    "cols_to_drop = ['customer_id']\n",
    "df = df.drop(columns=cols_to_drop)\n",
    "df.shape"
   ]
  },
  {
   "cell_type": "code",
   "execution_count": 8,
   "id": "4abb4b1e",
   "metadata": {},
   "outputs": [
    {
     "data": {
      "text/plain": [
       "0    5901\n",
       "1    1142\n",
       "Name: senior_citizen, dtype: int64"
      ]
     },
     "execution_count": 8,
     "metadata": {},
     "output_type": "execute_result"
    }
   ],
   "source": [
    "#for senior citizen demographics: \n",
    "df.senior_citizen.value_counts()\n",
    "\n",
    "#TAKE AWAYS: Senior-citizens customers make up 19% of Telco customers\n",
    "           # 59 or younger customers make up 81% of Telco customers"
   ]
  },
  {
   "cell_type": "code",
   "execution_count": 9,
   "id": "b5aa7b83",
   "metadata": {},
   "outputs": [
    {
     "data": {
      "text/plain": [
       "No     3641\n",
       "Yes    3402\n",
       "Name: partner, dtype: int64"
      ]
     },
     "execution_count": 9,
     "metadata": {},
     "output_type": "execute_result"
    }
   ],
   "source": [
    "#for clients with partners\n",
    "df.partner.value_counts()"
   ]
  },
  {
   "cell_type": "code",
   "execution_count": 10,
   "id": "a06f5b9b",
   "metadata": {},
   "outputs": [
    {
     "data": {
      "text/plain": [
       "No     4933\n",
       "Yes    2110\n",
       "Name: dependents, dtype: int64"
      ]
     },
     "execution_count": 10,
     "metadata": {},
     "output_type": "execute_result"
    }
   ],
   "source": [
    "#for clients with dependents\n",
    "df.dependents.value_counts()"
   ]
  },
  {
   "cell_type": "code",
   "execution_count": 11,
   "id": "8880a5d2",
   "metadata": {},
   "outputs": [
    {
     "data": {
      "text/plain": [
       "Male      3555\n",
       "Female    3488\n",
       "Name: gender, dtype: int64"
      ]
     },
     "execution_count": 11,
     "metadata": {},
     "output_type": "execute_result"
    }
   ],
   "source": [
    "#for gender demographics:\n",
    "df.gender.value_counts()"
   ]
  },
  {
   "cell_type": "code",
   "execution_count": 12,
   "id": "305a1331",
   "metadata": {},
   "outputs": [],
   "source": [
    "#Let's look at the charts for these demographic customers:"
   ]
  },
  {
   "cell_type": "markdown",
   "id": "5dffb606",
   "metadata": {},
   "source": [
    "## Questions I'm thinking:\n",
    "-  Who do I think my drivers are? \n",
    "-  Why?\n",
    "-  How can I look in/prove that?\n",
    "-  Are there needed subgroups that I can use later on?\n",
    "-  What can I get rid of?"
   ]
  },
  {
   "cell_type": "markdown",
   "id": "9bf7471e",
   "metadata": {},
   "source": [
    "Q: What/WHO do I think my drivers are?\n",
    "- I know from the past that <b>non-automated accounts </b>were a major part of the churn, but I never found out WHO these people were.\n",
    "\n",
    "#### <u>I want to know:</u>\n",
    "- Their age, gender, and relationship status [get to know our churns and the probability of a certain demographic leaving]"
   ]
  },
  {
   "cell_type": "markdown",
   "id": "e28ba1df",
   "metadata": {},
   "source": [
    "Q: <i>Why would they churn?</i>\n",
    "- Is it due only to their non-automated accounts or is there another reason within who they are?"
   ]
  },
  {
   "cell_type": "markdown",
   "id": "13f341f0",
   "metadata": {},
   "source": [
    "Q: <i>How could I look at this?</i>\n",
    "- Categorically: churn vs. demographic cateogries w/ chi2 tests and t-tests\n",
    "- Visually: graphs, charts and accuracy rates in model"
   ]
  },
  {
   "cell_type": "markdown",
   "id": "d00df711",
   "metadata": {},
   "source": [
    "Q: <i>What subgroups do I think I will need to help me test churn and demographics?</i>\n",
    "  - monthly charges (if I find a driver, I'd like to see a possible why within $$ the pay)\n",
    "  - account types\n",
    "  - non-automated accounts (to compare to last presentations findings)"
   ]
  },
  {
   "cell_type": "markdown",
   "id": "bb7d151c",
   "metadata": {},
   "source": [
    "## Next Steps:\n",
    "- ✅ Creating range columns (for upcoming hypothesis testing) \n",
    "- ✅ PreProcessing Data (encoding any needed data)\n",
    "- ✅ Prepping and splitting data to Explore and later Train on\n",
    "- ✅ Explore some charts of the data (histograms comparing demographics)"
   ]
  },
  {
   "cell_type": "code",
   "execution_count": 13,
   "id": "055fdbda",
   "metadata": {},
   "outputs": [],
   "source": [
    "#creating the columns for range in the statistical table of df\n",
    "##used this great function from Faith Kane\n",
    "def col_range(df):\n",
    "    stats_df = df.describe().T\n",
    "    stats_df['range'] = stats_df['max'] - stats_df['min']\n",
    "    return stats_df"
   ]
  },
  {
   "cell_type": "code",
   "execution_count": 14,
   "id": "1cf68f78",
   "metadata": {},
   "outputs": [
    {
     "data": {
      "text/html": [
       "<div>\n",
       "<style scoped>\n",
       "    .dataframe tbody tr th:only-of-type {\n",
       "        vertical-align: middle;\n",
       "    }\n",
       "\n",
       "    .dataframe tbody tr th {\n",
       "        vertical-align: top;\n",
       "    }\n",
       "\n",
       "    .dataframe thead th {\n",
       "        text-align: right;\n",
       "    }\n",
       "</style>\n",
       "<table border=\"1\" class=\"dataframe\">\n",
       "  <thead>\n",
       "    <tr style=\"text-align: right;\">\n",
       "      <th></th>\n",
       "      <th>count</th>\n",
       "      <th>mean</th>\n",
       "      <th>std</th>\n",
       "      <th>min</th>\n",
       "      <th>25%</th>\n",
       "      <th>50%</th>\n",
       "      <th>75%</th>\n",
       "      <th>max</th>\n",
       "      <th>range</th>\n",
       "    </tr>\n",
       "  </thead>\n",
       "  <tbody>\n",
       "    <tr>\n",
       "      <th>senior_citizen</th>\n",
       "      <td>7043.0</td>\n",
       "      <td>0.162147</td>\n",
       "      <td>0.368612</td>\n",
       "      <td>0.00</td>\n",
       "      <td>0.0</td>\n",
       "      <td>0.00</td>\n",
       "      <td>0.00</td>\n",
       "      <td>1.00</td>\n",
       "      <td>1.0</td>\n",
       "    </tr>\n",
       "    <tr>\n",
       "      <th>tenure</th>\n",
       "      <td>7043.0</td>\n",
       "      <td>32.371149</td>\n",
       "      <td>24.559481</td>\n",
       "      <td>0.00</td>\n",
       "      <td>9.0</td>\n",
       "      <td>29.00</td>\n",
       "      <td>55.00</td>\n",
       "      <td>72.00</td>\n",
       "      <td>72.0</td>\n",
       "    </tr>\n",
       "    <tr>\n",
       "      <th>internet_service_type_id</th>\n",
       "      <td>7043.0</td>\n",
       "      <td>1.872923</td>\n",
       "      <td>0.737796</td>\n",
       "      <td>1.00</td>\n",
       "      <td>1.0</td>\n",
       "      <td>2.00</td>\n",
       "      <td>2.00</td>\n",
       "      <td>3.00</td>\n",
       "      <td>2.0</td>\n",
       "    </tr>\n",
       "    <tr>\n",
       "      <th>contract_type_id</th>\n",
       "      <td>7043.0</td>\n",
       "      <td>1.690473</td>\n",
       "      <td>0.833755</td>\n",
       "      <td>1.00</td>\n",
       "      <td>1.0</td>\n",
       "      <td>1.00</td>\n",
       "      <td>2.00</td>\n",
       "      <td>3.00</td>\n",
       "      <td>2.0</td>\n",
       "    </tr>\n",
       "    <tr>\n",
       "      <th>payment_type_id</th>\n",
       "      <td>7043.0</td>\n",
       "      <td>2.315633</td>\n",
       "      <td>1.148907</td>\n",
       "      <td>1.00</td>\n",
       "      <td>1.0</td>\n",
       "      <td>2.00</td>\n",
       "      <td>3.00</td>\n",
       "      <td>4.00</td>\n",
       "      <td>3.0</td>\n",
       "    </tr>\n",
       "    <tr>\n",
       "      <th>monthly_charges</th>\n",
       "      <td>7043.0</td>\n",
       "      <td>64.761692</td>\n",
       "      <td>30.090047</td>\n",
       "      <td>18.25</td>\n",
       "      <td>35.5</td>\n",
       "      <td>70.35</td>\n",
       "      <td>89.85</td>\n",
       "      <td>118.75</td>\n",
       "      <td>100.5</td>\n",
       "    </tr>\n",
       "    <tr>\n",
       "      <th>contract_type_id.1</th>\n",
       "      <td>7043.0</td>\n",
       "      <td>1.690473</td>\n",
       "      <td>0.833755</td>\n",
       "      <td>1.00</td>\n",
       "      <td>1.0</td>\n",
       "      <td>1.00</td>\n",
       "      <td>2.00</td>\n",
       "      <td>3.00</td>\n",
       "      <td>2.0</td>\n",
       "    </tr>\n",
       "    <tr>\n",
       "      <th>payment_type_id.1</th>\n",
       "      <td>7043.0</td>\n",
       "      <td>2.315633</td>\n",
       "      <td>1.148907</td>\n",
       "      <td>1.00</td>\n",
       "      <td>1.0</td>\n",
       "      <td>2.00</td>\n",
       "      <td>3.00</td>\n",
       "      <td>4.00</td>\n",
       "      <td>3.0</td>\n",
       "    </tr>\n",
       "    <tr>\n",
       "      <th>internet_service_type_id.1</th>\n",
       "      <td>7043.0</td>\n",
       "      <td>1.872923</td>\n",
       "      <td>0.737796</td>\n",
       "      <td>1.00</td>\n",
       "      <td>1.0</td>\n",
       "      <td>2.00</td>\n",
       "      <td>2.00</td>\n",
       "      <td>3.00</td>\n",
       "      <td>2.0</td>\n",
       "    </tr>\n",
       "  </tbody>\n",
       "</table>\n",
       "</div>"
      ],
      "text/plain": [
       "                             count       mean        std    min   25%    50%  \\\n",
       "senior_citizen              7043.0   0.162147   0.368612   0.00   0.0   0.00   \n",
       "tenure                      7043.0  32.371149  24.559481   0.00   9.0  29.00   \n",
       "internet_service_type_id    7043.0   1.872923   0.737796   1.00   1.0   2.00   \n",
       "contract_type_id            7043.0   1.690473   0.833755   1.00   1.0   1.00   \n",
       "payment_type_id             7043.0   2.315633   1.148907   1.00   1.0   2.00   \n",
       "monthly_charges             7043.0  64.761692  30.090047  18.25  35.5  70.35   \n",
       "contract_type_id.1          7043.0   1.690473   0.833755   1.00   1.0   1.00   \n",
       "payment_type_id.1           7043.0   2.315633   1.148907   1.00   1.0   2.00   \n",
       "internet_service_type_id.1  7043.0   1.872923   0.737796   1.00   1.0   2.00   \n",
       "\n",
       "                              75%     max  range  \n",
       "senior_citizen               0.00    1.00    1.0  \n",
       "tenure                      55.00   72.00   72.0  \n",
       "internet_service_type_id     2.00    3.00    2.0  \n",
       "contract_type_id             2.00    3.00    2.0  \n",
       "payment_type_id              3.00    4.00    3.0  \n",
       "monthly_charges             89.85  118.75  100.5  \n",
       "contract_type_id.1           2.00    3.00    2.0  \n",
       "payment_type_id.1            3.00    4.00    3.0  \n",
       "internet_service_type_id.1   2.00    3.00    2.0  "
      ]
     },
     "execution_count": 14,
     "metadata": {},
     "output_type": "execute_result"
    }
   ],
   "source": [
    "col_range(df)"
   ]
  },
  {
   "cell_type": "markdown",
   "id": "6baf7597",
   "metadata": {},
   "source": [
    "## Preparing Data:"
   ]
  },
  {
   "cell_type": "code",
   "execution_count": 15,
   "id": "654ec40f",
   "metadata": {},
   "outputs": [
    {
     "data": {
      "text/html": [
       "<div>\n",
       "<style scoped>\n",
       "    .dataframe tbody tr th:only-of-type {\n",
       "        vertical-align: middle;\n",
       "    }\n",
       "\n",
       "    .dataframe tbody tr th {\n",
       "        vertical-align: top;\n",
       "    }\n",
       "\n",
       "    .dataframe thead th {\n",
       "        text-align: right;\n",
       "    }\n",
       "</style>\n",
       "<table border=\"1\" class=\"dataframe\">\n",
       "  <thead>\n",
       "    <tr style=\"text-align: right;\">\n",
       "      <th></th>\n",
       "      <th>gender</th>\n",
       "      <th>senior_citizen</th>\n",
       "      <th>partner</th>\n",
       "      <th>dependents</th>\n",
       "      <th>tenure</th>\n",
       "      <th>phone_service</th>\n",
       "      <th>multiple_lines</th>\n",
       "      <th>internet_service_type_id</th>\n",
       "      <th>online_security</th>\n",
       "      <th>online_backup</th>\n",
       "      <th>...</th>\n",
       "      <th>payment_type_id</th>\n",
       "      <th>monthly_charges</th>\n",
       "      <th>total_charges</th>\n",
       "      <th>churn</th>\n",
       "      <th>contract_type_id.1</th>\n",
       "      <th>contract_type</th>\n",
       "      <th>payment_type_id.1</th>\n",
       "      <th>payment_type</th>\n",
       "      <th>internet_service_type_id.1</th>\n",
       "      <th>internet_service_type</th>\n",
       "    </tr>\n",
       "  </thead>\n",
       "  <tbody>\n",
       "    <tr>\n",
       "      <th>0</th>\n",
       "      <td>Female</td>\n",
       "      <td>0</td>\n",
       "      <td>Yes</td>\n",
       "      <td>Yes</td>\n",
       "      <td>9</td>\n",
       "      <td>Yes</td>\n",
       "      <td>No</td>\n",
       "      <td>1</td>\n",
       "      <td>No</td>\n",
       "      <td>Yes</td>\n",
       "      <td>...</td>\n",
       "      <td>2</td>\n",
       "      <td>65.6</td>\n",
       "      <td>593.3</td>\n",
       "      <td>No</td>\n",
       "      <td>2</td>\n",
       "      <td>One year</td>\n",
       "      <td>2</td>\n",
       "      <td>Mailed check</td>\n",
       "      <td>1</td>\n",
       "      <td>DSL</td>\n",
       "    </tr>\n",
       "    <tr>\n",
       "      <th>1</th>\n",
       "      <td>Male</td>\n",
       "      <td>0</td>\n",
       "      <td>No</td>\n",
       "      <td>No</td>\n",
       "      <td>9</td>\n",
       "      <td>Yes</td>\n",
       "      <td>Yes</td>\n",
       "      <td>1</td>\n",
       "      <td>No</td>\n",
       "      <td>No</td>\n",
       "      <td>...</td>\n",
       "      <td>2</td>\n",
       "      <td>59.9</td>\n",
       "      <td>542.4</td>\n",
       "      <td>No</td>\n",
       "      <td>1</td>\n",
       "      <td>Month-to-month</td>\n",
       "      <td>2</td>\n",
       "      <td>Mailed check</td>\n",
       "      <td>1</td>\n",
       "      <td>DSL</td>\n",
       "    </tr>\n",
       "    <tr>\n",
       "      <th>2</th>\n",
       "      <td>Male</td>\n",
       "      <td>0</td>\n",
       "      <td>No</td>\n",
       "      <td>No</td>\n",
       "      <td>4</td>\n",
       "      <td>Yes</td>\n",
       "      <td>No</td>\n",
       "      <td>2</td>\n",
       "      <td>No</td>\n",
       "      <td>No</td>\n",
       "      <td>...</td>\n",
       "      <td>1</td>\n",
       "      <td>73.9</td>\n",
       "      <td>280.85</td>\n",
       "      <td>Yes</td>\n",
       "      <td>1</td>\n",
       "      <td>Month-to-month</td>\n",
       "      <td>1</td>\n",
       "      <td>Electronic check</td>\n",
       "      <td>2</td>\n",
       "      <td>Fiber optic</td>\n",
       "    </tr>\n",
       "    <tr>\n",
       "      <th>3</th>\n",
       "      <td>Male</td>\n",
       "      <td>1</td>\n",
       "      <td>Yes</td>\n",
       "      <td>No</td>\n",
       "      <td>13</td>\n",
       "      <td>Yes</td>\n",
       "      <td>No</td>\n",
       "      <td>2</td>\n",
       "      <td>No</td>\n",
       "      <td>Yes</td>\n",
       "      <td>...</td>\n",
       "      <td>1</td>\n",
       "      <td>98.0</td>\n",
       "      <td>1237.85</td>\n",
       "      <td>Yes</td>\n",
       "      <td>1</td>\n",
       "      <td>Month-to-month</td>\n",
       "      <td>1</td>\n",
       "      <td>Electronic check</td>\n",
       "      <td>2</td>\n",
       "      <td>Fiber optic</td>\n",
       "    </tr>\n",
       "    <tr>\n",
       "      <th>4</th>\n",
       "      <td>Female</td>\n",
       "      <td>1</td>\n",
       "      <td>Yes</td>\n",
       "      <td>No</td>\n",
       "      <td>3</td>\n",
       "      <td>Yes</td>\n",
       "      <td>No</td>\n",
       "      <td>2</td>\n",
       "      <td>No</td>\n",
       "      <td>No</td>\n",
       "      <td>...</td>\n",
       "      <td>2</td>\n",
       "      <td>83.9</td>\n",
       "      <td>267.4</td>\n",
       "      <td>Yes</td>\n",
       "      <td>1</td>\n",
       "      <td>Month-to-month</td>\n",
       "      <td>2</td>\n",
       "      <td>Mailed check</td>\n",
       "      <td>2</td>\n",
       "      <td>Fiber optic</td>\n",
       "    </tr>\n",
       "  </tbody>\n",
       "</table>\n",
       "<p>5 rows × 26 columns</p>\n",
       "</div>"
      ],
      "text/plain": [
       "   gender  senior_citizen partner dependents  tenure phone_service  \\\n",
       "0  Female               0     Yes        Yes       9           Yes   \n",
       "1    Male               0      No         No       9           Yes   \n",
       "2    Male               0      No         No       4           Yes   \n",
       "3    Male               1     Yes         No      13           Yes   \n",
       "4  Female               1     Yes         No       3           Yes   \n",
       "\n",
       "  multiple_lines  internet_service_type_id online_security online_backup  ...  \\\n",
       "0             No                         1              No           Yes  ...   \n",
       "1            Yes                         1              No            No  ...   \n",
       "2             No                         2              No            No  ...   \n",
       "3             No                         2              No           Yes  ...   \n",
       "4             No                         2              No            No  ...   \n",
       "\n",
       "  payment_type_id monthly_charges total_charges churn  contract_type_id.1  \\\n",
       "0               2            65.6         593.3    No                   2   \n",
       "1               2            59.9         542.4    No                   1   \n",
       "2               1            73.9        280.85   Yes                   1   \n",
       "3               1            98.0       1237.85   Yes                   1   \n",
       "4               2            83.9         267.4   Yes                   1   \n",
       "\n",
       "    contract_type  payment_type_id.1      payment_type  \\\n",
       "0        One year                  2      Mailed check   \n",
       "1  Month-to-month                  2      Mailed check   \n",
       "2  Month-to-month                  1  Electronic check   \n",
       "3  Month-to-month                  1  Electronic check   \n",
       "4  Month-to-month                  2      Mailed check   \n",
       "\n",
       "  internet_service_type_id.1 internet_service_type  \n",
       "0                          1                   DSL  \n",
       "1                          1                   DSL  \n",
       "2                          2           Fiber optic  \n",
       "3                          2           Fiber optic  \n",
       "4                          2           Fiber optic  \n",
       "\n",
       "[5 rows x 26 columns]"
      ]
     },
     "execution_count": 15,
     "metadata": {},
     "output_type": "execute_result"
    }
   ],
   "source": [
    "#plugging in our function called prep_telco_data from prepare.py file to cleanup data \n",
    "#and then telco_split to prepare for training\n",
    "df.head()"
   ]
  },
  {
   "cell_type": "markdown",
   "id": "8aebde9b",
   "metadata": {},
   "source": [
    "A handful of the categorical columns need to be encoded (so that options can be numerical)"
   ]
  },
  {
   "cell_type": "markdown",
   "id": "f8abd420",
   "metadata": {},
   "source": [
    "List of columns to encode:\n",
    "- Partner\n",
    "- dependents\n",
    "- phone_service\n",
    "- multiple lines\n",
    "- tech_support\n",
    "- churn\n",
    "- contract_type\n",
    "- internet_service_type"
   ]
  },
  {
   "cell_type": "code",
   "execution_count": 16,
   "id": "32304af7",
   "metadata": {},
   "outputs": [],
   "source": [
    "from prepare import prep_telco_data\n",
    "\n",
    "train, validate, test = prep_telco_data(df)"
   ]
  },
  {
   "cell_type": "code",
   "execution_count": 17,
   "id": "062e6192",
   "metadata": {},
   "outputs": [
    {
     "data": {
      "text/html": [
       "<div>\n",
       "<style scoped>\n",
       "    .dataframe tbody tr th:only-of-type {\n",
       "        vertical-align: middle;\n",
       "    }\n",
       "\n",
       "    .dataframe tbody tr th {\n",
       "        vertical-align: top;\n",
       "    }\n",
       "\n",
       "    .dataframe thead th {\n",
       "        text-align: right;\n",
       "    }\n",
       "</style>\n",
       "<table border=\"1\" class=\"dataframe\">\n",
       "  <thead>\n",
       "    <tr style=\"text-align: right;\">\n",
       "      <th></th>\n",
       "      <th>gender</th>\n",
       "      <th>senior_citizen</th>\n",
       "      <th>partner</th>\n",
       "      <th>dependents</th>\n",
       "      <th>tenure</th>\n",
       "      <th>phone_service</th>\n",
       "      <th>multiple_lines</th>\n",
       "      <th>online_security</th>\n",
       "      <th>online_backup</th>\n",
       "      <th>device_protection</th>\n",
       "      <th>...</th>\n",
       "      <th>streaming_movies_No internet service</th>\n",
       "      <th>streaming_movies_Yes</th>\n",
       "      <th>paperless_billing_Yes</th>\n",
       "      <th>contract_type_One year</th>\n",
       "      <th>contract_type_Two year</th>\n",
       "      <th>payment_type_Credit card (automatic)</th>\n",
       "      <th>payment_type_Electronic check</th>\n",
       "      <th>payment_type_Mailed check</th>\n",
       "      <th>internet_service_type_Fiber optic</th>\n",
       "      <th>internet_service_type_None</th>\n",
       "    </tr>\n",
       "  </thead>\n",
       "  <tbody>\n",
       "    <tr>\n",
       "      <th>3270</th>\n",
       "      <td>Female</td>\n",
       "      <td>No</td>\n",
       "      <td>No</td>\n",
       "      <td>No</td>\n",
       "      <td>31</td>\n",
       "      <td>Yes</td>\n",
       "      <td>No</td>\n",
       "      <td>Yes</td>\n",
       "      <td>No</td>\n",
       "      <td>Yes</td>\n",
       "      <td>...</td>\n",
       "      <td>0</td>\n",
       "      <td>0</td>\n",
       "      <td>0</td>\n",
       "      <td>0</td>\n",
       "      <td>0</td>\n",
       "      <td>0</td>\n",
       "      <td>1</td>\n",
       "      <td>0</td>\n",
       "      <td>1</td>\n",
       "      <td>0</td>\n",
       "    </tr>\n",
       "    <tr>\n",
       "      <th>6084</th>\n",
       "      <td>Female</td>\n",
       "      <td>Yes</td>\n",
       "      <td>No</td>\n",
       "      <td>No</td>\n",
       "      <td>26</td>\n",
       "      <td>Yes</td>\n",
       "      <td>Yes</td>\n",
       "      <td>No</td>\n",
       "      <td>No</td>\n",
       "      <td>No</td>\n",
       "      <td>...</td>\n",
       "      <td>0</td>\n",
       "      <td>1</td>\n",
       "      <td>1</td>\n",
       "      <td>0</td>\n",
       "      <td>0</td>\n",
       "      <td>0</td>\n",
       "      <td>1</td>\n",
       "      <td>0</td>\n",
       "      <td>0</td>\n",
       "      <td>0</td>\n",
       "    </tr>\n",
       "    <tr>\n",
       "      <th>4470</th>\n",
       "      <td>Female</td>\n",
       "      <td>No</td>\n",
       "      <td>No</td>\n",
       "      <td>No</td>\n",
       "      <td>29</td>\n",
       "      <td>Yes</td>\n",
       "      <td>Yes</td>\n",
       "      <td>No</td>\n",
       "      <td>Yes</td>\n",
       "      <td>No</td>\n",
       "      <td>...</td>\n",
       "      <td>0</td>\n",
       "      <td>0</td>\n",
       "      <td>1</td>\n",
       "      <td>1</td>\n",
       "      <td>0</td>\n",
       "      <td>0</td>\n",
       "      <td>1</td>\n",
       "      <td>0</td>\n",
       "      <td>0</td>\n",
       "      <td>0</td>\n",
       "    </tr>\n",
       "    <tr>\n",
       "      <th>428</th>\n",
       "      <td>Female</td>\n",
       "      <td>Yes</td>\n",
       "      <td>No</td>\n",
       "      <td>No</td>\n",
       "      <td>21</td>\n",
       "      <td>No</td>\n",
       "      <td>No phone service</td>\n",
       "      <td>Yes</td>\n",
       "      <td>No</td>\n",
       "      <td>No</td>\n",
       "      <td>...</td>\n",
       "      <td>0</td>\n",
       "      <td>0</td>\n",
       "      <td>1</td>\n",
       "      <td>0</td>\n",
       "      <td>0</td>\n",
       "      <td>0</td>\n",
       "      <td>1</td>\n",
       "      <td>0</td>\n",
       "      <td>0</td>\n",
       "      <td>0</td>\n",
       "    </tr>\n",
       "    <tr>\n",
       "      <th>3329</th>\n",
       "      <td>Male</td>\n",
       "      <td>No</td>\n",
       "      <td>Yes</td>\n",
       "      <td>Yes</td>\n",
       "      <td>60</td>\n",
       "      <td>Yes</td>\n",
       "      <td>Yes</td>\n",
       "      <td>Yes</td>\n",
       "      <td>No</td>\n",
       "      <td>Yes</td>\n",
       "      <td>...</td>\n",
       "      <td>0</td>\n",
       "      <td>0</td>\n",
       "      <td>1</td>\n",
       "      <td>1</td>\n",
       "      <td>0</td>\n",
       "      <td>0</td>\n",
       "      <td>0</td>\n",
       "      <td>0</td>\n",
       "      <td>1</td>\n",
       "      <td>0</td>\n",
       "    </tr>\n",
       "  </tbody>\n",
       "</table>\n",
       "<p>5 rows × 50 columns</p>\n",
       "</div>"
      ],
      "text/plain": [
       "      gender senior_citizen partner dependents  tenure phone_service  \\\n",
       "3270  Female             No      No         No      31           Yes   \n",
       "6084  Female            Yes      No         No      26           Yes   \n",
       "4470  Female             No      No         No      29           Yes   \n",
       "428   Female            Yes      No         No      21            No   \n",
       "3329    Male             No     Yes        Yes      60           Yes   \n",
       "\n",
       "        multiple_lines online_security online_backup device_protection  ...  \\\n",
       "3270                No             Yes            No               Yes  ...   \n",
       "6084               Yes              No            No                No  ...   \n",
       "4470               Yes              No           Yes                No  ...   \n",
       "428   No phone service             Yes            No                No  ...   \n",
       "3329               Yes             Yes            No               Yes  ...   \n",
       "\n",
       "     streaming_movies_No internet service streaming_movies_Yes  \\\n",
       "3270                                    0                    0   \n",
       "6084                                    0                    1   \n",
       "4470                                    0                    0   \n",
       "428                                     0                    0   \n",
       "3329                                    0                    0   \n",
       "\n",
       "     paperless_billing_Yes contract_type_One year  contract_type_Two year  \\\n",
       "3270                     0                      0                       0   \n",
       "6084                     1                      0                       0   \n",
       "4470                     1                      1                       0   \n",
       "428                      1                      0                       0   \n",
       "3329                     1                      1                       0   \n",
       "\n",
       "      payment_type_Credit card (automatic) payment_type_Electronic check  \\\n",
       "3270                                     0                             1   \n",
       "6084                                     0                             1   \n",
       "4470                                     0                             1   \n",
       "428                                      0                             1   \n",
       "3329                                     0                             0   \n",
       "\n",
       "      payment_type_Mailed check internet_service_type_Fiber optic  \\\n",
       "3270                          0                                 1   \n",
       "6084                          0                                 0   \n",
       "4470                          0                                 0   \n",
       "428                           0                                 0   \n",
       "3329                          0                                 1   \n",
       "\n",
       "      internet_service_type_None  \n",
       "3270                           0  \n",
       "6084                           0  \n",
       "4470                           0  \n",
       "428                            0  \n",
       "3329                           0  \n",
       "\n",
       "[5 rows x 50 columns]"
      ]
     },
     "execution_count": 17,
     "metadata": {},
     "output_type": "execute_result"
    }
   ],
   "source": [
    "train.head()"
   ]
  },
  {
   "cell_type": "markdown",
   "id": "d2606cc4",
   "metadata": {},
   "source": [
    "# Hypothesis & Charts Exploration:"
   ]
  },
  {
   "cell_type": "markdown",
   "id": "205b00c8",
   "metadata": {},
   "source": [
    "## Churn vs. Partnerships (number of people per household on accounts)\n",
    "\n",
    "\n",
    "### Partners and Churn\n",
    "\n",
    "- I want to take some time to explore the relationships between churn and the Telco demographics. \n",
    "I'll be using ChiSquare, as this Hypothesis test works well with two categorical values. \n",
    "I also will be using barplots to visually show these relations...if any. :)\n",
    "\n",
    "alpha: 0.05\n",
    "\n",
    "* H0: There is NO relationship between churn and customers with partners\n",
    "* Ha: There IS a relationship between churn and customers with partners"
   ]
  },
  {
   "cell_type": "code",
   "execution_count": 18,
   "id": "9dfd9725",
   "metadata": {},
   "outputs": [
    {
     "name": "stdout",
     "output_type": "stream",
     "text": [
      "The p-value is 2.0115703972096128e-23\n",
      "Sufficient evidence is present to reject the null hypothesis\n"
     ]
    }
   ],
   "source": [
    "# Chi squared with un-encoded categorical columns\n",
    "# Null hypothesis: churn rate has no relation to partnerships of customers\n",
    "# Alternative hypothesis: there is a relationship between churn rate and partnerships of customers\n",
    "alpha = 0.05\n",
    "observed = pd.crosstab(train.churn, train.partner)\n",
    "chi2, p, degf, expected = stats.chi2_contingency(observed)\n",
    "print(f\"The p-value is {p}\")\n",
    "if p < alpha:\n",
    "    print(\"Sufficient evidence is present to reject the null hypothesis\")\n",
    "else:\n",
    "    print(\"Insufficient evidence to reject the null\")\n",
    "    print(\"Evidence seems to support the claim that partnership and churn are independent\")"
   ]
  },
  {
   "cell_type": "code",
   "execution_count": 19,
   "id": "4d2501a9",
   "metadata": {},
   "outputs": [
    {
     "data": {
      "image/png": "[encoded data removed]",
      "text/plain": [
       "<Figure size 432x288 with 1 Axes>"
      ]
     },
     "metadata": {
      "needs_background": "light"
     },
     "output_type": "display_data"
    }
   ],
   "source": [
    "#let's look at the numbers visually\n",
    "barplot = observed.plot.bar(rot=0)"
   ]
  },
  {
   "cell_type": "markdown",
   "id": "2abf5f14",
   "metadata": {},
   "source": [
    "### Dependents and Churn\n",
    "\n",
    "- Is there a relationship of customers with dependents and churn rate?\n",
    "\n",
    "alpha: 0.05\n",
    "\n",
    "* H0: There is NO relationship between churn and customers with dependents\n",
    "* Ha: There IS a relationship between churn and customers with dependents"
   ]
  },
  {
   "cell_type": "code",
   "execution_count": 20,
   "id": "6bf6ea1e",
   "metadata": {},
   "outputs": [
    {
     "name": "stdout",
     "output_type": "stream",
     "text": [
      "The p-value is 3.091037491736131e-30\n",
      "Sufficient evidence is present to reject the null hypothesis\n"
     ]
    }
   ],
   "source": [
    "# Chi squared with un-encoded categorical columns\n",
    "# Null hypothesis: churn rate has no relation to dependents of customers\n",
    "# Alternative hypothesis: there is a relationship between churn rate and dependents of customers\n",
    "alpha = 0.05\n",
    "observed = pd.crosstab(train.churn, train.dependents)\n",
    "chi2, p, degf, expected = stats.chi2_contingency(observed)\n",
    "print(f\"The p-value is {p}\")\n",
    "if p < alpha:\n",
    "    print(\"Sufficient evidence is present to reject the null hypothesis\")\n",
    "else:\n",
    "    print(\"Insufficient evidence to reject the null\")\n",
    "    print(\"Evidence seems to support the claim that customers with dependents and churn are independent\")"
   ]
  },
  {
   "cell_type": "code",
   "execution_count": 21,
   "id": "ea53507f",
   "metadata": {},
   "outputs": [
    {
     "data": {
      "image/png": "[encoded data removed]",
      "text/plain": [
       "<Figure size 432x288 with 1 Axes>"
      ]
     },
     "metadata": {
      "needs_background": "light"
     },
     "output_type": "display_data"
    }
   ],
   "source": [
    "#let's look at the numbers visually\n",
    "barplot = observed.plot.bar(rot=0)"
   ]
  },
  {
   "cell_type": "code",
   "execution_count": 22,
   "id": "091e851d",
   "metadata": {},
   "outputs": [
    {
     "data": {
      "text/plain": [
       "<seaborn.axisgrid.FacetGrid at 0x7ff1e24151f0>"
      ]
     },
     "execution_count": 22,
     "metadata": {},
     "output_type": "execute_result"
    },
    {
     "data": {
      "image/png": "[encoded data removed]",
      "text/plain": [
       "<Figure size 772x360 with 2 Axes>"
      ]
     },
     "metadata": {
      "needs_background": "light"
     },
     "output_type": "display_data"
    }
   ],
   "source": [
    "##let's try a catplot to visualize these three variables: churn, partner and dependents\n",
    "sns.relplot(x=\"partner\", y='churn', hue=\"churn\", col=\"dependents\", data=train )"
   ]
  },
  {
   "cell_type": "code",
   "execution_count": 23,
   "id": "5ba9897c",
   "metadata": {},
   "outputs": [],
   "source": [
    "# Binary encode the target variable by creating a new version of train_df\n",
    "\n",
    "train.churn = train.churn == \"Yes\""
   ]
  },
  {
   "cell_type": "code",
   "execution_count": 24,
   "id": "59b1c60d",
   "metadata": {},
   "outputs": [],
   "source": [
    "# Binary encode the x variable\n",
    "#one_train.partner = one_train.partner == \"Yes\""
   ]
  },
  {
   "cell_type": "code",
   "execution_count": 25,
   "id": "b27ff413",
   "metadata": {},
   "outputs": [
    {
     "data": {
      "text/plain": [
       "<seaborn.axisgrid.FacetGrid at 0x7ff1e2673fa0>"
      ]
     },
     "execution_count": 25,
     "metadata": {},
     "output_type": "execute_result"
    },
    {
     "data": {
      "image/png": "[encoded data removed]",
      "text/plain": [
       "<Figure size 427.25x360 with 1 Axes>"
      ]
     },
     "metadata": {
      "needs_background": "light"
     },
     "output_type": "display_data"
    }
   ],
   "source": [
    "sns.catplot(x=\"partner\", y =\"churn\",  hue=\"dependents\",data=train, kind=\"bar\")"
   ]
  },
  {
   "cell_type": "markdown",
   "id": "257e6282",
   "metadata": {},
   "source": [
    "### Take Aways:\n",
    "* There IS a relationship between how many customers have partners to churn rate.\n",
    "* There also does seem to be a relation on customers with dependents and churn rate, however it is clear from the visual above that customers without dependents tend to churn more than those with.\n",
    "\n",
    "##########################################################################"
   ]
  },
  {
   "cell_type": "markdown",
   "id": "7739c9cc",
   "metadata": {},
   "source": [
    "## Churn vs. Gender:\n",
    "\n",
    "* H0: There is NO relationship between churn and gender.\n",
    "* Ha: There IS a relationship between churn and gender."
   ]
  },
  {
   "cell_type": "code",
   "execution_count": 26,
   "id": "23648c85",
   "metadata": {},
   "outputs": [
    {
     "name": "stdout",
     "output_type": "stream",
     "text": [
      "The p-value is 0.23006006175322627\n",
      "Insufficient evidence to reject the null\n",
      "Evidence seems to support the claim that gender and churn are independent\n"
     ]
    }
   ],
   "source": [
    "# Chi squared with un-encoded categorical columns\n",
    "# Null hypothesis: churn rate has no relation to gender\n",
    "# Alternative hypothesis: there is a relationship between churn rate and gender\n",
    "alpha = 0.05\n",
    "observed = pd.crosstab(train.churn, train.gender)\n",
    "chi2, p, degf, expected = stats.chi2_contingency(observed)\n",
    "print(f\"The p-value is {p}\")\n",
    "if p < alpha:\n",
    "    print(\"Sufficient evidence is present to reject the null hypothesis\")\n",
    "else:\n",
    "    print(\"Insufficient evidence to reject the null\")\n",
    "    print(\"Evidence seems to support the claim that gender and churn are independent\")"
   ]
  },
  {
   "cell_type": "code",
   "execution_count": 27,
   "id": "64f5db6e",
   "metadata": {},
   "outputs": [
    {
     "data": {
      "image/png": "[encoded data removed]",
      "text/plain": [
       "<Figure size 432x288 with 1 Axes>"
      ]
     },
     "metadata": {
      "needs_background": "light"
     },
     "output_type": "display_data"
    }
   ],
   "source": [
    "#let's look at the numbers visually\n",
    "barplot = observed.plot.bar(rot=0)"
   ]
  },
  {
   "cell_type": "markdown",
   "id": "bb02c49e",
   "metadata": {},
   "source": [
    "### Take Aways:\n",
    "Both Genders churned at almost the same rate within their own categories:\n",
    "- <b>Female customers: 27% churned</b>\n",
    "- Male customers: 26% churned\n",
    "<br>\n",
    "<br>\n",
    "\n",
    "### The data shows that there really isn't any relationship between gender and customer churn rate.\n",
    "\n",
    "##########################################################################"
   ]
  },
  {
   "cell_type": "markdown",
   "id": "de040a79",
   "metadata": {},
   "source": [
    "## Churn vs. Is Senior Citizen?\n",
    "\n",
    "* H0: There is NO relationship between churn and customer being a senior citizen.\n",
    "* Ha: There IS a relationship between churn and customer being a senior citizen."
   ]
  },
  {
   "cell_type": "code",
   "execution_count": 28,
   "id": "6ec45abd",
   "metadata": {},
   "outputs": [
    {
     "name": "stdout",
     "output_type": "stream",
     "text": [
      "The p-value is 1.1002429756735793e-26\n",
      "Sufficient evidence is present to reject the null hypothesis\n"
     ]
    }
   ],
   "source": [
    "# Chi squared with un-encoded categorical columns\n",
    "# Null hypothesis: churn rate has no relation to senior citizen customers\n",
    "# Alternative hypothesis: there is a relationship between churn rate and senior citizens\n",
    "alpha = 0.05\n",
    "observed = pd.crosstab(train.churn, train.senior_citizen)\n",
    "chi2, p, degf, expected = stats.chi2_contingency(observed)\n",
    "print(f\"The p-value is {p}\")\n",
    "if p < alpha:\n",
    "    print(\"Sufficient evidence is present to reject the null hypothesis\")\n",
    "else:\n",
    "    print(\"Insufficient evidence to reject the null\")\n",
    "    print(\"Evidence seems to support the claim that senior_citizens and churn are independent\")"
   ]
  },
  {
   "cell_type": "code",
   "execution_count": 29,
   "id": "412a8fdb",
   "metadata": {},
   "outputs": [
    {
     "data": {
      "image/png": "[encoded data removed]",
      "text/plain": [
       "<Figure size 432x288 with 1 Axes>"
      ]
     },
     "metadata": {
      "needs_background": "light"
     },
     "output_type": "display_data"
    }
   ],
   "source": [
    "#let's look at the numbers visually\n",
    "barplot = observed.plot.bar(rot=0)"
   ]
  },
  {
   "cell_type": "markdown",
   "id": "c109cb58",
   "metadata": {},
   "source": [
    "### Take Aways:\n",
    "From first glance, because of the low amount of Senior Citizen data count, it looks like customers 59 and younger have more churns. By numbers, YES, 59 and younger DO have more churn, but <b>by churn rate based on its own category, Senior Citizens have the highest churn rate.</b>\n",
    "- <b>Senior Citizens: 41% churned</b>\n",
    "- 59 and younger customers: 24% churned\n",
    "\n",
    "As the p-value shows, in the case that the null Hypothesis is that churn and is_senior_citizen as NO relation,\n",
    "We would reject the nully Hypothesis as they clearly relate. \n",
    "\n",
    "##########################################################################"
   ]
  },
  {
   "cell_type": "markdown",
   "id": "5809c8d8",
   "metadata": {},
   "source": [
    "### NEXT STEPS: \n",
    "- It's clear that our drivers for demographics is single and senior citizen customers.\n",
    "- Using these two key drivers, it's time to compare to subcategories:\n",
    "        * ✅ non-automated accounts\n",
    "        * ✅ account types\n",
    "        * ✅ internet service types"
   ]
  },
  {
   "cell_type": "markdown",
   "id": "77f59bb5",
   "metadata": {},
   "source": [
    "## Non-automated accounts vs. Is Senior Citizen:\n",
    "\n",
    "* H0: There is NO relationship between non-auto accounts and customer being a senior citizen.\n",
    "* Ha: There IS a relationship between non-auto accounts and customer being a senior citizen."
   ]
  },
  {
   "cell_type": "code",
   "execution_count": 30,
   "id": "74c140dc",
   "metadata": {},
   "outputs": [
    {
     "data": {
      "text/html": [
       "<div>\n",
       "<style scoped>\n",
       "    .dataframe tbody tr th:only-of-type {\n",
       "        vertical-align: middle;\n",
       "    }\n",
       "\n",
       "    .dataframe tbody tr th {\n",
       "        vertical-align: top;\n",
       "    }\n",
       "\n",
       "    .dataframe thead th {\n",
       "        text-align: right;\n",
       "    }\n",
       "</style>\n",
       "<table border=\"1\" class=\"dataframe\">\n",
       "  <thead>\n",
       "    <tr style=\"text-align: right;\">\n",
       "      <th></th>\n",
       "      <th>gender</th>\n",
       "      <th>senior_citizen</th>\n",
       "      <th>partner</th>\n",
       "      <th>dependents</th>\n",
       "      <th>tenure</th>\n",
       "      <th>phone_service</th>\n",
       "      <th>multiple_lines</th>\n",
       "      <th>online_security</th>\n",
       "      <th>online_backup</th>\n",
       "      <th>device_protection</th>\n",
       "      <th>...</th>\n",
       "      <th>streaming_movies_No internet service</th>\n",
       "      <th>streaming_movies_Yes</th>\n",
       "      <th>paperless_billing_Yes</th>\n",
       "      <th>contract_type_One year</th>\n",
       "      <th>contract_type_Two year</th>\n",
       "      <th>payment_type_Credit card (automatic)</th>\n",
       "      <th>payment_type_Electronic check</th>\n",
       "      <th>payment_type_Mailed check</th>\n",
       "      <th>internet_service_type_Fiber optic</th>\n",
       "      <th>internet_service_type_None</th>\n",
       "    </tr>\n",
       "  </thead>\n",
       "  <tbody>\n",
       "    <tr>\n",
       "      <th>3270</th>\n",
       "      <td>Female</td>\n",
       "      <td>No</td>\n",
       "      <td>No</td>\n",
       "      <td>No</td>\n",
       "      <td>31</td>\n",
       "      <td>Yes</td>\n",
       "      <td>No</td>\n",
       "      <td>Yes</td>\n",
       "      <td>No</td>\n",
       "      <td>Yes</td>\n",
       "      <td>...</td>\n",
       "      <td>0</td>\n",
       "      <td>0</td>\n",
       "      <td>0</td>\n",
       "      <td>0</td>\n",
       "      <td>0</td>\n",
       "      <td>0</td>\n",
       "      <td>1</td>\n",
       "      <td>0</td>\n",
       "      <td>1</td>\n",
       "      <td>0</td>\n",
       "    </tr>\n",
       "  </tbody>\n",
       "</table>\n",
       "<p>1 rows × 50 columns</p>\n",
       "</div>"
      ],
      "text/plain": [
       "      gender senior_citizen partner dependents  tenure phone_service  \\\n",
       "3270  Female             No      No         No      31           Yes   \n",
       "\n",
       "     multiple_lines online_security online_backup device_protection  ...  \\\n",
       "3270             No             Yes            No               Yes  ...   \n",
       "\n",
       "     streaming_movies_No internet service streaming_movies_Yes  \\\n",
       "3270                                    0                    0   \n",
       "\n",
       "     paperless_billing_Yes contract_type_One year  contract_type_Two year  \\\n",
       "3270                     0                      0                       0   \n",
       "\n",
       "      payment_type_Credit card (automatic)  payment_type_Electronic check  \\\n",
       "3270                                     0                              1   \n",
       "\n",
       "      payment_type_Mailed check internet_service_type_Fiber optic  \\\n",
       "3270                          0                                 1   \n",
       "\n",
       "      internet_service_type_None  \n",
       "3270                           0  \n",
       "\n",
       "[1 rows x 50 columns]"
      ]
     },
     "execution_count": 30,
     "metadata": {},
     "output_type": "execute_result"
    }
   ],
   "source": [
    "train.head(1)"
   ]
  },
  {
   "cell_type": "code",
   "execution_count": 31,
   "id": "be56aff5",
   "metadata": {},
   "outputs": [
    {
     "name": "stdout",
     "output_type": "stream",
     "text": [
      "The p-value is 5.7148487746334794e-64\n",
      "Sufficient evidence is present to reject the null hypothesis\n"
     ]
    }
   ],
   "source": [
    "# Chi squared with un-encoded categorical columns\n",
    "alpha = 0.05\n",
    "observed = pd.crosstab(train.internet_service_type, train.senior_citizen)\n",
    "chi2, p, degf, expected = stats.chi2_contingency(observed)\n",
    "print(f\"The p-value is {p}\")\n",
    "if p < alpha:\n",
    "    print(\"Sufficient evidence is present to reject the null hypothesis\")\n",
    "else:\n",
    "    print(\"Insufficient evidence to reject the null\")\n",
    "    print(\"Evidence seems to support the claim that senior citizens and auto accounts are independent\")"
   ]
  },
  {
   "cell_type": "code",
   "execution_count": 32,
   "id": "65740285",
   "metadata": {},
   "outputs": [
    {
     "data": {
      "image/png": "[encoded data removed]",
      "text/plain": [
       "<Figure size 432x288 with 1 Axes>"
      ]
     },
     "metadata": {
      "needs_background": "light"
     },
     "output_type": "display_data"
    }
   ],
   "source": [
    "#let's look at the numbers visually\n",
    "barplot = observed.plot.bar(rot=0)"
   ]
  },
  {
   "cell_type": "markdown",
   "id": "420812b0",
   "metadata": {},
   "source": [
    "### Take Aways:\n",
    "* There IS a relationship between senior citizens and having non-automated accounts.\n",
    "* The above barplot shows that a large majority of senior citizens actually do have non-automated accounts.\n",
    "* (This bar plot looks also reminiscent of the is_senior citizen and churn plots).\n",
    "\n",
    "##########################################################################"
   ]
  },
  {
   "cell_type": "markdown",
   "id": "4b5b7460",
   "metadata": {},
   "source": [
    "## Non-automated accounts vs. Singles (using Partner/Dependant variable):\n",
    "\n",
    "* H0: There is NO relationship between non-auto accounts and customer being single.\n",
    "* Ha: There IS a relationship between non-auto accounts and customer being single."
   ]
  },
  {
   "cell_type": "code",
   "execution_count": 36,
   "id": "16f38030",
   "metadata": {},
   "outputs": [
    {
     "name": "stdout",
     "output_type": "stream",
     "text": [
      "The p-value is 4.132426205917052e-32\n",
      "Sufficient evidence is present to reject the null hypothesis\n"
     ]
    }
   ],
   "source": [
    "# Chi squared with un-encoded categorical columns\n",
    "alpha = 0.05\n",
    "observed = pd.crosstab(train.payment_type, train.partner)\n",
    "chi2, p, degf, expected = stats.chi2_contingency(observed)\n",
    "print(f\"The p-value is {p}\")\n",
    "if p < alpha:\n",
    "    print(\"Sufficient evidence is present to reject the null hypothesis\")\n",
    "else:\n",
    "    print(\"Insufficient evidence to reject the null\")\n",
    "    print(\"Evidence seems to support the claim that single customers and non-auto accounts are independent\")"
   ]
  },
  {
   "cell_type": "code",
   "execution_count": 39,
   "id": "396bf17e",
   "metadata": {},
   "outputs": [
    {
     "data": {
      "image/png": "[encoded data removed]",
      "text/plain": [
       "<Figure size 432x288 with 1 Axes>"
      ]
     },
     "metadata": {
      "needs_background": "light"
     },
     "output_type": "display_data"
    }
   ],
   "source": [
    "#let's look at the numbers visually\n",
    "barplot = observed.plot.bar(rot=0)"
   ]
  },
  {
   "cell_type": "markdown",
   "id": "83cdaa0e",
   "metadata": {},
   "source": [
    "### Take Aways:\n",
    "* There IS a relationship between singles having non-automated accounts.\n",
    "* The above barplot shows that a large majority of singles actually do have non-automated accounts.\n",
    "\n",
    "##########################################################################"
   ]
  },
  {
   "cell_type": "markdown",
   "id": "b344ab21",
   "metadata": {},
   "source": [
    "## Internet type accounts vs. Is Senior Citizen:\n",
    "\n",
    "Seeing what kind of internet accounts most senior citizens have.\n",
    "\n",
    "* H0: There is NO relationship between internet type of accounts and customer being a senior citizen.\n",
    "* Ha: There IS a relationship between internet type of and customer being a senior citizen."
   ]
  },
  {
   "cell_type": "markdown",
   "id": "08d86299",
   "metadata": {},
   "source": [
    "A reminder of what this column is showing:\n",
    "* 2 = Fiber optic\n",
    "* 1 = DSL\n",
    "* 0 = No internet service"
   ]
  },
  {
   "cell_type": "code",
   "execution_count": 40,
   "id": "4ada5d7d",
   "metadata": {},
   "outputs": [
    {
     "name": "stdout",
     "output_type": "stream",
     "text": [
      "The p-value is 5.7148487746334794e-64\n",
      "Sufficient evidence is present to reject the null hypothesis\n"
     ]
    }
   ],
   "source": [
    "# Chi squared with un-encoded categorical columns\n",
    "alpha = 0.05\n",
    "observed = pd.crosstab(train.internet_service_type, train.senior_citizen)\n",
    "chi2, p, degf, expected = stats.chi2_contingency(observed)\n",
    "print(f\"The p-value is {p}\")\n",
    "if p < alpha:\n",
    "    print(\"Sufficient evidence is present to reject the null hypothesis\")\n",
    "else:\n",
    "    print(\"Insufficient evidence to reject the null\")\n",
    "    print(\"Evidence seems to support the claim that senior customers and internet account types are independent\")"
   ]
  },
  {
   "cell_type": "code",
   "execution_count": 41,
   "id": "f5aff5f2",
   "metadata": {},
   "outputs": [
    {
     "data": {
      "image/png": "[encoded data removed]",
      "text/plain": [
       "<Figure size 432x288 with 1 Axes>"
      ]
     },
     "metadata": {
      "needs_background": "light"
     },
     "output_type": "display_data"
    }
   ],
   "source": [
    "#let's look at the numbers visually\n",
    "barplot = observed.plot.bar(rot=0)"
   ]
  },
  {
   "cell_type": "code",
   "execution_count": 42,
   "id": "084a25a6",
   "metadata": {},
   "outputs": [
    {
     "data": {
      "text/plain": [
       "<seaborn.axisgrid.FacetGrid at 0x7ff1e2a32cd0>"
      ]
     },
     "execution_count": 42,
     "metadata": {},
     "output_type": "execute_result"
    },
    {
     "data": {
      "image/png": "[encoded data removed]",
      "text/plain": [
       "<Figure size 436.5x360 with 1 Axes>"
      ]
     },
     "metadata": {
      "needs_background": "light"
     },
     "output_type": "display_data"
    }
   ],
   "source": [
    "#Relationship between Senior customers and their internet service type against their churn rate\n",
    "sns.catplot(x=\"internet_service_type\", y =\"churn\",  hue=\"senior_citizen\",data=train, kind=\"bar\")"
   ]
  },
  {
   "cell_type": "markdown",
   "id": "e268b56c",
   "metadata": {},
   "source": [
    "### Take Aways:\n",
    "* There IS a relationship between seniors and their internet service type accounts.\n",
    "* The above barplot shows that a large majority of seniors have Fiber Optics for their internet service.\n",
    "\n",
    "##########################################################################"
   ]
  },
  {
   "cell_type": "markdown",
   "id": "185c3437",
   "metadata": {},
   "source": [
    "# Internet type accounts vs. Singles:\n",
    "Seeing what kind of internet accounts most single customers have.\n",
    "\n",
    "* H0: There is NO relationship between internet type accounts and single Telco customers.\n",
    "* Ha: There IS a relationship between internet type and single customer Telco customers."
   ]
  },
  {
   "cell_type": "code",
   "execution_count": null,
   "id": "2df1b105",
   "metadata": {},
   "outputs": [],
   "source": [
    "# Chi squared with un-encoded categorical columns\n",
    "alpha = 0.05\n",
    "observed = pd.crosstab(train.internet_service, train.partner_dependants)\n",
    "chi2, p, degf, expected = stats.chi2_contingency(observed)\n",
    "print(f\"The p-value is {p}\")\n",
    "if p < alpha:\n",
    "    print(\"Sufficient evidence is present to reject the null hypothesis\")\n",
    "else:\n",
    "    print(\"Insufficient evidence to reject the null\")\n",
    "    print(\"Evidence seems to support the claim that single customers and internet account types are independent\")"
   ]
  },
  {
   "cell_type": "code",
   "execution_count": null,
   "id": "34fc2f65",
   "metadata": {},
   "outputs": [],
   "source": [
    "#let's look at the numbers visually\n",
    "barplot = observed.plot.bar(rot=0)"
   ]
  },
  {
   "cell_type": "markdown",
   "id": "3ef74c5f",
   "metadata": {},
   "source": [
    "### Take Aways:\n",
    "* There IS a relationship between singles and their internet service type accounts.\n",
    "\n",
    "##########################################################################"
   ]
  },
  {
   "cell_type": "markdown",
   "id": "01e650f8",
   "metadata": {},
   "source": [
    "# Has Phone accounts vs. Seniors:\n",
    "Seeing if Seniors have a phone account as well.\n",
    "\n",
    "* H0: There is NO relationship between phone accounts and Senior citizen Telco customers.\n",
    "* Ha: There IS a relationship between phone accounts and Senior citizen Telco customers."
   ]
  },
  {
   "cell_type": "markdown",
   "id": "f36c4d2b",
   "metadata": {},
   "source": [
    "NOTE: \n",
    "   * 0= No phone service\n",
    "   * 1= One line\n",
    "   * 2= Two or More lines"
   ]
  },
  {
   "cell_type": "code",
   "execution_count": null,
   "id": "4c140fd0",
   "metadata": {},
   "outputs": [],
   "source": [
    "# Chi squared with un-encoded categorical columns\n",
    "alpha = 0.05\n",
    "observed = pd.crosstab(train.phone_service, train.is_senior_citizen)\n",
    "chi2, p, degf, expected = stats.chi2_contingency(observed)\n",
    "print(f\"The p-value is {p}\")\n",
    "if p < alpha:\n",
    "    print(\"Sufficient evidence is present to reject the null hypothesis\")\n",
    "else:\n",
    "    print(\"Insufficient evidence to reject the null\")\n",
    "    print(\"Evidence seems to support the claim that senior citizen customers and phone account types are independent\")"
   ]
  },
  {
   "cell_type": "code",
   "execution_count": null,
   "id": "0943085c",
   "metadata": {},
   "outputs": [],
   "source": [
    "#let's look at the numbers visually\n",
    "barplot = observed.plot.bar(rot=0)"
   ]
  },
  {
   "cell_type": "markdown",
   "id": "efdd618e",
   "metadata": {},
   "source": [
    "### TAKE AWAYS:\n",
    "- Senior citizens tend to have multiple lines with it comes to phones with Telco.\n",
    "- Number of phone lines vs Senior citizens does relate."
   ]
  },
  {
   "cell_type": "markdown",
   "id": "8985f388",
   "metadata": {},
   "source": [
    "# Has Phone accounts vs. Singles:\n",
    "Seeing if Single customers have a phone account as well.\n",
    "\n",
    "* H0: There is NO relationship between phone accounts and Single Telco customers.\n",
    "* Ha: There IS a relationship between phone accounts and Single Telco customers."
   ]
  },
  {
   "cell_type": "code",
   "execution_count": null,
   "id": "11001ad9",
   "metadata": {},
   "outputs": [],
   "source": [
    "# Chi squared with un-encoded categorical columns\n",
    "alpha = 0.05\n",
    "observed = pd.crosstab(train.phone_service, train.partner_dependants)\n",
    "chi2, p, degf, expected = stats.chi2_contingency(observed)\n",
    "print(f\"The p-value is {p}\")\n",
    "if p < alpha:\n",
    "    print(\"Sufficient evidence is present to reject the null hypothesis\")\n",
    "else:\n",
    "    print(\"Insufficient evidence to reject the null\")\n",
    "    print(\"Evidence seems to support the claim that singled Telco customers and phone account types are independent\")"
   ]
  },
  {
   "cell_type": "code",
   "execution_count": null,
   "id": "42ccddc0",
   "metadata": {},
   "outputs": [],
   "source": [
    "#let's look at the numbers visually\n",
    "barplot = observed.plot.bar(rot=0)"
   ]
  },
  {
   "cell_type": "markdown",
   "id": "1d74cfc8",
   "metadata": {},
   "source": [
    "### TAKE AWAYS:\n",
    "- The relation between phone service and relationship/single customers DOES relate"
   ]
  },
  {
   "cell_type": "markdown",
   "id": "88f35ccc",
   "metadata": {},
   "source": [
    "# BUT DOES INTERNET SERVICE RELATE TO CHURN???"
   ]
  },
  {
   "cell_type": "markdown",
   "id": "d0cf8d32",
   "metadata": {},
   "source": [
    "- Now that we know our demographics and are seeing a relation to these same demographics to service types, let's just check that churn relates to the services these groups of customers hold:"
   ]
  },
  {
   "cell_type": "markdown",
   "id": "092ce2b8",
   "metadata": {},
   "source": [
    "## Churn vs Internet Service Type:\n",
    "\n",
    "* H0: There is not relationship between Churn and Internet Service type.\n",
    "* Ha: There is a relationship between Churn and Internet Service type."
   ]
  },
  {
   "cell_type": "code",
   "execution_count": null,
   "id": "cc873634",
   "metadata": {},
   "outputs": [],
   "source": [
    "# Chi squared with un-encoded categorical columns\n",
    "alpha = 0.05\n",
    "observed = pd.crosstab(train.internet_service, train.churn)\n",
    "chi2, p, degf, expected = stats.chi2_contingency(observed)\n",
    "print(f\"The p-value is {p}\")\n",
    "if p < alpha:\n",
    "    print(\"Sufficient evidence is present to reject the null hypothesis\")\n",
    "else:\n",
    "    print(\"Insufficient evidence to reject the null\")\n",
    "    print(\"Evidence seems to support the claim that churn and internet account types are independent\")"
   ]
  },
  {
   "cell_type": "code",
   "execution_count": null,
   "id": "eb5546b6",
   "metadata": {},
   "outputs": [],
   "source": [
    "#let's look at the numbers visually\n",
    "barplot = observed.plot.bar(rot=0)"
   ]
  },
  {
   "cell_type": "markdown",
   "id": "60d13406",
   "metadata": {},
   "source": [
    "### Take Aways:\n",
    "* There IS a relationship between churn and their internet service type accounts.\n",
    "* More accounts that had Fiber Optic for internet churned than any other internet service type.\n",
    "\n",
    "##########################################################################"
   ]
  },
  {
   "cell_type": "markdown",
   "id": "e3ae100d",
   "metadata": {},
   "source": [
    "# DOES PHONE SERVICE RELATE TO CHURN???"
   ]
  },
  {
   "cell_type": "markdown",
   "id": "c6f0d117",
   "metadata": {},
   "source": [
    "- Now that we know our demographics and are seeing a relation to these same demographics to service types, let's just check that churn relates to the phone services these groups of customers hold:"
   ]
  },
  {
   "cell_type": "markdown",
   "id": "c0aac2ba",
   "metadata": {},
   "source": [
    "## Churn vs Internet Service Type:\n",
    "\n",
    "* H0: There is not relationship between Churn and Internet Service type.\n",
    "* Ha: There is a relationship between Churn and Internet Service type."
   ]
  },
  {
   "cell_type": "code",
   "execution_count": null,
   "id": "a8c666e5",
   "metadata": {},
   "outputs": [],
   "source": [
    "# Chi squared with un-encoded categorical columns\n",
    "alpha = 0.05\n",
    "observed = pd.crosstab(train.phone_service, train.churn)\n",
    "chi2, p, degf, expected = stats.chi2_contingency(observed)\n",
    "print(f\"The p-value is {p}\")\n",
    "if p < alpha:\n",
    "    print(\"Sufficient evidence is present to reject the null hypothesis\")\n",
    "else:\n",
    "    print(\"Insufficient evidence to reject the null\")\n",
    "    print(\"Evidence seems to support the claim that churn and internet account types are independent\")"
   ]
  },
  {
   "cell_type": "code",
   "execution_count": null,
   "id": "0bb25dd6",
   "metadata": {},
   "outputs": [],
   "source": [
    "#let's look at the numbers visually\n",
    "barplot = observed.plot.bar(rot=0)"
   ]
  },
  {
   "cell_type": "markdown",
   "id": "52dbeff8",
   "metadata": {},
   "source": [
    "### Take Aways:\n",
    "* There IS a relationship between churn and their phone service type accounts, however it does not seem to be as prevalent as churned customers with fiber optic.\n",
    "\n",
    "- ##########################################################################"
   ]
  },
  {
   "cell_type": "markdown",
   "id": "ed20ca4b",
   "metadata": {},
   "source": [
    "# My Drivers:\n",
    "* DEMOGRAPHIC GROUPS-\n",
    "    * Senior Citizens customers\n",
    "    * Single customers\n",
    "    \n",
    "* ACCOUNT TYPE GROUPS-\n",
    "    * Fiber Optic accounts\n",
    "    * Non-automated accounts"
   ]
  },
  {
   "cell_type": "markdown",
   "id": "14f54e52",
   "metadata": {},
   "source": [
    "- More visualizations to show these relationships:"
   ]
  },
  {
   "cell_type": "code",
   "execution_count": null,
   "id": "5333f6c1",
   "metadata": {},
   "outputs": [],
   "source": [
    "plt.subplot(211)\n",
    "\n",
    "sns.countplot(x = 'partner_dependants', data=train, palette='Purples', ec='black', linewidth=2)\n",
    "\n",
    "plt.title('How Does Churn Relate to Customer being Single?')\n",
    "plt.xlabel('')\n",
    "plt.ylabel('')\n",
    "plt.legend(['0= Single'])\n",
    "plt.subplot(212)\n",
    "\n",
    "#countplot comparing partnership to churn\n",
    "sns.countplot(x = 'partner_dependants', hue = 'churn', data=train, palette='Blues', ec='black', linewidth=2)\n",
    "\n",
    "plt.legend(['Did Not Churn', 'Churned'])\n",
    "\n",
    "plt.show()"
   ]
  },
  {
   "cell_type": "code",
   "execution_count": null,
   "id": "57adbd58",
   "metadata": {},
   "outputs": [],
   "source": [
    "plt.subplot(211)\n",
    "\n",
    "sns.countplot(x = 'internet_service', data=train, palette='Purples', ec='black', linewidth=2)\n",
    "\n",
    "plt.title(\"How Does Churn Relate to Customers' Internet Serivce type ?\")\n",
    "plt.xlabel('')\n",
    "plt.ylabel('')\n",
    "plt.legend(['0 = No Internet',' 1 = DSL', '2 = Fiber'])\n",
    "plt.subplot(212)\n",
    "\n",
    "#countplot comparing partnership to churn\n",
    "sns.countplot(x = 'internet_service', hue = 'churn', data=train, palette='Blues', ec='black', linewidth=2)\n",
    "\n",
    "plt.legend(['Did Not Churn', 'Churned'])\n",
    "\n",
    "plt.show()"
   ]
  },
  {
   "cell_type": "markdown",
   "id": "94c901df",
   "metadata": {},
   "source": [
    "# Onto ML Models:"
   ]
  },
  {
   "cell_type": "markdown",
   "id": "ff7d427b",
   "metadata": {},
   "source": [
    "### Creating Logistical Regression models:\n",
    "To quickly assess and models with target (Churn) against chosen variables (Senior citizen, Single, Fiber Optics, non-automated accounts) into a Logistical Regression model. If the accuracy of this model is higher than my baseline, then I'll move onto other models. "
   ]
  },
  {
   "cell_type": "markdown",
   "id": "6ca443d0",
   "metadata": {},
   "source": [
    "- Developing my baseline to compare my models to:    "
   ]
  },
  {
   "cell_type": "code",
   "execution_count": null,
   "id": "43c12a9c",
   "metadata": {},
   "outputs": [],
   "source": [
    "#Taking freshly prepared data through the acquire and prepare.py files for modeling:\n",
    "df = acquire.excel_file()\n",
    "train, validate, test = prep_telco(df)"
   ]
  },
  {
   "cell_type": "markdown",
   "id": "7105d2ca",
   "metadata": {},
   "source": [
    "- Baseline (for the 'most common case to everything')"
   ]
  },
  {
   "cell_type": "code",
   "execution_count": null,
   "id": "ae0fd6a1",
   "metadata": {},
   "outputs": [],
   "source": [
    "train.churn.value_counts(normalize=True)"
   ]
  },
  {
   "cell_type": "markdown",
   "id": "ee5b228f",
   "metadata": {},
   "source": [
    "### My BASELINE IS 26% for accuracy (based on 'yes churn' data)"
   ]
  },
  {
   "cell_type": "code",
   "execution_count": null,
   "id": "393a04c1",
   "metadata": {},
   "outputs": [],
   "source": [
    "#filling the NaNs again for total_charges:\n",
    "total_mean=train.total_charges.mean()\n",
    "train['total_charges'].fillna(value=total_mean, inplace=True)"
   ]
  },
  {
   "cell_type": "code",
   "execution_count": null,
   "id": "a698ea7f",
   "metadata": {},
   "outputs": [],
   "source": [
    "#Encoding data for later churn use (as right now it is an object and I need numeric for models)\n",
    "# First I create a new dataframe that holds my encoded columns.\n",
    "\n",
    "churn_dummies = pd.get_dummies(df.churn, drop_first=True)\n",
    "churn_dummies.sample(5)"
   ]
  },
  {
   "cell_type": "markdown",
   "id": "881c7c16",
   "metadata": {},
   "source": [
    "- Defining my x and y:"
   ]
  },
  {
   "cell_type": "code",
   "execution_count": null,
   "id": "5f7ac101",
   "metadata": {},
   "outputs": [],
   "source": [
    "train.head(1)"
   ]
  },
  {
   "cell_type": "code",
   "execution_count": null,
   "id": "fc408ab5",
   "metadata": {},
   "outputs": [],
   "source": [
    "# Dropping categorical and not-needed columns that are leftover.\n",
    "\n",
    "X_train = train.drop(columns=['churn','gender', 'partner', \n",
    "                              'dependents', 'phone_service',\n",
    "                              'payment_type','total_charges','has_phone_internet','calculated_monthly_avg',\n",
    "                              'validate','phone_service_type','internet_service_type',\n",
    "                             'contract_type.1','service_type','tenure_bins',\n",
    "                             'tenure','is_female','Churned_Customers','has_phone','has_internet'])\n",
    "y_train = train[['churn']]\n",
    "\n",
    "X_validate = validate.drop(columns=['churn','gender', 'partner', \n",
    "                              'dependents', 'phone_service',\n",
    "                              'payment_type','total_charges','has_phone_internet','calculated_monthly_avg',\n",
    "                              'validate','phone_service_type','internet_service_type',\n",
    "                             'contract_type.1','service_type','tenure_bins',\n",
    "                             'tenure','is_female','Churned_Customers','has_phone','has_internet'])\n",
    "y_validate = validate[['churn']]\n",
    "\n",
    "X_test = test.drop(columns=['churn','gender', 'partner', \n",
    "                              'dependents', 'phone_service',\n",
    "                              'payment_type','total_charges','has_phone_internet','calculated_monthly_avg',\n",
    "                              'validate','phone_service_type','internet_service_type',\n",
    "                             'contract_type.1','service_type','tenure_bins',\n",
    "                             'tenure','is_female','Churned_Customers','has_phone','has_internet'])\n",
    "y_test = test[['churn']]"
   ]
  },
  {
   "cell_type": "markdown",
   "id": "14eaa7a8",
   "metadata": {},
   "source": [
    "### CREATING A LOGISTIC REGRESSION MODEL:::"
   ]
  },
  {
   "cell_type": "code",
   "execution_count": null,
   "id": "8700c274",
   "metadata": {},
   "outputs": [],
   "source": [
    "# Create a simple Logistic Regression model to start.\n",
    "\n",
    "logit = LogisticRegression(random_state=123)"
   ]
  },
  {
   "cell_type": "markdown",
   "id": "b8efcf0f",
   "metadata": {},
   "source": [
    "#### FITTING THE LOGISTICAL REG. MODEL:"
   ]
  },
  {
   "cell_type": "code",
   "execution_count": null,
   "id": "3bfcce62",
   "metadata": {},
   "outputs": [],
   "source": [
    "logit.fit(X_train, y_train)"
   ]
  },
  {
   "cell_type": "markdown",
   "id": "60a22586",
   "metadata": {},
   "source": [
    "- Looking at coefficients to model:"
   ]
  },
  {
   "cell_type": "code",
   "execution_count": null,
   "id": "55644fc7",
   "metadata": {},
   "outputs": [],
   "source": [
    "# Create a list of our model features.\n",
    "\n",
    "features = X_train.columns.tolist()"
   ]
  },
  {
   "cell_type": "code",
   "execution_count": null,
   "id": "947a5517",
   "metadata": {},
   "outputs": [],
   "source": [
    "# Create a list of the weights for each feature from our model.\n",
    "\n",
    "weights = logit.coef_.flatten()"
   ]
  },
  {
   "cell_type": "code",
   "execution_count": null,
   "id": "be3263e7",
   "metadata": {},
   "outputs": [],
   "source": [
    "# Store our lists from above in a DataFrame.\n",
    "\n",
    "pd.DataFrame(weights, features).reset_index().rename(columns={'index': 'feature', 0: 'weight'})"
   ]
  },
  {
   "cell_type": "markdown",
   "id": "ff566b5c",
   "metadata": {},
   "source": [
    "### Evaluating Model:"
   ]
  },
  {
   "cell_type": "code",
   "execution_count": null,
   "id": "81ca43a7",
   "metadata": {},
   "outputs": [],
   "source": [
    "#Accuracy of the models logistic classifier\n",
    "print('Accuracy of Logistic Regression classifier on training set: {:.2f}'\n",
    "     .format(logit.score(X_train, y_train)))"
   ]
  },
  {
   "cell_type": "markdown",
   "id": "fadd319d",
   "metadata": {},
   "source": [
    "- Evaluating with classification report:"
   ]
  },
  {
   "cell_type": "code",
   "execution_count": null,
   "id": "2cc3cc9b",
   "metadata": {},
   "outputs": [],
   "source": [
    "#making predictions on whether customer churns or not\n",
    "y_pred = logit.predict(X_train)"
   ]
  },
  {
   "cell_type": "code",
   "execution_count": null,
   "id": "47056d16",
   "metadata": {},
   "outputs": [],
   "source": [
    "#estimating probability of churn based on observations\n",
    "y_pred_proba = logit.predict_proba(X_train)"
   ]
  },
  {
   "cell_type": "code",
   "execution_count": null,
   "id": "778f5b07",
   "metadata": {},
   "outputs": [],
   "source": [
    "print(classification_report(y_train, y_pred))"
   ]
  },
  {
   "cell_type": "markdown",
   "id": "9bd741d4",
   "metadata": {},
   "source": [
    "### TAKE AWAYS:\n",
    "- The first model is already classifying higher than our baseline, so I am on a good track. \n",
    "- My recall number is fairly high, so this model was good at predicting TP (aka good at predicting churning)"
   ]
  },
  {
   "cell_type": "markdown",
   "id": "121d3f32",
   "metadata": {},
   "source": [
    "### THINGS TO NOTE:\n",
    "* Logistical Regression really helped point out which variables are worth adding/focusing into these models.\n",
    "(ie internet services, senior citizens)"
   ]
  },
  {
   "cell_type": "markdown",
   "id": "d6ffc355",
   "metadata": {},
   "source": [
    "# Decision Tree Model:"
   ]
  },
  {
   "cell_type": "markdown",
   "id": "a4b06a3f",
   "metadata": {},
   "source": [
    "Fitting the decision tree classifier to the Telco training sample and transform (i.e. make predictions on the training sample)"
   ]
  },
  {
   "cell_type": "code",
   "execution_count": null,
   "id": "70312665",
   "metadata": {},
   "outputs": [],
   "source": [
    "from sklearn.tree import DecisionTreeClassifier, plot_tree\n",
    "#creating that decision tree!\n",
    "\n",
    "tree1= DecisionTreeClassifier(max_depth=2, random_state=123)"
   ]
  },
  {
   "cell_type": "code",
   "execution_count": null,
   "id": "e4637414",
   "metadata": {},
   "outputs": [],
   "source": [
    "# model.fit(X, y)\n",
    "tree1 = tree1.fit(X_train, y_train)"
   ]
  },
  {
   "cell_type": "code",
   "execution_count": null,
   "id": "f43e03ba",
   "metadata": {},
   "outputs": [],
   "source": [
    "#plot the tree\n",
    "plt.figure(figsize=(14, 7))\n",
    "plot_tree(tree1, feature_names=X_train.columns, class_names=tree1.classes_.astype(str), rounded=True)"
   ]
  },
  {
   "cell_type": "code",
   "execution_count": null,
   "id": "53fbf86f",
   "metadata": {},
   "outputs": [],
   "source": [
    "### Make Predictions\n",
    "y_pred=tree1.predict(X_train)\n",
    "y_pred[0:5]"
   ]
  },
  {
   "cell_type": "code",
   "execution_count": null,
   "id": "5d58691d",
   "metadata": {},
   "outputs": [],
   "source": [
    "### Estimate Probability\n",
    "y_pred_proba=tree1.predict_proba(X_train)\n",
    "y_pred_proba[0:5]"
   ]
  },
  {
   "cell_type": "markdown",
   "id": "763c1d8d",
   "metadata": {},
   "source": [
    "#### EVALUATING DECISION TREE MODEL:"
   ]
  },
  {
   "cell_type": "code",
   "execution_count": null,
   "id": "12143682",
   "metadata": {},
   "outputs": [],
   "source": [
    "print('Accuracy of Decision Tree classifier on Telco training set: {:.2f}'\n",
    "      .format(tree1.score(X_train, y_train)))"
   ]
  },
  {
   "cell_type": "code",
   "execution_count": null,
   "id": "2fc9d412",
   "metadata": {},
   "outputs": [],
   "source": [
    "# let's evaluate using a confusion matrix\n",
    "confusion_matrix(y_train, y_pred)"
   ]
  },
  {
   "cell_type": "code",
   "execution_count": null,
   "id": "b955c63d",
   "metadata": {},
   "outputs": [],
   "source": [
    "#to see a visual of how many 'No churns' vs 'Yes churns' in this model:\n",
    "y_train.value_counts()"
   ]
  },
  {
   "cell_type": "code",
   "execution_count": null,
   "id": "1ea3d897",
   "metadata": {},
   "outputs": [],
   "source": [
    "#creating a dataframe to see the matrix/needed to rename as variables were still 0 and 1\n",
    "labels = ('Not Churn 0', 'Churn 1')\n",
    "\n",
    "pd.DataFrame(confusion_matrix(y_train, y_pred), index=labels, columns=labels)"
   ]
  },
  {
   "cell_type": "code",
   "execution_count": null,
   "id": "ba846186",
   "metadata": {},
   "outputs": [],
   "source": [
    "#I'll use a classification to evaluate this model:\n",
    "print(classification_report(y_train, y_pred))"
   ]
  },
  {
   "cell_type": "code",
   "execution_count": null,
   "id": "24e67da9",
   "metadata": {},
   "outputs": [],
   "source": [
    "#To find the accuracy, TP, FP, TN, and FN on this model:\n",
    "TP = 2347\n",
    "FP = 401\n",
    "FN = 553\n",
    "TN = 646\n",
    "ALL = TP + FP + FN + TN"
   ]
  },
  {
   "cell_type": "code",
   "execution_count": null,
   "id": "58f59b11",
   "metadata": {},
   "outputs": [],
   "source": [
    "accuracy = (TP + TN)/ALL\n",
    "print(f\"Accuracy: {accuracy}\")\n",
    "\n",
    "true_positive_rate = TP/(TP+FN)\n",
    "print(f\"True Positive Rate: {true_positive_rate}\")\n",
    "\n",
    "false_positive_rate = FP/(FP+TN)\n",
    "print(f\"False Positive Rate: {false_positive_rate}\")\n",
    "\n",
    "true_negative_rate = TN/(TN+FP)\n",
    "print(f\"True Negative Rate: {true_negative_rate}\")\n",
    "\n",
    "false_negative_rate = FN/(FN+TP)\n",
    "print(f\"False Negative Rate: {false_negative_rate}\")\n",
    "\n",
    "precision = TP/(TP+FP)\n",
    "print(f\"Precision: {precision}\")\n",
    "\n",
    "recall = TP/(TP+FN)\n",
    "print(f\"Recall: {recall}\")\n",
    "\n",
    "f1_score = 2*(precision*recall)/(precision+recall)\n",
    "print(f\"F1 Score: {f1_score}\")\n",
    "\n",
    "support_pos = TP + FN\n",
    "print(f\"Support (0): {support_pos}\")\n",
    "\n",
    "support_neg = FP + TN\n",
    "print(f\"Support (1): {support_neg}\")"
   ]
  },
  {
   "cell_type": "code",
   "execution_count": null,
   "id": "045bc1c6",
   "metadata": {},
   "outputs": [],
   "source": [
    "# I'll create a \"for\" loop so that multiple models can be tested out:\n",
    "for i in range(2, 21):\n",
    "    # Make the model\n",
    "    tree = DecisionTreeClassifier(max_depth=i, random_state=123)\n",
    "\n",
    "    # Fit the model (on train and only train)\n",
    "    tree = tree.fit(X_train, y_train)\n",
    "\n",
    "    # Use the model\n",
    "    # We'll evaluate the model's performance on train, first\n",
    "    y_predictions = tree.predict(X_train)\n",
    "\n",
    "    # Produce the classification report on the actual y values and this model's predicted y values\n",
    "    report = classification_report(y_train, y_predictions, output_dict=True)\n",
    "    print(f\"Tree with max depth of {i}\")\n",
    "    print(pd.DataFrame(report))\n",
    "    print()"
   ]
  },
  {
   "cell_type": "markdown",
   "id": "725b24e3",
   "metadata": {},
   "source": [
    "### Validate the model:\n",
    "- comparing in-sample to out-of-sample"
   ]
  },
  {
   "cell_type": "code",
   "execution_count": null,
   "id": "49543629",
   "metadata": {},
   "outputs": [],
   "source": [
    "metrics = []\n",
    "\n",
    "for i in range(2, 25):\n",
    "    # Make the model\n",
    "    tree = DecisionTreeClassifier(max_depth=i, random_state=123)\n",
    "\n",
    "    # Fit the model (on train and only train)\n",
    "    tree = tree.fit(X_train, y_train)\n",
    "\n",
    "    # Use the model\n",
    "    # We'll evaluate the model's performance on train, first\n",
    "    in_sample_accuracy = tree.score(X_train, y_train)\n",
    "    \n",
    "    out_of_sample_accuracy = tree.score(X_validate, y_validate)\n",
    "\n",
    "    output = {\n",
    "        \"max_depth\": i,\n",
    "        \"train_accuracy\": in_sample_accuracy,\n",
    "        \"validate_accuracy\": out_of_sample_accuracy\n",
    "    }\n",
    "    \n",
    "    metrics.append(output)\n",
    "    "
   ]
  },
  {
   "cell_type": "code",
   "execution_count": null,
   "id": "7a5f0b25",
   "metadata": {},
   "outputs": [],
   "source": [
    "val_df = pd.DataFrame(metrics)\n",
    "val_df[\"difference\"] = val_df.train_accuracy - val_df.validate_accuracy\n",
    "val_df"
   ]
  },
  {
   "cell_type": "markdown",
   "id": "00f8bc13",
   "metadata": {},
   "source": [
    "### TAKE AWAYS:\n",
    "- The model with the highest accuracy is the DT with a max depth of 20...the higher it goes, the more accurate it shows, however this kind of test is more prone to over-fitting the data in the model. \n",
    "- I would choose a model with a mid range accuracy (around 80+ accuracy and >0.07 for difference)\n",
    "- <b>My choice here would be going with model 7 and it fits within the boundaries I listed and there is not a significant increase of difference there.</b>"
   ]
  },
  {
   "cell_type": "markdown",
   "id": "823a185d",
   "metadata": {},
   "source": [
    "## Random Forest Model:"
   ]
  },
  {
   "cell_type": "code",
   "execution_count": null,
   "id": "5c1b3945",
   "metadata": {},
   "outputs": [],
   "source": [
    "from sklearn.ensemble import RandomForestClassifier\n",
    "forest1 = RandomForestClassifier(max_depth=1, random_state=123)\n",
    "\n",
    "# Fit the model\n",
    "forest1.fit(X_train, y_train)\n",
    "\n",
    "#Using the model\n",
    "y_predictions = forest1.predict(X_train)\n",
    "\n",
    "# Adding int the classification report on the actual y values and this model's predicted y values\n",
    "report = classification_report(y_train, y_predictions, output_dict=True)\n",
    "print(\"Forest of 1 depth\")\n",
    "pd.DataFrame(report)"
   ]
  },
  {
   "cell_type": "code",
   "execution_count": null,
   "id": "1d7d22c5",
   "metadata": {},
   "outputs": [],
   "source": [
    "# Evaluating our model using a confusion matrix\n",
    "pd.DataFrame(confusion_matrix(y_predictions, y_train))"
   ]
  },
  {
   "cell_type": "code",
   "execution_count": null,
   "id": "5f12fc7c",
   "metadata": {},
   "outputs": [],
   "source": [
    "#Using the confusion matrix and predictions to show the TN, TP, FP, FN are:\n",
    "#this is showing that a True Positive case would be if none were Not Churn, True Negative = all churned\n",
    "TN, FP, FN, TP = confusion_matrix(y_train,y_predictions).ravel()\n",
    "ALL = TP + TN + FP + FN\n",
    "\n",
    "TP, TN, FP, FN"
   ]
  },
  {
   "cell_type": "code",
   "execution_count": null,
   "id": "5d587709",
   "metadata": {},
   "outputs": [],
   "source": [
    "accuracy = (TP + TN)/ALL\n",
    "print(f\"Accuracy: {accuracy}\")\n",
    "\n",
    "true_positive_rate = TP/(TP+FN)\n",
    "print(f\"True Positive Rate: {true_positive_rate}\")\n",
    "\n",
    "false_positive_rate = FP/(FP+TN)\n",
    "print(f\"False Positive Rate: {false_positive_rate}\")\n",
    "\n",
    "true_negative_rate = TN/(TN+FP)\n",
    "print(f\"True Negative Rate: {true_negative_rate}\")\n",
    "\n",
    "false_negative_rate = FN/(FN+TP)\n",
    "print(f\"False Negative Rate: {false_negative_rate}\")\n",
    "\n",
    "precision = TP/(TP+FP)\n",
    "print(f\"Precision: {precision}\")\n",
    "\n",
    "recall = TP/(TP+FN)\n",
    "print(f\"Recall: {recall}\")\n",
    "\n",
    "f1_score = 2*(precision*recall)/(precision+recall)\n",
    "print(f\"F1 Score: {f1_score}\")\n",
    "\n",
    "support_pos = TP + FN\n",
    "print(f\"Support (0): {support_pos}\")\n",
    "\n",
    "support_neg = FP + TN\n",
    "print(f\"Support (1): {support_neg}\")"
   ]
  },
  {
   "cell_type": "code",
   "execution_count": null,
   "id": "e0334a60",
   "metadata": {},
   "outputs": [],
   "source": [
    "#creating a \"for\"loop to grab more models quickly:\n",
    "for i in range(2, 11):\n",
    "    # Make the model\n",
    "    forest = RandomForestClassifier(max_depth=i, random_state=123)\n",
    "\n",
    "    # Fit the model (on train and only train)\n",
    "    forest = forest.fit(X_train, y_train)\n",
    "\n",
    "    # Use the model\n",
    "    # We'll evaluate the model's performance on train, first\n",
    "    y_predictions = forest.predict(X_train)\n",
    "\n",
    "    # Produce the classification report on the actual y values and this model's predicted y values\n",
    "    report = classification_report(y_train, y_predictions, output_dict=True)\n",
    "    print(f\"Forest with max depth of {i}\")\n",
    "    print(pd.DataFrame(report))\n",
    "    print()"
   ]
  },
  {
   "cell_type": "markdown",
   "id": "36a972b1",
   "metadata": {},
   "source": [
    "### VALIDATING OUR MODEL WITH OUT OF SAMPLE DATA:"
   ]
  },
  {
   "cell_type": "code",
   "execution_count": null,
   "id": "7b4dbbef",
   "metadata": {},
   "outputs": [],
   "source": [
    "# Let's continue getting loopy, so we can compare in-sample to out-of-sample\n",
    "metrics = []\n",
    "\n",
    "for i in range(2, 25):\n",
    "    # Make the model\n",
    "    forest = RandomForestClassifier(max_depth=i, random_state=123)\n",
    "\n",
    "    # Fit the model (on train and only train)\n",
    "    forest = forest.fit(X_train, y_train)\n",
    "\n",
    "    # Use the model\n",
    "    # We'll evaluate the model's performance on train, first\n",
    "    in_sample_accuracy = forest.score(X_train, y_train)\n",
    "    \n",
    "    out_of_sample_accuracy = forest.score(X_validate, y_validate)\n",
    "\n",
    "    output = {\n",
    "        \"max_depth\": i,\n",
    "        \"train_accuracy\": in_sample_accuracy,\n",
    "        \"validate_accuracy\": out_of_sample_accuracy\n",
    "    }\n",
    "    \n",
    "    metrics.append(output)\n",
    "    \n",
    "forest_df = pd.DataFrame(metrics)\n",
    "forest_df[\"difference\"] = forest_df.train_accuracy - forest_df.validate_accuracy\n",
    "forest_df"
   ]
  },
  {
   "cell_type": "code",
   "execution_count": null,
   "id": "8911a71b",
   "metadata": {},
   "outputs": [],
   "source": [
    "forest_df.set_index('max_depth').plot(figsize = (16,9))\n",
    "plt.ylabel('Accuracy')\n",
    "plt.xticks(np.arange(0,21,1))\n",
    "plt.grid()"
   ]
  },
  {
   "cell_type": "markdown",
   "id": "faad1b02",
   "metadata": {},
   "source": [
    "### TAKE AWAY:\n",
    "- I would choose the RFclassifier with a max depth of 4 as after that number, the difference climbs more than before and the accuracy number is still really good.\n",
    "- As the graph shows above, after max depth of 4 the Random Forest models of validate and training begin to really seperate. "
   ]
  },
  {
   "cell_type": "markdown",
   "id": "06f9876d",
   "metadata": {},
   "source": [
    "### Increasing min_samples_per_leaf, decreasing max_depth (why???)"
   ]
  },
  {
   "cell_type": "code",
   "execution_count": null,
   "id": "99e8ee91",
   "metadata": {},
   "outputs": [],
   "source": [
    "# Comparing the in sample data with the out sample data\n",
    "metrics = []\n",
    "max_depth = 20\n",
    "\n",
    "for i in range(2, max_depth):\n",
    "    # Make the model\n",
    "    depth = max_depth - i\n",
    "    n_samples = i\n",
    "    forest = RandomForestClassifier(max_depth=depth, min_samples_leaf=n_samples, random_state=123)\n",
    "\n",
    "    # Fit the model (on train and only train)\n",
    "    forest = forest.fit(X_train, y_train)\n",
    "\n",
    "    # Use the model\n",
    "    # We'll evaluate the model's performance on train, first\n",
    "    in_sample_accuracy = forest.score(X_train, y_train)\n",
    "    \n",
    "    out_of_sample_accuracy = forest.score(X_validate, y_validate)\n",
    "\n",
    "    output = {\n",
    "        \"min_samples_per_leaf\": n_samples,\n",
    "        \"max_depth\": depth,\n",
    "        \"train_accuracy\": in_sample_accuracy,\n",
    "        \"validate_accuracy\": out_of_sample_accuracy\n",
    "    }\n",
    "    \n",
    "    metrics.append(output)\n",
    "    \n",
    "forest1_df = pd.DataFrame(metrics)\n",
    "forest1_df[\"difference\"] = forest1_df.train_accuracy - forest1_df.validate_accuracy\n",
    "forest1_df"
   ]
  },
  {
   "cell_type": "code",
   "execution_count": null,
   "id": "fdb2e29f",
   "metadata": {},
   "outputs": [],
   "source": [
    "forest1_df.set_index('max_depth')[['train_accuracy', 'validate_accuracy','difference']].plot(figsize = (16,9))\n",
    "plt.ylabel('Accuracy')\n",
    "plt.xticks(np.arange(0,21,1))\n",
    "plt.grid()"
   ]
  },
  {
   "cell_type": "code",
   "execution_count": null,
   "id": "0dac0840",
   "metadata": {},
   "outputs": [],
   "source": [
    "#Comparison of the first model used and second model used. \n",
    "first_plot = sns.scatterplot(x=\"difference\", y=\"validate_accuracy\", data=forest_df)\n",
    "second_plot = sns.scatterplot(x=\"difference\", y=\"validate_accuracy\", data=forest1_df)\n",
    "plt.legend('12')"
   ]
  },
  {
   "cell_type": "markdown",
   "id": "67d12c90",
   "metadata": {},
   "source": [
    "### TAKEAWAY: \n",
    "- By changing the min samples per leaf w/ max depth, <b>using a max depth of 5 where the separation of validation and training are still close and prior to pulling apart</b> there is still less % of accuracy than the first RF model with a max depth of 4."
   ]
  },
  {
   "cell_type": "markdown",
   "id": "ecba3ce4",
   "metadata": {},
   "source": [
    "# Building some charts:\n",
    "\n",
    "- Can we take a look at churn with chosen demographics side-by-side? "
   ]
  },
  {
   "cell_type": "code",
   "execution_count": null,
   "id": "186e08d6",
   "metadata": {},
   "outputs": [],
   "source": [
    "train.head()"
   ]
  },
  {
   "cell_type": "code",
   "execution_count": null,
   "id": "bff378cf",
   "metadata": {},
   "outputs": [],
   "source": [
    "sns.relplot(x=\"partner_dependants\", y='churn', hue=\"churn\", col=\"is_senior_citizen\", data=train )"
   ]
  },
  {
   "cell_type": "code",
   "execution_count": null,
   "id": "6ac3655f",
   "metadata": {},
   "outputs": [],
   "source": [
    "# Binary encode the target variable\n",
    "train.churn = train.churn == \"Yes\""
   ]
  },
  {
   "cell_type": "code",
   "execution_count": null,
   "id": "26049a53",
   "metadata": {},
   "outputs": [],
   "source": [
    "# Set the binary target variable to the y\n",
    "# Set our first categorical variable to x\n",
    "# Set a second categorical variable to col\n",
    "# Set a third categorical variable to hue\n",
    "sns.catplot(x=\"partner_dependants\", y=\"churn\",  hue=\"is_senior_citizen\", col=\"partner_dependants\",data=train, kind=\"bar\")"
   ]
  },
  {
   "cell_type": "markdown",
   "id": "47ecd3b9",
   "metadata": {},
   "source": [
    "### TAKE AWAYS:\n",
    "- This chart looks great, however because I used the excel file, I would need to go back and reset the columns so that the partner_dependants does not look encoded (and would show the string names)."
   ]
  }
 ],
 "metadata": {
  "kernelspec": {
   "display_name": "Python 3 (ipykernel)",
   "language": "python",
   "name": "python3"
  },
  "language_info": {
   "codemirror_mode": {
    "name": "ipython",
    "version": 3
   },
   "file_extension": ".py",
   "mimetype": "text/x-python",
   "name": "python",
   "nbconvert_exporter": "python",
   "pygments_lexer": "ipython3",
   "version": "3.9.7"
  }
 },
 "nbformat": 4,
 "nbformat_minor": 5
}
