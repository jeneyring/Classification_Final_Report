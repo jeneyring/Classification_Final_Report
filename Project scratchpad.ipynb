{
 "cells": [
  {
   "cell_type": "code",
   "execution_count": 1,
   "id": "2f304420",
   "metadata": {},
   "outputs": [],
   "source": [
    "import warnings\n",
    "warnings.filterwarnings(\"ignore\")\n",
    "\n",
    "import pandas as pd\n",
    "import numpy as np\n",
    "import matplotlib.pyplot as plt\n",
    "import seaborn as sns\n",
    "from scipy import stats\n",
    "from sklearn.model_selection import train_test_split\n",
    "\n",
    "np.random.seed(123)\n",
    "\n",
    "import acquire"
   ]
  },
  {
   "cell_type": "markdown",
   "id": "38fa035c",
   "metadata": {},
   "source": [
    "# Goal: Find the main demographic driver for Telco churn."
   ]
  },
  {
   "cell_type": "markdown",
   "id": "400510d3",
   "metadata": {},
   "source": [
    "<u> Demographics I'll be looking at:</u>\n",
    "\n",
    "- Senior citizens\n",
    "- Single customers\n",
    "- Customers with Partners\n",
    "- Customers with Dependants\n",
    "- Customers with Partner & Dependants\n",
    "\n",
    "<u> Subgroups to compare once main driver is found, if I want to get more specific: </u>\n",
    "- Gender\n",
    "- monthly charges\n",
    "- tenure"
   ]
  },
  {
   "cell_type": "markdown",
   "id": "9813bc70",
   "metadata": {},
   "source": [
    "### Notes: By looking at the above demographics I want to find:\n",
    "1) Highest churned demographic group (of the above)\n",
    "- Note: I will first need to look at the group as whole (all churned and which group had most churns)\n",
    "- Note: Then I should consider churn rate based with each group (example: senior citizens that have and have not churned rate)"
   ]
  },
  {
   "cell_type": "markdown",
   "id": "6ab34d29",
   "metadata": {},
   "source": [
    "# Getting to know my data:"
   ]
  },
  {
   "cell_type": "code",
   "execution_count": 2,
   "id": "c85a4b33",
   "metadata": {},
   "outputs": [
    {
     "data": {
      "text/plain": [
       "Index(['customer_id', 'gender', 'is_senior_citizen', 'partner', 'dependents',\n",
       "       'phone_service', 'internet_service', 'contract_type', 'payment_type',\n",
       "       'monthly_charges', 'total_charges', 'churn', 'tenure', 'is_auto',\n",
       "       'is_female', 'has_churned', 'has_phone', 'has_internet',\n",
       "       'has_phone_internet', 'partner_dependants', 'calculated_monthly_avg',\n",
       "       'validate', 'phone_service_type', 'internet_service_type',\n",
       "       'contract_type.1', 'rounded_tenure', 'service_type', 'tenure_bins'],\n",
       "      dtype='object')"
      ]
     },
     "execution_count": 2,
     "metadata": {},
     "output_type": "execute_result"
    }
   ],
   "source": [
    "#I am using the excel version as it was easier to acquire from my computer\n",
    "df= acquire.excel_file()\n",
    "#looking at columns as there seems to be alot\n",
    "df.columns"
   ]
  },
  {
   "cell_type": "code",
   "execution_count": 3,
   "id": "f82dadcc",
   "metadata": {},
   "outputs": [
    {
     "data": {
      "text/plain": [
       "customer_id                object\n",
       "gender                     object\n",
       "is_senior_citizen         float64\n",
       "partner                    object\n",
       "dependents                 object\n",
       "phone_service             float64\n",
       "internet_service          float64\n",
       "contract_type             float64\n",
       "payment_type               object\n",
       "monthly_charges           float64\n",
       "total_charges             float64\n",
       "churn                      object\n",
       "tenure                    float64\n",
       "is_auto                     int64\n",
       "is_female                    bool\n",
       "has_churned                  bool\n",
       "has_phone                    bool\n",
       "has_internet                 bool\n",
       "has_phone_internet           bool\n",
       "partner_dependants          int64\n",
       "calculated_monthly_avg     object\n",
       "validate                   object\n",
       "phone_service_type         object\n",
       "internet_service_type      object\n",
       "contract_type.1            object\n",
       "rounded_tenure              int64\n",
       "service_type               object\n",
       "tenure_bins                object\n",
       "dtype: object"
      ]
     },
     "execution_count": 3,
     "metadata": {},
     "output_type": "execute_result"
    }
   ],
   "source": [
    "#checking out dytpes\n",
    "df.dtypes"
   ]
  },
  {
   "cell_type": "markdown",
   "id": "5b9cef46",
   "metadata": {},
   "source": [
    "<b><u>Takeaways:</b></u>\n",
    "- I can already see that later down the road, I am going to want to change certain columns from object to float or bool so that I can have numbers to work with in my models those A or B/Yes or No columns\n",
    "- I know my target (y) will be churn...again, after exploring, I want to change that to a bool"
   ]
  },
  {
   "cell_type": "code",
   "execution_count": 8,
   "id": "07433d98",
   "metadata": {
    "scrolled": true
   },
   "outputs": [
    {
     "data": {
      "text/plain": [
       "customer_id                0\n",
       "gender                     0\n",
       "is_senior_citizen          0\n",
       "partner                    0\n",
       "dependents                 0\n",
       "phone_service              0\n",
       "internet_service           0\n",
       "contract_type              0\n",
       "payment_type               0\n",
       "monthly_charges            0\n",
       "total_charges             11\n",
       "churn                      0\n",
       "tenure                     0\n",
       "is_auto                    0\n",
       "is_female                  0\n",
       "has_churned                0\n",
       "has_phone                  0\n",
       "has_internet               0\n",
       "has_phone_internet         0\n",
       "partner_dependants         0\n",
       "calculated_monthly_avg     0\n",
       "validate                   0\n",
       "phone_service_type         0\n",
       "internet_service_type      0\n",
       "contract_type.1            0\n",
       "rounded_tenure             0\n",
       "service_type               0\n",
       "tenure_bins                0\n",
       "dtype: int64"
      ]
     },
     "execution_count": 8,
     "metadata": {},
     "output_type": "execute_result"
    }
   ],
   "source": [
    "#it looks like I will want to fillna the the total_charges. Because it is a total charge, I am going to use mean (or average) of the total charges to fill those in.\n",
    "df.isnull().sum()"
   ]
  },
  {
   "cell_type": "code",
   "execution_count": 32,
   "id": "edf6165c",
   "metadata": {},
   "outputs": [
    {
     "data": {
      "text/plain": [
       "customer_id               0\n",
       "gender                    0\n",
       "is_senior_citizen         0\n",
       "partner                   0\n",
       "dependents                0\n",
       "phone_service             0\n",
       "internet_service          0\n",
       "contract_type             0\n",
       "payment_type              0\n",
       "monthly_charges           0\n",
       "total_charges             0\n",
       "churn                     0\n",
       "tenure                    0\n",
       "is_auto                   0\n",
       "is_female                 0\n",
       "has_churned               0\n",
       "has_phone                 0\n",
       "has_internet              0\n",
       "has_phone_internet        0\n",
       "partner_dependants        0\n",
       "calculated_monthly_avg    0\n",
       "validate                  0\n",
       "phone_service_type        0\n",
       "internet_service_type     0\n",
       "contract_type.1           0\n",
       "rounded_tenure            0\n",
       "service_type              0\n",
       "tenure_bins               0\n",
       "dtype: int64"
      ]
     },
     "execution_count": 32,
     "metadata": {},
     "output_type": "execute_result"
    }
   ],
   "source": [
    "#let's fill in those NaNs\n",
    "total_mean=df.total_charges.mean()\n",
    "df['total_charges'].fillna(value=total_mean, inplace=True)\n",
    "\n",
    "df.isnull().sum()"
   ]
  },
  {
   "cell_type": "code",
   "execution_count": 14,
   "id": "4abb4b1e",
   "metadata": {},
   "outputs": [
    {
     "data": {
      "text/plain": [
       "0.0    5907\n",
       "1.0    1142\n",
       "Name: is_senior_citizen, dtype: int64"
      ]
     },
     "execution_count": 14,
     "metadata": {},
     "output_type": "execute_result"
    }
   ],
   "source": [
    "#for senior citizen demographics: \n",
    "df.is_senior_citizen.value_counts()\n",
    "\n",
    "#TAKE AWAYS: Senior citizens make up 19% of Telco customers"
   ]
  },
  {
   "cell_type": "code",
   "execution_count": 6,
   "id": "b5aa7b83",
   "metadata": {},
   "outputs": [
    {
     "data": {
      "text/plain": [
       "0    3281\n",
       "3    1754\n",
       "1    1653\n",
       "2     361\n",
       "Name: partner_dependants, dtype: int64"
      ]
     },
     "execution_count": 6,
     "metadata": {},
     "output_type": "execute_result"
    }
   ],
   "source": [
    "#for clients with partner and/or dependants demographics: \n",
    "#note: 0= single |  3= has partner AND dependants | 2= has dependants  | 1= has partner\n",
    "df.partner_dependants.value_counts()\n",
    "\n",
    "#Takeaways: Singles represent 47% of Telco customers\n",
    "          # Families represent 25% of Telco customers\n",
    "          # Parteners represent 23% of Telco customers\n",
    "          # Single parents represent 5% of Telco customers"
   ]
  },
  {
   "cell_type": "code",
   "execution_count": 7,
   "id": "8880a5d2",
   "metadata": {},
   "outputs": [
    {
     "data": {
      "text/plain": [
       "Male      3558\n",
       "Female    3491\n",
       "Name: gender, dtype: int64"
      ]
     },
     "execution_count": 7,
     "metadata": {},
     "output_type": "execute_result"
    }
   ],
   "source": [
    "#for gender demographics:\n",
    "df.gender.value_counts()\n",
    "\n",
    "#Takeaways: Males represent 50% of Telco customers\n",
    "          # Females represent 50% of Telco customers"
   ]
  },
  {
   "cell_type": "markdown",
   "id": "c3c9bc4e",
   "metadata": {},
   "source": [
    "## Next Steps:\n",
    "- ✅ Creating range columns (for upcoming hypothesis testing) \n",
    "- Changing objects to floats for hypothesis testing\n",
    "- Explore some charts of the data (histograms comparing demographics)"
   ]
  },
  {
   "cell_type": "code",
   "execution_count": 33,
   "id": "de6aff5b",
   "metadata": {},
   "outputs": [],
   "source": [
    "#creating the columns for range in the statistical table of df\n",
    "##used this great function from Faith Kane\n",
    "def col_range(df):\n",
    "    stats_df = df.describe().T\n",
    "    stats_df['range'] = stats_df['max'] - stats_df['min']\n",
    "    return stats_df"
   ]
  },
  {
   "cell_type": "code",
   "execution_count": 39,
   "id": "9bbb5bef",
   "metadata": {},
   "outputs": [
    {
     "data": {
      "text/html": [
       "<div>\n",
       "<style scoped>\n",
       "    .dataframe tbody tr th:only-of-type {\n",
       "        vertical-align: middle;\n",
       "    }\n",
       "\n",
       "    .dataframe tbody tr th {\n",
       "        vertical-align: top;\n",
       "    }\n",
       "\n",
       "    .dataframe thead th {\n",
       "        text-align: right;\n",
       "    }\n",
       "</style>\n",
       "<table border=\"1\" class=\"dataframe\">\n",
       "  <thead>\n",
       "    <tr style=\"text-align: right;\">\n",
       "      <th></th>\n",
       "      <th>count</th>\n",
       "      <th>mean</th>\n",
       "      <th>std</th>\n",
       "      <th>min</th>\n",
       "      <th>25%</th>\n",
       "      <th>50%</th>\n",
       "      <th>75%</th>\n",
       "      <th>max</th>\n",
       "      <th>range</th>\n",
       "    </tr>\n",
       "  </thead>\n",
       "  <tbody>\n",
       "    <tr>\n",
       "      <th>is_senior_citizen</th>\n",
       "      <td>7049.0</td>\n",
       "      <td>0.162009</td>\n",
       "      <td>0.368485</td>\n",
       "      <td>0.00</td>\n",
       "      <td>0.000000</td>\n",
       "      <td>0.000000</td>\n",
       "      <td>0.000000</td>\n",
       "      <td>1.000000</td>\n",
       "      <td>1.000000</td>\n",
       "    </tr>\n",
       "    <tr>\n",
       "      <th>phone_service</th>\n",
       "      <td>7049.0</td>\n",
       "      <td>1.324585</td>\n",
       "      <td>0.642709</td>\n",
       "      <td>0.00</td>\n",
       "      <td>1.000000</td>\n",
       "      <td>1.000000</td>\n",
       "      <td>2.000000</td>\n",
       "      <td>2.000000</td>\n",
       "      <td>2.000000</td>\n",
       "    </tr>\n",
       "    <tr>\n",
       "      <th>internet_service</th>\n",
       "      <td>7049.0</td>\n",
       "      <td>1.222585</td>\n",
       "      <td>0.779068</td>\n",
       "      <td>0.00</td>\n",
       "      <td>1.000000</td>\n",
       "      <td>1.000000</td>\n",
       "      <td>2.000000</td>\n",
       "      <td>2.000000</td>\n",
       "      <td>2.000000</td>\n",
       "    </tr>\n",
       "    <tr>\n",
       "      <th>contract_type</th>\n",
       "      <td>7049.0</td>\n",
       "      <td>0.690878</td>\n",
       "      <td>0.833757</td>\n",
       "      <td>0.00</td>\n",
       "      <td>0.000000</td>\n",
       "      <td>0.000000</td>\n",
       "      <td>1.000000</td>\n",
       "      <td>2.000000</td>\n",
       "      <td>2.000000</td>\n",
       "    </tr>\n",
       "    <tr>\n",
       "      <th>monthly_charges</th>\n",
       "      <td>7049.0</td>\n",
       "      <td>64.747014</td>\n",
       "      <td>30.099460</td>\n",
       "      <td>18.25</td>\n",
       "      <td>35.450000</td>\n",
       "      <td>70.350000</td>\n",
       "      <td>89.850000</td>\n",
       "      <td>118.750000</td>\n",
       "      <td>100.500000</td>\n",
       "    </tr>\n",
       "    <tr>\n",
       "      <th>total_charges</th>\n",
       "      <td>7049.0</td>\n",
       "      <td>2283.043883</td>\n",
       "      <td>2264.752583</td>\n",
       "      <td>18.80</td>\n",
       "      <td>402.500000</td>\n",
       "      <td>1400.300000</td>\n",
       "      <td>3784.000000</td>\n",
       "      <td>8684.800000</td>\n",
       "      <td>8666.000000</td>\n",
       "    </tr>\n",
       "    <tr>\n",
       "      <th>tenure</th>\n",
       "      <td>7049.0</td>\n",
       "      <td>32.379866</td>\n",
       "      <td>24.595524</td>\n",
       "      <td>0.00</td>\n",
       "      <td>8.733456</td>\n",
       "      <td>28.683425</td>\n",
       "      <td>55.229399</td>\n",
       "      <td>79.341772</td>\n",
       "      <td>79.341772</td>\n",
       "    </tr>\n",
       "    <tr>\n",
       "      <th>is_auto</th>\n",
       "      <td>7049.0</td>\n",
       "      <td>0.435806</td>\n",
       "      <td>0.495897</td>\n",
       "      <td>0.00</td>\n",
       "      <td>0.000000</td>\n",
       "      <td>0.000000</td>\n",
       "      <td>1.000000</td>\n",
       "      <td>1.000000</td>\n",
       "      <td>1.000000</td>\n",
       "    </tr>\n",
       "    <tr>\n",
       "      <th>partner_dependants</th>\n",
       "      <td>7049.0</td>\n",
       "      <td>1.083416</td>\n",
       "      <td>1.226883</td>\n",
       "      <td>0.00</td>\n",
       "      <td>0.000000</td>\n",
       "      <td>1.000000</td>\n",
       "      <td>2.000000</td>\n",
       "      <td>3.000000</td>\n",
       "      <td>3.000000</td>\n",
       "    </tr>\n",
       "    <tr>\n",
       "      <th>rounded_tenure</th>\n",
       "      <td>7049.0</td>\n",
       "      <td>32.374805</td>\n",
       "      <td>24.596637</td>\n",
       "      <td>0.00</td>\n",
       "      <td>9.000000</td>\n",
       "      <td>29.000000</td>\n",
       "      <td>55.000000</td>\n",
       "      <td>79.000000</td>\n",
       "      <td>79.000000</td>\n",
       "    </tr>\n",
       "  </tbody>\n",
       "</table>\n",
       "</div>"
      ],
      "text/plain": [
       "                     count         mean          std    min         25%  \\\n",
       "is_senior_citizen   7049.0     0.162009     0.368485   0.00    0.000000   \n",
       "phone_service       7049.0     1.324585     0.642709   0.00    1.000000   \n",
       "internet_service    7049.0     1.222585     0.779068   0.00    1.000000   \n",
       "contract_type       7049.0     0.690878     0.833757   0.00    0.000000   \n",
       "monthly_charges     7049.0    64.747014    30.099460  18.25   35.450000   \n",
       "total_charges       7049.0  2283.043883  2264.752583  18.80  402.500000   \n",
       "tenure              7049.0    32.379866    24.595524   0.00    8.733456   \n",
       "is_auto             7049.0     0.435806     0.495897   0.00    0.000000   \n",
       "partner_dependants  7049.0     1.083416     1.226883   0.00    0.000000   \n",
       "rounded_tenure      7049.0    32.374805    24.596637   0.00    9.000000   \n",
       "\n",
       "                            50%          75%          max        range  \n",
       "is_senior_citizen      0.000000     0.000000     1.000000     1.000000  \n",
       "phone_service          1.000000     2.000000     2.000000     2.000000  \n",
       "internet_service       1.000000     2.000000     2.000000     2.000000  \n",
       "contract_type          0.000000     1.000000     2.000000     2.000000  \n",
       "monthly_charges       70.350000    89.850000   118.750000   100.500000  \n",
       "total_charges       1400.300000  3784.000000  8684.800000  8666.000000  \n",
       "tenure                28.683425    55.229399    79.341772    79.341772  \n",
       "is_auto                0.000000     1.000000     1.000000     1.000000  \n",
       "partner_dependants     1.000000     2.000000     3.000000     3.000000  \n",
       "rounded_tenure        29.000000    55.000000    79.000000    79.000000  "
      ]
     },
     "execution_count": 39,
     "metadata": {},
     "output_type": "execute_result"
    }
   ],
   "source": [
    "col_range(df)"
   ]
  },
  {
   "cell_type": "code",
   "execution_count": 96,
   "id": "f2ba11e0",
   "metadata": {},
   "outputs": [],
   "source": [
    "# Preparing and Seperating the Data:\n",
    "#- Separating the Splitting data to begin exploration and hypothesis testing\n",
    "##note: this will be added to the prepare.py file\n",
    "def telco_split(df):\n",
    "    '''\n",
    "    This function takes in Telco data from the acquire.py file,\n",
    "    performs a split and stratifies on churn.\n",
    "    Returns train, validate, and test dfs.\n",
    "    '''\n",
    "    train_validate, test = train_test_split(df, test_size=.2, \n",
    "                                        random_state=123, \n",
    "                                        stratify=df.churn)\n",
    "    train, validate = train_test_split(train_validate, test_size=.3, \n",
    "                                   random_state=123, \n",
    "                                   stratify=train_validate.churn)\n",
    "    return train, validate, test"
   ]
  },
  {
   "cell_type": "code",
   "execution_count": 97,
   "id": "b295eecb",
   "metadata": {},
   "outputs": [],
   "source": [
    "def prep_telco(df):\n",
    "    '''\n",
    "    This function takes in the Telco df(via acquire.py).\n",
    "    It drops the species_id column and renames species_name to species, \n",
    "    Performs a 3-way split stratified on churn, and\n",
    "    Returns train, validate, and test dataframes.\n",
    "    '''\n",
    "    # drop and rename columns\n",
    "    df = df.drop(columns='customer_id').rename(columns={'has_churned': 'Churned_Customers'})\n",
    "    \n",
    "    # split dataframe into train, validate, and test\n",
    "    train, validate, test = telco_split(df)\n",
    "    \n",
    "    return train, validate, test"
   ]
  },
  {
   "cell_type": "code",
   "execution_count": 98,
   "id": "ea56709d",
   "metadata": {},
   "outputs": [
    {
     "name": "stdout",
     "output_type": "stream",
     "text": [
      "train -> (3947, 27)\n",
      "validate -> (1692, 27)\n",
      "test -> (1410, 27)\n"
     ]
    }
   ],
   "source": [
    "train, validate, test = prep_telco(df)\n",
    "\n",
    "print(f'train -> {train.shape}')\n",
    "print(f'validate -> {validate.shape}')\n",
    "print(f'test -> {test.shape}')"
   ]
  },
  {
   "cell_type": "code",
   "execution_count": null,
   "id": "dbdbd494",
   "metadata": {},
   "outputs": [],
   "source": []
  }
 ],
 "metadata": {
  "kernelspec": {
   "display_name": "Python 3 (ipykernel)",
   "language": "python",
   "name": "python3"
  },
  "language_info": {
   "codemirror_mode": {
    "name": "ipython",
    "version": 3
   },
   "file_extension": ".py",
   "mimetype": "text/x-python",
   "name": "python",
   "nbconvert_exporter": "python",
   "pygments_lexer": "ipython3",
   "version": "3.9.7"
  }
 },
 "nbformat": 4,
 "nbformat_minor": 5
}
