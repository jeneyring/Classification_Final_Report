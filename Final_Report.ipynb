{
 "cells": [
  {
   "cell_type": "markdown",
   "id": "9c369a18",
   "metadata": {},
   "source": [
    "# THE WHO and WHY of Telco Churn "
   ]
  },
  {
   "cell_type": "code",
   "execution_count": 2,
   "id": "8eb9c34e",
   "metadata": {},
   "outputs": [],
   "source": [
    "import warnings\n",
    "warnings.filterwarnings(\"ignore\")\n",
    "\n",
    "#adding those necessities\n",
    "import pandas as pd\n",
    "import numpy as np\n",
    "import matplotlib.pyplot as plt\n",
    "import seaborn as sns\n",
    "from scipy import stats\n",
    "import pydataset as data\n",
    "\n",
    "#sklearn tools:: working those models!\n",
    "from sklearn.model_selection import train_test_split\n",
    "from sklearn.tree import DecisionTreeClassifier, plot_tree\n",
    "from sklearn.metrics import classification_report\n",
    "from sklearn.metrics import confusion_matrix\n",
    "from sklearn.metrics import precision_recall_fscore_support\n",
    "from sklearn.metrics import accuracy_score\n",
    "from sklearn.ensemble import RandomForestClassifier\n",
    "from sklearn.neighbors import KNeighborsClassifier\n",
    "from sklearn.linear_model import LogisticRegression\n",
    "\n",
    "#calling those py files\n",
    "from acquire import get_telco_data\n",
    "from prepare import clean_telco_data, prep_telco_data\n",
    "\n",
    "from env import get_db_url\n",
    "\n",
    "α = .05\n",
    "\n",
    "#calling the dataframe\n",
    "telco_df = get_telco_data()\n",
    "#prepped and split\n",
    "train, validate, test = prep_telco_data(telco_df)"
   ]
  },
  {
   "cell_type": "code",
   "execution_count": null,
   "id": "3b555079",
   "metadata": {},
   "outputs": [],
   "source": []
  },
  {
   "cell_type": "markdown",
   "id": "efe19af8",
   "metadata": {},
   "source": [
    "# Question: Is there a specific demographic group that is associated with more churn than expected?"
   ]
  },
  {
   "cell_type": "markdown",
   "id": "53563b99",
   "metadata": {},
   "source": [
    "## Goal: Find the main demographic drivers and their subgroups for Telco churn.\n",
    "*I decided to look into demographics first, as this wasn't subgroups I was able to explore last presentation project."
   ]
  },
  {
   "cell_type": "code",
   "execution_count": null,
   "id": "878308f4",
   "metadata": {},
   "outputs": [],
   "source": []
  },
  {
   "cell_type": "markdown",
   "id": "fdc7b555",
   "metadata": {},
   "source": [
    "## QUESTION 1: Are more churned customers single and/or without dependents?\n",
    "\n",
    "### Hypothesis 1:\n",
    "- <i>H0: There is NO relationship between churn and customers without partners\n",
    "- <i>Ha: There IS a relationship between churn and customers without partners"
   ]
  },
  {
   "cell_type": "code",
   "execution_count": 4,
   "id": "6cd306ec",
   "metadata": {},
   "outputs": [
    {
     "name": "stdout",
     "output_type": "stream",
     "text": [
      "The p-value is 2.0115703972096128e-23\n",
      "Sufficient evidence is present to reject the null hypothesis\n"
     ]
    }
   ],
   "source": [
    "# Chi squared with un-encoded categorical columns\n",
    "# Null hypothesis: churn rate has no relation to partnerships of customers\n",
    "# Alternative hypothesis: there is a relationship between churn rate and partnerships of customers\n",
    "alpha = 0.05\n",
    "observed = pd.crosstab(train.churn, train.partner)\n",
    "chi2, p, degf, expected = stats.chi2_contingency(observed)\n",
    "print(f\"The p-value is {p}\")\n",
    "if p < alpha:\n",
    "    print(\"Sufficient evidence is present to reject the null hypothesis\")\n",
    "else:\n",
    "    print(\"Insufficient evidence to reject the null\")\n",
    "    print(\"Evidence seems to support the claim that partnership and churn are independent\")"
   ]
  },
  {
   "cell_type": "markdown",
   "id": "accd7553",
   "metadata": {},
   "source": [
    "#### USING VISUALS..."
   ]
  },
  {
   "cell_type": "code",
   "execution_count": 8,
   "id": "091abb74",
   "metadata": {},
   "outputs": [
    {
     "data": {
      "text/plain": [
       "<seaborn.axisgrid.FacetGrid at 0x7fc3f5b43a60>"
      ]
     },
     "execution_count": 8,
     "metadata": {},
     "output_type": "execute_result"
    },
    {
     "data": {
      "image/png": "[encoded data removed]",
      "text/plain": [
       "<Figure size 427.25x360 with 1 Axes>"
      ]
     },
     "metadata": {
      "needs_background": "light"
     },
     "output_type": "display_data"
    }
   ],
   "source": [
    "# Binary encode the target variable\n",
    "train.churn = train.churn == \"Yes\"\n",
    "#Relationship between churn, customers having partners and dependents\n",
    "sns.catplot(x=\"partner\", y =\"churn\",  hue=\"dependents\",data=train, kind=\"bar\")"
   ]
  },
  {
   "cell_type": "markdown",
   "id": "8ebbdaa9",
   "metadata": {},
   "source": [
    "## OUTCOME: I rejected the Null Hypothesis, in that there is a relationship with single customers and churn."
   ]
  },
  {
   "cell_type": "code",
   "execution_count": null,
   "id": "1c19d36d",
   "metadata": {},
   "outputs": [],
   "source": []
  },
  {
   "cell_type": "code",
   "execution_count": null,
   "id": "e864964d",
   "metadata": {},
   "outputs": [],
   "source": []
  },
  {
   "cell_type": "markdown",
   "id": "1be08f32",
   "metadata": {},
   "source": [
    "## QUESTION 2: Are more Senior Citizens churning than other age groups?\n",
    "\n",
    "Hypothesis 2:\n",
    "\n",
    "* <i>H0: There is NO relationship between churn and Senior customers.\n",
    "* <i>Ha: There IS a relationship between churn and Senior customers."
   ]
  },
  {
   "cell_type": "code",
   "execution_count": 12,
   "id": "3ad3658e",
   "metadata": {},
   "outputs": [
    {
     "name": "stdout",
     "output_type": "stream",
     "text": [
      "The p-value is 1.1002429756735793e-26\n",
      "Sufficient evidence is present to reject the null hypothesis\n"
     ]
    }
   ],
   "source": [
    "# Chi squared with un-encoded categorical columns\n",
    "# Null hypothesis: churn rate has no relation to senior citizen customers\n",
    "# Alternative hypothesis: there is a relationship between churn rate and senior citizens\n",
    "alpha = 0.05\n",
    "observed = pd.crosstab(train.churn, train.senior_citizen)\n",
    "chi2, p, degf, expected = stats.chi2_contingency(observed)\n",
    "print(f\"The p-value is {p}\")\n",
    "if p < alpha:\n",
    "    print(\"Sufficient evidence is present to reject the null hypothesis\")\n",
    "else:\n",
    "    print(\"Insufficient evidence to reject the null\")\n",
    "    print(\"Evidence seems to support the claim that senior_citizens and churn are independent\")"
   ]
  },
  {
   "cell_type": "markdown",
   "id": "ef82fc06",
   "metadata": {},
   "source": [
    "#### USING VISUALS..."
   ]
  },
  {
   "cell_type": "code",
   "execution_count": 14,
   "id": "5d8961f5",
   "metadata": {},
   "outputs": [
    {
     "data": {
      "image/png": "[encoded data removed]",
      "text/plain": [
       "<Figure size 432x288 with 1 Axes>"
      ]
     },
     "metadata": {
      "needs_background": "light"
     },
     "output_type": "display_data"
    }
   ],
   "source": [
    "#let's look at the numbers visually\n",
    "barplot = observed.plot.bar(rot=0)"
   ]
  },
  {
   "cell_type": "markdown",
   "id": "6f5eefa8",
   "metadata": {},
   "source": [
    "## OUTCOME: I rejected the Null Hypothesis, in that there is a relationship with senior customers and churn.\n",
    "- From first glance, because of the low amount of Senior Citizen data count, it looks like customers 59 and younger have more churns. By numbers, YES, 59 and younger DO have more churn, but by churn rate based on its own category, Senior Citizens have the highest churn rate.\n",
    "\n",
    "<b>Senior Citizens: 41% churned\n",
    "59 and younger customers: 24% churned</b>\n"
   ]
  },
  {
   "cell_type": "code",
   "execution_count": null,
   "id": "3ff5874f",
   "metadata": {},
   "outputs": [],
   "source": []
  },
  {
   "cell_type": "code",
   "execution_count": null,
   "id": "853d9dbb",
   "metadata": {},
   "outputs": [],
   "source": []
  },
  {
   "cell_type": "markdown",
   "id": "3bc14588",
   "metadata": {},
   "source": [
    "## INTERNET TYPE ACCOUNTS- Are you getting enough FIBER??\n",
    "\n",
    "Seeing if internet type relates to the churn rate.\n",
    "\n",
    "* H0: There is NO relationship between internet type of accounts and customers churning.\n",
    "* Ha: There IS a relationship between internet type of and customers churning."
   ]
  },
  {
   "cell_type": "code",
   "execution_count": 20,
   "id": "ec2213c4",
   "metadata": {},
   "outputs": [
    {
     "name": "stdout",
     "output_type": "stream",
     "text": [
      "The p-value is 2.4617612720873587e-96\n",
      "Sufficient evidence is present to reject the null hypothesis\n"
     ]
    }
   ],
   "source": [
    "# Chi squared with un-encoded categorical columns\n",
    "alpha = 0.05\n",
    "observed = pd.crosstab(train.internet_service_type, train.churn)\n",
    "chi2, p, degf, expected = stats.chi2_contingency(observed)\n",
    "print(f\"The p-value is {p}\")\n",
    "if p < alpha:\n",
    "    print(\"Sufficient evidence is present to reject the null hypothesis\")\n",
    "else:\n",
    "    print(\"Insufficient evidence to reject the null\")\n",
    "    print(\"Evidence seems to support the claim that senior customers and internet account types are independent\")"
   ]
  },
  {
   "cell_type": "code",
   "execution_count": 21,
   "id": "3da05e1a",
   "metadata": {},
   "outputs": [
    {
     "data": {
      "text/plain": [
       "<seaborn.axisgrid.FacetGrid at 0x7fc3f67d04c0>"
      ]
     },
     "execution_count": 21,
     "metadata": {},
     "output_type": "execute_result"
    },
    {
     "data": {
      "image/png": "[encoded data removed]",
      "text/plain": [
       "<Figure size 436.5x360 with 1 Axes>"
      ]
     },
     "metadata": {
      "needs_background": "light"
     },
     "output_type": "display_data"
    }
   ],
   "source": [
    "#Relationship between Senior customers and their internet service type against their churn rate\n",
    "sns.catplot(x=\"internet_service_type\", y =\"churn\",  hue=\"senior_citizen\",data=train, kind=\"bar\")"
   ]
  },
  {
   "cell_type": "code",
   "execution_count": null,
   "id": "e2617ffd",
   "metadata": {},
   "outputs": [],
   "source": []
  },
  {
   "cell_type": "code",
   "execution_count": null,
   "id": "c05593d5",
   "metadata": {},
   "outputs": [],
   "source": []
  },
  {
   "cell_type": "markdown",
   "id": "220be423",
   "metadata": {},
   "source": [
    "# MODELING: Strike a pose...and get learning\n",
    "The models I went through in my training exploration were:\n",
    "  * <u><b>Logistical Regression: </u></b>I chose this first to weigh all of the numeric data against target\n",
    "  * <u>Decision Tree:</u>\n",
    "  * <u>Random Forest:</u>\n",
    "  * <u>KNN:</u>"
   ]
  },
  {
   "cell_type": "markdown",
   "id": "40e48c50",
   "metadata": {},
   "source": [
    "<b>BASELINE: 73%</b>"
   ]
  },
  {
   "cell_type": "code",
   "execution_count": 23,
   "id": "06097d33",
   "metadata": {},
   "outputs": [
    {
     "data": {
      "text/plain": [
       "0.7342222222222222"
      ]
     },
     "execution_count": 23,
     "metadata": {},
     "output_type": "execute_result"
    }
   ],
   "source": [
    "#Defining the baseline prediction:\n",
    "train.churn.mode()\n",
    "#Mode meaning when a customer did not churn, so our baseline guess would be that a customer will not churn. \n",
    "\n",
    "\n",
    "#Calculating the percentage of customers that churned:\n",
    "train[train['churn'] == False].shape[0] / train.shape[0]"
   ]
  },
  {
   "cell_type": "markdown",
   "id": "8cfa76e0",
   "metadata": {},
   "source": [
    "## Logistical Regression: all features- 80% | only chosen features -74%\n",
    "\n",
    "## Decision Tree: train-83% | val-79%|max depth-8\n",
    "\n",
    "## Random Forest: train-84% | val-80% | max depth-9 | diff-3%\n",
    "## Random Forest: train-84% | val-81% | max depth-14 | minleaf-6 | diff-3%\n",
    "\n",
    "## KNN: 82% acc. | 5 neighbors"
   ]
  },
  {
   "cell_type": "code",
   "execution_count": null,
   "id": "0d97e627",
   "metadata": {},
   "outputs": [],
   "source": []
  }
 ],
 "metadata": {
  "kernelspec": {
   "display_name": "Python 3 (ipykernel)",
   "language": "python",
   "name": "python3"
  },
  "language_info": {
   "codemirror_mode": {
    "name": "ipython",
    "version": 3
   },
   "file_extension": ".py",
   "mimetype": "text/x-python",
   "name": "python",
   "nbconvert_exporter": "python",
   "pygments_lexer": "ipython3",
   "version": "3.9.7"
  }
 },
 "nbformat": 4,
 "nbformat_minor": 5
}
