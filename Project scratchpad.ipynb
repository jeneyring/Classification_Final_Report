{
 "cells": [
  {
   "cell_type": "code",
   "execution_count": 1,
   "id": "2f304420",
   "metadata": {},
   "outputs": [],
   "source": [
    "import warnings\n",
    "warnings.filterwarnings(\"ignore\")\n",
    "\n",
    "import pandas as pd\n",
    "import numpy as np\n",
    "import matplotlib.pyplot as plt\n",
    "import seaborn as sns\n",
    "from scipy import stats\n",
    "# preparing\n",
    "from sklearn.model_selection import train_test_split\n",
    "from sklearn.preprocessing import LabelEncoder\n",
    "from sklearn.preprocessing import MinMaxScaler\n",
    "from sklearn.impute import SimpleImputer\n",
    "from sklearn.preprocessing import OneHotEncoder\n",
    "\n",
    "# modeling and evaluating\n",
    "from sklearn.linear_model import LogisticRegression\n",
    "from sklearn.metrics import classification_report, confusion_matrix, precision_score, recall_score, accuracy_score\n",
    "\n",
    "\n",
    "np.random.seed(123)\n",
    "\n",
    "import acquire"
   ]
  },
  {
   "cell_type": "markdown",
   "id": "bb3f051c",
   "metadata": {},
   "source": [
    "# Goal: Find the main demographic driver for Telco churn."
   ]
  },
  {
   "cell_type": "markdown",
   "id": "58274a6b",
   "metadata": {},
   "source": [
    "<u> Demographics I'll be looking at:</u>\n",
    "\n",
    "- Senior citizens\n",
    "- Single customers\n",
    "- Customers with Partners\n",
    "- Customers with Dependants\n",
    "- Customers with Partner & Dependants\n",
    "\n",
    "<u> Subgroups to compare once main driver is found, if I want to get more specific: </u>\n",
    "- Gender\n",
    "- monthly charges\n",
    "- tenure"
   ]
  },
  {
   "cell_type": "markdown",
   "id": "6cc93b33",
   "metadata": {},
   "source": [
    "### Notes: By looking at the above demographics I want to find:\n",
    "1) Highest churned demographic group (of the above)\n",
    "- Note: I will first need to look at the group as whole (all churned and which group had most churns)\n",
    "- Note: Then I should consider churn rate based with each group (example: senior citizens that have and have not churned rate)"
   ]
  },
  {
   "cell_type": "markdown",
   "id": "6ab34d29",
   "metadata": {},
   "source": [
    "# Getting to know my data:"
   ]
  },
  {
   "cell_type": "code",
   "execution_count": 2,
   "id": "c85a4b33",
   "metadata": {},
   "outputs": [
    {
     "data": {
      "text/plain": [
       "Index(['customer_id', 'gender', 'is_senior_citizen', 'partner', 'dependents',\n",
       "       'phone_service', 'internet_service', 'contract_type', 'payment_type',\n",
       "       'monthly_charges', 'total_charges', 'churn', 'tenure', 'is_auto',\n",
       "       'is_female', 'has_churned', 'has_phone', 'has_internet',\n",
       "       'has_phone_internet', 'partner_dependants', 'calculated_monthly_avg',\n",
       "       'validate', 'phone_service_type', 'internet_service_type',\n",
       "       'contract_type.1', 'rounded_tenure', 'service_type', 'tenure_bins'],\n",
       "      dtype='object')"
      ]
     },
     "execution_count": 2,
     "metadata": {},
     "output_type": "execute_result"
    }
   ],
   "source": [
    "#I am using the excel version as it was easier to acquire from my computer\n",
    "df= acquire.excel_file()\n",
    "#looking at columns as there seems to be alot\n",
    "df.columns"
   ]
  },
  {
   "cell_type": "code",
   "execution_count": 3,
   "id": "f82dadcc",
   "metadata": {},
   "outputs": [
    {
     "data": {
      "text/plain": [
       "customer_id                object\n",
       "gender                     object\n",
       "is_senior_citizen         float64\n",
       "partner                    object\n",
       "dependents                 object\n",
       "phone_service             float64\n",
       "internet_service          float64\n",
       "contract_type             float64\n",
       "payment_type               object\n",
       "monthly_charges           float64\n",
       "total_charges             float64\n",
       "churn                      object\n",
       "tenure                    float64\n",
       "is_auto                     int64\n",
       "is_female                    bool\n",
       "has_churned                  bool\n",
       "has_phone                    bool\n",
       "has_internet                 bool\n",
       "has_phone_internet           bool\n",
       "partner_dependants          int64\n",
       "calculated_monthly_avg     object\n",
       "validate                   object\n",
       "phone_service_type         object\n",
       "internet_service_type      object\n",
       "contract_type.1            object\n",
       "rounded_tenure              int64\n",
       "service_type               object\n",
       "tenure_bins                object\n",
       "dtype: object"
      ]
     },
     "execution_count": 3,
     "metadata": {},
     "output_type": "execute_result"
    }
   ],
   "source": [
    "#checking out dytpes\n",
    "df.dtypes"
   ]
  },
  {
   "cell_type": "markdown",
   "id": "765f5a7e",
   "metadata": {},
   "source": [
    "<b><u>Takeaways:</b></u>\n",
    "- I can already see that later down the road, I am going to want to change certain columns from object to float or bool so that I can have numbers to work with in my models those A or B/Yes or No columns\n",
    "- I know my target (y) will be churn...again, after exploring, I want to change that to a bool"
   ]
  },
  {
   "cell_type": "code",
   "execution_count": 4,
   "id": "07433d98",
   "metadata": {
    "scrolled": true
   },
   "outputs": [
    {
     "data": {
      "text/plain": [
       "customer_id                0\n",
       "gender                     0\n",
       "is_senior_citizen          0\n",
       "partner                    0\n",
       "dependents                 0\n",
       "phone_service              0\n",
       "internet_service           0\n",
       "contract_type              0\n",
       "payment_type               0\n",
       "monthly_charges            0\n",
       "total_charges             11\n",
       "churn                      0\n",
       "tenure                     0\n",
       "is_auto                    0\n",
       "is_female                  0\n",
       "has_churned                0\n",
       "has_phone                  0\n",
       "has_internet               0\n",
       "has_phone_internet         0\n",
       "partner_dependants         0\n",
       "calculated_monthly_avg     0\n",
       "validate                   0\n",
       "phone_service_type         0\n",
       "internet_service_type      0\n",
       "contract_type.1            0\n",
       "rounded_tenure             0\n",
       "service_type               0\n",
       "tenure_bins                0\n",
       "dtype: int64"
      ]
     },
     "execution_count": 4,
     "metadata": {},
     "output_type": "execute_result"
    }
   ],
   "source": [
    "#it looks like I will want to fillna the the total_charges. Because it is a total charge, I am going to use mean (or average) of the total charges to fill those in.\n",
    "df.isnull().sum()"
   ]
  },
  {
   "cell_type": "code",
   "execution_count": 5,
   "id": "708e0a9a",
   "metadata": {},
   "outputs": [
    {
     "data": {
      "text/plain": [
       "customer_id               0\n",
       "gender                    0\n",
       "is_senior_citizen         0\n",
       "partner                   0\n",
       "dependents                0\n",
       "phone_service             0\n",
       "internet_service          0\n",
       "contract_type             0\n",
       "payment_type              0\n",
       "monthly_charges           0\n",
       "total_charges             0\n",
       "churn                     0\n",
       "tenure                    0\n",
       "is_auto                   0\n",
       "is_female                 0\n",
       "has_churned               0\n",
       "has_phone                 0\n",
       "has_internet              0\n",
       "has_phone_internet        0\n",
       "partner_dependants        0\n",
       "calculated_monthly_avg    0\n",
       "validate                  0\n",
       "phone_service_type        0\n",
       "internet_service_type     0\n",
       "contract_type.1           0\n",
       "rounded_tenure            0\n",
       "service_type              0\n",
       "tenure_bins               0\n",
       "dtype: int64"
      ]
     },
     "execution_count": 5,
     "metadata": {},
     "output_type": "execute_result"
    }
   ],
   "source": [
    "#let's fill in those NaNs\n",
    "total_mean=df.total_charges.mean()\n",
    "df['total_charges'].fillna(value=total_mean, inplace=True)\n",
    "\n",
    "df.isnull().sum()"
   ]
  },
  {
   "cell_type": "code",
   "execution_count": 6,
   "id": "4abb4b1e",
   "metadata": {},
   "outputs": [
    {
     "data": {
      "text/plain": [
       "0.0    5907\n",
       "1.0    1142\n",
       "Name: is_senior_citizen, dtype: int64"
      ]
     },
     "execution_count": 6,
     "metadata": {},
     "output_type": "execute_result"
    }
   ],
   "source": [
    "#for senior citizen demographics: \n",
    "df.is_senior_citizen.value_counts()\n",
    "\n",
    "#TAKE AWAYS: Senior-citizens customers make up 19% of Telco customers\n",
    "           # 59 or younger customers make up 81% of Telco customers"
   ]
  },
  {
   "cell_type": "code",
   "execution_count": 7,
   "id": "b5aa7b83",
   "metadata": {},
   "outputs": [
    {
     "data": {
      "text/plain": [
       "0    3281\n",
       "3    1754\n",
       "1    1653\n",
       "2     361\n",
       "Name: partner_dependants, dtype: int64"
      ]
     },
     "execution_count": 7,
     "metadata": {},
     "output_type": "execute_result"
    }
   ],
   "source": [
    "#for clients with partner and/or dependants demographics: \n",
    "#note: 0= single |  3= has partner AND dependants | 2= has dependants  | 1= has partner\n",
    "df.partner_dependants.value_counts()\n",
    "\n",
    "#Takeaways: Singles represent 47% of Telco customers\n",
    "          # Families represent 25% of Telco customers\n",
    "          # Parteners represent 23% of Telco customers\n",
    "          # Single parents represent 5% of Telco customers"
   ]
  },
  {
   "cell_type": "code",
   "execution_count": 8,
   "id": "8880a5d2",
   "metadata": {},
   "outputs": [
    {
     "data": {
      "text/plain": [
       "Male      3558\n",
       "Female    3491\n",
       "Name: gender, dtype: int64"
      ]
     },
     "execution_count": 8,
     "metadata": {},
     "output_type": "execute_result"
    }
   ],
   "source": [
    "#for gender demographics:\n",
    "df.gender.value_counts()\n",
    "\n",
    "#Takeaways: Males represent 50% of Telco customers\n",
    "          # Females represent 50% of Telco customers"
   ]
  },
  {
   "cell_type": "code",
   "execution_count": 9,
   "id": "34f851e1",
   "metadata": {},
   "outputs": [
    {
     "data": {
      "text/html": [
       "<div>\n",
       "<style scoped>\n",
       "    .dataframe tbody tr th:only-of-type {\n",
       "        vertical-align: middle;\n",
       "    }\n",
       "\n",
       "    .dataframe tbody tr th {\n",
       "        vertical-align: top;\n",
       "    }\n",
       "\n",
       "    .dataframe thead th {\n",
       "        text-align: right;\n",
       "    }\n",
       "</style>\n",
       "<table border=\"1\" class=\"dataframe\">\n",
       "  <thead>\n",
       "    <tr style=\"text-align: right;\">\n",
       "      <th></th>\n",
       "      <th>Yes</th>\n",
       "    </tr>\n",
       "  </thead>\n",
       "  <tbody>\n",
       "    <tr>\n",
       "      <th>976</th>\n",
       "      <td>0</td>\n",
       "    </tr>\n",
       "    <tr>\n",
       "      <th>5998</th>\n",
       "      <td>0</td>\n",
       "    </tr>\n",
       "    <tr>\n",
       "      <th>1364</th>\n",
       "      <td>0</td>\n",
       "    </tr>\n",
       "    <tr>\n",
       "      <th>6876</th>\n",
       "      <td>0</td>\n",
       "    </tr>\n",
       "    <tr>\n",
       "      <th>1556</th>\n",
       "      <td>0</td>\n",
       "    </tr>\n",
       "  </tbody>\n",
       "</table>\n",
       "</div>"
      ],
      "text/plain": [
       "      Yes\n",
       "976     0\n",
       "5998    0\n",
       "1364    0\n",
       "6876    0\n",
       "1556    0"
      ]
     },
     "execution_count": 9,
     "metadata": {},
     "output_type": "execute_result"
    }
   ],
   "source": [
    "#Encoding data for later churn use (as right now it is an object and I need numeric for models)\n",
    "# First I create a new dataframe that holds my encoded columns.\n",
    "\n",
    "churn_dummies = pd.get_dummies(df.churn, drop_first=True)\n",
    "churn_dummies.sample(5)"
   ]
  },
  {
   "cell_type": "code",
   "execution_count": 10,
   "id": "4c6e7ac9",
   "metadata": {},
   "outputs": [],
   "source": [
    "# Then I add my encoded columns back onto my original dataframe.\n",
    "\n",
    "df = pd.concat([df, churn_dummies], axis=1)"
   ]
  },
  {
   "cell_type": "code",
   "execution_count": 11,
   "id": "305a1331",
   "metadata": {},
   "outputs": [],
   "source": [
    "#Let's look at the charts for these demographic customers:\n",
    "##specifically high percentage groups: 59 or younger | Singles | (and maybe compare to gender?)"
   ]
  },
  {
   "cell_type": "markdown",
   "id": "5dffb606",
   "metadata": {},
   "source": [
    "## Questions I'm thinking:\n",
    "-  What do I think my drivers are? \n",
    "-  Why?\n",
    "-  How can I look in/prove that?\n",
    "-  Are there needed subgroups that I can use later on?\n",
    "-  What can I get rid of?"
   ]
  },
  {
   "cell_type": "markdown",
   "id": "9bf7471e",
   "metadata": {},
   "source": [
    "Q: What/WHO do I think my drivers are?\n",
    "- I know from the past that <b>non-automated accounts </b>were a major part of the churn, but I never found out WHO these people were.\n",
    "\n",
    "#### <u>I want to know:</u>\n",
    "- Their age, gender, and relationship status [get to know our churns and the probability of a certain demographic leaving]"
   ]
  },
  {
   "cell_type": "markdown",
   "id": "e28ba1df",
   "metadata": {},
   "source": [
    "Q: <i>Why would they churn?</i>\n",
    "- Is it due only to their non-automated accounts or is there another reason within who they are?"
   ]
  },
  {
   "cell_type": "markdown",
   "id": "13f341f0",
   "metadata": {},
   "source": [
    "Q: <i>How could I look at this?</i>\n",
    "- Categorically: churn vs. demographic cateogries w/ chi2 tests and t-tests\n",
    "- Visually: graphs, charts and accuracy rates in model"
   ]
  },
  {
   "cell_type": "markdown",
   "id": "d00df711",
   "metadata": {},
   "source": [
    "Q: <i>What subgroups do I think I will need to help me test churn and demographics?</i>\n",
    "  - monthly charges (if I find a driver, I'd like to see a possible why within $$ the pay)\n",
    "  - account types\n",
    "  - non-automated accounts (to compare to last presentations findings)"
   ]
  },
  {
   "cell_type": "markdown",
   "id": "bb7d151c",
   "metadata": {},
   "source": [
    "## Next Steps:\n",
    "- ✅ Creating range columns (for upcoming hypothesis testing) \n",
    "- ✅ PreProcessing Data (encoding any needed data)\n",
    "- ✅ Prepping and splitting data to Explore and later Train on\n",
    "- ✅ Explore some charts of the data (histograms comparing demographics)"
   ]
  },
  {
   "cell_type": "code",
   "execution_count": 12,
   "id": "055fdbda",
   "metadata": {},
   "outputs": [],
   "source": [
    "#creating the columns for range in the statistical table of df\n",
    "##used this great function from Faith Kane\n",
    "def col_range(df):\n",
    "    stats_df = df.describe().T\n",
    "    stats_df['range'] = stats_df['max'] - stats_df['min']\n",
    "    return stats_df"
   ]
  },
  {
   "cell_type": "code",
   "execution_count": 13,
   "id": "1cf68f78",
   "metadata": {},
   "outputs": [
    {
     "data": {
      "text/html": [
       "<div>\n",
       "<style scoped>\n",
       "    .dataframe tbody tr th:only-of-type {\n",
       "        vertical-align: middle;\n",
       "    }\n",
       "\n",
       "    .dataframe tbody tr th {\n",
       "        vertical-align: top;\n",
       "    }\n",
       "\n",
       "    .dataframe thead th {\n",
       "        text-align: right;\n",
       "    }\n",
       "</style>\n",
       "<table border=\"1\" class=\"dataframe\">\n",
       "  <thead>\n",
       "    <tr style=\"text-align: right;\">\n",
       "      <th></th>\n",
       "      <th>count</th>\n",
       "      <th>mean</th>\n",
       "      <th>std</th>\n",
       "      <th>min</th>\n",
       "      <th>25%</th>\n",
       "      <th>50%</th>\n",
       "      <th>75%</th>\n",
       "      <th>max</th>\n",
       "      <th>range</th>\n",
       "    </tr>\n",
       "  </thead>\n",
       "  <tbody>\n",
       "    <tr>\n",
       "      <th>is_senior_citizen</th>\n",
       "      <td>7049.0</td>\n",
       "      <td>0.162009</td>\n",
       "      <td>0.368485</td>\n",
       "      <td>0.00</td>\n",
       "      <td>0.000000</td>\n",
       "      <td>0.000000</td>\n",
       "      <td>0.000000</td>\n",
       "      <td>1.000000</td>\n",
       "      <td>1.000000</td>\n",
       "    </tr>\n",
       "    <tr>\n",
       "      <th>phone_service</th>\n",
       "      <td>7049.0</td>\n",
       "      <td>1.324585</td>\n",
       "      <td>0.642709</td>\n",
       "      <td>0.00</td>\n",
       "      <td>1.000000</td>\n",
       "      <td>1.000000</td>\n",
       "      <td>2.000000</td>\n",
       "      <td>2.000000</td>\n",
       "      <td>2.000000</td>\n",
       "    </tr>\n",
       "    <tr>\n",
       "      <th>internet_service</th>\n",
       "      <td>7049.0</td>\n",
       "      <td>1.222585</td>\n",
       "      <td>0.779068</td>\n",
       "      <td>0.00</td>\n",
       "      <td>1.000000</td>\n",
       "      <td>1.000000</td>\n",
       "      <td>2.000000</td>\n",
       "      <td>2.000000</td>\n",
       "      <td>2.000000</td>\n",
       "    </tr>\n",
       "    <tr>\n",
       "      <th>contract_type</th>\n",
       "      <td>7049.0</td>\n",
       "      <td>0.690878</td>\n",
       "      <td>0.833757</td>\n",
       "      <td>0.00</td>\n",
       "      <td>0.000000</td>\n",
       "      <td>0.000000</td>\n",
       "      <td>1.000000</td>\n",
       "      <td>2.000000</td>\n",
       "      <td>2.000000</td>\n",
       "    </tr>\n",
       "    <tr>\n",
       "      <th>monthly_charges</th>\n",
       "      <td>7049.0</td>\n",
       "      <td>64.747014</td>\n",
       "      <td>30.099460</td>\n",
       "      <td>18.25</td>\n",
       "      <td>35.450000</td>\n",
       "      <td>70.350000</td>\n",
       "      <td>89.850000</td>\n",
       "      <td>118.750000</td>\n",
       "      <td>100.500000</td>\n",
       "    </tr>\n",
       "    <tr>\n",
       "      <th>total_charges</th>\n",
       "      <td>7049.0</td>\n",
       "      <td>2283.043883</td>\n",
       "      <td>2264.752583</td>\n",
       "      <td>18.80</td>\n",
       "      <td>402.500000</td>\n",
       "      <td>1400.300000</td>\n",
       "      <td>3784.000000</td>\n",
       "      <td>8684.800000</td>\n",
       "      <td>8666.000000</td>\n",
       "    </tr>\n",
       "    <tr>\n",
       "      <th>tenure</th>\n",
       "      <td>7049.0</td>\n",
       "      <td>32.379866</td>\n",
       "      <td>24.595524</td>\n",
       "      <td>0.00</td>\n",
       "      <td>8.733456</td>\n",
       "      <td>28.683425</td>\n",
       "      <td>55.229399</td>\n",
       "      <td>79.341772</td>\n",
       "      <td>79.341772</td>\n",
       "    </tr>\n",
       "    <tr>\n",
       "      <th>is_auto</th>\n",
       "      <td>7049.0</td>\n",
       "      <td>0.435806</td>\n",
       "      <td>0.495897</td>\n",
       "      <td>0.00</td>\n",
       "      <td>0.000000</td>\n",
       "      <td>0.000000</td>\n",
       "      <td>1.000000</td>\n",
       "      <td>1.000000</td>\n",
       "      <td>1.000000</td>\n",
       "    </tr>\n",
       "    <tr>\n",
       "      <th>partner_dependants</th>\n",
       "      <td>7049.0</td>\n",
       "      <td>1.083416</td>\n",
       "      <td>1.226883</td>\n",
       "      <td>0.00</td>\n",
       "      <td>0.000000</td>\n",
       "      <td>1.000000</td>\n",
       "      <td>2.000000</td>\n",
       "      <td>3.000000</td>\n",
       "      <td>3.000000</td>\n",
       "    </tr>\n",
       "    <tr>\n",
       "      <th>rounded_tenure</th>\n",
       "      <td>7049.0</td>\n",
       "      <td>32.374805</td>\n",
       "      <td>24.596637</td>\n",
       "      <td>0.00</td>\n",
       "      <td>9.000000</td>\n",
       "      <td>29.000000</td>\n",
       "      <td>55.000000</td>\n",
       "      <td>79.000000</td>\n",
       "      <td>79.000000</td>\n",
       "    </tr>\n",
       "    <tr>\n",
       "      <th>Yes</th>\n",
       "      <td>7049.0</td>\n",
       "      <td>0.265286</td>\n",
       "      <td>0.441517</td>\n",
       "      <td>0.00</td>\n",
       "      <td>0.000000</td>\n",
       "      <td>0.000000</td>\n",
       "      <td>1.000000</td>\n",
       "      <td>1.000000</td>\n",
       "      <td>1.000000</td>\n",
       "    </tr>\n",
       "  </tbody>\n",
       "</table>\n",
       "</div>"
      ],
      "text/plain": [
       "                     count         mean          std    min         25%  \\\n",
       "is_senior_citizen   7049.0     0.162009     0.368485   0.00    0.000000   \n",
       "phone_service       7049.0     1.324585     0.642709   0.00    1.000000   \n",
       "internet_service    7049.0     1.222585     0.779068   0.00    1.000000   \n",
       "contract_type       7049.0     0.690878     0.833757   0.00    0.000000   \n",
       "monthly_charges     7049.0    64.747014    30.099460  18.25   35.450000   \n",
       "total_charges       7049.0  2283.043883  2264.752583  18.80  402.500000   \n",
       "tenure              7049.0    32.379866    24.595524   0.00    8.733456   \n",
       "is_auto             7049.0     0.435806     0.495897   0.00    0.000000   \n",
       "partner_dependants  7049.0     1.083416     1.226883   0.00    0.000000   \n",
       "rounded_tenure      7049.0    32.374805    24.596637   0.00    9.000000   \n",
       "Yes                 7049.0     0.265286     0.441517   0.00    0.000000   \n",
       "\n",
       "                            50%          75%          max        range  \n",
       "is_senior_citizen      0.000000     0.000000     1.000000     1.000000  \n",
       "phone_service          1.000000     2.000000     2.000000     2.000000  \n",
       "internet_service       1.000000     2.000000     2.000000     2.000000  \n",
       "contract_type          0.000000     1.000000     2.000000     2.000000  \n",
       "monthly_charges       70.350000    89.850000   118.750000   100.500000  \n",
       "total_charges       1400.300000  3784.000000  8684.800000  8666.000000  \n",
       "tenure                28.683425    55.229399    79.341772    79.341772  \n",
       "is_auto                0.000000     1.000000     1.000000     1.000000  \n",
       "partner_dependants     1.000000     2.000000     3.000000     3.000000  \n",
       "rounded_tenure        29.000000    55.000000    79.000000    79.000000  \n",
       "Yes                    0.000000     1.000000     1.000000     1.000000  "
      ]
     },
     "execution_count": 13,
     "metadata": {},
     "output_type": "execute_result"
    }
   ],
   "source": [
    "col_range(df)"
   ]
  },
  {
   "cell_type": "markdown",
   "id": "6baf7597",
   "metadata": {},
   "source": [
    "## Preparing Data:"
   ]
  },
  {
   "cell_type": "code",
   "execution_count": 14,
   "id": "fdc131bb",
   "metadata": {},
   "outputs": [],
   "source": [
    "# Preparing and Seperating the Data:\n",
    "#- Separating the split data to begin exploration and hypothesis testing\n",
    "##note: this will be added to the prepare.py file\n",
    "def telco_split(df):\n",
    "    '''\n",
    "    This function takes in Telco data from the acquire.py file,\n",
    "    performs a split and stratifies on churn.\n",
    "    Returns train, validate, and test dfs.\n",
    "    '''\n",
    "    train_validate, test = train_test_split(df, test_size=.2, \n",
    "                                        random_state=123, \n",
    "                                        stratify=df.churn)\n",
    "    train, validate = train_test_split(train_validate, test_size=.3, \n",
    "                                   random_state=123, \n",
    "                                   stratify=train_validate.churn)\n",
    "    return train, validate, test"
   ]
  },
  {
   "cell_type": "code",
   "execution_count": 15,
   "id": "7a78b7a4",
   "metadata": {},
   "outputs": [],
   "source": [
    "##note: this will be added to the prepare.py file\n",
    "def prep_telco(df):\n",
    "    '''\n",
    "    This function takes in the Telco df(via acquire.py).\n",
    "    It drops the species_id column and renames species_name to species, \n",
    "    Performs a 3-way split stratified on churn, and\n",
    "    Returns train, validate, and test dataframes.\n",
    "    '''\n",
    "    # drop and rename columns\n",
    "    df = df.drop(columns='customer_id').rename(columns={'has_churned': 'Churned_Customers'})\n",
    "    \n",
    "    # split dataframe into train, validate, and test\n",
    "    train, validate, test = telco_split(df)\n",
    "    \n",
    "    return train, validate, test"
   ]
  },
  {
   "cell_type": "code",
   "execution_count": 16,
   "id": "53d348dc",
   "metadata": {},
   "outputs": [
    {
     "name": "stdout",
     "output_type": "stream",
     "text": [
      "train -> (3947, 28)\n",
      "validate -> (1692, 28)\n",
      "test -> (1410, 28)\n"
     ]
    }
   ],
   "source": [
    "train, validate, test = prep_telco(df)\n",
    "\n",
    "print(f'train -> {train.shape}')\n",
    "print(f'validate -> {validate.shape}')\n",
    "print(f'test -> {test.shape}')"
   ]
  },
  {
   "cell_type": "markdown",
   "id": "d2606cc4",
   "metadata": {},
   "source": [
    "# Hypothesis & Charts Exploration:"
   ]
  },
  {
   "cell_type": "markdown",
   "id": "205b00c8",
   "metadata": {},
   "source": [
    "## Churn vs. Partnerships (number of people on accounts)\n",
    "I want to take some time to explore the relationships between churn and the Telco demographics. \n",
    "I'll be using ChiSquare, as this Hypothesis test works well with two categorical values. \n",
    "I also will be using barplots to visually show these relations...if any. :)\n",
    "\n",
    "alpha: 0.05\n",
    "\n",
    "* H0: There is NO relationship between churn and partnerships (or # of people on account)\n",
    "* Ha: There IS a relationship between churn and partnerships."
   ]
  },
  {
   "cell_type": "code",
   "execution_count": 17,
   "id": "1c8f87ea",
   "metadata": {},
   "outputs": [
    {
     "data": {
      "text/plain": [
       "No     0.734735\n",
       "Yes    0.265265\n",
       "Name: churn, dtype: float64"
      ]
     },
     "execution_count": 17,
     "metadata": {},
     "output_type": "execute_result"
    }
   ],
   "source": [
    "#Calculating ChiSquare of categorical demographics (churn + partner_dependants)\n",
    "n = train.shape[0]\n",
    "\n",
    "churn_proportions = train.churn.value_counts() / n\n",
    "churn_proportions"
   ]
  },
  {
   "cell_type": "code",
   "execution_count": 18,
   "id": "6be67ef5",
   "metadata": {},
   "outputs": [
    {
     "data": {
      "text/plain": [
       "0    0.458829\n",
       "3    0.255384\n",
       "1    0.234102\n",
       "2    0.051685\n",
       "Name: partner_dependants, dtype: float64"
      ]
     },
     "execution_count": 18,
     "metadata": {},
     "output_type": "execute_result"
    }
   ],
   "source": [
    "partner_proportions = train.partner_dependants.value_counts() / n\n",
    "partner_proportions"
   ]
  },
  {
   "cell_type": "code",
   "execution_count": 19,
   "id": "80ace13b",
   "metadata": {},
   "outputs": [
    {
     "data": {
      "text/html": [
       "<div>\n",
       "<style scoped>\n",
       "    .dataframe tbody tr th:only-of-type {\n",
       "        vertical-align: middle;\n",
       "    }\n",
       "\n",
       "    .dataframe tbody tr th {\n",
       "        vertical-align: top;\n",
       "    }\n",
       "\n",
       "    .dataframe thead th {\n",
       "        text-align: right;\n",
       "    }\n",
       "</style>\n",
       "<table border=\"1\" class=\"dataframe\">\n",
       "  <thead>\n",
       "    <tr style=\"text-align: right;\">\n",
       "      <th></th>\n",
       "      <th>No</th>\n",
       "      <th>Yes</th>\n",
       "    </tr>\n",
       "  </thead>\n",
       "  <tbody>\n",
       "    <tr>\n",
       "      <th>0</th>\n",
       "      <td>0.337118</td>\n",
       "      <td>0.121711</td>\n",
       "    </tr>\n",
       "    <tr>\n",
       "      <th>1</th>\n",
       "      <td>0.172003</td>\n",
       "      <td>0.062099</td>\n",
       "    </tr>\n",
       "    <tr>\n",
       "      <th>2</th>\n",
       "      <td>0.037975</td>\n",
       "      <td>0.013710</td>\n",
       "    </tr>\n",
       "    <tr>\n",
       "      <th>3</th>\n",
       "      <td>0.187640</td>\n",
       "      <td>0.067744</td>\n",
       "    </tr>\n",
       "  </tbody>\n",
       "</table>\n",
       "</div>"
      ],
      "text/plain": [
       "         No       Yes\n",
       "0  0.337118  0.121711\n",
       "1  0.172003  0.062099\n",
       "2  0.037975  0.013710\n",
       "3  0.187640  0.067744"
      ]
     },
     "execution_count": 19,
     "metadata": {},
     "output_type": "execute_result"
    }
   ],
   "source": [
    "#creating a function for the expected value to include in ChiSquare\n",
    "expected = pd.DataFrame()\n",
    "\n",
    "for churn_group, t_prop in churn_proportions.iteritems():\n",
    "    for partner_group, d_prop in partner_proportions.iteritems():\n",
    "        expected.loc[partner_group, churn_group] = t_prop * d_prop\n",
    "\n",
    "expected.sort_index(inplace=True)\n",
    "expected"
   ]
  },
  {
   "cell_type": "code",
   "execution_count": 20,
   "id": "9dfd9725",
   "metadata": {},
   "outputs": [
    {
     "name": "stdout",
     "output_type": "stream",
     "text": [
      "The p-value is 3.9152166914300486e-24\n",
      "Sufficient evidence is present to reject the null hypothesis\n"
     ]
    }
   ],
   "source": [
    "# Chi squared with un-encoded categorical columns\n",
    "# Null hypothesis: churn rate has no relation to partnerships of customers\n",
    "# Alternative hypothesis: there is a relationship between churn rate and partnerships of customers\n",
    "alpha = 0.05\n",
    "observed = pd.crosstab(train.churn, train.partner_dependants)\n",
    "chi2, p, degf, expected = stats.chi2_contingency(observed)\n",
    "print(f\"The p-value is {p}\")\n",
    "if p < alpha:\n",
    "    print(\"Sufficient evidence is present to reject the null hypothesis\")\n",
    "else:\n",
    "    print(\"Insufficient evidence to reject the null\")\n",
    "    print(\"Evidence seems to support the claim that partnership and churn are independent\")"
   ]
  },
  {
   "cell_type": "code",
   "execution_count": 21,
   "id": "4d2501a9",
   "metadata": {},
   "outputs": [
    {
     "data": {
      "image/png": "[encoded data removed]",
      "text/plain": [
       "<Figure size 432x288 with 1 Axes>"
      ]
     },
     "metadata": {
      "needs_background": "light"
     },
     "output_type": "display_data"
    }
   ],
   "source": [
    "#let's look at the numbers visually\n",
    "barplot = observed.plot.bar(rot=0)"
   ]
  },
  {
   "cell_type": "markdown",
   "id": "257e6282",
   "metadata": {},
   "source": [
    "### Take Aways:\n",
    "Percentage of churns per partnership/relationship category:\n",
    "- <b> 0: Single customers: 33% churned</b>\n",
    "- 1: Partnered customers: 28% churned\n",
    "- 2: Single Parent customers: 22% churned\n",
    "- 3: Family plan customers: 15% churned\n",
    "<br>\n",
    "<br>\n",
    "* There IS a relationship between how many partnerships and number of household numbers to churn rate.\n",
    "* Single customers are more likely to churn than any other relationship demographics.\n",
    "* Family plan customers stay at a higher rate than any onther demographic.\n",
    "\n",
    "##########################################################################"
   ]
  },
  {
   "cell_type": "code",
   "execution_count": null,
   "id": "c759dc9a",
   "metadata": {},
   "outputs": [],
   "source": []
  },
  {
   "cell_type": "markdown",
   "id": "7739c9cc",
   "metadata": {},
   "source": [
    "## Churn vs. Gender:\n",
    "\n",
    "* H0: There is NO relationship between churn and gender.\n",
    "* Ha: There IS a relationship between churn and gender."
   ]
  },
  {
   "cell_type": "code",
   "execution_count": 22,
   "id": "2c3ca157",
   "metadata": {},
   "outputs": [
    {
     "data": {
      "text/plain": [
       "No     0.734735\n",
       "Yes    0.265265\n",
       "Name: churn, dtype: float64"
      ]
     },
     "execution_count": 22,
     "metadata": {},
     "output_type": "execute_result"
    }
   ],
   "source": [
    "#Calculating ChiSquare of categorical demographics (churn + gender)\n",
    "n = train.shape[0]\n",
    "\n",
    "churn_proportions = train.churn.value_counts() / n\n",
    "churn_proportions"
   ]
  },
  {
   "cell_type": "code",
   "execution_count": 23,
   "id": "e036e15d",
   "metadata": {},
   "outputs": [
    {
     "data": {
      "text/plain": [
       "Male      0.509754\n",
       "Female    0.490246\n",
       "Name: gender, dtype: float64"
      ]
     },
     "execution_count": 23,
     "metadata": {},
     "output_type": "execute_result"
    }
   ],
   "source": [
    "gender_proportions = train.gender.value_counts() / n\n",
    "gender_proportions"
   ]
  },
  {
   "cell_type": "code",
   "execution_count": 24,
   "id": "42fc9a7b",
   "metadata": {},
   "outputs": [
    {
     "data": {
      "text/html": [
       "<div>\n",
       "<style scoped>\n",
       "    .dataframe tbody tr th:only-of-type {\n",
       "        vertical-align: middle;\n",
       "    }\n",
       "\n",
       "    .dataframe tbody tr th {\n",
       "        vertical-align: top;\n",
       "    }\n",
       "\n",
       "    .dataframe thead th {\n",
       "        text-align: right;\n",
       "    }\n",
       "</style>\n",
       "<table border=\"1\" class=\"dataframe\">\n",
       "  <thead>\n",
       "    <tr style=\"text-align: right;\">\n",
       "      <th></th>\n",
       "      <th>No</th>\n",
       "      <th>Yes</th>\n",
       "    </tr>\n",
       "  </thead>\n",
       "  <tbody>\n",
       "    <tr>\n",
       "      <th>Female</th>\n",
       "      <td>0.360201</td>\n",
       "      <td>0.130045</td>\n",
       "    </tr>\n",
       "    <tr>\n",
       "      <th>Male</th>\n",
       "      <td>0.374534</td>\n",
       "      <td>0.135220</td>\n",
       "    </tr>\n",
       "  </tbody>\n",
       "</table>\n",
       "</div>"
      ],
      "text/plain": [
       "              No       Yes\n",
       "Female  0.360201  0.130045\n",
       "Male    0.374534  0.135220"
      ]
     },
     "execution_count": 24,
     "metadata": {},
     "output_type": "execute_result"
    }
   ],
   "source": [
    "expected = pd.DataFrame()\n",
    "\n",
    "for churn_group, t_prop in churn_proportions.iteritems():\n",
    "    for gender_group, g_prop in gender_proportions.iteritems():\n",
    "        expected.loc[gender_group, churn_group] = t_prop * g_prop\n",
    "\n",
    "expected.sort_index(inplace=True)\n",
    "expected"
   ]
  },
  {
   "cell_type": "code",
   "execution_count": 25,
   "id": "23648c85",
   "metadata": {},
   "outputs": [
    {
     "name": "stdout",
     "output_type": "stream",
     "text": [
      "The p-value is 0.7612557822850128\n",
      "Insufficient evidence to reject the null\n",
      "Evidence seems to support the claim that gender and churn are independent\n"
     ]
    }
   ],
   "source": [
    "# Chi squared with un-encoded categorical columns\n",
    "# Null hypothesis: churn rate has no relation to gender\n",
    "# Alternative hypothesis: there is a relationship between churn rate and gender\n",
    "alpha = 0.05\n",
    "observed = pd.crosstab(train.churn, train.gender)\n",
    "chi2, p, degf, expected = stats.chi2_contingency(observed)\n",
    "print(f\"The p-value is {p}\")\n",
    "if p < alpha:\n",
    "    print(\"Sufficient evidence is present to reject the null hypothesis\")\n",
    "else:\n",
    "    print(\"Insufficient evidence to reject the null\")\n",
    "    print(\"Evidence seems to support the claim that gender and churn are independent\")"
   ]
  },
  {
   "cell_type": "code",
   "execution_count": 26,
   "id": "64f5db6e",
   "metadata": {},
   "outputs": [
    {
     "data": {
      "image/png": "[encoded data removed]",
      "text/plain": [
       "<Figure size 432x288 with 1 Axes>"
      ]
     },
     "metadata": {
      "needs_background": "light"
     },
     "output_type": "display_data"
    }
   ],
   "source": [
    "#let's look at the numbers visually\n",
    "barplot = observed.plot.bar(rot=0)"
   ]
  },
  {
   "cell_type": "markdown",
   "id": "bb02c49e",
   "metadata": {},
   "source": [
    "### Take Aways:\n",
    "Both Genders churned at almost the same rate within their own categories:\n",
    "- <b>Female customers: 27% churned</b>\n",
    "- Male customers: 26% churned\n",
    "<br>\n",
    "<br>\n",
    "\n",
    "### The data shows that there really isn't any relationship between gender and customer churn rate.\n",
    "\n",
    "##########################################################################"
   ]
  },
  {
   "cell_type": "markdown",
   "id": "de040a79",
   "metadata": {},
   "source": [
    "## Churn vs. Is Senior Citizen?\n",
    "\n",
    "* H0: There is NO relationship between churn and customer being a senior citizen.\n",
    "* Ha: There IS a relationship between churn and customer being a senior citizen."
   ]
  },
  {
   "cell_type": "code",
   "execution_count": 27,
   "id": "9f4b5534",
   "metadata": {},
   "outputs": [
    {
     "data": {
      "text/plain": [
       "No     0.734735\n",
       "Yes    0.265265\n",
       "Name: churn, dtype: float64"
      ]
     },
     "execution_count": 27,
     "metadata": {},
     "output_type": "execute_result"
    }
   ],
   "source": [
    "#Calculating ChiSquare of categorical demographics (churn + is_senior_citizen)\n",
    "n = train.shape[0]\n",
    "\n",
    "churn_proportions = train.churn.value_counts() / n\n",
    "churn_proportions"
   ]
  },
  {
   "cell_type": "code",
   "execution_count": 28,
   "id": "98a9d210",
   "metadata": {},
   "outputs": [
    {
     "data": {
      "text/plain": [
       "0.0    0.841905\n",
       "1.0    0.158095\n",
       "Name: is_senior_citizen, dtype: float64"
      ]
     },
     "execution_count": 28,
     "metadata": {},
     "output_type": "execute_result"
    }
   ],
   "source": [
    "age_proportions = train.is_senior_citizen.value_counts() / n\n",
    "age_proportions"
   ]
  },
  {
   "cell_type": "code",
   "execution_count": 29,
   "id": "4ef6bebc",
   "metadata": {},
   "outputs": [
    {
     "data": {
      "text/html": [
       "<div>\n",
       "<style scoped>\n",
       "    .dataframe tbody tr th:only-of-type {\n",
       "        vertical-align: middle;\n",
       "    }\n",
       "\n",
       "    .dataframe tbody tr th {\n",
       "        vertical-align: top;\n",
       "    }\n",
       "\n",
       "    .dataframe thead th {\n",
       "        text-align: right;\n",
       "    }\n",
       "</style>\n",
       "<table border=\"1\" class=\"dataframe\">\n",
       "  <thead>\n",
       "    <tr style=\"text-align: right;\">\n",
       "      <th></th>\n",
       "      <th>No</th>\n",
       "      <th>Yes</th>\n",
       "    </tr>\n",
       "  </thead>\n",
       "  <tbody>\n",
       "    <tr>\n",
       "      <th>0.0</th>\n",
       "      <td>0.618577</td>\n",
       "      <td>0.223328</td>\n",
       "    </tr>\n",
       "    <tr>\n",
       "      <th>1.0</th>\n",
       "      <td>0.116158</td>\n",
       "      <td>0.041937</td>\n",
       "    </tr>\n",
       "  </tbody>\n",
       "</table>\n",
       "</div>"
      ],
      "text/plain": [
       "           No       Yes\n",
       "0.0  0.618577  0.223328\n",
       "1.0  0.116158  0.041937"
      ]
     },
     "execution_count": 29,
     "metadata": {},
     "output_type": "execute_result"
    }
   ],
   "source": [
    "expected = pd.DataFrame()\n",
    "\n",
    "for churn_group, t_prop in churn_proportions.iteritems():\n",
    "    for age_group, g_prop in age_proportions.iteritems():\n",
    "        expected.loc[age_group, churn_group] = t_prop * g_prop\n",
    "\n",
    "expected.sort_index(inplace=True)\n",
    "expected"
   ]
  },
  {
   "cell_type": "code",
   "execution_count": 30,
   "id": "6ec45abd",
   "metadata": {},
   "outputs": [
    {
     "name": "stdout",
     "output_type": "stream",
     "text": [
      "The p-value is 9.950129712000579e-20\n",
      "Sufficient evidence is present to reject the null hypothesis\n"
     ]
    }
   ],
   "source": [
    "# Chi squared with un-encoded categorical columns\n",
    "# Null hypothesis: churn rate has no relation to senior citizen customers\n",
    "# Alternative hypothesis: there is a relationship between churn rate and senior citizens\n",
    "alpha = 0.05\n",
    "observed = pd.crosstab(train.churn, train.is_senior_citizen)\n",
    "chi2, p, degf, expected = stats.chi2_contingency(observed)\n",
    "print(f\"The p-value is {p}\")\n",
    "if p < alpha:\n",
    "    print(\"Sufficient evidence is present to reject the null hypothesis\")\n",
    "else:\n",
    "    print(\"Insufficient evidence to reject the null\")\n",
    "    print(\"Evidence seems to support the claim that senior_citizens and churn are independent\")"
   ]
  },
  {
   "cell_type": "code",
   "execution_count": 31,
   "id": "412a8fdb",
   "metadata": {},
   "outputs": [
    {
     "data": {
      "image/png": "[encoded data removed]",
      "text/plain": [
       "<Figure size 432x288 with 1 Axes>"
      ]
     },
     "metadata": {
      "needs_background": "light"
     },
     "output_type": "display_data"
    }
   ],
   "source": [
    "#let's look at the numbers visually\n",
    "barplot = observed.plot.bar(rot=0)"
   ]
  },
  {
   "cell_type": "markdown",
   "id": "c109cb58",
   "metadata": {},
   "source": [
    "### Take Aways:\n",
    "From first glance, because of the low amount of Senior Citizen data count, it looks like customers 59 and younger have more churns. By numbers, YES, 59 and younger DO have more churn, but <b>by churn rate based on its own category, Senior Citizens have the highest churn rate.</b>\n",
    "- <b>Senior Citizens: 41% churned</b>\n",
    "- 59 and younger customers: 24% churned\n",
    "\n",
    "As the p-value shows, in the case that the null Hypothesis is that churn and is_senior_citizen as NO relation,\n",
    "We would reject the nully Hypothesis as they clearly relate. \n",
    "\n",
    "##########################################################################"
   ]
  },
  {
   "cell_type": "markdown",
   "id": "19b1cac3",
   "metadata": {},
   "source": [
    "### NEXT STEPS: \n",
    "- It's clear that our drivers for demographics is single and senior citizen customers.\n",
    "- Using these two key drivers, it's time to compare to subcategories:\n",
    "        * ✅ non-automated accounts\n",
    "        * ✅ account types\n",
    "        * ✅ internet service types"
   ]
  },
  {
   "cell_type": "markdown",
   "id": "bb1b6078",
   "metadata": {},
   "source": [
    "## Non-automated accounts vs. Is Senior Citizen:\n",
    "\n",
    "* H0: There is NO relationship between non-auto accounts and customer being a senior citizen.\n",
    "* Ha: There IS a relationship between non-auto accounts and customer being a senior citizen."
   ]
  },
  {
   "cell_type": "code",
   "execution_count": 32,
   "id": "94941622",
   "metadata": {},
   "outputs": [
    {
     "data": {
      "text/plain": [
       "0    2173\n",
       "1    1774\n",
       "Name: is_auto, dtype: int64"
      ]
     },
     "execution_count": 32,
     "metadata": {},
     "output_type": "execute_result"
    }
   ],
   "source": [
    "#taking a look at how many accounts are automated\n",
    "train.is_auto.value_counts()"
   ]
  },
  {
   "cell_type": "code",
   "execution_count": 33,
   "id": "239ad630",
   "metadata": {},
   "outputs": [
    {
     "data": {
      "text/plain": [
       "0    0.550545\n",
       "1    0.449455\n",
       "Name: is_auto, dtype: float64"
      ]
     },
     "execution_count": 33,
     "metadata": {},
     "output_type": "execute_result"
    }
   ],
   "source": [
    "#Calculating ChiSquare of categorical demographics (automated accounts + is_senior_citizen)\n",
    "n = train.shape[0]\n",
    "\n",
    "autoaccts_proportions = train.is_auto.value_counts() / n\n",
    "autoaccts_proportions"
   ]
  },
  {
   "cell_type": "code",
   "execution_count": 34,
   "id": "22941f6f",
   "metadata": {},
   "outputs": [
    {
     "data": {
      "text/plain": [
       "0.0    0.841905\n",
       "1.0    0.158095\n",
       "Name: is_senior_citizen, dtype: float64"
      ]
     },
     "execution_count": 34,
     "metadata": {},
     "output_type": "execute_result"
    }
   ],
   "source": [
    "senior_proportions = train.is_senior_citizen.value_counts() / n\n",
    "senior_proportions"
   ]
  },
  {
   "cell_type": "code",
   "execution_count": 35,
   "id": "a1a39d85",
   "metadata": {},
   "outputs": [
    {
     "data": {
      "text/html": [
       "<div>\n",
       "<style scoped>\n",
       "    .dataframe tbody tr th:only-of-type {\n",
       "        vertical-align: middle;\n",
       "    }\n",
       "\n",
       "    .dataframe tbody tr th {\n",
       "        vertical-align: top;\n",
       "    }\n",
       "\n",
       "    .dataframe thead th {\n",
       "        text-align: right;\n",
       "    }\n",
       "</style>\n",
       "<table border=\"1\" class=\"dataframe\">\n",
       "  <thead>\n",
       "    <tr style=\"text-align: right;\">\n",
       "      <th></th>\n",
       "      <th>0</th>\n",
       "      <th>1</th>\n",
       "    </tr>\n",
       "  </thead>\n",
       "  <tbody>\n",
       "    <tr>\n",
       "      <th>0.0</th>\n",
       "      <td>0.463506</td>\n",
       "      <td>0.378399</td>\n",
       "    </tr>\n",
       "    <tr>\n",
       "      <th>1.0</th>\n",
       "      <td>0.087038</td>\n",
       "      <td>0.071057</td>\n",
       "    </tr>\n",
       "  </tbody>\n",
       "</table>\n",
       "</div>"
      ],
      "text/plain": [
       "            0         1\n",
       "0.0  0.463506  0.378399\n",
       "1.0  0.087038  0.071057"
      ]
     },
     "execution_count": 35,
     "metadata": {},
     "output_type": "execute_result"
    }
   ],
   "source": [
    "expected = pd.DataFrame()\n",
    "\n",
    "for auto_group, t_prop in autoaccts_proportions.iteritems():\n",
    "    for senior_group, g_prop in senior_proportions.iteritems():\n",
    "        expected.loc[senior_group, auto_group] = t_prop * g_prop\n",
    "\n",
    "expected.sort_index(inplace=True)\n",
    "expected"
   ]
  },
  {
   "cell_type": "code",
   "execution_count": 36,
   "id": "2d50e848",
   "metadata": {},
   "outputs": [
    {
     "name": "stdout",
     "output_type": "stream",
     "text": [
      "The p-value is 0.7951549501754155\n",
      "Insufficient evidence to reject the null\n",
      "Evidence seems to support the claim that senior citizens and auto accounts are independent\n"
     ]
    }
   ],
   "source": [
    "# Chi squared with un-encoded categorical columns\n",
    "alpha = 0.05\n",
    "observed = pd.crosstab(train.is_auto, train.is_senior_citizen)\n",
    "chi2, p, degf, expected = stats.chi2_contingency(observed)\n",
    "print(f\"The p-value is {p}\")\n",
    "if p < alpha:\n",
    "    print(\"Sufficient evidence is present to reject the null hypothesis\")\n",
    "else:\n",
    "    print(\"Insufficient evidence to reject the null\")\n",
    "    print(\"Evidence seems to support the claim that senior citizens and auto accounts are independent\")"
   ]
  },
  {
   "cell_type": "code",
   "execution_count": 37,
   "id": "b60c13c3",
   "metadata": {},
   "outputs": [
    {
     "data": {
      "image/png": "[encoded data removed]",
      "text/plain": [
       "<Figure size 432x288 with 1 Axes>"
      ]
     },
     "metadata": {
      "needs_background": "light"
     },
     "output_type": "display_data"
    }
   ],
   "source": [
    "#let's look at the numbers visually\n",
    "barplot = observed.plot.bar(rot=0)"
   ]
  },
  {
   "cell_type": "markdown",
   "id": "859161b7",
   "metadata": {},
   "source": [
    "### Take Aways:\n",
    "* There IS a relationship between senior citizens and having non-automated accounts.\n",
    "* The above barplot shows that a large majority of senior citizens actually do have non-automated accounts.\n",
    "* (This bar plot looks also reminiscent of the is_senior citizen and churn plots).\n",
    "\n",
    "##########################################################################"
   ]
  },
  {
   "cell_type": "markdown",
   "id": "c7266cd7",
   "metadata": {},
   "source": [
    "## Non-automated accounts vs. Singles (using Partner/Dependant variable):\n",
    "\n",
    "* H0: There is NO relationship between non-auto accounts and customer being single.\n",
    "* Ha: There IS a relationship between non-auto accounts and customer being single."
   ]
  },
  {
   "cell_type": "code",
   "execution_count": 38,
   "id": "6542276d",
   "metadata": {},
   "outputs": [
    {
     "data": {
      "text/plain": [
       "0    0.550545\n",
       "1    0.449455\n",
       "Name: is_auto, dtype: float64"
      ]
     },
     "execution_count": 38,
     "metadata": {},
     "output_type": "execute_result"
    }
   ],
   "source": [
    "#Calculating ChiSquare of categorical demographics (automated accounts + singles)\n",
    "n = train.shape[0]\n",
    "\n",
    "autoaccts_proportions = train.is_auto.value_counts() / n\n",
    "autoaccts_proportions"
   ]
  },
  {
   "cell_type": "code",
   "execution_count": 39,
   "id": "3951b0c6",
   "metadata": {},
   "outputs": [
    {
     "data": {
      "text/plain": [
       "0    0.458829\n",
       "3    0.255384\n",
       "1    0.234102\n",
       "2    0.051685\n",
       "Name: partner_dependants, dtype: float64"
      ]
     },
     "execution_count": 39,
     "metadata": {},
     "output_type": "execute_result"
    }
   ],
   "source": [
    "#NOTE: remember, Singles is represented as 0 below:\n",
    "singles_proportions = train.partner_dependants.value_counts() / n\n",
    "singles_proportions"
   ]
  },
  {
   "cell_type": "code",
   "execution_count": 40,
   "id": "7e980db7",
   "metadata": {},
   "outputs": [
    {
     "data": {
      "text/html": [
       "<div>\n",
       "<style scoped>\n",
       "    .dataframe tbody tr th:only-of-type {\n",
       "        vertical-align: middle;\n",
       "    }\n",
       "\n",
       "    .dataframe tbody tr th {\n",
       "        vertical-align: top;\n",
       "    }\n",
       "\n",
       "    .dataframe thead th {\n",
       "        text-align: right;\n",
       "    }\n",
       "</style>\n",
       "<table border=\"1\" class=\"dataframe\">\n",
       "  <thead>\n",
       "    <tr style=\"text-align: right;\">\n",
       "      <th></th>\n",
       "      <th>0</th>\n",
       "      <th>1</th>\n",
       "    </tr>\n",
       "  </thead>\n",
       "  <tbody>\n",
       "    <tr>\n",
       "      <th>0</th>\n",
       "      <td>0.252606</td>\n",
       "      <td>0.206223</td>\n",
       "    </tr>\n",
       "    <tr>\n",
       "      <th>1</th>\n",
       "      <td>0.128884</td>\n",
       "      <td>0.105218</td>\n",
       "    </tr>\n",
       "    <tr>\n",
       "      <th>2</th>\n",
       "      <td>0.028455</td>\n",
       "      <td>0.023230</td>\n",
       "    </tr>\n",
       "    <tr>\n",
       "      <th>3</th>\n",
       "      <td>0.140600</td>\n",
       "      <td>0.114784</td>\n",
       "    </tr>\n",
       "  </tbody>\n",
       "</table>\n",
       "</div>"
      ],
      "text/plain": [
       "          0         1\n",
       "0  0.252606  0.206223\n",
       "1  0.128884  0.105218\n",
       "2  0.028455  0.023230\n",
       "3  0.140600  0.114784"
      ]
     },
     "execution_count": 40,
     "metadata": {},
     "output_type": "execute_result"
    }
   ],
   "source": [
    "expected = pd.DataFrame()\n",
    "\n",
    "for auto_group, t_prop in autoaccts_proportions.iteritems():\n",
    "    for singles_group, g_prop in singles_proportions.iteritems():\n",
    "        expected.loc[singles_group, auto_group] = t_prop * g_prop\n",
    "\n",
    "expected.sort_index(inplace=True)\n",
    "expected"
   ]
  },
  {
   "cell_type": "code",
   "execution_count": 41,
   "id": "f0262f15",
   "metadata": {},
   "outputs": [
    {
     "name": "stdout",
     "output_type": "stream",
     "text": [
      "The p-value is 7.53789941507099e-21\n",
      "Sufficient evidence is present to reject the null hypothesis\n"
     ]
    }
   ],
   "source": [
    "# Chi squared with un-encoded categorical columns\n",
    "alpha = 0.05\n",
    "observed = pd.crosstab(train.is_auto, train.partner_dependants)\n",
    "chi2, p, degf, expected = stats.chi2_contingency(observed)\n",
    "print(f\"The p-value is {p}\")\n",
    "if p < alpha:\n",
    "    print(\"Sufficient evidence is present to reject the null hypothesis\")\n",
    "else:\n",
    "    print(\"Insufficient evidence to reject the null\")\n",
    "    print(\"Evidence seems to support the claim that single customers and non-auto accounts are independent\")"
   ]
  },
  {
   "cell_type": "code",
   "execution_count": 42,
   "id": "ece8b4b8",
   "metadata": {},
   "outputs": [
    {
     "data": {
      "image/png": "[encoded data removed]",
      "text/plain": [
       "<Figure size 432x288 with 1 Axes>"
      ]
     },
     "metadata": {
      "needs_background": "light"
     },
     "output_type": "display_data"
    }
   ],
   "source": [
    "#let's look at the numbers visually\n",
    "barplot = observed.plot.bar(rot=0)"
   ]
  },
  {
   "cell_type": "markdown",
   "id": "3487f15f",
   "metadata": {},
   "source": [
    "### Take Aways:\n",
    "* There IS a relationship between singles having non-automated accounts.\n",
    "* The above barplot shows that a large majority of singles actually do have non-automated accounts.\n",
    "\n",
    "##########################################################################"
   ]
  },
  {
   "cell_type": "markdown",
   "id": "64f4d127",
   "metadata": {},
   "source": [
    "## Internet type accounts vs. Is Senior Citizen:\n",
    "\n",
    "Seeing what kind of internet accounts most senior citizens have.\n",
    "\n",
    "* H0: There is NO relationship between internet type of accounts and customer being a senior citizen.\n",
    "* Ha: There IS a relationship between internet type of and customer being a senior citizen."
   ]
  },
  {
   "cell_type": "markdown",
   "id": "2b4393fc",
   "metadata": {},
   "source": [
    "A reminder of what this column is showing:\n",
    "* 2 = Fiber optic\n",
    "* 1 = DSL\n",
    "* 0 = No internet service"
   ]
  },
  {
   "cell_type": "code",
   "execution_count": 43,
   "id": "8b73c9be",
   "metadata": {},
   "outputs": [
    {
     "data": {
      "text/plain": [
       "2.0    1757\n",
       "1.0    1347\n",
       "0.0     843\n",
       "Name: internet_service, dtype: int64"
      ]
     },
     "execution_count": 43,
     "metadata": {},
     "output_type": "execute_result"
    }
   ],
   "source": [
    "train.internet_service.value_counts()"
   ]
  },
  {
   "cell_type": "code",
   "execution_count": 44,
   "id": "c832a66d",
   "metadata": {},
   "outputs": [
    {
     "data": {
      "text/plain": [
       "2.0    0.445148\n",
       "1.0    0.341272\n",
       "0.0    0.213580\n",
       "Name: internet_service, dtype: float64"
      ]
     },
     "execution_count": 44,
     "metadata": {},
     "output_type": "execute_result"
    }
   ],
   "source": [
    "#Calculating ChiSquare of categorical demographics (automated accounts + singles)\n",
    "n = train.shape[0]\n",
    "\n",
    "internet_service_proportions = train.internet_service.value_counts() / n\n",
    "internet_service_proportions"
   ]
  },
  {
   "cell_type": "code",
   "execution_count": 45,
   "id": "73919815",
   "metadata": {},
   "outputs": [
    {
     "data": {
      "text/plain": [
       "0.0    0.841905\n",
       "1.0    0.158095\n",
       "Name: is_senior_citizen, dtype: float64"
      ]
     },
     "execution_count": 45,
     "metadata": {},
     "output_type": "execute_result"
    }
   ],
   "source": [
    "senior_proportions = train.is_senior_citizen.value_counts() / n\n",
    "senior_proportions"
   ]
  },
  {
   "cell_type": "code",
   "execution_count": 46,
   "id": "bfae97f8",
   "metadata": {},
   "outputs": [
    {
     "data": {
      "text/html": [
       "<div>\n",
       "<style scoped>\n",
       "    .dataframe tbody tr th:only-of-type {\n",
       "        vertical-align: middle;\n",
       "    }\n",
       "\n",
       "    .dataframe tbody tr th {\n",
       "        vertical-align: top;\n",
       "    }\n",
       "\n",
       "    .dataframe thead th {\n",
       "        text-align: right;\n",
       "    }\n",
       "</style>\n",
       "<table border=\"1\" class=\"dataframe\">\n",
       "  <thead>\n",
       "    <tr style=\"text-align: right;\">\n",
       "      <th></th>\n",
       "      <th>2.0</th>\n",
       "      <th>1.0</th>\n",
       "      <th>0.0</th>\n",
       "    </tr>\n",
       "  </thead>\n",
       "  <tbody>\n",
       "    <tr>\n",
       "      <th>0.0</th>\n",
       "      <td>0.374773</td>\n",
       "      <td>0.287319</td>\n",
       "      <td>0.179814</td>\n",
       "    </tr>\n",
       "    <tr>\n",
       "      <th>1.0</th>\n",
       "      <td>0.070376</td>\n",
       "      <td>0.053953</td>\n",
       "      <td>0.033766</td>\n",
       "    </tr>\n",
       "  </tbody>\n",
       "</table>\n",
       "</div>"
      ],
      "text/plain": [
       "          2.0       1.0       0.0\n",
       "0.0  0.374773  0.287319  0.179814\n",
       "1.0  0.070376  0.053953  0.033766"
      ]
     },
     "execution_count": 46,
     "metadata": {},
     "output_type": "execute_result"
    }
   ],
   "source": [
    "expected = pd.DataFrame()\n",
    "\n",
    "for internet_group, t_prop in internet_service_proportions.iteritems():\n",
    "    for senior_group, g_prop in senior_proportions.iteritems():\n",
    "        expected.loc[senior_group, internet_group] = t_prop * g_prop\n",
    "\n",
    "expected.sort_index(inplace=True)\n",
    "expected"
   ]
  },
  {
   "cell_type": "code",
   "execution_count": 47,
   "id": "a2d57fcd",
   "metadata": {},
   "outputs": [
    {
     "name": "stdout",
     "output_type": "stream",
     "text": [
      "The p-value is 3.783837682147854e-56\n",
      "Sufficient evidence is present to reject the null hypothesis\n"
     ]
    }
   ],
   "source": [
    "# Chi squared with un-encoded categorical columns\n",
    "alpha = 0.05\n",
    "observed = pd.crosstab(train.internet_service, train.is_senior_citizen)\n",
    "chi2, p, degf, expected = stats.chi2_contingency(observed)\n",
    "print(f\"The p-value is {p}\")\n",
    "if p < alpha:\n",
    "    print(\"Sufficient evidence is present to reject the null hypothesis\")\n",
    "else:\n",
    "    print(\"Insufficient evidence to reject the null\")\n",
    "    print(\"Evidence seems to support the claim that senior customers and internet account types are independent\")"
   ]
  },
  {
   "cell_type": "code",
   "execution_count": 48,
   "id": "d9a6dcd8",
   "metadata": {},
   "outputs": [
    {
     "data": {
      "image/png": "[encoded data removed]",
      "text/plain": [
       "<Figure size 432x288 with 1 Axes>"
      ]
     },
     "metadata": {
      "needs_background": "light"
     },
     "output_type": "display_data"
    }
   ],
   "source": [
    "#let's look at the numbers visually\n",
    "barplot = observed.plot.bar(rot=0)"
   ]
  },
  {
   "cell_type": "markdown",
   "id": "e63e778e",
   "metadata": {},
   "source": [
    "### Take Aways:\n",
    "* There IS a relationship between seniors and their internet service type accounts.\n",
    "* The above barplot shows that a large majority of seniors have Fiber Optics for their internet service.\n",
    "\n",
    "##########################################################################"
   ]
  },
  {
   "cell_type": "markdown",
   "id": "ed514dea",
   "metadata": {},
   "source": [
    "# Internet type accounts vs. Singles:\n",
    "Seeing what kind of internet accounts most single customers have.\n",
    "\n",
    "* H0: There is NO relationship between internet type accounts and single Telco customers.\n",
    "* Ha: There IS a relationship between internet type and single customer Telco customers."
   ]
  },
  {
   "cell_type": "code",
   "execution_count": 49,
   "id": "6c8f05e2",
   "metadata": {},
   "outputs": [
    {
     "data": {
      "text/plain": [
       "2.0    0.445148\n",
       "1.0    0.341272\n",
       "0.0    0.213580\n",
       "Name: internet_service, dtype: float64"
      ]
     },
     "execution_count": 49,
     "metadata": {},
     "output_type": "execute_result"
    }
   ],
   "source": [
    "#Calculating ChiSquare of categorical demographics (automated accounts + singles)\n",
    "n = train.shape[0]\n",
    "\n",
    "internet_service_proportions = train.internet_service.value_counts() / n\n",
    "internet_service_proportions"
   ]
  },
  {
   "cell_type": "code",
   "execution_count": 50,
   "id": "2434d446",
   "metadata": {},
   "outputs": [
    {
     "data": {
      "text/plain": [
       "0    0.458829\n",
       "3    0.255384\n",
       "1    0.234102\n",
       "2    0.051685\n",
       "Name: partner_dependants, dtype: float64"
      ]
     },
     "execution_count": 50,
     "metadata": {},
     "output_type": "execute_result"
    }
   ],
   "source": [
    "single_proportions = train.partner_dependants.value_counts() / n\n",
    "single_proportions"
   ]
  },
  {
   "cell_type": "code",
   "execution_count": 51,
   "id": "70312533",
   "metadata": {},
   "outputs": [
    {
     "data": {
      "text/html": [
       "<div>\n",
       "<style scoped>\n",
       "    .dataframe tbody tr th:only-of-type {\n",
       "        vertical-align: middle;\n",
       "    }\n",
       "\n",
       "    .dataframe tbody tr th {\n",
       "        vertical-align: top;\n",
       "    }\n",
       "\n",
       "    .dataframe thead th {\n",
       "        text-align: right;\n",
       "    }\n",
       "</style>\n",
       "<table border=\"1\" class=\"dataframe\">\n",
       "  <thead>\n",
       "    <tr style=\"text-align: right;\">\n",
       "      <th></th>\n",
       "      <th>2.0</th>\n",
       "      <th>1.0</th>\n",
       "      <th>0.0</th>\n",
       "    </tr>\n",
       "  </thead>\n",
       "  <tbody>\n",
       "    <tr>\n",
       "      <th>0</th>\n",
       "      <td>0.204247</td>\n",
       "      <td>0.156586</td>\n",
       "      <td>0.097997</td>\n",
       "    </tr>\n",
       "    <tr>\n",
       "      <th>1</th>\n",
       "      <td>0.104210</td>\n",
       "      <td>0.079892</td>\n",
       "      <td>0.049999</td>\n",
       "    </tr>\n",
       "    <tr>\n",
       "      <th>2</th>\n",
       "      <td>0.023007</td>\n",
       "      <td>0.017639</td>\n",
       "      <td>0.011039</td>\n",
       "    </tr>\n",
       "    <tr>\n",
       "      <th>3</th>\n",
       "      <td>0.113684</td>\n",
       "      <td>0.087155</td>\n",
       "      <td>0.054545</td>\n",
       "    </tr>\n",
       "  </tbody>\n",
       "</table>\n",
       "</div>"
      ],
      "text/plain": [
       "        2.0       1.0       0.0\n",
       "0  0.204247  0.156586  0.097997\n",
       "1  0.104210  0.079892  0.049999\n",
       "2  0.023007  0.017639  0.011039\n",
       "3  0.113684  0.087155  0.054545"
      ]
     },
     "execution_count": 51,
     "metadata": {},
     "output_type": "execute_result"
    }
   ],
   "source": [
    "expected = pd.DataFrame()\n",
    "\n",
    "for internet_group, t_prop in internet_service_proportions.iteritems():\n",
    "    for single_group, g_prop in single_proportions.iteritems():\n",
    "        expected.loc[single_group, internet_group] = t_prop * g_prop\n",
    "\n",
    "expected.sort_index(inplace=True)\n",
    "expected"
   ]
  },
  {
   "cell_type": "code",
   "execution_count": 52,
   "id": "45aaa47b",
   "metadata": {},
   "outputs": [
    {
     "name": "stdout",
     "output_type": "stream",
     "text": [
      "The p-value is 1.2684922884363604e-34\n",
      "Sufficient evidence is present to reject the null hypothesis\n"
     ]
    }
   ],
   "source": [
    "# Chi squared with un-encoded categorical columns\n",
    "alpha = 0.05\n",
    "observed = pd.crosstab(train.internet_service, train.partner_dependants)\n",
    "chi2, p, degf, expected = stats.chi2_contingency(observed)\n",
    "print(f\"The p-value is {p}\")\n",
    "if p < alpha:\n",
    "    print(\"Sufficient evidence is present to reject the null hypothesis\")\n",
    "else:\n",
    "    print(\"Insufficient evidence to reject the null\")\n",
    "    print(\"Evidence seems to support the claim that single customers and internet account types are independent\")"
   ]
  },
  {
   "cell_type": "code",
   "execution_count": 53,
   "id": "109eeab4",
   "metadata": {},
   "outputs": [
    {
     "data": {
      "image/png": "[encoded data removed]",
      "text/plain": [
       "<Figure size 432x288 with 1 Axes>"
      ]
     },
     "metadata": {
      "needs_background": "light"
     },
     "output_type": "display_data"
    }
   ],
   "source": [
    "#let's look at the numbers visually\n",
    "barplot = observed.plot.bar(rot=0)"
   ]
  },
  {
   "cell_type": "markdown",
   "id": "eb5a5d8b",
   "metadata": {},
   "source": [
    "### Take Aways:\n",
    "* There IS a relationship between singles and their internet service type accounts.\n",
    "\n",
    "##########################################################################"
   ]
  },
  {
   "cell_type": "markdown",
   "id": "940a476b",
   "metadata": {},
   "source": [
    "# BUT DOES INTERNET SERVICE RELATE TO CHURN???"
   ]
  },
  {
   "cell_type": "markdown",
   "id": "4e7020b0",
   "metadata": {},
   "source": [
    "- Now that we know our demographics and are seeing a relation to these same demographics to service types, let's just check that churn relates to the services these groups of customers hold:"
   ]
  },
  {
   "cell_type": "markdown",
   "id": "e608a25f",
   "metadata": {},
   "source": [
    "## Churn vs Internet Service Type:\n",
    "\n",
    "* H0: There is not relationship between Churn and Internet Service type.\n",
    "* Ha: There is a relationship between Churn and Internet Service type."
   ]
  },
  {
   "cell_type": "code",
   "execution_count": 54,
   "id": "e3c69a25",
   "metadata": {},
   "outputs": [
    {
     "data": {
      "text/plain": [
       "2.0    0.445148\n",
       "1.0    0.341272\n",
       "0.0    0.213580\n",
       "Name: internet_service, dtype: float64"
      ]
     },
     "execution_count": 54,
     "metadata": {},
     "output_type": "execute_result"
    }
   ],
   "source": [
    "#Calculating ChiSquare of categorical demographics (automated accounts + singles)\n",
    "n = train.shape[0]\n",
    "\n",
    "internet_service_proportions = train.internet_service.value_counts() / n\n",
    "internet_service_proportions"
   ]
  },
  {
   "cell_type": "code",
   "execution_count": 55,
   "id": "c560f30b",
   "metadata": {},
   "outputs": [
    {
     "data": {
      "text/plain": [
       "No     0.734735\n",
       "Yes    0.265265\n",
       "Name: churn, dtype: float64"
      ]
     },
     "execution_count": 55,
     "metadata": {},
     "output_type": "execute_result"
    }
   ],
   "source": [
    "churn_proportions = train.churn.value_counts() / n\n",
    "churn_proportions"
   ]
  },
  {
   "cell_type": "code",
   "execution_count": 56,
   "id": "aa1c7c2e",
   "metadata": {},
   "outputs": [
    {
     "data": {
      "text/html": [
       "<div>\n",
       "<style scoped>\n",
       "    .dataframe tbody tr th:only-of-type {\n",
       "        vertical-align: middle;\n",
       "    }\n",
       "\n",
       "    .dataframe tbody tr th {\n",
       "        vertical-align: top;\n",
       "    }\n",
       "\n",
       "    .dataframe thead th {\n",
       "        text-align: right;\n",
       "    }\n",
       "</style>\n",
       "<table border=\"1\" class=\"dataframe\">\n",
       "  <thead>\n",
       "    <tr style=\"text-align: right;\">\n",
       "      <th></th>\n",
       "      <th>2.0</th>\n",
       "      <th>1.0</th>\n",
       "      <th>0.0</th>\n",
       "    </tr>\n",
       "  </thead>\n",
       "  <tbody>\n",
       "    <tr>\n",
       "      <th>No</th>\n",
       "      <td>0.327066</td>\n",
       "      <td>0.250744</td>\n",
       "      <td>0.156925</td>\n",
       "    </tr>\n",
       "    <tr>\n",
       "      <th>Yes</th>\n",
       "      <td>0.118082</td>\n",
       "      <td>0.090527</td>\n",
       "      <td>0.056655</td>\n",
       "    </tr>\n",
       "  </tbody>\n",
       "</table>\n",
       "</div>"
      ],
      "text/plain": [
       "          2.0       1.0       0.0\n",
       "No   0.327066  0.250744  0.156925\n",
       "Yes  0.118082  0.090527  0.056655"
      ]
     },
     "execution_count": 56,
     "metadata": {},
     "output_type": "execute_result"
    }
   ],
   "source": [
    "expected = pd.DataFrame()\n",
    "\n",
    "for internet_group, t_prop in internet_service_proportions.iteritems():\n",
    "    for churn_group, g_prop in churn_proportions.iteritems():\n",
    "        expected.loc[churn_group, internet_group] = t_prop * g_prop\n",
    "\n",
    "expected.sort_index(inplace=True)\n",
    "expected"
   ]
  },
  {
   "cell_type": "code",
   "execution_count": 57,
   "id": "ca7876ea",
   "metadata": {},
   "outputs": [
    {
     "name": "stdout",
     "output_type": "stream",
     "text": [
      "The p-value is 7.732431681003518e-88\n",
      "Sufficient evidence is present to reject the null hypothesis\n"
     ]
    }
   ],
   "source": [
    "# Chi squared with un-encoded categorical columns\n",
    "alpha = 0.05\n",
    "observed = pd.crosstab(train.internet_service, train.churn)\n",
    "chi2, p, degf, expected = stats.chi2_contingency(observed)\n",
    "print(f\"The p-value is {p}\")\n",
    "if p < alpha:\n",
    "    print(\"Sufficient evidence is present to reject the null hypothesis\")\n",
    "else:\n",
    "    print(\"Insufficient evidence to reject the null\")\n",
    "    print(\"Evidence seems to support the claim that churn and internet account types are independent\")"
   ]
  },
  {
   "cell_type": "code",
   "execution_count": 58,
   "id": "df3dd586",
   "metadata": {},
   "outputs": [
    {
     "data": {
      "image/png": "[encoded data removed]",
      "text/plain": [
       "<Figure size 432x288 with 1 Axes>"
      ]
     },
     "metadata": {
      "needs_background": "light"
     },
     "output_type": "display_data"
    }
   ],
   "source": [
    "#let's look at the numbers visually\n",
    "barplot = observed.plot.bar(rot=0)"
   ]
  },
  {
   "cell_type": "markdown",
   "id": "204240c0",
   "metadata": {},
   "source": [
    "### Take Aways:\n",
    "* There IS a relationship between churn and their internet service type accounts.\n",
    "* More accounts that had Fiber Optic for internet churned than any other internet service type.\n",
    "\n",
    "##########################################################################"
   ]
  },
  {
   "cell_type": "markdown",
   "id": "6c8b9e2d",
   "metadata": {},
   "source": [
    "# My Drivers:\n",
    "* DEMOGRAPHIC GROUPS-\n",
    "    * Senior Citizens customers\n",
    "    * Single customers\n",
    "    \n",
    "* ACCOUNT TYPE GROUPS-\n",
    "    * Fiber Optic accounts\n",
    "    * Non-automated accounts"
   ]
  },
  {
   "cell_type": "markdown",
   "id": "6c8af221",
   "metadata": {},
   "source": [
    "- More visualizations to show these relationships:"
   ]
  },
  {
   "cell_type": "code",
   "execution_count": 59,
   "id": "dbfb803a",
   "metadata": {},
   "outputs": [
    {
     "data": {
      "image/png": "[encoded data removed]",
      "text/plain": [
       "<Figure size 432x288 with 2 Axes>"
      ]
     },
     "metadata": {
      "needs_background": "light"
     },
     "output_type": "display_data"
    }
   ],
   "source": [
    "plt.subplot(211)\n",
    "\n",
    "sns.countplot(x = 'partner_dependants', data=train, palette='Purples', ec='black', linewidth=2)\n",
    "\n",
    "plt.title('How Does Churn Relate to Customer being Single?')\n",
    "plt.xlabel('')\n",
    "plt.ylabel('')\n",
    "plt.legend(['0= Single'])\n",
    "plt.subplot(212)\n",
    "\n",
    "#countplot comparing partnership to churn\n",
    "sns.countplot(x = 'partner_dependants', hue = 'churn', data=train, palette='Blues', ec='black', linewidth=2)\n",
    "\n",
    "plt.legend(['Did Not Churn', 'Churned'])\n",
    "\n",
    "plt.show()"
   ]
  },
  {
   "cell_type": "code",
   "execution_count": 60,
   "id": "de7cd38f",
   "metadata": {},
   "outputs": [
    {
     "data": {
      "image/png": "[encoded data removed]",
      "text/plain": [
       "<Figure size 432x288 with 2 Axes>"
      ]
     },
     "metadata": {
      "needs_background": "light"
     },
     "output_type": "display_data"
    }
   ],
   "source": [
    "plt.subplot(211)\n",
    "\n",
    "sns.countplot(x = 'internet_service', data=train, palette='Purples', ec='black', linewidth=2)\n",
    "\n",
    "plt.title(\"How Does Churn Relate to Customers' Internet Serivce type ?\")\n",
    "plt.xlabel('')\n",
    "plt.ylabel('')\n",
    "plt.legend(['0 = No Internet',' 1 = DSL', '2 = Fiber'])\n",
    "plt.subplot(212)\n",
    "\n",
    "#countplot comparing partnership to churn\n",
    "sns.countplot(x = 'internet_service', hue = 'churn', data=train, palette='Blues', ec='black', linewidth=2)\n",
    "\n",
    "plt.legend(['Did Not Churn', 'Churned'])\n",
    "\n",
    "plt.show()"
   ]
  },
  {
   "cell_type": "markdown",
   "id": "ef7a4a1b",
   "metadata": {},
   "source": [
    "# Onto ML Models:"
   ]
  },
  {
   "cell_type": "markdown",
   "id": "5a797c82",
   "metadata": {},
   "source": [
    "### Creating Logistical Regression models:\n",
    "To quickly assess and models with target (Churn) against chosen variables (Senior citizen, Single, Fiber Optics, non-automated accounts) into a Logistical Regression model. If the accuracy of this model is higher than my baseline, then I'll move onto other models. "
   ]
  },
  {
   "cell_type": "markdown",
   "id": "09c7b37b",
   "metadata": {},
   "source": [
    "- Developing my baseline to compare my models to:    "
   ]
  },
  {
   "cell_type": "code",
   "execution_count": 61,
   "id": "910a2301",
   "metadata": {},
   "outputs": [],
   "source": [
    "#Taking freshly prepared data through the acquire and prepare.py files for modeling:\n",
    "df = acquire.excel_file()\n",
    "train, validate, test = prep_telco(df)"
   ]
  },
  {
   "cell_type": "markdown",
   "id": "e90ba718",
   "metadata": {},
   "source": [
    "- Baseline (for the 'most common case to everything')"
   ]
  },
  {
   "cell_type": "code",
   "execution_count": 62,
   "id": "b28d42e5",
   "metadata": {},
   "outputs": [
    {
     "data": {
      "text/plain": [
       "No     0.734735\n",
       "Yes    0.265265\n",
       "Name: churn, dtype: float64"
      ]
     },
     "execution_count": 62,
     "metadata": {},
     "output_type": "execute_result"
    }
   ],
   "source": [
    "train.churn.value_counts(normalize=True)"
   ]
  },
  {
   "cell_type": "markdown",
   "id": "d4e6e499",
   "metadata": {},
   "source": [
    "### My BASELINE IS 26% for accuracy (based on 'yes churn' data)"
   ]
  },
  {
   "cell_type": "code",
   "execution_count": 63,
   "id": "bf24b6ea",
   "metadata": {},
   "outputs": [],
   "source": [
    "#filling the NaNs again for total_charges:\n",
    "total_mean=train.total_charges.mean()\n",
    "train['total_charges'].fillna(value=total_mean, inplace=True)"
   ]
  },
  {
   "cell_type": "code",
   "execution_count": 64,
   "id": "746ad643",
   "metadata": {},
   "outputs": [
    {
     "data": {
      "text/html": [
       "<div>\n",
       "<style scoped>\n",
       "    .dataframe tbody tr th:only-of-type {\n",
       "        vertical-align: middle;\n",
       "    }\n",
       "\n",
       "    .dataframe tbody tr th {\n",
       "        vertical-align: top;\n",
       "    }\n",
       "\n",
       "    .dataframe thead th {\n",
       "        text-align: right;\n",
       "    }\n",
       "</style>\n",
       "<table border=\"1\" class=\"dataframe\">\n",
       "  <thead>\n",
       "    <tr style=\"text-align: right;\">\n",
       "      <th></th>\n",
       "      <th>Yes</th>\n",
       "    </tr>\n",
       "  </thead>\n",
       "  <tbody>\n",
       "    <tr>\n",
       "      <th>654</th>\n",
       "      <td>0</td>\n",
       "    </tr>\n",
       "    <tr>\n",
       "      <th>3872</th>\n",
       "      <td>1</td>\n",
       "    </tr>\n",
       "    <tr>\n",
       "      <th>5756</th>\n",
       "      <td>0</td>\n",
       "    </tr>\n",
       "    <tr>\n",
       "      <th>5336</th>\n",
       "      <td>0</td>\n",
       "    </tr>\n",
       "    <tr>\n",
       "      <th>3724</th>\n",
       "      <td>0</td>\n",
       "    </tr>\n",
       "  </tbody>\n",
       "</table>\n",
       "</div>"
      ],
      "text/plain": [
       "      Yes\n",
       "654     0\n",
       "3872    1\n",
       "5756    0\n",
       "5336    0\n",
       "3724    0"
      ]
     },
     "execution_count": 64,
     "metadata": {},
     "output_type": "execute_result"
    }
   ],
   "source": [
    "#Encoding data for later churn use (as right now it is an object and I need numeric for models)\n",
    "# First I create a new dataframe that holds my encoded columns.\n",
    "\n",
    "churn_dummies = pd.get_dummies(df.churn, drop_first=True)\n",
    "churn_dummies.sample(5)"
   ]
  },
  {
   "cell_type": "markdown",
   "id": "4005c374",
   "metadata": {},
   "source": [
    "- Defining my x and y:"
   ]
  },
  {
   "cell_type": "code",
   "execution_count": 65,
   "id": "d2c81e1c",
   "metadata": {},
   "outputs": [
    {
     "data": {
      "text/html": [
       "<div>\n",
       "<style scoped>\n",
       "    .dataframe tbody tr th:only-of-type {\n",
       "        vertical-align: middle;\n",
       "    }\n",
       "\n",
       "    .dataframe tbody tr th {\n",
       "        vertical-align: top;\n",
       "    }\n",
       "\n",
       "    .dataframe thead th {\n",
       "        text-align: right;\n",
       "    }\n",
       "</style>\n",
       "<table border=\"1\" class=\"dataframe\">\n",
       "  <thead>\n",
       "    <tr style=\"text-align: right;\">\n",
       "      <th></th>\n",
       "      <th>gender</th>\n",
       "      <th>is_senior_citizen</th>\n",
       "      <th>partner</th>\n",
       "      <th>dependents</th>\n",
       "      <th>phone_service</th>\n",
       "      <th>internet_service</th>\n",
       "      <th>contract_type</th>\n",
       "      <th>payment_type</th>\n",
       "      <th>monthly_charges</th>\n",
       "      <th>total_charges</th>\n",
       "      <th>...</th>\n",
       "      <th>has_phone_internet</th>\n",
       "      <th>partner_dependants</th>\n",
       "      <th>calculated_monthly_avg</th>\n",
       "      <th>validate</th>\n",
       "      <th>phone_service_type</th>\n",
       "      <th>internet_service_type</th>\n",
       "      <th>contract_type.1</th>\n",
       "      <th>rounded_tenure</th>\n",
       "      <th>service_type</th>\n",
       "      <th>tenure_bins</th>\n",
       "    </tr>\n",
       "  </thead>\n",
       "  <tbody>\n",
       "    <tr>\n",
       "      <th>2394</th>\n",
       "      <td>Male</td>\n",
       "      <td>0.0</td>\n",
       "      <td>Yes</td>\n",
       "      <td>No</td>\n",
       "      <td>1.0</td>\n",
       "      <td>1.0</td>\n",
       "      <td>1.0</td>\n",
       "      <td>Mailed check</td>\n",
       "      <td>54.35</td>\n",
       "      <td>1426.45</td>\n",
       "      <td>...</td>\n",
       "      <td>False</td>\n",
       "      <td>1</td>\n",
       "      <td>54.35</td>\n",
       "      <td>True</td>\n",
       "      <td>#REF!</td>\n",
       "      <td>#REF!</td>\n",
       "      <td>#REF!</td>\n",
       "      <td>26</td>\n",
       "      <td>Internet+Phone</td>\n",
       "      <td>2-3 years</td>\n",
       "    </tr>\n",
       "  </tbody>\n",
       "</table>\n",
       "<p>1 rows × 27 columns</p>\n",
       "</div>"
      ],
      "text/plain": [
       "     gender  is_senior_citizen partner dependents  phone_service  \\\n",
       "2394   Male                0.0     Yes         No            1.0   \n",
       "\n",
       "      internet_service  contract_type  payment_type  monthly_charges  \\\n",
       "2394               1.0            1.0  Mailed check            54.35   \n",
       "\n",
       "      total_charges  ... has_phone_internet  partner_dependants  \\\n",
       "2394        1426.45  ...              False                   1   \n",
       "\n",
       "      calculated_monthly_avg  validate  phone_service_type  \\\n",
       "2394                   54.35      True               #REF!   \n",
       "\n",
       "      internet_service_type  contract_type.1  rounded_tenure    service_type  \\\n",
       "2394                  #REF!            #REF!              26  Internet+Phone   \n",
       "\n",
       "     tenure_bins  \n",
       "2394   2-3 years  \n",
       "\n",
       "[1 rows x 27 columns]"
      ]
     },
     "execution_count": 65,
     "metadata": {},
     "output_type": "execute_result"
    }
   ],
   "source": [
    "train.head(1)"
   ]
  },
  {
   "cell_type": "code",
   "execution_count": 90,
   "id": "2984dd39",
   "metadata": {},
   "outputs": [],
   "source": [
    "# Dropping categorical and not-needed columns that are leftover.\n",
    "\n",
    "X_train = train.drop(columns=['churn','gender', 'partner', \n",
    "                              'dependents', 'phone_service',\n",
    "                              'payment_type','total_charges','has_phone_internet','calculated_monthly_avg',\n",
    "                              'validate','phone_service_type','internet_service_type',\n",
    "                             'contract_type.1','service_type','tenure_bins',\n",
    "                             'tenure','is_female','Churned_Customers','has_phone','has_internet'])\n",
    "y_train = train[['churn']]\n",
    "\n",
    "X_validate = validate.drop(columns=['churn','gender', 'partner', \n",
    "                              'dependents', 'phone_service',\n",
    "                              'payment_type','total_charges','has_phone_internet','calculated_monthly_avg',\n",
    "                              'validate','phone_service_type','internet_service_type',\n",
    "                             'contract_type.1','service_type','tenure_bins',\n",
    "                             'tenure','is_female','Churned_Customers','has_phone','has_internet'])\n",
    "y_validate = validate[['churn']]\n",
    "\n",
    "X_test = test.drop(columns=['churn','gender', 'partner', \n",
    "                              'dependents', 'phone_service',\n",
    "                              'payment_type','total_charges','has_phone_internet','calculated_monthly_avg',\n",
    "                              'validate','phone_service_type','internet_service_type',\n",
    "                             'contract_type.1','service_type','tenure_bins',\n",
    "                             'tenure','is_female','Churned_Customers','has_phone','has_internet'])\n",
    "y_test = test[['churn']]"
   ]
  },
  {
   "cell_type": "markdown",
   "id": "dec21da5",
   "metadata": {},
   "source": [
    "### CREATING A LOGISTIC REGRESSION MODEL:::"
   ]
  },
  {
   "cell_type": "code",
   "execution_count": 91,
   "id": "6818bd0e",
   "metadata": {},
   "outputs": [],
   "source": [
    "# Create a simple Logistic Regression model to start.\n",
    "\n",
    "logit = LogisticRegression(random_state=123)"
   ]
  },
  {
   "cell_type": "markdown",
   "id": "123d6bea",
   "metadata": {},
   "source": [
    "#### FITTING THE LOGISTICAL REG. MODEL:"
   ]
  },
  {
   "cell_type": "code",
   "execution_count": 92,
   "id": "ba8fa49f",
   "metadata": {},
   "outputs": [
    {
     "data": {
      "text/plain": [
       "LogisticRegression(random_state=123)"
      ]
     },
     "execution_count": 92,
     "metadata": {},
     "output_type": "execute_result"
    }
   ],
   "source": [
    "logit.fit(X_train, y_train)"
   ]
  },
  {
   "cell_type": "markdown",
   "id": "c922991f",
   "metadata": {},
   "source": [
    "- Looking at coefficients to model:"
   ]
  },
  {
   "cell_type": "code",
   "execution_count": 93,
   "id": "da149f73",
   "metadata": {},
   "outputs": [],
   "source": [
    "# Create a list of our model features.\n",
    "\n",
    "features = X_train.columns.tolist()"
   ]
  },
  {
   "cell_type": "code",
   "execution_count": 94,
   "id": "e9e9ee87",
   "metadata": {},
   "outputs": [],
   "source": [
    "# Create a list of the weights for each feature from our model.\n",
    "\n",
    "weights = logit.coef_.flatten()"
   ]
  },
  {
   "cell_type": "code",
   "execution_count": 95,
   "id": "f4523ce4",
   "metadata": {},
   "outputs": [
    {
     "data": {
      "text/html": [
       "<div>\n",
       "<style scoped>\n",
       "    .dataframe tbody tr th:only-of-type {\n",
       "        vertical-align: middle;\n",
       "    }\n",
       "\n",
       "    .dataframe tbody tr th {\n",
       "        vertical-align: top;\n",
       "    }\n",
       "\n",
       "    .dataframe thead th {\n",
       "        text-align: right;\n",
       "    }\n",
       "</style>\n",
       "<table border=\"1\" class=\"dataframe\">\n",
       "  <thead>\n",
       "    <tr style=\"text-align: right;\">\n",
       "      <th></th>\n",
       "      <th>feature</th>\n",
       "      <th>weight</th>\n",
       "    </tr>\n",
       "  </thead>\n",
       "  <tbody>\n",
       "    <tr>\n",
       "      <th>0</th>\n",
       "      <td>is_senior_citizen</td>\n",
       "      <td>0.403336</td>\n",
       "    </tr>\n",
       "    <tr>\n",
       "      <th>1</th>\n",
       "      <td>internet_service</td>\n",
       "      <td>0.869941</td>\n",
       "    </tr>\n",
       "    <tr>\n",
       "      <th>2</th>\n",
       "      <td>contract_type</td>\n",
       "      <td>-0.821560</td>\n",
       "    </tr>\n",
       "    <tr>\n",
       "      <th>3</th>\n",
       "      <td>monthly_charges</td>\n",
       "      <td>0.005442</td>\n",
       "    </tr>\n",
       "    <tr>\n",
       "      <th>4</th>\n",
       "      <td>is_auto</td>\n",
       "      <td>-0.328143</td>\n",
       "    </tr>\n",
       "    <tr>\n",
       "      <th>5</th>\n",
       "      <td>partner_dependants</td>\n",
       "      <td>-0.052999</td>\n",
       "    </tr>\n",
       "    <tr>\n",
       "      <th>6</th>\n",
       "      <td>rounded_tenure</td>\n",
       "      <td>-0.027139</td>\n",
       "    </tr>\n",
       "  </tbody>\n",
       "</table>\n",
       "</div>"
      ],
      "text/plain": [
       "              feature    weight\n",
       "0   is_senior_citizen  0.403336\n",
       "1    internet_service  0.869941\n",
       "2       contract_type -0.821560\n",
       "3     monthly_charges  0.005442\n",
       "4             is_auto -0.328143\n",
       "5  partner_dependants -0.052999\n",
       "6      rounded_tenure -0.027139"
      ]
     },
     "execution_count": 95,
     "metadata": {},
     "output_type": "execute_result"
    }
   ],
   "source": [
    "# Store our lists from above in a DataFrame.\n",
    "\n",
    "pd.DataFrame(weights, features).reset_index().rename(columns={'index': 'feature', 0: 'weight'})"
   ]
  },
  {
   "cell_type": "markdown",
   "id": "261ca8ed",
   "metadata": {},
   "source": [
    "### Evaluating Model:"
   ]
  },
  {
   "cell_type": "code",
   "execution_count": 96,
   "id": "310ee13b",
   "metadata": {},
   "outputs": [
    {
     "name": "stdout",
     "output_type": "stream",
     "text": [
      "Accuracy of Logistic Regression classifier on training set: 0.79\n"
     ]
    }
   ],
   "source": [
    "#Accuracy of the models logistic classifier\n",
    "print('Accuracy of Logistic Regression classifier on training set: {:.2f}'\n",
    "     .format(logit.score(X_train, y_train)))"
   ]
  },
  {
   "cell_type": "markdown",
   "id": "43249904",
   "metadata": {},
   "source": [
    "- Evaluating with classification report:"
   ]
  },
  {
   "cell_type": "code",
   "execution_count": 97,
   "id": "e2e817cb",
   "metadata": {},
   "outputs": [],
   "source": [
    "#making predictions on whether customer churns or not\n",
    "y_pred = logit.predict(X_train)"
   ]
  },
  {
   "cell_type": "code",
   "execution_count": 98,
   "id": "045dbf21",
   "metadata": {},
   "outputs": [],
   "source": [
    "#estimating probability of churn based on observations\n",
    "y_pred_proba = logit.predict_proba(X_train)"
   ]
  },
  {
   "cell_type": "code",
   "execution_count": 99,
   "id": "e2c67dda",
   "metadata": {},
   "outputs": [
    {
     "name": "stdout",
     "output_type": "stream",
     "text": [
      "              precision    recall  f1-score   support\n",
      "\n",
      "          No       0.83      0.90      0.86      2900\n",
      "         Yes       0.63      0.48      0.55      1047\n",
      "\n",
      "    accuracy                           0.79      3947\n",
      "   macro avg       0.73      0.69      0.70      3947\n",
      "weighted avg       0.77      0.79      0.78      3947\n",
      "\n"
     ]
    }
   ],
   "source": [
    "print(classification_report(y_train, y_pred))"
   ]
  },
  {
   "cell_type": "markdown",
   "id": "cf51f92e",
   "metadata": {},
   "source": [
    "### TAKE AWAY:\n",
    "- The first model is already classifying higher than our baseline, so I am on a good track. \n",
    "- My recall number is fairly high, so this model was good at predicting TP (aka good at predicting churning)\n",
    "- \n",
    "- "
   ]
  },
  {
   "cell_type": "markdown",
   "id": "910c6ae6",
   "metadata": {},
   "source": [
    "# Decision Tree Model:"
   ]
  },
  {
   "cell_type": "markdown",
   "id": "2d6c79de",
   "metadata": {},
   "source": [
    "Fitting the decision tree classifier to the Telco training sample and transform (i.e. make predictions on the training sample)"
   ]
  },
  {
   "cell_type": "code",
   "execution_count": 114,
   "id": "051d6d1e",
   "metadata": {},
   "outputs": [],
   "source": [
    "from sklearn.tree import DecisionTreeClassifier, plot_tree\n",
    "#creating that decision tree!\n",
    "\n",
    "tree1= DecisionTreeClassifier(max_depth=2, random_state=123)"
   ]
  },
  {
   "cell_type": "code",
   "execution_count": 115,
   "id": "c9bfa3a3",
   "metadata": {},
   "outputs": [],
   "source": [
    "# model.fit(X, y)\n",
    "tree1 = tree1.fit(X_train, y_train)"
   ]
  },
  {
   "cell_type": "code",
   "execution_count": 116,
   "id": "42896c5d",
   "metadata": {},
   "outputs": [
    {
     "data": {
      "text/plain": [
       "[Text(390.6, 317.09999999999997, 'contract_type <= 0.5\\ngini = 0.39\\nsamples = 3947\\nvalue = [2900, 1047]\\nclass = No'),\n",
       " Text(195.3, 190.26, 'internet_service <= 1.5\\ngini = 0.489\\nsamples = 2146\\nvalue = [1229, 917]\\nclass = No'),\n",
       " Text(97.65, 63.420000000000016, 'gini = 0.409\\nsamples = 947\\nvalue = [676, 271]\\nclass = No'),\n",
       " Text(292.95000000000005, 63.420000000000016, 'gini = 0.497\\nsamples = 1199\\nvalue = [553, 646]\\nclass = Yes'),\n",
       " Text(585.9000000000001, 190.26, 'monthly_charges <= 93.775\\ngini = 0.134\\nsamples = 1801\\nvalue = [1671, 130]\\nclass = No'),\n",
       " Text(488.25, 63.420000000000016, 'gini = 0.079\\nsamples = 1351\\nvalue = [1295, 56]\\nclass = No'),\n",
       " Text(683.5500000000001, 63.420000000000016, 'gini = 0.275\\nsamples = 450\\nvalue = [376, 74]\\nclass = No')]"
      ]
     },
     "execution_count": 116,
     "metadata": {},
     "output_type": "execute_result"
    },
    {
     "data": {
      "image/png": "[encoded data removed]",
      "text/plain": [
       "<Figure size 1008x504 with 1 Axes>"
      ]
     },
     "metadata": {
      "needs_background": "light"
     },
     "output_type": "display_data"
    }
   ],
   "source": [
    "#plot the tree\n",
    "plt.figure(figsize=(14, 7))\n",
    "plot_tree(tree1, feature_names=X_train.columns, class_names=clf.classes_.astype(str), rounded=True)"
   ]
  },
  {
   "cell_type": "code",
   "execution_count": 103,
   "id": "08ccb211",
   "metadata": {},
   "outputs": [
    {
     "data": {
      "text/plain": [
       "array(['No', 'No', 'No', 'No', 'No'], dtype=object)"
      ]
     },
     "execution_count": 103,
     "metadata": {},
     "output_type": "execute_result"
    }
   ],
   "source": [
    "### Make Predictions\n",
    "y_pred=clf.predict(X_train)\n",
    "y_pred[0:5]"
   ]
  },
  {
   "cell_type": "code",
   "execution_count": 104,
   "id": "be5aa9bf",
   "metadata": {},
   "outputs": [
    {
     "data": {
      "text/plain": [
       "array([[0.95854922, 0.04145078],\n",
       "       [0.83555556, 0.16444444],\n",
       "       [0.71383316, 0.28616684],\n",
       "       [0.83555556, 0.16444444],\n",
       "       [0.83555556, 0.16444444]])"
      ]
     },
     "execution_count": 104,
     "metadata": {},
     "output_type": "execute_result"
    }
   ],
   "source": [
    "### Estimate Probability\n",
    "y_pred_proba=clf.predict_proba(X_train)\n",
    "y_pred_proba[0:5]"
   ]
  },
  {
   "cell_type": "markdown",
   "id": "94287b5b",
   "metadata": {},
   "source": [
    "#### EVALUATING DECISION TREE MODEL:"
   ]
  },
  {
   "cell_type": "code",
   "execution_count": 105,
   "id": "7a5bec5b",
   "metadata": {},
   "outputs": [
    {
     "name": "stdout",
     "output_type": "stream",
     "text": [
      "Accuracy of Decision Tree classifier on Telco training set: 0.76\n"
     ]
    }
   ],
   "source": [
    "print('Accuracy of Decision Tree classifier on Telco training set: {:.2f}'\n",
    "      .format(clf.score(X_train, y_train)))"
   ]
  },
  {
   "cell_type": "code",
   "execution_count": 106,
   "id": "9eba465b",
   "metadata": {},
   "outputs": [
    {
     "data": {
      "text/plain": [
       "array([[2347,  553],\n",
       "       [ 401,  646]])"
      ]
     },
     "execution_count": 106,
     "metadata": {},
     "output_type": "execute_result"
    }
   ],
   "source": [
    "# let's evaluate using a confusion matrix\n",
    "confusion_matrix(y_train, y_pred)"
   ]
  },
  {
   "cell_type": "code",
   "execution_count": 107,
   "id": "a289ac66",
   "metadata": {},
   "outputs": [
    {
     "data": {
      "text/plain": [
       "churn\n",
       "No       2900\n",
       "Yes      1047\n",
       "dtype: int64"
      ]
     },
     "execution_count": 107,
     "metadata": {},
     "output_type": "execute_result"
    }
   ],
   "source": [
    "#to see a visual of how many 'No churns' vs 'Yes churns' in this model:\n",
    "y_train.value_counts()"
   ]
  },
  {
   "cell_type": "code",
   "execution_count": 108,
   "id": "dfb5873b",
   "metadata": {},
   "outputs": [
    {
     "data": {
      "text/html": [
       "<div>\n",
       "<style scoped>\n",
       "    .dataframe tbody tr th:only-of-type {\n",
       "        vertical-align: middle;\n",
       "    }\n",
       "\n",
       "    .dataframe tbody tr th {\n",
       "        vertical-align: top;\n",
       "    }\n",
       "\n",
       "    .dataframe thead th {\n",
       "        text-align: right;\n",
       "    }\n",
       "</style>\n",
       "<table border=\"1\" class=\"dataframe\">\n",
       "  <thead>\n",
       "    <tr style=\"text-align: right;\">\n",
       "      <th></th>\n",
       "      <th>Not Churn 0</th>\n",
       "      <th>Churn 1</th>\n",
       "    </tr>\n",
       "  </thead>\n",
       "  <tbody>\n",
       "    <tr>\n",
       "      <th>Not Churn 0</th>\n",
       "      <td>2347</td>\n",
       "      <td>553</td>\n",
       "    </tr>\n",
       "    <tr>\n",
       "      <th>Churn 1</th>\n",
       "      <td>401</td>\n",
       "      <td>646</td>\n",
       "    </tr>\n",
       "  </tbody>\n",
       "</table>\n",
       "</div>"
      ],
      "text/plain": [
       "             Not Churn 0  Churn 1\n",
       "Not Churn 0         2347      553\n",
       "Churn 1              401      646"
      ]
     },
     "execution_count": 108,
     "metadata": {},
     "output_type": "execute_result"
    }
   ],
   "source": [
    "#creating a dataframe to see the matrix/needed to rename as variables were still 0 and 1\n",
    "labels = ('Not Churn 0', 'Churn 1')\n",
    "\n",
    "pd.DataFrame(confusion_matrix(y_train, y_pred), index=labels, columns=labels)"
   ]
  },
  {
   "cell_type": "code",
   "execution_count": 109,
   "id": "9b944c22",
   "metadata": {},
   "outputs": [
    {
     "name": "stdout",
     "output_type": "stream",
     "text": [
      "              precision    recall  f1-score   support\n",
      "\n",
      "          No       0.85      0.81      0.83      2900\n",
      "         Yes       0.54      0.62      0.58      1047\n",
      "\n",
      "    accuracy                           0.76      3947\n",
      "   macro avg       0.70      0.71      0.70      3947\n",
      "weighted avg       0.77      0.76      0.76      3947\n",
      "\n"
     ]
    }
   ],
   "source": [
    "#I'll use a classification to evaluate this model:\n",
    "print(classification_report(y_train, y_pred))"
   ]
  },
  {
   "cell_type": "code",
   "execution_count": 110,
   "id": "21e279a8",
   "metadata": {},
   "outputs": [],
   "source": [
    "#To find the accuracy, TP, FP, TN, and FN on this model:\n",
    "TP = 2347\n",
    "FP = 401\n",
    "FN = 553\n",
    "TN = 646\n",
    "ALL = TP + FP + FN + TN"
   ]
  },
  {
   "cell_type": "code",
   "execution_count": 111,
   "id": "12d5b0ac",
   "metadata": {},
   "outputs": [
    {
     "name": "stdout",
     "output_type": "stream",
     "text": [
      "Accuracy: 0.7582974410945021\n",
      "True Positive Rate: 0.8093103448275862\n",
      "False Positive Rate: 0.38299904489016234\n",
      "True Negative Rate: 0.6170009551098377\n",
      "False Negative Rate: 0.1906896551724138\n",
      "Precision: 0.854075691411936\n",
      "Recall: 0.8093103448275862\n",
      "F1 Score: 0.8310906515580737\n",
      "Support (0): 2900\n",
      "Support (1): 1047\n"
     ]
    }
   ],
   "source": [
    "accuracy = (TP + TN)/ALL\n",
    "print(f\"Accuracy: {accuracy}\")\n",
    "\n",
    "true_positive_rate = TP/(TP+FN)\n",
    "print(f\"True Positive Rate: {true_positive_rate}\")\n",
    "\n",
    "false_positive_rate = FP/(FP+TN)\n",
    "print(f\"False Positive Rate: {false_positive_rate}\")\n",
    "\n",
    "true_negative_rate = TN/(TN+FP)\n",
    "print(f\"True Negative Rate: {true_negative_rate}\")\n",
    "\n",
    "false_negative_rate = FN/(FN+TP)\n",
    "print(f\"False Negative Rate: {false_negative_rate}\")\n",
    "\n",
    "precision = TP/(TP+FP)\n",
    "print(f\"Precision: {precision}\")\n",
    "\n",
    "recall = TP/(TP+FN)\n",
    "print(f\"Recall: {recall}\")\n",
    "\n",
    "f1_score = 2*(precision*recall)/(precision+recall)\n",
    "print(f\"F1 Score: {f1_score}\")\n",
    "\n",
    "support_pos = TP + FN\n",
    "print(f\"Support (0): {support_pos}\")\n",
    "\n",
    "support_neg = FP + TN\n",
    "print(f\"Support (1): {support_neg}\")"
   ]
  },
  {
   "cell_type": "code",
   "execution_count": 112,
   "id": "c370e947",
   "metadata": {},
   "outputs": [
    {
     "name": "stdout",
     "output_type": "stream",
     "text": [
      "Tree with max depth of 2\n",
      "                    No          Yes  accuracy    macro avg  weighted avg\n",
      "precision     0.854076     0.538782  0.758297     0.696429      0.770439\n",
      "recall        0.809310     0.617001  0.758297     0.713156      0.758297\n",
      "f1-score      0.831091     0.575245  0.758297     0.703168      0.763224\n",
      "support    2900.000000  1047.000000  0.758297  3947.000000   3947.000000\n",
      "\n",
      "Tree with max depth of 3\n",
      "                    No          Yes  accuracy    macro avg  weighted avg\n",
      "precision     0.799415     0.685009   0.78414     0.742212      0.769067\n",
      "recall        0.942759     0.344795   0.78414     0.643777      0.784140\n",
      "f1-score      0.865190     0.458704   0.78414     0.661947      0.757363\n",
      "support    2900.000000  1047.000000   0.78414  3947.000000   3947.000000\n",
      "\n",
      "Tree with max depth of 4\n",
      "                    No          Yes  accuracy    macro avg  weighted avg\n",
      "precision     0.826182     0.652520  0.793007     0.739351      0.780116\n",
      "recall        0.909655     0.469914  0.793007     0.689785      0.793007\n",
      "f1-score      0.865912     0.546363  0.793007     0.706137      0.781147\n",
      "support    2900.000000  1047.000000  0.793007  3947.000000   3947.000000\n",
      "\n",
      "Tree with max depth of 5\n",
      "                    No          Yes  accuracy    macro avg  weighted avg\n",
      "precision     0.844206     0.654734  0.802635     0.749470      0.793946\n",
      "recall        0.896897     0.541547  0.802635     0.719222      0.802635\n",
      "f1-score      0.869754     0.592786  0.802635     0.731270      0.796284\n",
      "support    2900.000000  1047.000000  0.802635  3947.000000   3947.000000\n",
      "\n",
      "Tree with max depth of 6\n",
      "                    No          Yes  accuracy    macro avg  weighted avg\n",
      "precision     0.862521     0.656379  0.811756     0.759450      0.807839\n",
      "recall        0.884828     0.609360  0.811756     0.747094      0.811756\n",
      "f1-score      0.873532     0.631996  0.811756     0.752764      0.809461\n",
      "support    2900.000000  1047.000000  0.811756  3947.000000   3947.000000\n",
      "\n",
      "Tree with max depth of 7\n",
      "                    No          Yes  accuracy    macro avg  weighted avg\n",
      "precision     0.862262     0.693923  0.823664     0.778092      0.817607\n",
      "recall        0.904483     0.599809  0.823664     0.752146      0.823664\n",
      "f1-score      0.882868     0.643443  0.823664     0.763155      0.819357\n",
      "support    2900.000000  1047.000000  0.823664  3947.000000   3947.000000\n",
      "\n",
      "Tree with max depth of 8\n",
      "                    No          Yes  accuracy    macro avg  weighted avg\n",
      "precision     0.879229     0.696266  0.833291     0.787748      0.830695\n",
      "recall        0.896207     0.659026  0.833291     0.777616      0.833291\n",
      "f1-score      0.887637     0.677134  0.833291     0.782386      0.831798\n",
      "support    2900.000000  1047.000000  0.833291  3947.000000   3947.000000\n",
      "\n",
      "Tree with max depth of 9\n",
      "                    No          Yes  accuracy    macro avg  weighted avg\n",
      "precision     0.879186     0.753607  0.850519     0.816396      0.845874\n",
      "recall        0.923448     0.648520  0.850519     0.785984      0.850519\n",
      "f1-score      0.900774     0.697125  0.850519     0.798949      0.846753\n",
      "support    2900.000000  1047.000000  0.850519  3947.000000   3947.000000\n",
      "\n",
      "Tree with max depth of 10\n",
      "                    No          Yes  accuracy    macro avg  weighted avg\n",
      "precision     0.899034     0.786469  0.872055     0.842752      0.869174\n",
      "recall        0.930345     0.710602  0.872055     0.820473      0.872055\n",
      "f1-score      0.914421     0.746613  0.872055     0.830517      0.869908\n",
      "support    2900.000000  1047.000000  0.872055  3947.000000   3947.000000\n",
      "\n",
      "Tree with max depth of 11\n",
      "                    No          Yes  accuracy    macro avg  weighted avg\n",
      "precision     0.898701     0.847751   0.88751     0.873226      0.885186\n",
      "recall        0.954483     0.702006   0.88751     0.828244      0.887510\n",
      "f1-score      0.925753     0.768025   0.88751     0.846889      0.883913\n",
      "support    2900.000000  1047.000000   0.88751  3947.000000   3947.000000\n",
      "\n",
      "Tree with max depth of 12\n",
      "                    No          Yes  accuracy    macro avg  weighted avg\n",
      "precision     0.931502     0.846693  0.910058     0.889098      0.909005\n",
      "recall        0.947241     0.807068  0.910058     0.877155      0.910058\n",
      "f1-score      0.939306     0.826406  0.910058     0.882856      0.909357\n",
      "support    2900.000000  1047.000000  0.910058  3947.000000   3947.000000\n",
      "\n",
      "Tree with max depth of 13\n",
      "                    No          Yes  accuracy    macro avg  weighted avg\n",
      "precision     0.951270     0.876089  0.931594     0.913679      0.931327\n",
      "recall        0.955862     0.864374  0.931594     0.910118      0.931594\n",
      "f1-score      0.953560     0.870192  0.931594     0.911876      0.931446\n",
      "support    2900.000000  1047.000000  0.931594  3947.000000   3947.000000\n",
      "\n",
      "Tree with max depth of 14\n",
      "                    No          Yes  accuracy    macro avg  weighted avg\n",
      "precision     0.956566     0.919000  0.947048     0.937783      0.946601\n",
      "recall        0.972069     0.877746  0.947048     0.924907      0.947048\n",
      "f1-score      0.964255     0.897899  0.947048     0.931077      0.946653\n",
      "support    2900.000000  1047.000000  0.947048  3947.000000   3947.000000\n",
      "\n",
      "Tree with max depth of 15\n",
      "                    No          Yes  accuracy    macro avg  weighted avg\n",
      "precision     0.968016     0.945437   0.96225     0.956726      0.962027\n",
      "recall        0.981034     0.910220   0.96225     0.945627      0.962250\n",
      "f1-score      0.974482     0.927494   0.96225     0.950988      0.962018\n",
      "support    2900.000000  1047.000000   0.96225  3947.000000   3947.000000\n",
      "\n",
      "Tree with max depth of 16\n",
      "                    No          Yes  accuracy    macro avg  weighted avg\n",
      "precision     0.976768     0.959804  0.972384     0.968286      0.972268\n",
      "recall        0.985862     0.935053  0.972384     0.960457      0.972384\n",
      "f1-score      0.981294     0.947267  0.972384     0.964280      0.972268\n",
      "support    2900.000000  1047.000000  0.972384  3947.000000   3947.000000\n",
      "\n",
      "Tree with max depth of 17\n",
      "                    No          Yes  accuracy    macro avg  weighted avg\n",
      "precision     0.979259     0.980119  0.979478     0.979689      0.979487\n",
      "recall        0.993103     0.941738  0.979478     0.967421      0.979478\n",
      "f1-score      0.986133     0.960546  0.979478     0.973339      0.979345\n",
      "support    2900.000000  1047.000000  0.979478  3947.000000   3947.000000\n",
      "\n",
      "Tree with max depth of 18\n",
      "                    No          Yes  accuracy    macro avg  weighted avg\n",
      "precision     0.984968     0.983333  0.984545     0.984150      0.984534\n",
      "recall        0.994138     0.957975  0.984545     0.976057      0.984545\n",
      "f1-score      0.989531     0.970489  0.984545     0.980010      0.984480\n",
      "support    2900.000000  1047.000000  0.984545  3947.000000   3947.000000\n",
      "\n",
      "Tree with max depth of 19\n",
      "                    No          Yes  accuracy    macro avg  weighted avg\n",
      "precision     0.986353     0.991142  0.987586     0.988747      0.987623\n",
      "recall        0.996897     0.961796  0.987586     0.979346      0.987586\n",
      "f1-score      0.991597     0.976248  0.987586     0.983922      0.987525\n",
      "support    2900.000000  1047.000000  0.987586  3947.000000   3947.000000\n",
      "\n",
      "Tree with max depth of 20\n",
      "                    No          Yes  accuracy    macro avg  weighted avg\n",
      "precision     0.990404     0.990282  0.990372     0.990343      0.990372\n",
      "recall        0.996552     0.973257  0.990372     0.984904      0.990372\n",
      "f1-score      0.993469     0.981696  0.990372     0.987582      0.990346\n",
      "support    2900.000000  1047.000000  0.990372  3947.000000   3947.000000\n",
      "\n"
     ]
    }
   ],
   "source": [
    "# I'll create a \"for\" loop so that multiple models can be tested out:\n",
    "for i in range(2, 21):\n",
    "    # Make the model\n",
    "    tree = DecisionTreeClassifier(max_depth=i, random_state=123)\n",
    "\n",
    "    # Fit the model (on train and only train)\n",
    "    tree = tree.fit(X_train, y_train)\n",
    "\n",
    "    # Use the model\n",
    "    # We'll evaluate the model's performance on train, first\n",
    "    y_predictions = tree.predict(X_train)\n",
    "\n",
    "    # Produce the classification report on the actual y values and this model's predicted y values\n",
    "    report = classification_report(y_train, y_predictions, output_dict=True)\n",
    "    print(f\"Tree with max depth of {i}\")\n",
    "    print(pd.DataFrame(report))\n",
    "    print()"
   ]
  },
  {
   "cell_type": "markdown",
   "id": "83d87628",
   "metadata": {},
   "source": [
    "### Validate the model:\n",
    "- comparing in-sample to out-of-sample"
   ]
  },
  {
   "cell_type": "code",
   "execution_count": 119,
   "id": "f397fb32",
   "metadata": {},
   "outputs": [],
   "source": [
    "metrics = []\n",
    "\n",
    "for i in range(2, 25):\n",
    "    # Make the model\n",
    "    tree = DecisionTreeClassifier(max_depth=i, random_state=123)\n",
    "\n",
    "    # Fit the model (on train and only train)\n",
    "    tree = tree.fit(X_train, y_train)\n",
    "\n",
    "    # Use the model\n",
    "    # We'll evaluate the model's performance on train, first\n",
    "    in_sample_accuracy = tree.score(X_train, y_train)\n",
    "    \n",
    "    out_of_sample_accuracy = tree.score(X_validate, y_validate)\n",
    "\n",
    "    output = {\n",
    "        \"max_depth\": i,\n",
    "        \"train_accuracy\": in_sample_accuracy,\n",
    "        \"validate_accuracy\": out_of_sample_accuracy\n",
    "    }\n",
    "    \n",
    "    metrics.append(output)\n",
    "    "
   ]
  },
  {
   "cell_type": "code",
   "execution_count": 120,
   "id": "2c947843",
   "metadata": {},
   "outputs": [
    {
     "data": {
      "text/html": [
       "<div>\n",
       "<style scoped>\n",
       "    .dataframe tbody tr th:only-of-type {\n",
       "        vertical-align: middle;\n",
       "    }\n",
       "\n",
       "    .dataframe tbody tr th {\n",
       "        vertical-align: top;\n",
       "    }\n",
       "\n",
       "    .dataframe thead th {\n",
       "        text-align: right;\n",
       "    }\n",
       "</style>\n",
       "<table border=\"1\" class=\"dataframe\">\n",
       "  <thead>\n",
       "    <tr style=\"text-align: right;\">\n",
       "      <th></th>\n",
       "      <th>max_depth</th>\n",
       "      <th>train_accuracy</th>\n",
       "      <th>validate_accuracy</th>\n",
       "      <th>difference</th>\n",
       "    </tr>\n",
       "  </thead>\n",
       "  <tbody>\n",
       "    <tr>\n",
       "      <th>0</th>\n",
       "      <td>2</td>\n",
       "      <td>0.758297</td>\n",
       "      <td>0.764775</td>\n",
       "      <td>-0.006478</td>\n",
       "    </tr>\n",
       "    <tr>\n",
       "      <th>1</th>\n",
       "      <td>3</td>\n",
       "      <td>0.784140</td>\n",
       "      <td>0.791371</td>\n",
       "      <td>-0.007231</td>\n",
       "    </tr>\n",
       "    <tr>\n",
       "      <th>2</th>\n",
       "      <td>4</td>\n",
       "      <td>0.793007</td>\n",
       "      <td>0.795508</td>\n",
       "      <td>-0.002501</td>\n",
       "    </tr>\n",
       "    <tr>\n",
       "      <th>3</th>\n",
       "      <td>5</td>\n",
       "      <td>0.802635</td>\n",
       "      <td>0.788416</td>\n",
       "      <td>0.014219</td>\n",
       "    </tr>\n",
       "    <tr>\n",
       "      <th>4</th>\n",
       "      <td>6</td>\n",
       "      <td>0.811756</td>\n",
       "      <td>0.779551</td>\n",
       "      <td>0.032205</td>\n",
       "    </tr>\n",
       "    <tr>\n",
       "      <th>5</th>\n",
       "      <td>7</td>\n",
       "      <td>0.823664</td>\n",
       "      <td>0.763593</td>\n",
       "      <td>0.060070</td>\n",
       "    </tr>\n",
       "    <tr>\n",
       "      <th>6</th>\n",
       "      <td>8</td>\n",
       "      <td>0.833291</td>\n",
       "      <td>0.765957</td>\n",
       "      <td>0.067334</td>\n",
       "    </tr>\n",
       "    <tr>\n",
       "      <th>7</th>\n",
       "      <td>9</td>\n",
       "      <td>0.850519</td>\n",
       "      <td>0.761820</td>\n",
       "      <td>0.088699</td>\n",
       "    </tr>\n",
       "    <tr>\n",
       "      <th>8</th>\n",
       "      <td>10</td>\n",
       "      <td>0.872055</td>\n",
       "      <td>0.747045</td>\n",
       "      <td>0.125010</td>\n",
       "    </tr>\n",
       "    <tr>\n",
       "      <th>9</th>\n",
       "      <td>11</td>\n",
       "      <td>0.887510</td>\n",
       "      <td>0.746454</td>\n",
       "      <td>0.141056</td>\n",
       "    </tr>\n",
       "    <tr>\n",
       "      <th>10</th>\n",
       "      <td>12</td>\n",
       "      <td>0.910058</td>\n",
       "      <td>0.722813</td>\n",
       "      <td>0.187245</td>\n",
       "    </tr>\n",
       "    <tr>\n",
       "      <th>11</th>\n",
       "      <td>13</td>\n",
       "      <td>0.931594</td>\n",
       "      <td>0.722222</td>\n",
       "      <td>0.209371</td>\n",
       "    </tr>\n",
       "    <tr>\n",
       "      <th>12</th>\n",
       "      <td>14</td>\n",
       "      <td>0.947048</td>\n",
       "      <td>0.718676</td>\n",
       "      <td>0.228372</td>\n",
       "    </tr>\n",
       "    <tr>\n",
       "      <th>13</th>\n",
       "      <td>15</td>\n",
       "      <td>0.962250</td>\n",
       "      <td>0.723995</td>\n",
       "      <td>0.238255</td>\n",
       "    </tr>\n",
       "    <tr>\n",
       "      <th>14</th>\n",
       "      <td>16</td>\n",
       "      <td>0.972384</td>\n",
       "      <td>0.715130</td>\n",
       "      <td>0.257254</td>\n",
       "    </tr>\n",
       "    <tr>\n",
       "      <th>15</th>\n",
       "      <td>17</td>\n",
       "      <td>0.979478</td>\n",
       "      <td>0.727541</td>\n",
       "      <td>0.251937</td>\n",
       "    </tr>\n",
       "    <tr>\n",
       "      <th>16</th>\n",
       "      <td>18</td>\n",
       "      <td>0.984545</td>\n",
       "      <td>0.723404</td>\n",
       "      <td>0.261141</td>\n",
       "    </tr>\n",
       "    <tr>\n",
       "      <th>17</th>\n",
       "      <td>19</td>\n",
       "      <td>0.987586</td>\n",
       "      <td>0.722222</td>\n",
       "      <td>0.265363</td>\n",
       "    </tr>\n",
       "    <tr>\n",
       "      <th>18</th>\n",
       "      <td>20</td>\n",
       "      <td>0.990372</td>\n",
       "      <td>0.721040</td>\n",
       "      <td>0.269332</td>\n",
       "    </tr>\n",
       "    <tr>\n",
       "      <th>19</th>\n",
       "      <td>21</td>\n",
       "      <td>0.991639</td>\n",
       "      <td>0.716903</td>\n",
       "      <td>0.274736</td>\n",
       "    </tr>\n",
       "    <tr>\n",
       "      <th>20</th>\n",
       "      <td>22</td>\n",
       "      <td>0.992653</td>\n",
       "      <td>0.719267</td>\n",
       "      <td>0.273386</td>\n",
       "    </tr>\n",
       "    <tr>\n",
       "      <th>21</th>\n",
       "      <td>23</td>\n",
       "      <td>0.993413</td>\n",
       "      <td>0.714539</td>\n",
       "      <td>0.278874</td>\n",
       "    </tr>\n",
       "    <tr>\n",
       "      <th>22</th>\n",
       "      <td>24</td>\n",
       "      <td>0.993666</td>\n",
       "      <td>0.715721</td>\n",
       "      <td>0.277945</td>\n",
       "    </tr>\n",
       "  </tbody>\n",
       "</table>\n",
       "</div>"
      ],
      "text/plain": [
       "    max_depth  train_accuracy  validate_accuracy  difference\n",
       "0           2        0.758297           0.764775   -0.006478\n",
       "1           3        0.784140           0.791371   -0.007231\n",
       "2           4        0.793007           0.795508   -0.002501\n",
       "3           5        0.802635           0.788416    0.014219\n",
       "4           6        0.811756           0.779551    0.032205\n",
       "5           7        0.823664           0.763593    0.060070\n",
       "6           8        0.833291           0.765957    0.067334\n",
       "7           9        0.850519           0.761820    0.088699\n",
       "8          10        0.872055           0.747045    0.125010\n",
       "9          11        0.887510           0.746454    0.141056\n",
       "10         12        0.910058           0.722813    0.187245\n",
       "11         13        0.931594           0.722222    0.209371\n",
       "12         14        0.947048           0.718676    0.228372\n",
       "13         15        0.962250           0.723995    0.238255\n",
       "14         16        0.972384           0.715130    0.257254\n",
       "15         17        0.979478           0.727541    0.251937\n",
       "16         18        0.984545           0.723404    0.261141\n",
       "17         19        0.987586           0.722222    0.265363\n",
       "18         20        0.990372           0.721040    0.269332\n",
       "19         21        0.991639           0.716903    0.274736\n",
       "20         22        0.992653           0.719267    0.273386\n",
       "21         23        0.993413           0.714539    0.278874\n",
       "22         24        0.993666           0.715721    0.277945"
      ]
     },
     "execution_count": 120,
     "metadata": {},
     "output_type": "execute_result"
    }
   ],
   "source": [
    "val_df = pd.DataFrame(metrics)\n",
    "val_df[\"difference\"] = val_df.train_accuracy - val_df.validate_accuracy\n",
    "val_df"
   ]
  },
  {
   "cell_type": "markdown",
   "id": "c5de73da",
   "metadata": {},
   "source": [
    "### TAKE AWAYS:\n",
    "- The model with the highest accuracy is the DT with a max depth of 20...the higher it goes, the more accurate it shows, however this kind of test is more prone to over-fitting the data in the model. \n",
    "- I would choose a model with a mid range accuracy (around 80+ accuracy and >0.07 for difference)\n",
    "- <b>My choice here would be going with model 7 and it fits within the boundaries I listed and there is not a significant increase of difference there.</b>"
   ]
  },
  {
   "cell_type": "code",
   "execution_count": null,
   "id": "23f267e3",
   "metadata": {},
   "outputs": [],
   "source": []
  }
 ],
 "metadata": {
  "kernelspec": {
   "display_name": "Python 3 (ipykernel)",
   "language": "python",
   "name": "python3"
  },
  "language_info": {
   "codemirror_mode": {
    "name": "ipython",
    "version": 3
   },
   "file_extension": ".py",
   "mimetype": "text/x-python",
   "name": "python",
   "nbconvert_exporter": "python",
   "pygments_lexer": "ipython3",
   "version": "3.9.7"
  }
 },
 "nbformat": 4,
 "nbformat_minor": 5
}
